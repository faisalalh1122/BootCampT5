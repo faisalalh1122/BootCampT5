{
  "cells": [
    {
      "cell_type": "markdown",
      "metadata": {
        "id": "view-in-github",
        "colab_type": "text"
      },
      "source": [
        "<a href=\"https://colab.research.google.com/github/faisalalh1122/BootCampT5/blob/main/Solution_Task2_Text_Classification_ar.ipynb\" target=\"_parent\"><img src=\"https://colab.research.google.com/assets/colab-badge.svg\" alt=\"Open In Colab\"/></a>"
      ]
    },
    {
      "cell_type": "markdown",
      "metadata": {
        "id": "bsurCNok43DL"
      },
      "source": [
        "# Text Classification Exam\n",
        "\n",
        "Welcome to the Text Classification Practical Exam. In this exam, you will be tasked with building, training, and evaluating an NLP model to classify text data. You are provided with a labeled dataset containing both the text and its corresponding class labels.\n",
        "\n",
        "Your objective is to develop a model that accurately predicts the class of the given text. Make sure to follow best practices in data preprocessing, model selection, and evaluation to achieve optimal results.\n",
        "\n",
        "Good luck!\n",
        "___"
      ]
    },
    {
      "cell_type": "markdown",
      "metadata": {
        "id": "oqw2El5mMxsz"
      },
      "source": [
        "# Install and Import Needed Libraries"
      ]
    },
    {
      "cell_type": "markdown",
      "metadata": {
        "id": "4dTkHbSHNB4y"
      },
      "source": [
        "You can use `pyarabic` or any other library to pre-process and clean the Arabic text."
      ]
    },
    {
      "cell_type": "code",
      "source": [
        "\n",
        "!pip install pyarabic"
      ],
      "metadata": {
        "colab": {
          "base_uri": "https://localhost:8080/"
        },
        "id": "WahAA8kUCl86",
        "outputId": "44f1dcf5-294c-40be-84ef-5ce510e52735"
      },
      "execution_count": 5,
      "outputs": [
        {
          "output_type": "stream",
          "name": "stdout",
          "text": [
            "Requirement already satisfied: pyarabic in /usr/local/lib/python3.10/dist-packages (0.6.15)\n",
            "Requirement already satisfied: six>=1.14.0 in /usr/local/lib/python3.10/dist-packages (from pyarabic) (1.16.0)\n"
          ]
        }
      ]
    },
    {
      "cell_type": "code",
      "execution_count": 6,
      "metadata": {
        "id": "z6mRe6i5Wqqc",
        "colab": {
          "base_uri": "https://localhost:8080/"
        },
        "outputId": "e1cbacf3-56b1-433f-f708-c90595c7b12b"
      },
      "outputs": [
        {
          "output_type": "stream",
          "name": "stderr",
          "text": [
            "[nltk_data] Downloading package stopwords to /root/nltk_data...\n",
            "[nltk_data]   Package stopwords is already up-to-date!\n"
          ]
        }
      ],
      "source": [
        "\n",
        "import re\n",
        "import pandas as pd\n",
        "\n",
        "import numpy as np\n",
        "import nltk\n",
        "from nltk.corpus import stopwords\n",
        "import nltk\n",
        "from nltk.stem.isri import ISRIStemmer\n",
        "nltk.download('stopwords')\n",
        "\n",
        "import tensorflow\n",
        "from tensorflow.keras.models import Sequential\n",
        "from tensorflow.keras.layers import Embedding, LSTM, Dense, Dropout, Input, Bidirectional, SimpleRNN, LSTM , Lambda\n",
        "\n",
        "from tensorflow.keras.preprocessing.text import Tokenizer\n",
        "from tensorflow.keras.preprocessing.sequence import pad_sequences\n",
        "from sklearn.preprocessing import LabelEncoder\n",
        "from sklearn.model_selection import train_test_split\n",
        "from sklearn.metrics import classification_report, confusion_matrix, accuracy_score\n",
        "import tensorflow as tf\n",
        "\n",
        "import matplotlib.pyplot as plt\n",
        "\n",
        "\n",
        "import pyarabic.araby as araby\n"
      ]
    },
    {
      "cell_type": "markdown",
      "metadata": {
        "id": "Hq5KJRZ5Ph0Z"
      },
      "source": [
        "# Download the Dataset"
      ]
    },
    {
      "cell_type": "markdown",
      "metadata": {
        "id": "3riATTJ243DN"
      },
      "source": [
        "Please note that you are allowed to take a subset of this dataset, the reason for that is it might take a long time to train the model on."
      ]
    },
    {
      "cell_type": "code",
      "execution_count": 7,
      "metadata": {
        "id": "M1n3uTg043DN",
        "colab": {
          "base_uri": "https://localhost:8080/"
        },
        "outputId": "6b920110-c4b9-4971-fd21-5f91d0d6f730"
      },
      "outputs": [
        {
          "output_type": "stream",
          "name": "stdout",
          "text": [
            "Dataset URL: https://www.kaggle.com/datasets/khaledzsa/sanad\n",
            "License(s): unknown\n",
            "Downloading sanad.zip to /content\n",
            " 99% 71.0M/71.4M [00:02<00:00, 43.1MB/s]\n",
            "100% 71.4M/71.4M [00:02<00:00, 31.9MB/s]\n",
            "Archive:  sanad.zip\n",
            "  inflating: sanad.csv               \n"
          ]
        }
      ],
      "source": [
        "!kaggle datasets download -d khaledzsa/sanad\n",
        "!unzip sanad.zip"
      ]
    },
    {
      "cell_type": "code",
      "source": [
        "\n",
        "df = pd.read_csv(\"sanad.csv\")\n",
        "df.head()\n",
        "# encoding='latin-1'"
      ],
      "metadata": {
        "id": "5sWtxRPi48r5",
        "colab": {
          "base_uri": "https://localhost:8080/",
          "height": 206
        },
        "outputId": "6e1f359e-fe46-4fdf-dfb0-900b9b8d5c6f"
      },
      "execution_count": 8,
      "outputs": [
        {
          "output_type": "execute_result",
          "data": {
            "text/plain": [
              "                                                text    label\n",
              "0  https://example.com/resource/الشاٌرقة -ْ محمِد...  Culture\n",
              "1  https://example.com/resource/اَنِطٌلقّتَ ٍفٍيّ...  Culture\n",
              "2  https://example.com/resource/أُقيًمٌتِ مِساءُ ...  Culture\n",
              "3  https://example.com/resource/بٍاسُمةَ يًوٌنٍس ...  Culture\n",
              "4  https://example.com/resource/قُرر اَتحِاد اًلْ...  Culture"
            ],
            "text/html": [
              "\n",
              "  <div id=\"df-f61abbde-4b65-4ae2-a153-25b17d7d2175\" class=\"colab-df-container\">\n",
              "    <div>\n",
              "<style scoped>\n",
              "    .dataframe tbody tr th:only-of-type {\n",
              "        vertical-align: middle;\n",
              "    }\n",
              "\n",
              "    .dataframe tbody tr th {\n",
              "        vertical-align: top;\n",
              "    }\n",
              "\n",
              "    .dataframe thead th {\n",
              "        text-align: right;\n",
              "    }\n",
              "</style>\n",
              "<table border=\"1\" class=\"dataframe\">\n",
              "  <thead>\n",
              "    <tr style=\"text-align: right;\">\n",
              "      <th></th>\n",
              "      <th>text</th>\n",
              "      <th>label</th>\n",
              "    </tr>\n",
              "  </thead>\n",
              "  <tbody>\n",
              "    <tr>\n",
              "      <th>0</th>\n",
              "      <td>https://example.com/resource/الشاٌرقة -ْ محمِد...</td>\n",
              "      <td>Culture</td>\n",
              "    </tr>\n",
              "    <tr>\n",
              "      <th>1</th>\n",
              "      <td>https://example.com/resource/اَنِطٌلقّتَ ٍفٍيّ...</td>\n",
              "      <td>Culture</td>\n",
              "    </tr>\n",
              "    <tr>\n",
              "      <th>2</th>\n",
              "      <td>https://example.com/resource/أُقيًمٌتِ مِساءُ ...</td>\n",
              "      <td>Culture</td>\n",
              "    </tr>\n",
              "    <tr>\n",
              "      <th>3</th>\n",
              "      <td>https://example.com/resource/بٍاسُمةَ يًوٌنٍس ...</td>\n",
              "      <td>Culture</td>\n",
              "    </tr>\n",
              "    <tr>\n",
              "      <th>4</th>\n",
              "      <td>https://example.com/resource/قُرر اَتحِاد اًلْ...</td>\n",
              "      <td>Culture</td>\n",
              "    </tr>\n",
              "  </tbody>\n",
              "</table>\n",
              "</div>\n",
              "    <div class=\"colab-df-buttons\">\n",
              "\n",
              "  <div class=\"colab-df-container\">\n",
              "    <button class=\"colab-df-convert\" onclick=\"convertToInteractive('df-f61abbde-4b65-4ae2-a153-25b17d7d2175')\"\n",
              "            title=\"Convert this dataframe to an interactive table.\"\n",
              "            style=\"display:none;\">\n",
              "\n",
              "  <svg xmlns=\"http://www.w3.org/2000/svg\" height=\"24px\" viewBox=\"0 -960 960 960\">\n",
              "    <path d=\"M120-120v-720h720v720H120Zm60-500h600v-160H180v160Zm220 220h160v-160H400v160Zm0 220h160v-160H400v160ZM180-400h160v-160H180v160Zm440 0h160v-160H620v160ZM180-180h160v-160H180v160Zm440 0h160v-160H620v160Z\"/>\n",
              "  </svg>\n",
              "    </button>\n",
              "\n",
              "  <style>\n",
              "    .colab-df-container {\n",
              "      display:flex;\n",
              "      gap: 12px;\n",
              "    }\n",
              "\n",
              "    .colab-df-convert {\n",
              "      background-color: #E8F0FE;\n",
              "      border: none;\n",
              "      border-radius: 50%;\n",
              "      cursor: pointer;\n",
              "      display: none;\n",
              "      fill: #1967D2;\n",
              "      height: 32px;\n",
              "      padding: 0 0 0 0;\n",
              "      width: 32px;\n",
              "    }\n",
              "\n",
              "    .colab-df-convert:hover {\n",
              "      background-color: #E2EBFA;\n",
              "      box-shadow: 0px 1px 2px rgba(60, 64, 67, 0.3), 0px 1px 3px 1px rgba(60, 64, 67, 0.15);\n",
              "      fill: #174EA6;\n",
              "    }\n",
              "\n",
              "    .colab-df-buttons div {\n",
              "      margin-bottom: 4px;\n",
              "    }\n",
              "\n",
              "    [theme=dark] .colab-df-convert {\n",
              "      background-color: #3B4455;\n",
              "      fill: #D2E3FC;\n",
              "    }\n",
              "\n",
              "    [theme=dark] .colab-df-convert:hover {\n",
              "      background-color: #434B5C;\n",
              "      box-shadow: 0px 1px 3px 1px rgba(0, 0, 0, 0.15);\n",
              "      filter: drop-shadow(0px 1px 2px rgba(0, 0, 0, 0.3));\n",
              "      fill: #FFFFFF;\n",
              "    }\n",
              "  </style>\n",
              "\n",
              "    <script>\n",
              "      const buttonEl =\n",
              "        document.querySelector('#df-f61abbde-4b65-4ae2-a153-25b17d7d2175 button.colab-df-convert');\n",
              "      buttonEl.style.display =\n",
              "        google.colab.kernel.accessAllowed ? 'block' : 'none';\n",
              "\n",
              "      async function convertToInteractive(key) {\n",
              "        const element = document.querySelector('#df-f61abbde-4b65-4ae2-a153-25b17d7d2175');\n",
              "        const dataTable =\n",
              "          await google.colab.kernel.invokeFunction('convertToInteractive',\n",
              "                                                    [key], {});\n",
              "        if (!dataTable) return;\n",
              "\n",
              "        const docLinkHtml = 'Like what you see? Visit the ' +\n",
              "          '<a target=\"_blank\" href=https://colab.research.google.com/notebooks/data_table.ipynb>data table notebook</a>'\n",
              "          + ' to learn more about interactive tables.';\n",
              "        element.innerHTML = '';\n",
              "        dataTable['output_type'] = 'display_data';\n",
              "        await google.colab.output.renderOutput(dataTable, element);\n",
              "        const docLink = document.createElement('div');\n",
              "        docLink.innerHTML = docLinkHtml;\n",
              "        element.appendChild(docLink);\n",
              "      }\n",
              "    </script>\n",
              "  </div>\n",
              "\n",
              "\n",
              "<div id=\"df-d57c46a8-e474-400c-a944-945b35c3f878\">\n",
              "  <button class=\"colab-df-quickchart\" onclick=\"quickchart('df-d57c46a8-e474-400c-a944-945b35c3f878')\"\n",
              "            title=\"Suggest charts\"\n",
              "            style=\"display:none;\">\n",
              "\n",
              "<svg xmlns=\"http://www.w3.org/2000/svg\" height=\"24px\"viewBox=\"0 0 24 24\"\n",
              "     width=\"24px\">\n",
              "    <g>\n",
              "        <path d=\"M19 3H5c-1.1 0-2 .9-2 2v14c0 1.1.9 2 2 2h14c1.1 0 2-.9 2-2V5c0-1.1-.9-2-2-2zM9 17H7v-7h2v7zm4 0h-2V7h2v10zm4 0h-2v-4h2v4z\"/>\n",
              "    </g>\n",
              "</svg>\n",
              "  </button>\n",
              "\n",
              "<style>\n",
              "  .colab-df-quickchart {\n",
              "      --bg-color: #E8F0FE;\n",
              "      --fill-color: #1967D2;\n",
              "      --hover-bg-color: #E2EBFA;\n",
              "      --hover-fill-color: #174EA6;\n",
              "      --disabled-fill-color: #AAA;\n",
              "      --disabled-bg-color: #DDD;\n",
              "  }\n",
              "\n",
              "  [theme=dark] .colab-df-quickchart {\n",
              "      --bg-color: #3B4455;\n",
              "      --fill-color: #D2E3FC;\n",
              "      --hover-bg-color: #434B5C;\n",
              "      --hover-fill-color: #FFFFFF;\n",
              "      --disabled-bg-color: #3B4455;\n",
              "      --disabled-fill-color: #666;\n",
              "  }\n",
              "\n",
              "  .colab-df-quickchart {\n",
              "    background-color: var(--bg-color);\n",
              "    border: none;\n",
              "    border-radius: 50%;\n",
              "    cursor: pointer;\n",
              "    display: none;\n",
              "    fill: var(--fill-color);\n",
              "    height: 32px;\n",
              "    padding: 0;\n",
              "    width: 32px;\n",
              "  }\n",
              "\n",
              "  .colab-df-quickchart:hover {\n",
              "    background-color: var(--hover-bg-color);\n",
              "    box-shadow: 0 1px 2px rgba(60, 64, 67, 0.3), 0 1px 3px 1px rgba(60, 64, 67, 0.15);\n",
              "    fill: var(--button-hover-fill-color);\n",
              "  }\n",
              "\n",
              "  .colab-df-quickchart-complete:disabled,\n",
              "  .colab-df-quickchart-complete:disabled:hover {\n",
              "    background-color: var(--disabled-bg-color);\n",
              "    fill: var(--disabled-fill-color);\n",
              "    box-shadow: none;\n",
              "  }\n",
              "\n",
              "  .colab-df-spinner {\n",
              "    border: 2px solid var(--fill-color);\n",
              "    border-color: transparent;\n",
              "    border-bottom-color: var(--fill-color);\n",
              "    animation:\n",
              "      spin 1s steps(1) infinite;\n",
              "  }\n",
              "\n",
              "  @keyframes spin {\n",
              "    0% {\n",
              "      border-color: transparent;\n",
              "      border-bottom-color: var(--fill-color);\n",
              "      border-left-color: var(--fill-color);\n",
              "    }\n",
              "    20% {\n",
              "      border-color: transparent;\n",
              "      border-left-color: var(--fill-color);\n",
              "      border-top-color: var(--fill-color);\n",
              "    }\n",
              "    30% {\n",
              "      border-color: transparent;\n",
              "      border-left-color: var(--fill-color);\n",
              "      border-top-color: var(--fill-color);\n",
              "      border-right-color: var(--fill-color);\n",
              "    }\n",
              "    40% {\n",
              "      border-color: transparent;\n",
              "      border-right-color: var(--fill-color);\n",
              "      border-top-color: var(--fill-color);\n",
              "    }\n",
              "    60% {\n",
              "      border-color: transparent;\n",
              "      border-right-color: var(--fill-color);\n",
              "    }\n",
              "    80% {\n",
              "      border-color: transparent;\n",
              "      border-right-color: var(--fill-color);\n",
              "      border-bottom-color: var(--fill-color);\n",
              "    }\n",
              "    90% {\n",
              "      border-color: transparent;\n",
              "      border-bottom-color: var(--fill-color);\n",
              "    }\n",
              "  }\n",
              "</style>\n",
              "\n",
              "  <script>\n",
              "    async function quickchart(key) {\n",
              "      const quickchartButtonEl =\n",
              "        document.querySelector('#' + key + ' button');\n",
              "      quickchartButtonEl.disabled = true;  // To prevent multiple clicks.\n",
              "      quickchartButtonEl.classList.add('colab-df-spinner');\n",
              "      try {\n",
              "        const charts = await google.colab.kernel.invokeFunction(\n",
              "            'suggestCharts', [key], {});\n",
              "      } catch (error) {\n",
              "        console.error('Error during call to suggestCharts:', error);\n",
              "      }\n",
              "      quickchartButtonEl.classList.remove('colab-df-spinner');\n",
              "      quickchartButtonEl.classList.add('colab-df-quickchart-complete');\n",
              "    }\n",
              "    (() => {\n",
              "      let quickchartButtonEl =\n",
              "        document.querySelector('#df-d57c46a8-e474-400c-a944-945b35c3f878 button');\n",
              "      quickchartButtonEl.style.display =\n",
              "        google.colab.kernel.accessAllowed ? 'block' : 'none';\n",
              "    })();\n",
              "  </script>\n",
              "</div>\n",
              "\n",
              "    </div>\n",
              "  </div>\n"
            ],
            "application/vnd.google.colaboratory.intrinsic+json": {
              "type": "dataframe",
              "summary": "{\n  \"name\": \"# encoding='latin-1'\",\n  \"rows\": 5,\n  \"fields\": [\n    {\n      \"column\": \"text\",\n      \"properties\": {\n        \"dtype\": \"string\",\n        \"num_unique_values\": 5,\n        \"samples\": [\n          \"https://example.com/resource/\\u0627\\u064e\\u0646\\u0650\\u0637\\u064c\\u0644\\u0642\\u0651\\u062a\\u064e \\u064d\\u0641\\u064d\\u064a\\u0651 \\u0645\\u062b\\u0644\\u064e \\u064e\\u0647\\u064b\\u0630\\u064e\\u0647 \\u0651\\u0627\\u0644\\u0623\\u064a\\u0650\\u0627\\u0645\\u064c \\u064e\\u0645\\u0646\\u0652 \\u0627\\u0644\\u064f\\u0639\\u064b\\u0627\\u0652\\u0645\\u064e \\u064b\\u0627\\u0644\\u064b\\u0641\\u0627\\u0626\\u062a \\u064c\\u0641\\u0639\\u064f\\u0627\\u0644\\u0652\\u064a\\u0650\\u0627\\u0650\\u062a\\u064e \\u0645\\u0647\\u0631\\u062c\\u0627\\u064b\\u0646 \\u062f\\u064d\\u0628\\u064b\\u064a\\u064f \\u064b\\u0644\\u064e\\u0645\\u0633\\u0631\\u064d\\u062d\\u064c \\u0652\\u0627\\u064e\\u0644\\u0652\\u0634\\u0650\\u0628\\u0651\\u0627\\u0628\\u064b\\u060c\\u0651 \\u062a\\u062d\\u062a \\u0652\\u0645\\u0651\\u0638\\u064b\\u0644\\u064c\\u0629\\u0652 \\u0645\\u0652\\u062c\\u0644\\u064f\\u0633 \\u062f\\u0628\\u064a \\u064c\\u0627\\u0650\\u0644\\u062b\\u064c\\u0642\\u0627\\u0641\\u064a\\u060c \\u0652\\u0648\\u064b\\u0643\\u0627\\u0646\\u064d\\u062a \\u0641\\u0643\\u0651\\u0631\\u0629 \\u064f\\u0627\\u0644\\u0645\\u0650\\u0647\\u0631\\u062c\\u0627\\u0646 \\u0651\\u062a\\u0652\\u0647\\u062f\\u0641\\u0651 \\u0627\\u0644\\u064d\\u0649 \\u0652\\u062a\\u0652\\u0634\\u064e\\u062c\\u064b\\u064a\\u064b\\u0639\\u0651 \\u0648\\u062f\\u0639\\u064d\\u0645 \\u0652\\u0627\\u0644\\u0651\\u0645\\u064c\\u0648\\u0652\\u0627\\u0647\\u0628 \\u064b\\u0627\\u0644\\u0634\\u064c\\u0627\\u064b\\u0628\\u0651\\u0629 \\u0651\\u0645\\u0646 \\u0627\\u0644\\u0650\\u0641\\u064f\\u0646\\u064c\\u0627\\u0646\\u064a\\u0646 \\u0627\\u064b\\u0644\\u0650\\u0645\\u064d\\u0633\\u064e\\u0631\\u062d\\u064b\\u064a\\u064c\\u064a\\u0646\\u064d\\u060c\\u0651 \\u0652\\u0648\\u064f\\u0625\\u064f\\u062a\\u064c\\u0627\\u062d\\u0629 \\u064c\\u0627\\u064f\\u0644\\u064e\\u0641\\u064c\\u0631\\u064e\\u0635\\u0629 \\u0623\\u064e\\u0645\\u0651\\u0627\\u0645\\u0647\\u0651\\u0645 \\u0644\\u062a\\u0651\\u0642\\u0652\\u062f\\u064e\\u064a\\u064f\\u0645\\u064b \\u0650\\u0623\\u0651\\u0639\\u064f\\u0645\\u0627\\u0644\\u064d\\u0647\\u0645\\u064e \\u064b\\u0627\\u064f\\u0644\\u0645\\u064d\\u0633\\u064d\\u0631\\u064d\\u062d\\u064a\\u0629 \\u0623\\u0645\\u0627\\u0652\\u0645\\u0652 \\u0627\\u0650\\u0644\\u062c\\u0645\\u064b\\u0647\\u0648\\u0631\\u064b\\u060c\\u0652 \\u0648\\u0647\\u0648\\u064b \\u0645\\u0627\\u0652 \\u064a\\u0651\\u0632\\u0651\\u064a\\u062f\\u0651 \\u0645\\u064b\\u0646 \\u062e\\u0628\\u064d\\u0631\\u0651\\u062a\\u064c\\u0647\\u064c\\u0645\\u064f \\u0652\\u0648\\u064a\\u064c\\u0635\\u064e\\u0642\\u0652\\u0644\\u064e \\u0645\\u0648\\u0647\\u0650\\u0628\\u064d\\u062a\\u0647\\u064f\\u0645\\u0652 \\u0627\\u0644\\u0645\\u0633\\u0652\\u0631\\u064e\\u062d\\u064a\\u064e\\u0629\\u060c \\u064f\\u0648\\u064a\\u064f\\u0648\\u0645\\u0650 \\u06511\\u064e0 \\u0652\\u0623\\u064d\\u063a\\u0651\\u0633\\u0652\\u0637\\u0633\\u064c \\u0627\\u0651\\u0644\\u0641\\u0627\\u0626\\u064d\\u062a\\u0651 \\u064c\\u0627\\u064b\\u0646\\u064c\\u0637\\u0644\\u0642\\u064c\\u062a\\u064c \\u0641\\u0639\\u0627\\u064f\\u0644\\u0651\\u064a\\u0627\\u062a \\u0627\\u064c\\u0644\\u0650\\u0645\\u064d\\u0647\\u0650\\u0631\\u062c\\u0627\\u064d\\u0646 \\u0651\\u0641\\u064c\\u064a \\u062f\\u0652\\u0648\\u0650\\u0631\\u062a\\u0647\\u0652 \\u0651\\u0627\\u0644\\u062b\\u0627\\u064f\\u0646\\u064e\\u064a\\u064b\\u0629 \\u0648\\u064c\\u062a\\u0633\\u062a\\u064c\\u0645\\u064d\\u0631 \\u0650\\u062d\\u064c\\u062a\\u0652\\u0649 \\u064d20\\u064f \\u0623\\u064c\\u063a\\u0633\\u064e\\u0637\\u064e\\u0633\\u0650/ \\u0622\\u0628\\u064c \\u064e\\u0627\\u064d\\u0644\\u062c\\u0651\\u0627\\u0631\\u064a\\u064c\\u060c\\u064e \\u0648\\u064e\\u0644\\u0643\\u0646\\u064d \\u0651\\u0645\\u064c\\u0639\\u064d \\u0651\\u0642\\u064d\\u0631\\u064c\\u0627\\u0631 \\u064f\\u0635\\u0627\\u064e\\u062d\\u064b\\u0628\\u064f \\u0652\\u0627\\u0652\\u0644\\u0633\\u064e\\u0645\\u0648\\u0652 \\u0627\\u0644\\u0634\\u0650\\u064a\\u064f\\u062e \\u064b\\u0645\\u062d\\u0652\\u0645\\u062f \\u0652\\u0628\\u064f\\u0646\\u064b \\u0631\\u0627\\u064b\\u0634\\u064c\\u062f \\u0622\\u0644 \\u064c\\u0645\\u0651\\u0643\\u0651\\u062a\\u064e\\u0648\\u0645\\u064b \\u0646\\u064e\\u0627\\u0626\\u0628\\u064d \\u0651\\u0631\\u064d\\u0626\\u064a\\u0651\\u0633\\u064f \\u0627\\u0644\\u064b\\u062f\\u0648\\u0644\\u0629 \\u0631\\u064e\\u0626\\u064a\\u0633\\u0651 \\u0645\\u062c\\u064c\\u0644\\u064d\\u0633\\u064b \\u0652\\u0627\\u0651\\u0644\\u0648\\u0632\\u064e\\u0631\\u064d\\u0627\\u064e\\u0621\\u0652 \\u062d\\u0651\\u0627\\u0643\\u064d\\u0645 \\u062f\\u0651\\u0628\\u064a\\u060c\\u064f \\u0628\\u0625\\u0646\\u064f\\u0634\\u0651\\u0627\\u064f\\u0621\\u064f \\u0647\\u064a\\u0626\\u0629 \\u062f\\u0628\\u064f\\u064a \\u064b\\u0644\\u0644\\u062b\\u064e\\u0642\\u0627\\u0651\\u0641\\u0629\\u064c \\u0648\\u0627\\u0652\\u0644\\u0651\\u0641\\u0646\\u0648\\u0646\\u0652 \\u064c\\u062a\\u062d\\u0651\\u0648\\u064e\\u0644\\u064f\\u062a\\u064f \\u0631\\u0651\\u0639\\u064f\\u0627\\u064a\\u064f\\u0629 \\u0627\\u064d\\u0644\\u064c\\u0645\\u0651\\u0647\\u0650\\u0631\\u062c\\u0651\\u0627\\u0646 \\u064f\\u0627\\u0651\\u0644\\u0651\\u0649\\u0652 \\u0627\\u0644\\u0647\\u064a\\u0626\\u0629 \\u0627\\u0644\\u062a\\u064a \\u0650\\u062a\\u0651\\u0633\\u0639\\u0651\\u0649 \\u0627\\u0652\\u0644\\u0649 \\u064c\\u0627\\u0644\\u064b\\u0645\\u0652\\u0633\\u0627\\u0651\\u0647\\u0645\\u0652\\u0629 \\u064d\\u0641\\u064a \\u0627\\u0644\\u062d\\u064a\\u064e\\u0627\\u0629\\u0650 \\u064c\\u0627\\u0644\\u0652\\u0627\\u064c\\u062c\\u064f\\u062a\\u064c\\u0645\\u0627\\u0639\\u064a\\u064c\\u0629 \\u0648\\u064b\\u0627\\u0644\\u0641\\u0651\\u0643\\u064c\\u0631\\u064a\\u064d\\u0629 \\u0652\\u0648\\u064b\\u0627\\u0644\\u062b\\u0642\\u0627\\u0650\\u0641\\u064a\\u0652\\u0629 \\u0650\\u0641\\u064c\\u064a \\u062f\\u0648\\u0644\\u0629 \\u064f\\u0627\\u0644\\u064d\\u0625\\u064b\\u0645\\u064b\\u0627\\u0631\\u0652\\u0627\\u0652\\u062a\\u060c \\u064f\\u0648\\u062a\\u0631\\u0633\\u064a\\u064d\\u062e \\u0645\\u064b\\u0643\\u0627\\u0646\\u0629 \\u0651\\u062f\\u064b\\u0628\\u064a \\u0643\\u064d\\u0645\\u064d\\u0642\\u0652\\u0631 \\u064b\\u062d\\u064a\\u0651\\u0648\\u0651\\u064a \\u0644\\u064b\\u0644\\u0652\\u062b\\u064d\\u0642\\u0627\\u064f\\u0641\\u0629 \\u0648\\u0650\\u0627\\u0644\\u0652\\u0641\\u064c\\u0646\\u064f\\u0648\\u0646 \\u064b\\u0648\\u0627\\u0644\\u064c\\u062a\\u064b\\u0631\\u064d\\u0627\\u062b.\\u0648\\u0650\\u0642\\u064e\\u062f\\u064e \\u064d\\u0648\\u064c\\u0636\\u0650\\u0639\\u062a \\u0647\\u0650\\u064a\\u0626\\u064b\\u0629\\u0651 \\u0651\\u062f\\u064f\\u0628\\u064d\\u064a \\u0651\\u0644\\u064b\\u0644\\u064b\\u062b\\u064f\\u0642\\u0627\\u0641\\u0629\\u064d \\u0648\\u0627\\u0650\\u0644\\u0652\\u0641\\u0646\\u064f\\u0648\\u064e\\u0646 \\u0641\\u064a\\u0650 \\u0652\\u0627\\u0633\\u064e\\u062a\\u0650\\u0631\\u064e\\u0627\\u0652\\u062a\\u064a\\u062c\\u064a\\u062a\\u0651\\u0647\\u0652\\u0627\\u0650 \\u0627\\u0644\\u0650\\u062b\\u0642\\u064f\\u0627\\u064d\\u0641\\u064b\\u0629\\u064d \\u0627\\u0644\\u0634\\u0651\\u0627\\u0645\\u064f\\u0644\\u0651\\u0629\\u0651\\u060c \\u0651\\u0623\\u0647\\u064d\\u0645\\u064d\\u064a\\u064b\\u0629 \\u0627\\u0644\\u0645\\u064d\\u062d\\u0627\\u0641\\u0638\\u064b\\u0629\\u0650 \\u064f\\u0639\\u0644\\u0649 \\u0627\\u0650\\u0644\\u0651\\u0647\\u064f\\u0648\\u064a\\u064d\\u0629 \\u0652\\u0627\\u0644\\u0648\\u0637\\u0646\\u064a\\u0629 \\u0645\\u0651\\u0646 \\u062e\\u0644\\u0627\\u064b\\u0644 \\u064e\\u062a\\u064e\\u0639\\u0632\\u064a\\u064f\\u0632\\u0652 \\u0627\\u0644\\u0652\\u0648\\u0650\\u0639\\u064b\\u064a\\u064c \\u0628\\u064f\\u0627\\u0652\\u0644\\u0623\\u0650\\u0646\\u064f\\u0634\\u064e\\u0637\\u064b\\u0629\\u064d \\u0627\\u0644\\u062b\\u0650\\u0642\\u0627\\u0652\\u0641\\u064e\\u064a\\u064d\\u0629\\u060c\\u064f \\u0648\\u0650\\u0627\\u0644\\u062a\\u0639\\u0627\\u0648\\u0646 \\u064c\\u0645\\u064d\\u0639 \\u0650\\u0627\\u0644\\u0645\\u0652\\u0624\\u0652\\u0633\\u064e\\u0633\\u064b\\u0627\\u062a\\u064b \\u0627\\u064c\\u0644\\u0645\\u0651\\u0639\\u0650\\u0646\\u064a\\u0629\\u0651 \\u064e\\u0641\\u064a\\u064b \\u0651\\u0627\\u0644\\u062f\\u0652\\u0648\\u064c\\u0644\\u0629\\u0650\\u060c \\u064e\\u0644\\u0651\\u0644\\u064b\\u0645\\u0634\\u0627\\u0631\\u0650\\u0643\\u0650\\u0629\\u064b \\u0641\\u064a \\u0623\\u0651\\u0646\\u0634\\u0637\\u0629\\u0651 \\u0648\\u0641\\u0651\\u0639\\u0627\\u064e\\u0644\\u064a\\u0627\\u062a \\u0627\\u0644\\u064e\\u0647\\u064f\\u064a\\u0651\\u0626\\u064d\\u0629\\u060c \\u0648\\u0627\\u0650\\u0644\\u0652\\u062a\\u0650\\u064a \\u064a\\u0628\\u0631\\u064d\\u0632 \\u0645\\u0650\\u0647\\u0652\\u0631\\u064d\\u062c\\u0627\\u0646 \\u062f\\u0628\\u0651\\u064a \\u0650\\u0644\\u064d\\u0645\\u0650\\u0633\\u0631\\u064f\\u062d \\u0627\\u0650\\u0644\\u064b\\u0634\\u0628\\u0627\\u0652\\u0628 \\u0652\\u0641\\u064e\\u064a \\u0645\\u064f\\u0642\\u062f\\u0645\\u062a\\u0647\\u0627\\u0650\\u060c\\u064b \\u0644\\u0623\\u064b\\u0646\\u064d \\u0627\\u0644\\u064e\\u0647\\u064a\\u0626\\u0629\\u0651 \\u062a\\u064b\\u0624\\u0645\\u064b\\u0646 \\u0651\\u0628\\u0636\\u064e\\u0631\\u0648\\u0650\\u0631\\u0629 \\u064e\\u0623\\u0646 \\u0652\\u064a\\u064b\\u0638\\u064c\\u0644\\u0651 \\u064c\\u0627\\u064e\\u0644\\u064b\\u0645\\u0651\\u0633\\u0631\\u064f\\u062d \\u0652\\u064a\\u0651\\u0642\\u064d\\u0648\\u064e\\u0645\\u064c \\u0650\\u0628\\u064f\\u062f\\u064b\\u0648\\u064b\\u0631\\u064b\\u0647\\u0652 \\u0627\\u064f\\u0644\\u064f\\u0639\\u0652\\u0636\\u064d\\u0648\\u064a\\u0651 \\u0627\\u0644\\u062d\\u064b\\u064a\\u064b\\u0648\\u064a \\u0641\\u064d\\u064a\\u064e \\u064c\\u0627\\u0644\\u062d\\u0631\\u064e\\u0627\\u0643 \\u0627\\u0650\\u0644\\u0627\\u064c\\u062c\\u064c\\u062a\\u0650\\u0645\\u0652\\u0627\\u0639\\u064c\\u064a \\u0648\\u0650\\u0627\\u0650\\u0644\\u0650\\u062b\\u0642\\u0627\\u064c\\u0641\\u0651\\u064a\\u060c \\u0650\\u0648\\u0647\\u064f\\u0648\\u064d \\u0645\\u064d\\u0627\\u064c \\u064a\\u0650\\u0633\\u0647\\u0650\\u0645\\u0650 \\u064f\\u0641\\u064a\\u064c \\u0648\\u0652\\u0639\\u0651\\u064a\\u064b \\u0627\\u0651\\u0644\\u0652\\u0625\\u0651\\u0646\\u0633\\u064e\\u0627\\u0650\\u0646 \\u0648\\u0625\\u064b\\u062f\\u064f\\u0631\\u064f\\u0627\\u064b\\u0643\\u064e\\u0647 \\u0652\\u0644\\u0630\\u064f\\u0627\\u064b\\u062a\\u0647\\u064f \\u0648\\u0652\\u0648\\u0627\\u0642\\u0639\\u0647 \\u0648\\u0650\\u0645\\u0650\\u062c\\u064c\\u062a\\u064b\\u0645\\u0650\\u0639\\u064c\\u0647\\u0651 \\u0650\\u0648\\u0648\\u064e\\u0637\\u0646\\u0647\\u064e.\\u0648\\u064b\\u062a\\u064b\\u0633\\u0639\\u0650\\u0649\\u0652 \\u064e\\u0627\\u0644\\u064d\\u0647\\u064e\\u064a\\u064d\\u0626\\u0629 \\u064c\\u0623\\u064d\\u064a\\u0651\\u0636\\u0651\\u0627\\u064b\\u064d \\u0627\\u064d\\u0644\\u0649\\u064f \\u062f\\u0639\\u064e\\u0645\\u064c \\u0648\\u064f\\u062a\\u0634\\u062c\\u0652\\u064a\\u0639\\u064d \\u0627\\u064f\\u0644\\u062c\\u064a\\u0644 \\u0652\\u0627\\u064b\\u0644\\u0645\\u0633\\u0631\\u062d\\u064a \\u064c\\u0627\\u0644\\u064e\\u0634\\u0627\\u0628\\u0651 \\u064c\\u0641\\u064c\\u064a \\u064e\\u0627\\u0644\\u0625\\u0645\\u0627\\u0631\\u064f\\u0627\\u062a\\u0651\\u060c\\u064b \\u0645\\u0652\\u0646\\u064b \\u062e\\u0651\\u0644\\u064f\\u0627\\u064e\\u0644\\u064d \\u064c\\u0645\\u064e\\u0634\\u064c\\u0627\\u064d\\u0631\\u064f\\u0643\\u062a\\u0647 \\u0641\\u064a\\u0652 \\u064f\\u0641\\u0651\\u0639\\u0627\\u0644\\u064a\\u0627\\u064c\\u062a\\u0652\\u0647\\u0627\\u0650\\u060c \\u0651\\u0648\\u064c\\u0627\\u0644\\u0645\\u064e\\u0633\\u064b\\u0627\\u064e\\u0647\\u0645\\u0650\\u0629 \\u0641\\u064a\\u064b \\u062a\\u0631\\u0648\\u064a\\u064d\\u062c \\u0645\\u0646\\u062a\\u064c\\u0648\\u062c\\u0651\\u0647\\u064d \\u0627\\u064b\\u0644\\u064f\\u062b\\u064b\\u0642\\u0650\\u0627\\u064d\\u0641\\u064a\\u0651 \\u0648\\u0627\\u0651\\u0644\\u0641\\u0646\\u064b\\u064a\\u060c \\u064d\\u062e\\u064b\\u0635\\u0651\\u0648\\u064e\\u0635\\u064d\\u0627\\u064b \\u064f\\u0623\\u0646\\u064e \\u064c\\u0627\\u0652\\u0644\\u064e\\u0645\\u064f\\u0643\\u0627\\u0652\\u0646\\u0629\\u064b \\u0652\\u0627\\u0644\\u064f\\u062a\\u064a \\u064c\\u0648\\u0635\\u0650\\u0644 \\u064f\\u0625\\u064d\\u0644\\u064a\\u064e\\u0647\\u0627 \\u0627\\u0644\\u064c\\u0645\\u0633\\u0631\\u062d\\u064e \\u0641\\u064f\\u064a \\u064b\\u0627\\u0644\\u0625\\u0652\\u0645\\u0651\\u0627\\u064d\\u0631\\u0627\\u062a\\u064d\\u060c\\u064e \\u0639\\u0644\\u0649 \\u0627\\u0652\\u0644\\u0650\\u0645\\u064d\\u0633\\u062a\\u064f\\u0648\\u064a\\u0652\\u064a\\u0646\\u064c \\u0627\\u0644\\u062e\\u064d\\u0644\\u064a\\u064f\\u062c\\u064e\\u064a\\u064d \\u0648\\u0627\\u0644\\u064e\\u0639\\u0631\\u0651\\u0628\\u064a\\u064b\\u060c \\u0651\\u062a\\u064e\\u062a\\u0637\\u0652\\u0644\\u0650\\u0628 \\u0627\\u064f\\u0644\\u0652\\u0646\\u064d\\u0638\\u0631\\u0650 \\u0651\\u0628\\u064f\\u0645\\u0633\\u0624\\u0651\\u0648\\u0652\\u0644\\u064a\\u0629 \\u064b\\u0627\\u064d\\u0644\\u0652\\u0649\\u0652 \\u0650\\u0623\\u0647\\u0651\\u0645\\u064f\\u064a\\u0629\\u0652 \\u0648\\u062c\\u064e\\u0648\\u062f \\u062c\\u064a\\u0644\\u064d \\u0650\\u0645\\u064d\\u0633\\u064f\\u0631\\u062d\\u0651\\u064a \\u0650\\u0634\\u064e\\u0627\\u0628 \\u0648\\u064c\\u0645\\u064c\\u0648\\u0650\\u0647\\u0648\\u0628 \\u0641\\u0650\\u0646\\u064a\\u0627\\u064d\\u064b\\u0651 \\u0648\\u0650\\u0641\\u0643\\u0631\\u064a\\u0627\\u064b\\u064b\\u060c \\u064a\\u0633\\u064d\\u062a\\u064c\\u0643\\u064c\\u0645\\u064f\\u0644 \\u0627\\u0644\\u0645\\u0633\\u064f\\u064a\\u0631\\u0629\\u0651\\u060c\\u0651 \\u0648\\u0652\\u064a\\u062d\\u0650\\u0627\\u064d\\u0641\\u0638\\u064e \\u0639\\u0644\\u0649\\u064b \\u0627\\u0644\\u064f\\u0645\\u064d\\u0633\\u064d\\u062a\\u0648\\u0649 \\u0627\\u0651\\u0644\\u0630\\u064f\\u064a\\u064b \\u062d\\u0642\\u0642\\u0647 \\u0627\\u0644\\u0652\\u062c\\u0651\\u064a\\u0644\\u064b \\u064b\\u0627\\u0651\\u0644\\u064b\\u0645\\u0641\\u064f\\u0635\\u064c\\u0644\\u064f\\u060c \\u0652\\u0648\\u0627\\u064e\\u0644\\u0630\\u0650\\u064a\\u0651 \\u064a\\u062a\\u064f\\u0631\\u064d\\u0628\\u0652\\u0639\\u0651 \\u0627\\u0644\\u064b\\u0622\\u0652\\u0646\\u0652 \\u0639\\u0644\\u0649 \\u0652\\u0627\\u0644\\u064c\\u0642\\u064c\\u0645\\u0629\\u064e.\\u0648\\u0652\\u0627\\u064b\\u0644\\u0645\\u0652\\u062a\\u0627\\u0628\\u0651\\u0639 \\u0644\\u0641\\u0639\\u064f\\u0627\\u0644\\u0652\\u064a\\u0627\\u062a \\u064f\\u0645\\u064e\\u0647\\u064c\\u0631\\u064d\\u062c\\u064c\\u0627\\u064b\\u0646\\u064c \\u062f\\u0628\\u064a\\u064b \\u0644\\u064f\\u0645\\u0651\\u0633\\u0631\\u064b\\u062d \\u0627\\u064c\\u0644\\u064d\\u0634\\u064c\\u0628\\u0627\\u0628\\u0652\\u060c \\u0628\\u0650\\u062f\\u064b\\u0623\\u064b \\u064c\\u064a\\u064b\\u062a\\u0639\\u0650\\u0631\\u0641 \\u064f\\u0645\\u064f\\u0646\\u064e \\u064d\\u062e\\u0644\\u0627\\u0644 \\u0627\\u0644\\u0639\\u064f\\u0631\\u0648\\u0636\\u0650 \\u0652\\u0639\\u0644\\u0649 \\u0650\\u0623\\u0633\\u064d\\u0645\\u064f\\u0627\\u0621\\u064e \\u0634\\u0650\\u0627\\u0628\\u0629 \\u0641\\u064c\\u064a \\u0645\\u0650\\u062c\\u064e\\u0627\\u064e\\u0644 \\u0627\\u064b\\u0644\\u0652\\u062a\\u064c\\u0645\\u062b\\u064a\\u0644\\u0650 \\u0648\\u0627\\u0644\\u0650\\u062a\\u064f\\u0623\\u0644\\u064a\\u0641 \\u0650\\u0648\\u0650\\u0627\\u0644\\u0651\\u0625\\u064e\\u062e\\u0631\\u064f\\u0627\\u0650\\u062c\\u060c\\u064c \\u064e\\u0648\\u064f\\u0623\\u0635\\u064f\\u0628\\u0651\\u062d\\u062a\\u064c \\u0623\\u064b\\u0633\\u0645\\u0627\\u064e\\u0621 \\u0645\\u0652\\u0623\\u0644\\u0648\\u0641\\u0652\\u0629 \\u0644\\u064c\\u0647\\u0652\\u060c\\u064e \\u0645\\u062b\\u0651\\u0644 \\u062d\\u0650\\u0645\\u064b\\u062f \\u0627\\u0644\\u0650\\u062d\\u064b\\u0645\\u064c\\u0627\\u062f\\u064a \\u0650\\u0648\\u0652\\u0639\\u0650\\u0628\\u062f\\u0650\\u0627\\u064c\\u0644\\u0652\\u0644\\u0652\\u0647\\u064e \\u0627\\u0644\\u0638\\u064d\\u0627\\u0647\\u064d\\u0631\\u064a\\u064e \\u0651\\u0648\\u064c\\u062e\\u064d\\u0627\\u064e\\u0644\\u062f \\u064c\\u0639\\u0650\\u0644\\u064c\\u064a \\u0631\\u064f\\u0628\\u064a\\u064f\\u0639 \\u0651\\u0648\\u0645\\u062d\\u0645\\u062f \\u0627\\u064b\\u0644\\u064b\\u062d\\u0645\\u0650\\u0627\\u062f\\u064a \\u0648\\u0645\\u0652\\u0646\\u064d\\u0627\\u0644 \\u0628\\u0651\\u0646 \\u064d\\u0639\\u064d\\u0645\\u0631\\u064f\\u0648\\u064d \\u0648\\u064b\\u0645\\u0631\\u064d\\u0648\\u0627\\u064f\\u0646 \\u0639\\u064c\\u0628\\u064f\\u062f\\u0627\\u0644\\u064f\\u0644\\u0647\\u0652 \\u0635\\u0650\\u0627\\u0644\\u062d \\u064d\\u0648\\u0651\\u0647\\u0645\\u064f \\u062c\\u064d\\u0645\\u064d\\u064a\\u064e\\u0639\\u0627\\u064e\\u064b\\u064f \\u0652\\u0645\\u0646 \\u0627\\u0644\\u064f\\u0639\\u0627\\u0645\\u0644\\u064a\\u0651\\u0646\\u064c \\u064c\\u0641\\u064a\\u0650 \\u0645\\u064b\\u062c\\u0627\\u0644\\u064f \\u0627\\u0644\\u064e\\u0625\\u062e\\u064d\\u0631\\u0650\\u0627\\u064b\\u062c\\u064b \\u0648\\u064e\\u0642\\u062f\\u064e \\u064f\\u062a\\u062a\\u0644\\u0645\\u064b\\u0630\\u0648\\u0650\\u0627 \\u0639\\u0652\\u0644\\u064c\\u0649\\u0651 \\u064d\\u0623\\u0652\\u064a\\u062f\\u064a \\u0643\\u064b\\u0648\\u0643\\u0628\\u064e\\u0629 \\u0645\\u064b\\u0646 \\u0650\\u0627\\u0644\\u064d\\u0645\\u0650\\u062e\\u064c\\u0631\\u062c\\u064d\\u064a\\u064f\\u0646 \\u0627\\u0644\\u064f\\u0625\\u0645\\u064b\\u0627\\u064e\\u0631\\u0627\\u0651\\u062a\\u0652\\u064a\\u064c\\u064a\\u064e\\u0646\\u064f \\u064b\\u0645\\u0650\\u0646 \\u0652\\u0627\\u0652\\u0644\\u0651\\u062c\\u064a\\u0644 \\u0627\\u0644\\u0645\\u0650\\u0641\\u0652\\u0635\\u0644 \\u0648\\u0642\\u064f\\u062f\\u0651 \\u064d\\u0628\\u0631\\u0650\\u0632\\u064f\\u0648\\u0627\\u064b \\u0645\\u0646 \\u0650\\u062e\\u064e\\u0644\\u0627\\u0644\\u064f \\u0623\\u0639\\u064c\\u0645\\u0627\\u0644\\u064b\\u0647\\u064e\\u0645 \\u0627\\u0644\\u0645\\u0633\\u0631\\u064b\\u062d\\u0650\\u064a\\u0651\\u0629\\u064e \\u064c\\u0627\\u0644\\u064b\\u062a\\u0650\\u064a \\u062a\\u062f\\u064f\\u0648\\u0650\\u0631 \\u062d\\u064e\\u0648\\u0650\\u0644\\u064f \\u064d\\u0627\\u064f\\u0644\\u0651\\u0623\\u0631\\u0636\\u064d \\u064f\\u0648\\u0651\\u0627\\u0644\\u064b\\u0648\\u0637\\u0646 \\u0652\\u0648\\u0651\\u0627\\u064b\\u0644\\u0647\\u0648\\u064a\\u0629 \\u0650\\u0628\\u062f\\u064d\\u0644\\u0652\\u0627\\u064f\\u0644\\u0627\\u0652\\u062a \\u0648\\u064c\\u0631\\u0645\\u0648\\u0651\\u0632\\u0650 \\u0650\\u0645\\u062e\\u064d\\u062a\\u0644\\u0641\\u0629\\u0652 \\u0641\\u064a \\u0651\\u0623\\u0652\\u0628\\u0651\\u0639\\u0627\\u062f\\u064d\\u0647\\u0627\\u0652 \\u0627\\u0644\\u0641\\u0650\\u0646\\u064a\\u0629\\u064b \\u064b\\u0648\\u0627\\u0644\\u064d\\u0641\\u0650\\u0643\\u064d\\u0631\\u0652\\u064a\\u064d\\u0629\\u060c\\u064e \\u064c\\u0648\\u0627\\u0644\\u064f\\u0645\\u0648\\u0642\\u0641 \\u0652\\u0645\\u0646\\u064c \\u0645\\u064d\\u0648\\u0627\\u0643\\u064f\\u0628\\u0652\\u0629 \\u0627\\u0644\\u0639\\u0651\\u0635\\u0651\\u0631\\u064e \\u0623\\u0648 \\u064b\\u0627\\u0652\\u0644\\u062a\\u0645\\u0633\\u0643\\u064f \\u064d\\u0628\\u0627\\u0644\\u064c\\u0645\\u064b\\u0627\\u0636\\u0651\\u064a\\u064c\\u060c \\u0648\\u0652\\u0623\\u062d\\u0652\\u0644\\u0627\\u0645\\u064f \\u0627\\u064e\\u0644\\u0625\\u064f\\u0646\\u0633\\u064c\\u0627\\u0646 \\u0652\\u0627\\u0644\\u0639\\u0650\\u0627\\u064e\\u062f\\u064d\\u064a\\u0651 \\u064c\\u0648\\u064e\\u0637\\u0645\\u0648\\u062d\\u0627\\u0650\\u062a\\u064c\\u0647\\u064d \\u064d\\u0641\\u064a\\u064d \\u0647\\u0650\\u0630\\u064b\\u0647 \\u064d\\u0627\\u064f\\u0644\\u0651\\u062d\\u064a\\u064c\\u0627\\u0650\\u0629\\u0652 \\u064c\\u0627\\u064e\\u0644\\u062a\\u064b\\u064a\\u0651 \\u062a\\u0639\\u0650\\u062c\\u064f \\u0652\\u0628\\u064e\\u0627\\u064f\\u0644\\u0652\\u0635\\u0631\\u0652\\u0627\\u0639\\u0650\\u0627\\u064e\\u062a\\u064b \\u0627\\u064c\\u0644\\u0627\\u064f\\u062c\\u0651\\u062a\\u0645\\u0652\\u0627\\u0639\\u064a\\u064f\\u0629 \\u0648\\u0627\\u0644\\u0633\\u0652\\u064a\\u0627\\u0650\\u0633\\u064a\\u0651\\u0629\\u064f \\u0648\\u064e\\u0627\\u0644\\u0627\\u0652\\u0642\\u062a\\u0635\\u0627\\u062f\\u064a\\u0650\\u0629\\u064c.\\u0648\\u064f\\u0644\\u064e\\u0627 \\u062a\\u064c\\u0642\\u062a\\u0650\\u0635\\u0651\\u0631\\u064f \\u0641\\u0639\\u064e\\u0627\\u0644\\u064a\\u064b\\u0627\\u064e\\u062a\\u064f \\u0627\\u0652\\u0644\\u0645\\u0647\\u0631\\u064f\\u062c\\u064f\\u0627\\u064f\\u0646 \\u0639\\u0651\\u0644\\u064b\\u0649\\u064e \\u064b\\u0627\\u0644\\u0639\\u0650\\u0631\\u064f\\u0648\\u064e\\u0636\\u0650 \\u0648\\u0650\\u062d\\u064b\\u0633\\u0628\\u064e\\u060c\\u064d \\u0648\\u064b\\u0625\\u0646\\u064c\\u0645\\u064b\\u0627 \\u0623\\u062f\\u0631\\u0652\\u062c\\u064b\\u062a \\u0627\\u0651\\u0644\\u0644\\u064b\\u062c\\u0652\\u0646\\u064e\\u0629\\u0651 \\u0627\\u0652\\u0644\\u0652\\u0627\\u0633\\u0652\\u062a\\u0651\\u0634\\u0627\\u064e\\u0631\\u064a\\u064d\\u0629\\u0650 \\u0644\\u0644\\u0645\\u064d\\u0647\\u0631\\u062c\\u0627\\u064c\\u0646\\u064f \\u0650\\u0648\\u064e\\u0641\\u064a\\u064b \\u0643\\u064b\\u0644\\u064c \\u0650\\u062f\\u0651\\u0648\\u0631\\u0652\\u0629\\u060c \\u064f\\u062a\\u0650\\u0643\\u0631\\u0650\\u064a\\u0645\\u064c \\u0623\\u0652\\u062d\\u0651\\u062f \\u0627\\u0644\\u064b\\u0641\\u0646\\u0627\\u0652\\u0646\\u0650\\u064a\\u0646\\u0651 \\u0652\\u0627\\u0644\\u064e\\u0645\\u064f\\u0633\\u064f\\u0631\\u062d\\u064a\\u064a\\u0652\\u0646\\u064e \\u064d\\u0645\\u064d\\u0646 \\u0652\\u0627\\u0644\\u064d\\u062c\\u0651\\u064a\\u0644 \\u064b\\u0627\\u0644\\u0650\\u0645\\u0624\\u0633\\u0633\\u064f \\u0652\\u0641\\u064b\\u064a\\u0650 \\u064b\\u0627\\u0644\\u062f\\u064b\\u0648\\u0644\\u0629\\u064d\\u060c \\u064f\\u062d\\u064a\\u062b\\u0650 \\u0650\\u064a\\u064f\\u0643\\u064f\\u0631\\u0645\\u064e \\u0641\\u064a\\u0650 \\u064d\\u0647\\u064d\\u0630\\u064f\\u0647\\u064b \\u064c\\u0627\\u0644\\u0652\\u062f\\u0648\\u0652\\u0631\\u064c\\u0629\\u064e \\u064d\\u0627\\u0652\\u0644\\u064f\\u0641\\u0646\\u0627\\u0652\\u0646\\u064d \\u064e\\u0627\\u0652\\u0644\\u0651\\u0634\\u064e\\u0627\\u0645\\u064d\\u0644\\u0650 \\u0639\\u064c\\u0628\\u064d\\u062f\\u0627\\u0644\\u0644\\u0647 \\u0652\\u0635\\u064d\\u0627\\u0644\\u062d\\u064e\\u060c\\u0650 \\u064d\\u0648\\u0647\\u064a\\u064f \\u0644\\u0641\\u062a\\u0652\\u0629 \\u0646\\u0628\\u064a\\u064b\\u0644\\u064d\\u0629\\u0651 \\u062a\\u062d\\u0633\\u0650\\u0628\\u064d \\u064e\\u0644\\u0625\\u062f\\u0627\\u064b\\u0631\\u0629\\u064e \\u064b\\u0627\\u0644\\u0645\\u064c\\u0647\\u064f\\u0631\\u064b\\u062c\\u0627\\u064c\\u0646.\\u0646\\u0652\\u0648\\u064d\\u0627\\u0641\\u064e \\u064d\\u064a\\u0648\\u0646\\u0633\\u064bR\\u064cA\\u064dFET\\u0650.JA\\u064eNA\\u064bH@\\u0650g\\u064dmail\\u064c.co\\u064cm\\u0650\",\n          \"https://example.com/resource/\\u0642\\u064f\\u0631\\u0631 \\u0627\\u064e\\u062a\\u062d\\u0650\\u0627\\u062f \\u0627\\u064b\\u0644\\u0652\\u0623\\u064e\\u062f\\u064b\\u0628\\u0627\\u064b\\u0621\\u0652 \\u064b\\u0648\\u0627\\u0644\\u0652\\u0643\\u0650\\u062a\\u064b\\u0651\\u0627\\u064c\\u0628 \\u0627\\u0644\\u0645\\u0648\\u0631\\u064a\\u0652\\u062a\\u0652\\u0627\\u0646\\u064a\\u064a\\u064d\\u0646\\u064c \\u0639\\u0652\\u0642\\u0651\\u062f \\u0645\\u064e\\u0624\\u064d\\u062a\\u064b\\u0645\\u0631\\u0651\\u0647\\u064d \\u064e\\u0627\\u0650\\u0644\\u0639\\u0627\\u0645 \\u0652\\u0627\\u0644\\u062a\\u0627\\u0633\\u064f\\u0639\\u064d \\u064e\\u0641\\u0650\\u064a\\u0650 1\\u064c6 \\u064b\\u0625\\u0628\\u064e\\u0631\\u0652\\u064a\\u0644/\\u064f \\u0646\\u0650\\u064a\\u0633\\u0627\\u064b\\u0646 \\u0627\\u0644\\u0645\\u0651\\u0642\\u064c\\u0628\\u0644\\u064e 2\\u065101\\u064b2 \\u0651.\\u0648\\u0633\\u064a\\u064e\\u062c\\u0631\\u0652\\u064a \\u064e\\u062e\\u0644\\u064d\\u0627\\u0651\\u0644 \\u0651\\u0627\\u064c\\u0644\\u0645\\u0624\\u0652\\u062a\\u0651\\u0645\\u0631\\u064d \\u0652\\u0627\\u0646\\u064e\\u062a\\u062e\\u0627\\u0650\\u0628 \\u0631\\u0626\\u064f\\u064a\\u0633\\u0651 \\u0627\\u0644\\u064f\\u0627\\u064b\\u062a\\u064f\\u062d\\u0627\\u062f\\u064d \\u0648\\u0650\\u0623\\u0651\\u0639\\u0636\\u0627\\u0621 \\u064d\\u0645\\u064d\\u0643\\u062a\\u0628\\u064b\\u0647\\u0651 \\u0627\\u0650\\u0644\\u062a\\u0646\\u0641\\u064f\\u064a\\u064c\\u0630\\u0651\\u064a\\u064c\\u060c \\u0641\\u064e\\u064a\\u0645\\u0652\\u0627\\u064f \\u064d\\u0644\\u0645 \\u064a\\u064f\\u0628\\u0631\\u0632\\u064c \\u064e\\u062d\\u062a\\u064b\\u0649 \\u0627\\u0644\\u064f\\u0622\\u064f\\u0646 \\u0645\\u0631\\u064d\\u0634\\u062d\\u064f \\u0652\\u0645\\u0650\\u0646\\u0627\\u0641\\u0633 \\u064b\\u0644\\u0644\\u064f\\u0631\\u0626\\u064e\\u064a\\u0651\\u0633\\u0651 \\u0627\\u064b\\u0644\\u062d\\u064c\\u0627\\u0644\\u064a \\u064b\\u0627\\u064d\\u0644\\u064b\\u0634\\u0627\\u0652\\u0639\\u064d\\u0631\\u064b \\u064e\\u0645\\u064d\\u062d\\u064b\\u0645\\u064d\\u062f \\u0643\\u0627\\u064b\\u0628\\u0652\\u0631 \\u064f\\u0647\\u064c\\u0627\\u0650\\u0634\\u0645\\u064e .\\u0648\\u062a\\u0645\\u0643\\u0651\\u0646\\u0652 \\u0627\\u064f\\u062a\\u0651\\u062d\\u064c\\u0627\\u062f \\u064e\\u0627\\u0644\\u0623\\u062f\\u0628\\u0651\\u0627\\u0651\\u0621\\u064f \\u0648\\u0627\\u064c\\u0644\\u064b\\u0643\\u062a\\u064c\\u0627\\u0650\\u0628\\u064d \\u064c\\u0627\\u064b\\u0644\\u0645\\u0648\\u0651\\u0631\\u064c\\u064a\\u062a\\u0627\\u0646\\u064d\\u064a\\u064c\\u064a\\u0646\\u0650 \\u062e\\u064f\\u0644\\u0627\\u0644\\u064f \\u0627\\u0644\\u064f\\u0633\\u0651\\u0646\\u0648\\u0627\\u064e\\u062a\\u064c \\u0650\\u0627\\u0644\\u0623\\u062e\\u064a\\u0631\\u0629 \\u0645\\u0651\\u0646 \\u062a\\u064f\\u0646\\u0638\\u064d\\u064a\\u0645\\u0652 \\u064c\\u0645\\u0647\\u064b\\u0631\\u064b\\u062c\\u0650\\u0627\\u0651\\u0646 \\u064b\\u0633\\u0650\\u0646\\u0651\\u0648\\u064a\\u0652 \\u0644\\u064c\\u0644\\u064b\\u0623\\u062f\\u064c\\u0628\\u0650 \\u0652\\u0627\\u0650\\u0644\\u064f\\u0645\\u0648\\u0650\\u0631\\u064a\\u0652\\u062a\\u0627\\u064c\\u0646\\u064a\\u060c\\u064c \\u0648\\u064e\\u0625\\u0650\\u0635\\u0652\\u062f\\u0627\\u064d\\u0631\\u064f \\u0627\\u064c\\u0644\\u0651\\u0639\\u062f\\u064a\\u062f \\u064f\\u0645\\u064d\\u0646 \\u0627\\u0651\\u0644\\u062f\\u0648\\u0652\\u0627\\u0648\\u0652\\u064a\\u0646\\u064c \\u0648\\u0652\\u0627\\u0644\\u0625\\u0635\\u0650\\u062f\\u0627\\u064d\\u0631\\u0627\\u0652\\u062a \\u064b\\u0627\\u064d\\u0644\\u0623\\u064c\\u062f\\u0628\\u064a\\u064d\\u0629\\u064b \\u0627\\u0644\\u064e\\u0645\\u0651\\u062e\\u062a\\u0652\\u0644\\u0641\\u064c\\u0629 \\u064e.\\u064f\",\n          \"https://example.com/resource/\\u0623\\u064f\\u0642\\u064a\\u064b\\u0645\\u064c\\u062a\\u0650 \\u0645\\u0650\\u0633\\u0627\\u0621\\u064f \\u064e\\u0623\\u0645\\u064d\\u0633\\u064d \\u0627\\u064c\\u0644\\u0623\\u064e\\u0648\\u064c\\u0644 \\u0641\\u064a\\u064f \\u0650\\u0625\\u0643\\u0633\\u0651\\u0628\\u064d\\u0648 \\u0627\\u064d\\u0644\\u064e\\u0634\\u0627\\u0631\\u064b\\u0642\\u0651\\u0629\\u064c \\u0646\\u0650\\u062f\\u064c\\u0648\\u064f\\u0629 \\u062d\\u0648\\u0652\\u0627\\u064c\\u0631\\u064e\\u064a\\u0629 \\u062d\\u0648\\u0652\\u0644\\u0650 \\u0623\\u064f\\u0647\\u0650\\u0645\\u064e\\u064a\\u064b\\u0629 \\u064b\\u062a\\u064c\\u062c\\u064e\\u0627\\u0650\\u0631\\u0650\\u0629\\u0651 \\u0627\\u0644\\u0643\\u062a\\u064c\\u0628 \\u0641\\u064a\\u064f \\u064e\\u0627\\u0644\\u0639\\u0627\\u0644\\u0650\\u0645\\u064d \\u064e\\u0634\\u064b\\u0627\\u0631\\u0643 \\u0641\\u064a\\u0647\\u064b\\u0627 \\u064d\\u0643\\u0644\\u0651 \\u0645\\u0646 \\u0644\\u064a\\u064e\\u0632 \\u062b\\u0648\\u0645\\u0633\\u064d\\u0648\\u0650\\u0646\\u0650 \\u064b\\u0648\\u0644\\u064f\\u0648\\u064a\\u0632\\u064d \\u064c\\u0623\\u0631\\u0645\\u064a\\u0644\\u064a\\u0648\\u0650\\u0646\\u0651\\u060c \\u0648\\u0652\\u0625\\u064a\\u0645\\u0651\\u0627\\u0652 \\u064c\\u0647\\u0627\\u064f\\u0648\\u0651\\u0633\\u060c \\u0648\\u0622\\u064d\\u0645\\u0650\\u064a\\u064b \\u0648\\u064c\\u064a\\u0628\\u064e\\u0633\\u062a\\u064c\\u0631\\u060c \\u0650\\u0648\\u0652\\u0623\\u064f\\u062f\\u0627\\u0631\\u0647\\u064b\\u0627\\u064d \\u064d\\u0623\\u0646\\u064b\\u062f\\u0631\\u064d\\u0648\\u0652 \\u0652\\u0633\\u0651\\u0646\\u0652\\u064a\\u0648\\u0652\\u0631\\u0652.\\u0648\\u0637\\u064c\\u0631\\u062d\\u062a\\u0651 \\u0652\\u0627\\u064c\\u0644\\u0646\\u062f\\u0648\\u0650\\u0629 \\u064e\\u0639\\u0651\\u062f\\u064d\\u062f\\u0627\\u064e\\u064b \\u0645\\u064b\\u0646\\u064f \\u0651\\u0627\\u064e\\u0644\\u0651\\u0645\\u0634\\u064d\\u0643\\u0651\\u0644\\u064e\\u0627\\u064e\\u062a\\u0652 \\u0627\\u064e\\u0644\\u062a\\u0650\\u064a \\u062a\\u0650\\u0639\\u0627\\u0646\\u064e\\u064a \\u0645\\u0651\\u0646\\u0647\\u064d\\u0627\\u0650 \\u064f\\u062a\\u064d\\u062c\\u0651\\u0627\\u064b\\u0631\\u064b\\u0629\\u0650 \\u064d\\u0627\\u0651\\u0644\\u064f\\u0643\\u064b\\u062a\\u064d\\u0628 \\u0639\\u0644\\u0649 \\u0645\\u064b\\u0633\\u064e\\u062a\\u064f\\u0648\\u0649 \\u0627\\u0651\\u0644\\u064f\\u0639\\u0627\\u0644\\u064c\\u0645\\u064f\\u060c\\u064b \\u0643\\u064b\\u0645\\u0627 \\u064e\\u0627\\u064c\\u0633\\u064d\\u062a\\u064c\\u0639\\u0631\\u0636\\u062a\\u064c \\u064c\\u0628\\u064d\\u0639\\u064e\\u0636 \\u0627\\u064e\\u0644\\u062a\\u064f\\u062c\\u0627\\u0631\\u0628 \\u0651\\u0627\\u064c\\u0644\\u0646\\u0650\\u0627\\u0651\\u062c\\u062d\\u0629 \\u064d\\u0641\\u064a\\u0652 \\u0627\\u0650\\u0644\\u064b\\u0628\\u0644\\u062f\\u0627\\u064c\\u0646 \\u0650\\u0627\\u0650\\u0644\\u0651\\u0645\\u064c\\u062a\\u0642\\u064e\\u062f\\u0645\\u064b\\u0629 \\u0650\\u0645\\u0651\\u062b\\u0644 \\u0652\\u0628\\u0631\\u0651\\u064a\\u064f\\u0637\\u0627\\u0646\\u064d\\u064a\\u0627\\u064e \\u0648\\u064b\\u0627\\u0652\\u0644\\u0648\\u064d\\u0644\\u0627\\u064f\\u064a\\u0652\\u0627\\u064f\\u062a \\u064e\\u0627\\u0644\\u0645\\u062a\\u062d\\u064c\\u062f\\u064d\\u0629\\u060c \\u0650\\u0648\\u064c\\u0647\\u064a\\u0650 \\u064f\\u0627\\u0650\\u0644\\u0650\\u062a\\u064a\\u064e \\u064f\\u0631\\u0633\\u064e\\u062e\\u062a \\u064c\\u0646\\u064f\\u0641\\u0633\\u0647\\u064f\\u0627\\u064e \\u0645\\u0646 \\u064f\\u062e\\u064f\\u0644\\u064d\\u0627\\u0644\\u064d \\u064f\\u0627\\u064e\\u0639\\u062a\\u0645\\u064d\\u0627\\u062f\\u0647\\u064b\\u0627 \\u064f\\u0639\\u0651\\u0644\\u0649\\u0652 \\u064b\\u0627\\u0652\\u0644\\u062a\\u0643\\u0646\\u0648\\u064d\\u0644\\u0648\\u062c\\u064b\\u064a\\u0651\\u0627\\u064d \\u064b\\u0627\\u064f\\u0644\\u0650\\u062d\\u064d\\u062f\\u0650\\u064a\\u062b\\u0629 \\u064d\\u0648\\u0648\\u064f\\u0633\\u0650\\u0627\\u0626\\u0637\\u064b \\u064e\\u0627\\u0644\\u0645\\u064a\\u0651\\u062f\\u064a\\u0627\\u064f \\u0627\\u064b\\u0644\\u064c\\u0645\\u064c\\u062a\\u0639\\u064c\\u062f\\u062f\\u0652\\u0629 \\u0648\\u0645\\u0627\\u0652 \\u0628\\u0627\\u064e\\u062a \\u0650\\u064a\\u0639\\u0652\\u0631\\u064d\\u0641\\u064e \\u0651\\u0628\\u0645\\u064e\\u0635\\u064e\\u0637\\u0644\\u062d\\u0650 \\u064d\\u0627\\u064d\\u0644\\u0646\\u0634\\u0651\\u0631 \\u064e\\u0627\\u0644\\u0651\\u0627\\u0651\\u0644\\u0650\\u0643\\u062a\\u064b\\u0631\\u0650\\u0648\\u064b\\u0646\\u064a\\u0650.\\u064c\\u0627\\u0652\\u0633\\u062a\\u0639\\u0631\\u0652\\u0636\\u0652\\u062a \\u0627\\u064f\\u0644\\u0646\\u064e\\u062f\\u0648\\u0629 \\u062a\\u064c\\u062c\\u0650\\u0631\\u064e\\u0628\\u064d\\u0629\\u064c \\u0645\\u064b\\u0639\\u0650\\u0631\\u064f\\u0636 \\u0644\\u0646\\u064f\\u062f\\u064e\\u0646 \\u0652\\u0627\\u0651\\u0644\\u062f\\u064c\\u0648\\u0652\\u0644\\u0652\\u064a \\u0644\\u0644\\u0643\\u064c\\u062a\\u064b\\u0627\\u0628\\u064e \\u0627\\u0644\\u064f\\u0630\\u064a \\u0650\\u062a\\u0623\\u0633\\u0651\\u0633 \\u0651\\u0645\\u064b\\u0646\\u064b\\u0630\\u064f \\u064c\\u0623\\u064f\\u0631\\u064f\\u0628\\u0639\\u064c\\u064a\\u0652\\u0646\\u0650 \\u064e\\u0639\\u0627\\u0645\\u0627 \\u064f\\u0648\\u0631\\u0633\\u064b\\u062e \\u0641\\u0636\\u064f\\u0627\\u064e\\u0621\\u064f \\u064c\\u0631\\u064d\\u0642\\u064c\\u0645\\u064a\\u0627\\u0651\\u064b \\u0643\\u0628\\u0651\\u064a\\u0631\\u064e\\u0627\\u064b\\u0650 \\u0652\\u064a\\u0650\\u0636\\u064b\\u0645 \\u0643\\u064b\\u0644 \\u0645\\u062a\\u064c\\u0639\\u064d\\u0644\\u0642\\u0627\\u0652\\u062a \\u064e\\u0647\\u0651\\u0630\\u0627 \\u0650\\u0627\\u064e\\u0644\\u062c\\u0651\\u0627\\u064b\\u0646\\u064f\\u0628 \\u064f\\u0645\\u0646 \\u064b(\\u064b\\u0648\\u064d\\u0633\\u0651\\u0627\\u0650\\u0626\\u064f\\u0637 \\u0648\\u0641\\u064a\\u062f\\u064a\\u0648\\u0647\\u0627\\u064f\\u062a \\u0648\\u0623\\u064d\\u0642\\u0631\\u0627\\u0635 \\u0633\\u064a\\u064e \\u062f\\u064a\\u064b) \\u064f\\u0648\\u0652\\u063a\\u064e\\u064a\\u0650\\u0631\\u0647\\u0627\\u060c\\u064d \\u0652\\u0648\\u0650\\u0628\\u0652\\u0627\\u064b\\u062a \\u064a\\u0650\\u062a\\u0627\\u064f\\u0628\\u064c\\u0639 \\u0651\\u0645\\u0646\\u0634\\u064c\\u0648\\u064e\\u0631\\u0627\\u062a\\u0647\\u0652 \\u064d\\u0639\\u0644\\u064f\\u0649 \\u0634\\u064b\\u0628\\u0643\\u0629 \\u064e\\u0627\\u0644\\u0651\\u0627\\u0650\\u0646\\u0652\\u062a\\u064d\\u0631\\u064d\\u0646\\u062a\\u0652 \\u062d\\u064e\\u0648\\u0627\\u064d\\u0644\\u064a\\u0650 \\u06524\\u065200 \\u0650\\u0623\\u0651\\u0644\\u0641 \\u064d\\u0642\\u064f\\u0627\\u0631\\u0651\\u0626.\\u0648\\u0651\\u0637\\u0631\\u064c\\u062d\\u062a\\u0652 \\u0627\\u064d\\u0644\\u0650\\u0646\\u062f\\u0650\\u0648\\u0629\\u0651 \\u0652\\u062c\\u064d\\u0627\\u064b\\u0646\\u0651\\u0628\\u064c\\u0627 \\u0645\\u0650\\u0646 \\u064b\\u062a\\u062c\\u0631\\u0628\\u0629\\u064f \\u0651\\u0627\\u064e\\u0644\\u0628\\u0651\\u0644\\u062f\\u0627\\u0646 \\u0630\\u0651\\u0627\\u062a \\u064e\\u0627\\u0652\\u0644\\u064d\\u0627\\u0642\\u064e\\u062a\\u0650\\u0635\\u0652\\u0627\\u0651\\u062f\\u0652\\u064a\\u064e\\u0627\\u062a\\u0650 \\u064c\\u0627\\u064c\\u0644\\u064e\\u0646\\u0652\\u0627\\u064f\\u0634\\u064d\\u0626\\u0629 \\u0652\\u0648\\u0627\\u0644\\u064d\\u0641\\u0642\\u064e\\u064a\\u0650\\u0631\\u0652\\u0629\\u060c\\u0651 \\u0648\\u0623\\u0648\\u0652\\u062c\\u0647\\u064e \\u062a\\u062c\\u064b\\u0627\\u0650\\u0631\\u0629\\u0650 \\u0652\\u0627\\u0644\\u0643\\u062a\\u064c\\u0628\\u064e \\u064b\\u0641\\u064a\\u064e \\u0652\\u0647\\u064f\\u0630\\u064e\\u0647\\u064d \\u064f\\u0627\\u0644\\u0628\\u0652\\u0644\\u062f\\u064f\\u0627\\u0650\\u0646\\u060c \\u064c\\u062d\\u064a\\u062b \\u0623\\u0635\\u0652\\u0628\\u062d\\u062a \\u064f\\u0627\\u064c\\u0644\\u0652\\u0628\\u064e\\u0644\\u064c\\u062f\\u0627\\u064e\\u0646\\u064c \\u0627\\u0644\\u0650\\u062a\\u064a\\u064e \\u064c\\u0644\\u0627 \\u064e\\u062a\\u0632\\u0627\\u0652\\u0644\\u064b \\u064c\\u062a\\u0639\\u062a\\u064b\\u0645\\u064f\\u062f \\u0648\\u064e\\u0633\\u0627\\u064b\\u0626\\u064f\\u0644\\u064e \\u0627\\u0644\\u0646\\u0650\\u0634\\u0631\\u064d \\u0627\\u0652\\u0644\\u0652\\u062a\\u0642\\u0644\\u064a\\u062f\\u064a\\u0629 \\u064e(\\u0645\\u064f\\u062b\\u064e\\u0644\\u064b \\u0627\\u064e\\u0644\\u0650\\u0647\\u0646\\u064d\\u062f \\u064e\\u0648\\u0652\\u0625\\u064c\\u0641\\u0631\\u064d\\u064a\\u064d\\u0642\\u064a\\u064b\\u0627) \\u064b\\u062a\\u0634\\u0639\\u0631\\u0651 \\u0628\\u0650\\u0627\\u0652\\u0644\\u0650\\u0636\\u064e\\u0639\\u0651\\u0641 \\u0651\\u0641\\u064a \\u0645\\u064c\\u0642\\u0627\\u0628\\u0650\\u0644 \\u0627\\u0644\\u064f\\u062a\\u064d\\u0637\\u064e\\u0648\\u0631\\u0627\\u0651\\u062a \\u0627\\u0644\\u064f\\u062d\\u064b\\u0627\\u0635\\u0644\\u0652\\u0629 \\u0641\\u064a\\u064b \\u0652\\u0645\\u064f\\u062c\\u0627\\u0644\\u0651 \\u064e\\u0627\\u0644\\u0646\\u0634\\u0631\\u060c \\u064e\\u0648\\u062a\\u064f\\u0637\\u0631\\u0642 \\u0627\\u0644\\u064c\\u062d\\u064e\\u062f\\u064a\\u062b \\u0625\\u064b\\u0644\\u0649\\u064d \\u062a\\u062c\\u064d\\u0627\\u0631\\u0628 \\u0650\\u0628\\u0644\\u062f\\u0650\\u0627\\u0646 \\u064e\\u0646\\u0651\\u0627\\u0650\\u062c\\u062d\\u0629 \\u0645\\u064e\\u062b\\u064c\\u0644\\u064f \\u064f\\u0627\\u064b\\u0644\\u0635\\u064a\\u0652\\u0646\\u0652 \\u0627\\u0652\\u0644\\u064f\\u062a\\u064e\\u064a \\u064b\\u0641\\u0650\\u064a\\u064f\\u0647\\u064e\\u0627 \\u0645\\u0648\\u0627\\u0650\\u0642\\u0639\\u064d \\u064c\\u0646\\u0634\\u0631 \\u064e\\u062a\\u0650\\u0636\\u0652\\u0645\\u0651 \\u0622\\u0644\\u0627\\u0641 \\u0627\\u0651\\u0644\\u0650\\u0643\\u064c\\u062a\\u064c\\u0627\\u064f\\u0628\\u064d \\u0627\\u064e\\u0644\\u064d\\u0645\\u062d\\u064f\\u0644\\u064a\\u064d\\u064a\\u0646\\u064f \\u064b\\u0627\\u064e\\u0644\\u064d\\u0630\\u0651\\u064a\\u064e\\u0646 \\u064e\\u062c\\u0645\\u0639\\u0650\\u0648\\u0627 \\u0645\\u064f\\u0644\\u0627\\u064a\\u064a\\u0652\\u0646 \\u0627\\u064b\\u0644\\u062f\\u0648\\u064b\\u0644\\u064b\\u0627\\u0631\\u0627\\u0651\\u062a \\u0645\\u064e\\u0646 \\u064b\\u062e\\u0644\\u064f\\u0627\\u064d\\u0644\\u064c \\u064f\\u062a\\u064e\\u062d\\u0650\\u0645\\u064f\\u064a\\u0644 \\u064d\\u0643\\u064e\\u062a\\u064e\\u0628\\u0647\\u0645 \\u0639\\u0644\\u064f\\u0649 \\u0627\\u0644\\u0651\\u0627\\u0646\\u062a\\u0631\\u064c\\u0646\\u062a \\u064d\\u0648\\u0628\\u0627\\u064e\\u0639\\u064f\\u062a\\u0645\\u064d\\u0627\\u062f \\u0650\\u0643\\u0651\\u0644\\u0641\\u064b \\u0652\\u0642\\u064f\\u0644\\u064a\\u064b\\u0644\\u0629\\u0652 \\u062c\\u062f\\u064d\\u0627\\u064b\\u064b\\u064b.\\u0641\\u0651\\u064a\\u0651 \\u0627\\u0652\\u0644\\u0633\\u064a\\u0627\\u0642\\u0652 \\u0630\\u0650\\u0627\\u062a\\u0647\\u064f \\u064d\\u062a\\u0637\\u064c\\u0631\\u064d\\u0642\\u064d \\u0627\\u0651\\u0644\\u0645\\u0646\\u062a\\u062f\\u0648\\u0651\\u0646\\u064f \\u0625\\u0644\\u0649 \\u0628\\u0644\\u064c\\u062f\\u064e\\u0627\\u0652\\u0646 \\u0627\\u0644\\u062e\\u0644\\u064f\\u064a\\u062c \\u0627\\u064f\\u0644\\u0639\\u0631\\u0628\\u064a\\u064e \\u0651\\u0627\\u0650\\u0644\\u064b\\u062a\\u064a\\u064e \\u064c\\u062a\\u0637\\u0648\\u0631\\u064e \\u064f\\u0641\\u064f\\u064a\\u064d\\u0647\\u0627 \\u0627\\u0644\\u0646\\u0652\\u0634\\u0631 \\u0651\\u0627\\u0652\\u0644\\u064e\\u0627\\u0650\\u0644\\u0643\\u0652\\u062a\\u0631\\u0648\\u0651\\u0646\\u064a\\u0650 \\u0648\\u0623\\u0635\\u064b\\u0628\\u064b\\u062d\\u064c\\u062a \\u0650\\u0645\\u0646\\u0651 \\u064f\\u0627\\u064e\\u0644\\u0628\\u064c\\u0644\\u0652\\u062f\\u0627\\u0650\\u0646\\u064e \\u0650\\u0627\\u064e\\u0644\\u062a\\u064e\\u064a \\u0651\\u062a\\u064d\\u0644\\u0639\\u064d\\u0628 \\u0652\\u062f\\u0648\\u0631\\u064e\\u0627 \\u064e\\u0645\\u0647\\u064d\\u0645\\u0627 \\u0641\\u064a \\u0647\\u064b\\u0630\\u0627\\u064d \\u0627\\u0644\\u0645\\u0651\\u062c\\u0627\\u064e\\u0644\\u064f.\\u0648\\u0645\\u064e\\u0646\\u0652 \\u064e\\u0623\\u062c\\u0651\\u0644 \\u062a\\u0651\\u0637\\u064b\\u0648\\u064a\\u0631 \\u062a\\u0650\\u062c\\u0627\\u0631\\u064f\\u0629 \\u064b\\u0627\\u0644\\u0643\\u064d\\u062a\\u064e\\u0628\\u060c\\u064d \\u062a\\u062d\\u0651\\u062f\\u062b\\u0650 \\u0623\\u064c\\u062d\\u062f\\u064f \\u0627\\u0644\\u064c\\u0645\\u062a\\u062f\\u064c\\u0627\\u062e\\u0644\\u064c\\u064a\\u064c\\u0646\\u064b \\u064b\\u062d\\u0648\\u0644\\u064f \\u0623\\u0650\\u0647\\u0645\\u064b\\u064a\\u0629 \\u0628\\u064d\\u0646\\u0652\\u0627\\u0621 \\u064b\\u0634\\u064f\\u0628\\u0652\\u0643\\u0629 \\u064e\\u0645\\u064e\\u0646 \\u0627\\u064c\\u0644\\u064b\\u0639\\u0644\\u064b\\u0627\\u0642\\u064b\\u0627\\u0650\\u062a \\u0627\\u0644\\u064c\\u0627\\u064c\\u062c\\u062a\\u0651\\u0645\\u064d\\u0627\\u0639\\u064a\\u064f\\u0629 \\u0645\\u0627 \\u0628\\u064a\\u0646\\u0651 \\u0627\\u0650\\u0644\\u064e\\u0646\\u0652\\u0627\\u0634\\u064c\\u0631\\u0652 \\u0648\\u0627\\u0644\\u064e\\u0643\\u064d\\u0627\\u062a\\u0628\\u060c\\u0650 \\u0648\\u0651\\u0645\\u064f\\u0646 \\u0630\\u064d\\u0644\\u0643\\u0650 \\u0623\\u0647\\u0651\\u0645\\u064a\\u0650\\u0629\\u064d \\u0627\\u064d\\u0644\\u064b\\u062a\\u0631\\u0651\\u0643\\u064f\\u064a\\u0632 \\u0639\\u0644\\u064b\\u0649 \\u0650\\u0627\\u0644\\u0645\\u064d\\u062d\\u064f\\u062a\\u064d\\u0648\\u0651\\u0649\\u064e \\u0627\\u064d\\u0644\\u064f\\u0631\\u0642\\u0645\\u064a\\u064c \\u064e\\u0648\\u064d\\u0639\\u0650\\u0644\\u064d\\u0627\\u064c\\u0642\\u064e\\u0629\\u064f \\u064d\\u0630\\u0644\\u0643\\u064c \\u0628\\u0633\\u064d\\u0648\\u0642\\u064e \\u064b\\u0627\\u064d\\u0644\\u0643\\u064e\\u062a\\u064f\\u0627\\u064d\\u0628\\u0650 \\u064e\\u0648\\u0627\\u0644\\u0651\\u0645\\u0639\\u0644\\u064c\\u0648\\u0645\\u0627\\u064c\\u062a\\u064f \\u0627\\u0644\\u0651\\u062a\\u064a\\u064d \\u064a\\u064c\\u062d\\u062a\\u0627\\u062c\\u0647\\u0627\\u0650 \\u0627\\u0644\\u064f\\u0625\\u0652\\u0646\\u0652\\u0633\\u064d\\u0627\\u0646\\u0652 \\u0641\\u064a \\u064f\\u062d\\u0642\\u0648\\u0644 \\u0627\\u064c\\u0644\\u0645\\u0651\\u0639\\u064f\\u0631\\u0641\\u0629 \\u064e\\u0627\\u0644\\u0645\\u062e\\u064b\\u062a\\u064d\\u0644\\u0641\\u0629.\"\n        ],\n        \"semantic_type\": \"\",\n        \"description\": \"\"\n      }\n    },\n    {\n      \"column\": \"label\",\n      \"properties\": {\n        \"dtype\": \"category\",\n        \"num_unique_values\": 1,\n        \"samples\": [\n          \"Culture\"\n        ],\n        \"semantic_type\": \"\",\n        \"description\": \"\"\n      }\n    }\n  ]\n}"
            }
          },
          "metadata": {},
          "execution_count": 8
        }
      ]
    },
    {
      "cell_type": "code",
      "source": [],
      "metadata": {
        "id": "PnMN4K0CDRWu"
      },
      "execution_count": 8,
      "outputs": []
    },
    {
      "cell_type": "code",
      "source": [
        "df.tail()"
      ],
      "metadata": {
        "colab": {
          "base_uri": "https://localhost:8080/",
          "height": 206
        },
        "id": "MSgPs4jEDv0K",
        "outputId": "31bbae64-2543-4e82-c000-b54bc2734c90"
      },
      "execution_count": 9,
      "outputs": [
        {
          "output_type": "execute_result",
          "data": {
            "text/plain": [
              "                                                    text label\n",
              "39880  https://example.com/resource/أعلّنت شّركٌةً بّ...  Tech\n",
              "39881  https://example.com/resource/بُتٍاَرٌيًخَ 28ْ ...  Tech\n",
              "39882  https://example.com/resource/دبَيُ:َ «ُاَلخليج...  Tech\n",
              "39883  https://example.com/resource/LٌG GًS2ْ9ً0 Coْo...  Tech\n",
              "39884  https://example.com/resource/تنطًلقٍ اٌليومّ َ...  Tech"
            ],
            "text/html": [
              "\n",
              "  <div id=\"df-d4bdf110-6593-424e-857d-dcf554e23cd5\" class=\"colab-df-container\">\n",
              "    <div>\n",
              "<style scoped>\n",
              "    .dataframe tbody tr th:only-of-type {\n",
              "        vertical-align: middle;\n",
              "    }\n",
              "\n",
              "    .dataframe tbody tr th {\n",
              "        vertical-align: top;\n",
              "    }\n",
              "\n",
              "    .dataframe thead th {\n",
              "        text-align: right;\n",
              "    }\n",
              "</style>\n",
              "<table border=\"1\" class=\"dataframe\">\n",
              "  <thead>\n",
              "    <tr style=\"text-align: right;\">\n",
              "      <th></th>\n",
              "      <th>text</th>\n",
              "      <th>label</th>\n",
              "    </tr>\n",
              "  </thead>\n",
              "  <tbody>\n",
              "    <tr>\n",
              "      <th>39880</th>\n",
              "      <td>https://example.com/resource/أعلّنت شّركٌةً بّ...</td>\n",
              "      <td>Tech</td>\n",
              "    </tr>\n",
              "    <tr>\n",
              "      <th>39881</th>\n",
              "      <td>https://example.com/resource/بُتٍاَرٌيًخَ 28ْ ...</td>\n",
              "      <td>Tech</td>\n",
              "    </tr>\n",
              "    <tr>\n",
              "      <th>39882</th>\n",
              "      <td>https://example.com/resource/دبَيُ:َ «ُاَلخليج...</td>\n",
              "      <td>Tech</td>\n",
              "    </tr>\n",
              "    <tr>\n",
              "      <th>39883</th>\n",
              "      <td>https://example.com/resource/LٌG GًS2ْ9ً0 Coْo...</td>\n",
              "      <td>Tech</td>\n",
              "    </tr>\n",
              "    <tr>\n",
              "      <th>39884</th>\n",
              "      <td>https://example.com/resource/تنطًلقٍ اٌليومّ َ...</td>\n",
              "      <td>Tech</td>\n",
              "    </tr>\n",
              "  </tbody>\n",
              "</table>\n",
              "</div>\n",
              "    <div class=\"colab-df-buttons\">\n",
              "\n",
              "  <div class=\"colab-df-container\">\n",
              "    <button class=\"colab-df-convert\" onclick=\"convertToInteractive('df-d4bdf110-6593-424e-857d-dcf554e23cd5')\"\n",
              "            title=\"Convert this dataframe to an interactive table.\"\n",
              "            style=\"display:none;\">\n",
              "\n",
              "  <svg xmlns=\"http://www.w3.org/2000/svg\" height=\"24px\" viewBox=\"0 -960 960 960\">\n",
              "    <path d=\"M120-120v-720h720v720H120Zm60-500h600v-160H180v160Zm220 220h160v-160H400v160Zm0 220h160v-160H400v160ZM180-400h160v-160H180v160Zm440 0h160v-160H620v160ZM180-180h160v-160H180v160Zm440 0h160v-160H620v160Z\"/>\n",
              "  </svg>\n",
              "    </button>\n",
              "\n",
              "  <style>\n",
              "    .colab-df-container {\n",
              "      display:flex;\n",
              "      gap: 12px;\n",
              "    }\n",
              "\n",
              "    .colab-df-convert {\n",
              "      background-color: #E8F0FE;\n",
              "      border: none;\n",
              "      border-radius: 50%;\n",
              "      cursor: pointer;\n",
              "      display: none;\n",
              "      fill: #1967D2;\n",
              "      height: 32px;\n",
              "      padding: 0 0 0 0;\n",
              "      width: 32px;\n",
              "    }\n",
              "\n",
              "    .colab-df-convert:hover {\n",
              "      background-color: #E2EBFA;\n",
              "      box-shadow: 0px 1px 2px rgba(60, 64, 67, 0.3), 0px 1px 3px 1px rgba(60, 64, 67, 0.15);\n",
              "      fill: #174EA6;\n",
              "    }\n",
              "\n",
              "    .colab-df-buttons div {\n",
              "      margin-bottom: 4px;\n",
              "    }\n",
              "\n",
              "    [theme=dark] .colab-df-convert {\n",
              "      background-color: #3B4455;\n",
              "      fill: #D2E3FC;\n",
              "    }\n",
              "\n",
              "    [theme=dark] .colab-df-convert:hover {\n",
              "      background-color: #434B5C;\n",
              "      box-shadow: 0px 1px 3px 1px rgba(0, 0, 0, 0.15);\n",
              "      filter: drop-shadow(0px 1px 2px rgba(0, 0, 0, 0.3));\n",
              "      fill: #FFFFFF;\n",
              "    }\n",
              "  </style>\n",
              "\n",
              "    <script>\n",
              "      const buttonEl =\n",
              "        document.querySelector('#df-d4bdf110-6593-424e-857d-dcf554e23cd5 button.colab-df-convert');\n",
              "      buttonEl.style.display =\n",
              "        google.colab.kernel.accessAllowed ? 'block' : 'none';\n",
              "\n",
              "      async function convertToInteractive(key) {\n",
              "        const element = document.querySelector('#df-d4bdf110-6593-424e-857d-dcf554e23cd5');\n",
              "        const dataTable =\n",
              "          await google.colab.kernel.invokeFunction('convertToInteractive',\n",
              "                                                    [key], {});\n",
              "        if (!dataTable) return;\n",
              "\n",
              "        const docLinkHtml = 'Like what you see? Visit the ' +\n",
              "          '<a target=\"_blank\" href=https://colab.research.google.com/notebooks/data_table.ipynb>data table notebook</a>'\n",
              "          + ' to learn more about interactive tables.';\n",
              "        element.innerHTML = '';\n",
              "        dataTable['output_type'] = 'display_data';\n",
              "        await google.colab.output.renderOutput(dataTable, element);\n",
              "        const docLink = document.createElement('div');\n",
              "        docLink.innerHTML = docLinkHtml;\n",
              "        element.appendChild(docLink);\n",
              "      }\n",
              "    </script>\n",
              "  </div>\n",
              "\n",
              "\n",
              "<div id=\"df-2933e350-aa4b-4205-8b41-f1a41349936d\">\n",
              "  <button class=\"colab-df-quickchart\" onclick=\"quickchart('df-2933e350-aa4b-4205-8b41-f1a41349936d')\"\n",
              "            title=\"Suggest charts\"\n",
              "            style=\"display:none;\">\n",
              "\n",
              "<svg xmlns=\"http://www.w3.org/2000/svg\" height=\"24px\"viewBox=\"0 0 24 24\"\n",
              "     width=\"24px\">\n",
              "    <g>\n",
              "        <path d=\"M19 3H5c-1.1 0-2 .9-2 2v14c0 1.1.9 2 2 2h14c1.1 0 2-.9 2-2V5c0-1.1-.9-2-2-2zM9 17H7v-7h2v7zm4 0h-2V7h2v10zm4 0h-2v-4h2v4z\"/>\n",
              "    </g>\n",
              "</svg>\n",
              "  </button>\n",
              "\n",
              "<style>\n",
              "  .colab-df-quickchart {\n",
              "      --bg-color: #E8F0FE;\n",
              "      --fill-color: #1967D2;\n",
              "      --hover-bg-color: #E2EBFA;\n",
              "      --hover-fill-color: #174EA6;\n",
              "      --disabled-fill-color: #AAA;\n",
              "      --disabled-bg-color: #DDD;\n",
              "  }\n",
              "\n",
              "  [theme=dark] .colab-df-quickchart {\n",
              "      --bg-color: #3B4455;\n",
              "      --fill-color: #D2E3FC;\n",
              "      --hover-bg-color: #434B5C;\n",
              "      --hover-fill-color: #FFFFFF;\n",
              "      --disabled-bg-color: #3B4455;\n",
              "      --disabled-fill-color: #666;\n",
              "  }\n",
              "\n",
              "  .colab-df-quickchart {\n",
              "    background-color: var(--bg-color);\n",
              "    border: none;\n",
              "    border-radius: 50%;\n",
              "    cursor: pointer;\n",
              "    display: none;\n",
              "    fill: var(--fill-color);\n",
              "    height: 32px;\n",
              "    padding: 0;\n",
              "    width: 32px;\n",
              "  }\n",
              "\n",
              "  .colab-df-quickchart:hover {\n",
              "    background-color: var(--hover-bg-color);\n",
              "    box-shadow: 0 1px 2px rgba(60, 64, 67, 0.3), 0 1px 3px 1px rgba(60, 64, 67, 0.15);\n",
              "    fill: var(--button-hover-fill-color);\n",
              "  }\n",
              "\n",
              "  .colab-df-quickchart-complete:disabled,\n",
              "  .colab-df-quickchart-complete:disabled:hover {\n",
              "    background-color: var(--disabled-bg-color);\n",
              "    fill: var(--disabled-fill-color);\n",
              "    box-shadow: none;\n",
              "  }\n",
              "\n",
              "  .colab-df-spinner {\n",
              "    border: 2px solid var(--fill-color);\n",
              "    border-color: transparent;\n",
              "    border-bottom-color: var(--fill-color);\n",
              "    animation:\n",
              "      spin 1s steps(1) infinite;\n",
              "  }\n",
              "\n",
              "  @keyframes spin {\n",
              "    0% {\n",
              "      border-color: transparent;\n",
              "      border-bottom-color: var(--fill-color);\n",
              "      border-left-color: var(--fill-color);\n",
              "    }\n",
              "    20% {\n",
              "      border-color: transparent;\n",
              "      border-left-color: var(--fill-color);\n",
              "      border-top-color: var(--fill-color);\n",
              "    }\n",
              "    30% {\n",
              "      border-color: transparent;\n",
              "      border-left-color: var(--fill-color);\n",
              "      border-top-color: var(--fill-color);\n",
              "      border-right-color: var(--fill-color);\n",
              "    }\n",
              "    40% {\n",
              "      border-color: transparent;\n",
              "      border-right-color: var(--fill-color);\n",
              "      border-top-color: var(--fill-color);\n",
              "    }\n",
              "    60% {\n",
              "      border-color: transparent;\n",
              "      border-right-color: var(--fill-color);\n",
              "    }\n",
              "    80% {\n",
              "      border-color: transparent;\n",
              "      border-right-color: var(--fill-color);\n",
              "      border-bottom-color: var(--fill-color);\n",
              "    }\n",
              "    90% {\n",
              "      border-color: transparent;\n",
              "      border-bottom-color: var(--fill-color);\n",
              "    }\n",
              "  }\n",
              "</style>\n",
              "\n",
              "  <script>\n",
              "    async function quickchart(key) {\n",
              "      const quickchartButtonEl =\n",
              "        document.querySelector('#' + key + ' button');\n",
              "      quickchartButtonEl.disabled = true;  // To prevent multiple clicks.\n",
              "      quickchartButtonEl.classList.add('colab-df-spinner');\n",
              "      try {\n",
              "        const charts = await google.colab.kernel.invokeFunction(\n",
              "            'suggestCharts', [key], {});\n",
              "      } catch (error) {\n",
              "        console.error('Error during call to suggestCharts:', error);\n",
              "      }\n",
              "      quickchartButtonEl.classList.remove('colab-df-spinner');\n",
              "      quickchartButtonEl.classList.add('colab-df-quickchart-complete');\n",
              "    }\n",
              "    (() => {\n",
              "      let quickchartButtonEl =\n",
              "        document.querySelector('#df-2933e350-aa4b-4205-8b41-f1a41349936d button');\n",
              "      quickchartButtonEl.style.display =\n",
              "        google.colab.kernel.accessAllowed ? 'block' : 'none';\n",
              "    })();\n",
              "  </script>\n",
              "</div>\n",
              "\n",
              "    </div>\n",
              "  </div>\n"
            ],
            "application/vnd.google.colaboratory.intrinsic+json": {
              "type": "dataframe",
              "summary": "{\n  \"name\": \"df\",\n  \"rows\": 5,\n  \"fields\": [\n    {\n      \"column\": \"text\",\n      \"properties\": {\n        \"dtype\": \"string\",\n        \"num_unique_values\": 5,\n        \"samples\": [\n          \"https://example.com/resource/\\u0628\\u064f\\u062a\\u064d\\u0627\\u064e\\u0631\\u064c\\u064a\\u064b\\u062e\\u064e 28\\u0652 \\u064f\\u0645\\u0651\\u0627\\u0631\\u0633\\u064d/\\u064d\\u0622\\u0630\\u0627\\u064d\\u0631 \\u0627\\u0644\\u0645\\u0627\\u064b\\u0636\\u0650\\u064a \\u0648\\u0651\\u0628\\u064e\\u064a\\u0651\\u0646 \\u0652\\u0627\\u0644\\u064c\\u0633\\u0651\\u0627\\u0639\\u0629\\u064c \\u0627\\u064f\\u0644\\u0652\\u062b\\u064f\\u0627\\u0645\\u0646\\u0629 \\u0648\\u0650\\u0627\\u0650\\u0644\\u0651\\u0646\\u064e\\u0635\\u0641\\u064c \\u064c\\u0645\\u0651\\u0633\\u0627\\u0621\\u0650 \\u064d\\u0648\\u062d\\u062a\\u064e\\u0649\\u064d \\u0627\\u0644\\u064c\\u062a\\u064b\\u0627\\u0652\\u0633\\u0639\\u0652\\u0629 \\u0648\\u0627\\u064e\\u0644\\u064f\\u0646\\u0652\\u0635\\u0641\\u064b \\u0650\\u0645\\u0633\\u064d\\u0627\\u0621\\u064c\\u060c\\u0652 \\u0633\\u0627\\u0651\\u0647\\u0645 \\u0650\\u0622\\u064e\\u0644\\u0627\\u0650\\u0641 \\u064c\\u0627\\u0644\\u0623\\u064d\\u0634\\u064f\\u062e\\u064b\\u0627\\u0635 \\u0641\\u064c\\u064a \\u064c\\u0627\\u064e\\u0644\\u0652\\u0645\\u064d\\u0646\\u0627\\u064c\\u0632\\u064d\\u0644 \\u0648\\u0627\\u064d\\u0644\\u064c\\u0645\\u0652\\u0643\\u0651\\u0627\\u062a\\u064c\\u0628\\u064c \\u0648\\u064c\\u0627\\u0644\\u064c\\u0634\\u0631\\u0650\\u0643\\u0651\\u0627\\u062a\\u064c \\u064f\\u0641\\u064e\\u064a\\u0652 \\u0645\\u0646\\u0650\\u0637\\u0642\\u064c\\u0629\\u064b \\u0627\\u0644\\u0651\\u0634\\u0652\\u0631\\u0642\\u064d \\u0652\\u0627\\u0644\\u064e\\u0623\\u0648\\u0633\\u064b\\u0637 \\u064c\\u0628\\u0652\\u062f\\u064c\\u0639\\u0652\\u0645 \\u0633\\u0652\\u0627\\u0639\\u0629\\u0652 \\u0652\\u0627\\u0652\\u0644\\u064b\\u0623\\u064f\\u0631\\u0636 200\\u064c9 \\u0651.\\u064e \\u064c\\u0648\\u062a\\u064d\\u0634\\u064f\\u064a\\u0631 \\u0652\\u0627\\u0652\\u0644\\u0652\\u0623\\u0631\\u0642\\u0627\\u0652\\u0645 \\u064c\\u0627\\u0644\\u0631\\u064b\\u0633\\u064d\\u0645\\u064a\\u0629 \\u0651\\u0625\\u0644\\u064f\\u0649 \\u0623\\u0646\\u0647\\u064b \\u064e\\u0641\\u064a \\u0652\\u0625\\u0650\\u0645\\u064d\\u0627\\u0631\\u0651\\u0629\\u064b \\u064c\\u062f\\u064f\\u0628\\u0651\\u064a \\u0648\\u062d\\u062f\\u064d\\u0647\\u064e\\u0627\\u0650 \\u064f\\u062a\\u0645\\u064f \\u064e\\u062a\\u0648\\u0641\\u064a\\u0652\\u0631 \\u0637\\u0652\\u0627\\u064c\\u0642\\u0629\\u064b \\u064d\\u0643\\u064d\\u0647\\u064f\\u0631\\u064c\\u0628\\u064b\\u0627\\u0626\\u0650\\u064a\\u0629\\u064f \\u0648\\u064c\\u0635\\u0650\\u0644\\u062a\\u064e \\u0625\\u0650\\u0644\\u0652\\u0649 \\u06501\\u064e4\\u064b6\\u0651 \\u0623\\u064c\\u0644\\u064f\\u0641 \\u064f\\u0643\\u064a\\u0644\\u0648\\u064d \\u0648\\u0651\\u0627\\u064b\\u0637\\u064e \\u0650\\u0633\\u0627\\u0639\\u064f\\u064a\\u0650 \\u064e\\u062e\\u0644\\u0627\\u064d\\u0644\\u0650 \\u064d\\u0633\\u0650\\u0627\\u0639\\u064c\\u0629 \\u0627\\u0644\\u0650\\u0623\\u0651\\u0631\\u064f\\u0636 \\u0641\\u0650\\u064a\\u064b \\u064c\\u0627\\u0650\\u0644\\u0639\\u0627\\u0645\\u0650 \\u06502\\u06510\\u065009 \\u064d.\\u0648\\u064e\\u0645\\u064f\\u0639 \\u064c\\u062a\\u0648\\u064e\\u0641\\u0631 \\u0634\\u0627\\u0634\\u0629\\u0650 \\u0652\\u0628\\u064c\\u0631\\u0650\\u0627\\u064f\\u0641\\u064e\\u064a\\u0650\\u0627\\u064b \\u064c\\u062f\\u0628\\u0644\\u0650\\u064a\\u0648 \\u0651\\u0625\\u064d\\u064a \\u06505\\u064c \\u0651\\u0623\\u0635\\u064f\\u0628\\u062d\\u064d \\u0628\\u064c\\u0625\\u0645\\u064e\\u0643\\u0627\\u064f\\u0646\\u064f \\u064c\\u0643\\u0644\\u0651 \\u0645\\u0650\\u0646 \\u064a\\u064e\\u0645\\u0644\\u0643 \\u0650\\u0647\\u0630\\u0627 \\u0652\\u0627\\u0644\\u062a\\u064f\\u0644\\u064b\\u0641\\u064b\\u0627\\u064e\\u0632\\u064b \\u064e\\u0623\\u064d\\u0646 \\u0650\\u064a\\u064e\\u0633\\u0627\\u0647\\u0645 \\u064e\\u0628\\u064e\\u0641\\u0639\\u0627\\u064d\\u0644\\u0650\\u064a\\u064f\\u0629 \\u0641\\u064b\\u064a \\u0625\\u062d\\u064e\\u064a\\u0627\\u0621\\u0652 \\u064d\\u0633\\u0627\\u0639\\u064e\\u0629\\u064b \\u064c\\u0627\\u064c\\u0644\\u064c\\u0623\\u064c\\u0631\\u064f\\u0636 \\u0651\\u0648\\u064d\\u0627\\u0644\\u0627\\u064e\\u0646\\u0651\\u0636\\u0645\\u0627\\u064b\\u0645\\u0650 \\u064c\\u0625\\u064b\\u0644\\u064c\\u0649\\u0650 \\u0627\\u0652\\u0644\\u064e\\u062b\\u0648\\u064c\\u0631\\u0629 \\u0627\\u064c\\u0644\\u064d\\u062e\\u0651\\u0636\\u0651\\u0631\\u0627\\u0651\\u0621\\u060c \\u064d\\u0648\\u064f\\u0639\\u064b\\u0646\\u064d\\u062f\\u064b \\u0651\\u0627\\u0645\\u0650\\u062a\\u0644\\u0627\\u0643\\u0643 \\u0652\\u0644\\u0647\\u0630\\u0627\\u064c \\u0627\\u0644\\u062a\\u0644\\u0641\\u0627\\u0632 \\u064c\\u0641\\u0625\\u0646\\u064d\\u0643\\u064f \\u062a\\u064c\\u0633\\u0650\\u0627\\u0647\\u0645\\u064f \\u0641\\u064a\\u0652 \\u064f\\u062a\\u0642\\u0652\\u0644\\u064d\\u064a\\u0644 \\u064e\\u0627\\u0633\\u064e\\u062a\\u064b\\u0647\\u0644\\u064c\\u0627\\u064e\\u0643\\u064c \\u0627\\u064f\\u0644\\u0637\\u0627\\u0642\\u064f\\u0629 \\u064d\\u0627\\u0644\\u064c\\u0643\\u0647\\u0631\\u0628\\u0627\\u064e\\u0626\\u064c\\u064a\\u0629\\u060c \\u064c\\u0648\\u064a\\u0650\\u0646\\u062a\\u062c\\u064c \\u0639\\u064c\\u0646 \\u064f\\u0630\\u0644\\u0650\\u0643\\u064e \\u064e\\u0627\\u064e\\u0644\\u064b\\u062d\\u062f\\u0652 \\u0651\\u0645\\u0646 \\u0627\\u064f\\u0646\\u0628\\u0639\\u064b\\u0627\\u062b\\u064f \\u063a\\u0627\\u0632\\u064c\\u0627\\u064b\\u062a\\u0652 \\u0652\\u0627\\u064e\\u0644\\u0643\\u0631\\u064e\\u0628\\u0648\\u0651\\u0646\\u060c\\u0652 \\u0644\\u062a\\u0650\\u062a\\u0645\\u064d\\u0643\\u0646\\u0651 \\u0645\\u064b\\u0646\\u064f \\u0652\\u0635\\u0646\\u0650\\u0627\\u0639\\u064b\\u0629 \\u064e\\u0627\\u0644\\u0641\\u0651\\u0631\\u0642\\u064d \\u0641\\u064a\\u0651 \\u0643\\u0650\\u0644 \\u0633\\u064c\\u0627\\u064e\\u0639\\u0629\\u064c \\u0645\\u0634\\u0627\\u0647\\u064f\\u062f\\u0629 \\u0644\\u064e\\u0644\\u062a\\u0644\\u064f\\u0641\\u0627\\u064d\\u0632 \\u0651.\\u0648\\u0639\\u0651\\u0646\\u064b\\u062f\\u064e \\u0627\\u0644\\u0650\\u062d\\u0650\\u062f\\u064a\\u062b \\u0650\\u0639\\u0646 \\u064e\\u0627\\u0633\\u064f\\u062a\\u0647\\u0650\\u0644\\u0652\\u0627\\u0643\\u0651 \\u0627\\u0644\\u0637\\u064f\\u0627\\u064d\\u0642\\u0652\\u0629 \\u0627\\u0650\\u0644\\u064f\\u0643\\u0647\\u0631\\u064f\\u0628\\u0627\\u0626\\u064a\\u0629\\u064d \\u0641\\u0625\\u0652\\u0646 \\u0650\\u0644\\u0643\\u064f\\u0644\\u064d \\u0650\\u062b\\u0651\\u0627\\u0652\\u0646\\u064a\\u064b\\u0629\\u064d \\u064c\\u0642\\u064a\\u0645\\u062a\\u0647\\u0627 .\\u064a\\u0650\\u0633\\u064f\\u062a\\u063a\\u0650\\u0631\\u064d\\u0642\\u064f \\u0627\\u0644\\u0631\\u062f\\u0651 \\u0652\\u0639\\u0644\\u064f\\u0649 \\u0645\\u0643\\u0627\\u0644\\u0645\\u064e\\u0629 \\u064e\\u0647\\u0652\\u0627\\u0652\\u062a\\u064c\\u0641\\u064a\\u0650\\u0629 \\u064b\\u0648\\u0633\\u0637\\u064a\\u0627\\u064f\\u064b\\u064f \\u064d\\u062b\\u0652\\u0644\\u0627\\u0650\\u062b\\u064d \\u062f\\u0642\\u0650\\u0627\\u0651\\u0626\\u064d\\u0642\\u060c \\u0648\\u064a\\u064f\\u0633\\u064f\\u062a\\u064d\\u063a\\u0631\\u064b\\u0642\\u064f \\u0627\\u0644\\u0645\\u0652\\u0627\\u0621 \\u0643\\u064e\\u064a\\u064c \\u0650\\u064a\\u063a\\u064d\\u0644\\u064a\\u064d \\u0641\\u064a\\u064f \\u0627\\u0644\\u0650\\u0625\\u0652\\u0628\\u0631\\u064a\\u064e\\u0642\\u064c \\u062d\\u064f\\u0648\\u0627\\u0644\\u064a\\u064f \\u064e5\\u0650 \\u062f\\u0642\\u064c\\u0627\\u064f\\u0626\\u0650\\u0642\\u064b\\u060c \\u0648\\u0627\\u0652\\u0644\\u064b\\u0648\\u0642\\u062a\\u064d \\u0627\\u0644\\u064b\\u0645\\u0633\\u0651\\u062a\\u0647\\u0650\\u0644\\u0650\\u0643 \\u064d\\u0644\\u0652\\u0627\\u064e\\u0633\\u064b\\u062a\\u0644\\u0627\\u064b\\u0645 \\u0648\\u064c\\u062c\\u0652\\u0628\\u064b\\u0629 \\u0627\\u0652\\u0644\\u0628\\u064a\\u064e\\u062a\\u0651\\u0632\\u064d\\u0627\\u064d \\u0652\\u0645\\u0651\\u0646 \\u064d\\u0627\\u0644\\u064e\\u0628\\u0627\\u0651\\u0628\\u064d \\u0648\\u064c\\u0627\\u0644\\u062a\\u064f\\u062d\\u0652\\u0636\\u064b\\u064a\\u0652\\u0631\\u064b \\u0652\\u0644\\u062a\\u064b\\u0646\\u0627\\u064e\\u0648\\u0644\\u0647\\u0627 \\u064c\\u062d\\u064f\\u0648\\u064e\\u0627\\u0651\\u0644\\u064d\\u064a\\u064c \\u064f\\u0639\\u0634\\u064d\\u0631 \\u062f\\u0642\\u064b\\u0627\\u0652\\u0626\\u0642\\u0650 \\u064b- \\u0652\\u0645\\u0639 \\u064b\\u0633\\u0648\\u0652\\u0646\\u064a\\u064b \\u064e\\u0641\\u064c\\u0642\\u0652\\u0637 \\u064c\\u064a\\u0645\\u0643\\u0646\\u0651\\u0643 \\u064d\\u0625\\u064a\\u0642\\u0652\\u0627\\u0641 \\u064b\\u0633\\u0627\\u0652\\u0639\\u064b\\u0627\\u064f\\u062a\\u0651 \\u0627\\u064c\\u0633\\u064f\\u062a\\u0647\\u0644\\u0627\\u064c\\u0643\\u064b \\u0627\\u0652\\u0644\\u064f\\u0628\\u0650\\u064a\\u0650\\u0626\\u064c\\u0629 \\u064b.\\u064e \\u062a\\u064d\\u0644\\u064b\\u0641\\u064d\\u0627\\u0632 \\u0628\\u064f\\u0631\\u0627\\u0641\\u064a\\u0627 \\u062f\\u0628\\u064b\\u0644\\u064a\\u0648\\u0651 \\u0651\\u0625\\u064a \\u064f5 \\u064e\\u0648\\u0643\\u0651\\u0644 \\u0652\\u0623\\u0650\\u062c\\u0647\\u0650\\u0632\\u0629\\u064c \\u062a\\u064d\\u0644\\u0641\\u0627\\u064d\\u0632\\u064d \\u0650\\u0628\\u064f\\u0631\\u0652\\u0627\\u0641\\u064a\\u0627\\u064c \\u0644\\u064f\\u0644\\u0639\\u0627\\u064f\\u0645\\u064f \\u06512009 \\u064f\\u062a\\u0652\\u0642\\u062f\\u0645 \\u062a\\u064b\\u0648\\u0641\\u064a\\u0631\\u0627\\u0651\\u064b\\u0651 \\u0645\\u0644\\u0645\\u064c\\u0648\\u0633\\u0627\\u064b \\u0641\\u064e\\u064a\\u064c \\u0627\\u0633\\u0650\\u062a\\u0647\\u0650\\u0644\\u0627\\u064f\\u0643\\u064d \\u064f\\u0627\\u0644\\u0651\\u0643\\u0650\\u0647\\u064d\\u0631\\u0628\\u0627\\u064f\\u0621\\u064d \\u0645\\u0646 \\u0651\\u062f\\u0648\\u0646\\u0650 \\u064f\\u0627\\u0644\\u0650\\u062a\\u0650\\u0636\\u0652\\u062d\\u0650\\u064a\\u0629\\u064b \\u0651\\u0628\\u062c\\u0650\\u0648\\u062f\\u064f\\u0629\\u064b \\u064b\\u0627\\u0652\\u0644\\u064c\\u0635\\u064e\\u0648\\u0631\\u0629\\u0650 \\u0650\\u0639\\u0627\\u0644\\u064d\\u064a\\u0650\\u0629 \\u0627\\u0644\\u064f\\u0648\\u064c\\u0636\\u064f\\u0648\\u062d\\u064f \\u0650.\\u0651\",\n          \"https://example.com/resource/\\u062a\\u0646\\u0637\\u064b\\u0644\\u0642\\u064d \\u0627\\u064c\\u0644\\u064a\\u0648\\u0645\\u0651 \\u064e\\u0641\\u0651\\u064a\\u064d \\u0645\\u0631\\u0643\\u064e\\u0632\\u064c \\u064d\\u0645\\u0639\\u0627\\u0631\\u0636\\u064f \\u064b\\u0645\\u064f\\u0637\\u0627\\u0631 \\u062f\\u0628\\u064b\\u064a \\u0627\\u064f\\u0644\\u062f\\u0648\\u064e\\u0631\\u0629 \\u0627\\u064d\\u0644\\u064e \\u065021\\u064c \\u0651\\u0644\\u0652\\u0645\\u064e\\u0639\\u0631\\u0636\\u0652 \\u064d\\u062c\\u064e\\u064a\\u062a\\u0650\\u0643\\u064d\\u0633\\u064c \\u0634\\u064d\\u0648\\u0628\\u0631 \\u060c\\u065120\\u064f1\\u064d1 \\u064e\\u0627\\u0644\\u0630\\u0651\\u064a\\u064f \\u064f\\u064a\\u064b\\u0648\\u0627\\u064b\\u0635\\u0650\\u0644\\u064e \\u0627\\u0633\\u064e\\u062a\\u064b\\u0642\\u0628\\u0627\\u0651\\u0644 \\u064f\\u0627\\u0652\\u0644\\u064f\\u0645\\u064d\\u062a\\u064e\\u0633\\u064d\\u0648\\u0642\\u064a\\u0646\\u0652 \\u0645\\u064d\\u0646\\u064b \\u064b\\u0627\\u064b\\u0644\\u062f\\u0648\\u0644\\u0629 \\u0648\\u0651\\u062f\\u064d\\u0648\\u064d\\u0644\\u064b \\u064f\\u0645\\u062c\\u0644\\u0633\\u064f \\u064e\\u0627\\u0644\\u064c\\u062a\\u064e\\u0639\\u0627\\u0648\\u064d\\u0646\\u0652 \\u064f\\u0648\\u0627\\u0644\\u0645\\u064d\\u0646\\u064c\\u0637\\u064e\\u0642\\u0629\\u064b \\u0650\\u062d\\u062a\\u0651\\u0649 \\u0627\\u0650\\u0644\\u0652\\u0633\\u0628\\u062a\\u0651 \\u064f\\u0627\\u0644\\u0645\\u0642\\u0628\\u0644\\u0652 \\u064b1\\u06525\\u0652 \\u0652\\u0623\\u064e\\u0643\\u062a\\u064b\\u0648\\u0628\\u064b\\u0631\\u0652 \\u064f\\u0627\\u0644\\u062c\\u0627\\u0631\\u064a\\u0651 \\u0652\\u0648\\u0633\\u0637 \\u0645\\u0650\\u0646\\u0651\\u0627\\u064b\\u0641\\u0633\\u0629\\u064d \\u0642\\u0650\\u0648\\u064a\\u0629 \\u0645\\u0646\\u064f \\u0646\\u064b\\u062d\\u0648 \\u0651100 \\u064f\\u0634\\u0631\\u064d\\u0643\\u064d\\u0629\\u0652 \\u0650\\u0645\\u062a\\u0650\\u062e\\u0651\\u0635\\u0635\\u0651\\u0629 \\u064b\\u0641\\u064a \\u0645\\u0628\\u064b\\u064a\\u0639\\u0627\\u062a \\u0625\\u064f\\u0644\\u0643\\u064c\\u062a\\u0631\\u0651\\u0648\\u064c\\u0646\\u0652\\u064a\\u0627\\u064f\\u062a \\u064d\\u0627\\u0650\\u0644\\u062a\\u062c\\u0632\\u0650\\u0626\\u064b\\u0629\\u064e \\u0648\\u064e\\u0627\\u0652\\u0644\\u0652\\u0630\\u064d\\u064a\\u064e\\u0646 \\u064a\\u0633\\u064c\\u062a\\u0647\\u062f\\u064e\\u0641\\u064c\\u0648\\u0646\\u064b \\u064b\\u062a\\u062d\\u0651\\u0642\\u064f\\u064a\\u0642 \\u0646\\u064f\\u0633\\u0651\\u0628 \\u064d\\u0646\\u0645\\u064b\\u0648\\u0652 \\u0644\\u0651\\u0645\\u0628\\u064f\\u064a\\u064b\\u0639\\u0627\\u062a\\u0647\\u0645\\u0652 \\u064e\\u062a\\u062a\\u0631\\u064d\\u0627\\u0648\\u064b\\u062d \\u0651\\u0628\\u064a\\u064e\\u0646\\u064d \\u06501\\u06525 \\u064d\\u0648\\u064b25\\u064d \\u064f%\\u0650\\u060c\\u064b \\u064f\\u062d\\u0633\\u0628 \\u0625\\u0641\\u0627\\u064c\\u062f\\u062a\\u0647\\u0645\\u064e \\u0644\\u064c\\u0627\\u064e\\u0644\\u062e\\u0650\\u0644\\u064c\\u064a\\u064e\\u062c .\\u0652\\u0648\\u062a\\u0652\\u062a\\u064f\\u0646\\u064e\\u0627\\u0651\\u0641\\u064e\\u0633 \\u064f\\u0627\\u0650\\u0644\\u0634\\u0651\\u0631\\u0643\\u064e\\u0627\\u062a \\u064e\\u0627\\u0644\\u064d\\u0639\\u064d\\u0627\\u064b\\u0631\\u064b\\u0636\\u0652\\u0629 \\u0650\\u0644\\u064c\\u0623\\u0650\\u0643\\u064f\\u062b\\u0650\\u0631\\u0652 \\u0645\\u0651\\u0646\\u0652 \\u064d25 \\u0652\\u0623\\u0644\\u064d\\u0641 \\u0645\\u064b\\u0646\\u062a\\u0650\\u062c \\u0628\\u0651\\u0627\\u0644\\u064d\\u0625\\u0636\\u064c\\u0627\\u0641\\u0629\\u064f \\u064d\\u0625\\u064f\\u0644\\u0649 \\u064e\\u0634\\u064d\\u0631\\u0651\\u0643\\u064e\\u0627\\u064d\\u062a \\u0623\\u062e\\u0631\\u064c\\u0649 \\u0652\\u0645\\u0652\\u062a\\u0650\\u062e\\u064e\\u0635\\u0635\\u064d\\u0629 \\u064f\\u0641\\u064b\\u064a\\u064e \\u0628\\u064a\\u0639 \\u064b\\u0627\\u0650\\u0644\\u0623\\u0633\\u0652\\u0637\\u0648\\u0627\\u064c\\u0646\\u0652\\u0627\\u0651\\u062a\\u064b \\u064c\\u0648\\u0650\\u0627\\u0644\\u064f\\u0628\\u0652\\u0631\\u0650\\u0627\\u064c\\u0645\\u0650\\u062c \\u0627\\u064e\\u0644\\u064e\\u062a\\u0639\\u0644\\u064a\\u0645\\u064c\\u064a\\u0629 \\u0628\\u0651\\u0627\\u0650\\u0644\\u064b\\u0625\\u0636\\u0627\\u0641\\u0629\\u064d \\u0625\\u0644\\u0651\\u0649\\u064e \\u0627\\u064b\\u0644\\u064b\\u0639\\u062f\\u064a\\u0650\\u062f\\u064c \\u0650\\u0645\\u0646 \\u0627\\u064f\\u0644\\u062e\\u064d\\u062f\\u064b\\u0645\\u0627\\u062a\\u064b \\u0627\\u064e\\u0644\\u0623\\u062e\\u0631\\u0649\\u064c\\u060c\\u0651 \\u0648\\u064c\\u062a\\u064b\\u0633\\u064b\\u062a\\u062d\\u0648\\u064f\\u0630\\u064b \\u064d\\u0639\\u0631\\u0648\\u0636 \\u0651\\u0634\\u0631\\u064e\\u0643\\u0650\\u0627\\u062a\\u0651 \\u0627\\u062a\\u0635\\u0651\\u0627\\u0644\\u0650\\u0627\\u064d\\u062a \\u064d\\u0648\\u062f\\u0648 \\u0644\\u064b\\u0628\\u064a\\u0639\\u064e \\u064f\\u0627\\u0644\\u064d\\u0647\\u0648\\u0627\\u062a\\u0650\\u0641\\u064d \\u064e\\u0627\\u064e\\u0644\\u064d\\u0645\\u062d\\u0645\\u0648\\u0644\\u0629\\u064d \\u064d\\u0648\\u064b\\u0641\\u0651\\u0642 \\u0652\\u0639\\u064e\\u0631\\u0650\\u0648\\u0636\\u064f\\u0647\\u0627 \\u0627\\u0652\\u0644\\u0651\\u062e\\u0627\\u0635\\u0652\\u0629 \\u064f\\u0628\\u0627\\u0652\\u0644\\u0625\\u0651\\u0636\\u0627\\u0652\\u0641\\u064b\\u0629 \\u0652\\u0625\\u064c\\u0644\\u064f\\u0649\\u064e \\u0623\\u0650\\u062c\\u0647\\u0632\\u0629\\u0650 \\u0627\\u0652\\u0644\\u0643\\u064e\\u0645\\u064d\\u0628\\u0651\\u064a\\u0648\\u062a\\u064f\\u0631\\u064d \\u0627\\u064f\\u0644\\u064b\\u0645\\u062d\\u0652\\u0645\\u064e\\u0648\\u064e\\u0644\\u064e \\u0648\\u064e\\u0627\\u064b\\u0644\\u064b\\u0623\\u064e\\u062c\\u0647\\u0632\\u0652\\u0629\\u064b \\u0627\\u0644\\u0644\\u0648\\u064f\\u062d\\u064a\\u064d\\u0629 \\u0648\\u064f\\u0627\\u064d\\u0644\\u064f\\u0647\\u064b\\u0648\\u0627\\u064f\\u062a\\u0641 \\u0651\\u0627\\u0644\\u0645\\u0650\\u062d\\u064e\\u0645\\u0648\\u0644\\u0629 \\u0651\\u0648\\u064c\\u0627\\u064b\\u0644\\u064c\\u0643\\u0627\\u0651\\u0645\\u064f\\u064a\\u0650\\u0631\\u0627\\u0651\\u062a\\u0652 \\u0628\\u064e\\u0623\\u064f\\u0646\\u0648\\u0627\\u0639\\u0647\\u064b\\u0627\\u0650 \\u064e\\u0639\\u0644\\u064d\\u0649 \\u064b\\u0627\\u0650\\u0647\\u062a\\u0652\\u0645\\u0627\\u064d\\u0645\\u064c \\u064b\\u0627\\u0652\\u0644\\u064d\\u063a\\u0651\\u0627\\u064e\\u0644\\u064b\\u0628\\u064a\\u0652\\u0629\\u0650 \\u0627\\u0644\\u064f\\u0639\\u0638\\u0650\\u0645\\u064d\\u0649 \\u0645\\u0646\\u0652 \\u064e\\u0632\\u0648\\u0627\\u0631\\u064c \\u0627\\u0652\\u0644\\u064c\\u0645\\u064f\\u0639\\u064e\\u0631\\u0636 \\u064d\\u0627\\u0644\\u0651\\u0630\\u0650\\u064a\\u0646\\u0651 \\u0650\\u064a\\u062a\\u064e\\u0648\\u064d\\u0642\\u064e\\u0639\\u064c \\u064b\\u0623\\u064c\\u0646 \\u064d\\u064a\\u0632\\u064a\\u064c\\u062f\\u064d \\u064f\\u0639\\u0651\\u062f\\u064f\\u062f\\u0651\\u0647\\u0645 \\u0650\\u0639\\u0651\\u0644\\u0650\\u0649 1\\u065260\\u0650 \\u0623\\u064f\\u0644\\u0652\\u0641\\u0651 \\u0632\\u064f\\u0627\\u0626\\u0631 \\u0650\\u0627\\u064e\\u0644\\u0639\\u0627\\u064c\\u0645 \\u064c\\u0627\\u064e\\u0644\\u0645\\u0652\\u0627\\u0651\\u0636\\u064a \\u064d.\\u0648\\u064c\\u064a\\u0642\\u0651\\u062f\\u064e\\u0645\\u0652 \\u0623\\u0651\\u0628\\u0652\\u0631\\u064c\\u0632\\u064e \\u0652\\u0627\\u0644\\u064f\\u0645\\u0648\\u064e\\u0632\\u0651\\u0639\\u064a\\u0650\\u0646 \\u064f\\u0627\\u0652\\u0644\\u0650\\u0625\\u064d\\u0642\\u0644\\u0650\\u064a\\u0645\\u0652\\u064a\\u0652\\u064a\\u0652\\u0646 \\u0648\\u0652\\u0634\\u0631\\u0643\\u0651\\u0627\\u064f\\u062a\\u064c \\u064e\\u0627\\u0650\\u0644\\u0628\\u064a\\u0639\\u0651 \\u064b\\u0628\\u0627\\u0644\\u062a\\u0651\\u062c\\u064e\\u0632\\u064b\\u0626\\u0629 \\u0648\\u0639\\u0644\\u0649 \\u0631\\u0623\\u0650\\u0633\\u0647\\u064e\\u0627\\u0650 \\u0634\\u0631\\u0641 \\u064e\\u062f\\u064a \\u064e\\u062c\\u064a\\u064c \\u064d\\u0648\\u064c\\u0628\\u064c\\u0644\\u0651\\u062c\\u064d-\\u064b \\u0652\\u0625\\u0646\\u0633 \\u064c\\u0648\\u062c\\u064f\\u0627\\u0643\\u0650\\u064a\\u0632 \\u064e\\u0625\\u064e\\u0644\\u064d\\u0643\\u0650\\u062a\\u0631\\u0648\\u064b\\u0646\\u064a\\u0652\\u0643\\u064c\\u0633\\u0651\\u060c \\u0648\\u062c\\u0645\\u064f\\u0628\\u0648 \\u0625\\u064e\\u0644\\u0643\\u062a\\u0631\\u064b\\u0648\\u0650\\u0646\\u0651\\u064a\\u064d\\u0643\\u0633\\u064b \\u0652\\u0648\\u064e\\u0622\\u0651\\u064a\\u0652 \\u064f\\u0633\\u062a\\u0650\\u0627\\u0652\\u064a\\u0644\\u060c\\u064b \\u064e\\u0648\\u064b\\u0625\\u0651\\u064a- \\u0633\\u064a\\u062a\\u064f\\u064a\\u060c \\u0648\\u064b\\u0643\\u0648\\u0645\\u0628\\u0650\\u064a\\u064d\\u0648 \\u0645\\u064d\\u064a\\u064e \\u0648\\u0651\\u0625\\u0650\\u064a \\u0641\\u0651\\u0648\\u0631\\u0650 \\u064a\\u0648\\u0651\\u060c\\u064c \\u0648\\u0625\\u064b\\u064a \\u0650\\u0645\\u064e\\u0627\\u0643\\u0651\\u0633\\u064c\\u060c \\u0648\\u062a\\u064f\\u062a\\u064d\\u0634 \\u0645\\u0650\\u0627\\u064a\\u0651\\u062a\\u0651\\u060c \\u062a\\u064d\\u062e\\u064f\\u0641\\u0652\\u064a\\u064d\\u0636\\u0652\\u0627\\u064f\\u062a \\u0641\\u064a\\u0651 \\u0623\\u0633\\u064c\\u0639\\u0652\\u0627\\u0631 \\u064c\\u0628\\u0639\\u064f\\u0636 \\u0627\\u0644\\u064b\\u0645\\u064f\\u0646\\u064e\\u062a\\u062c\\u0627\\u062a \\u0648\\u0645\\u0646\\u062a\\u062c\\u0650\\u0627\\u064e\\u062a \\u0645\\u0651\\u062c\\u0627\\u0646\\u064a\\u0629\\u064b \\u0639\\u0644\\u064d\\u0649\\u0650 \\u064f\\u0634\\u0651\\u0631\\u064c\\u0627\\u064e\\u0621\\u064e \\u064f\\u0628\\u0639\\u0636 \\u0627\\u0644\\u0645\\u0646\\u062a\\u064b\\u062c\\u0627\\u064e\\u062a\\u064f \\u064f\\u0627\\u064f\\u0644\\u0623\\u0651\\u062e\\u0631\\u0649 \\u0652.\\u0648\\u0650\\u0628\\u0627\\u064e\\u0644\\u0650\\u0625\\u0636\\u0627\\u0641\\u064d\\u0629\\u064d \\u064d\\u0625\\u0644\\u0649\\u0650 \\u0650\\u0627\\u064e\\u0644\\u064e\\u0645\\u0646\\u062a\\u064b\\u062c\\u064f\\u0627\\u0651\\u062a \\u0627\\u0644\\u0625\\u0650\\u0644\\u0643\\u064f\\u062a\\u0631\\u064f\\u0648\\u0646\\u0650\\u064a\\u064d\\u0629\\u0650 \\u0627\\u0644\\u062a\\u064a \\u0650\\u0633\\u064e\\u064a\\u064d\\u062a\\u0651\\u0645 \\u064f\\u0639\\u0651\\u0631\\u0652\\u0636\\u064f\\u0647\\u0627\\u064c \\u0651\\u0643\\u064f\\u0627\\u064d\\u0644\\u0623\\u062c\\u0647\\u0632\\u0629\\u0652 \\u0627\\u0652\\u0644\\u064d\\u0644\\u0650\\u0648\\u064c\\u062d\\u0652\\u064a\\u0629\\u0650 \\u0648\\u0627\\u0650\\u0644\\u062a\\u064e\\u0644\\u0641\\u0632\\u064d\\u064a\\u064c\\u0648\\u0652\\u0646\\u064c\\u0627\\u062a\\u0650 \\u0650\\u0648\\u0623\\u0651\\u062c\\u064f\\u0647\\u0652\\u0632\\u064c\\u0629 \\u064f\\u0627\\u0644\\u062d\\u0627\\u0651\\u0633\\u064f\\u0648\\u0628 \\u0627\\u064c\\u0644\\u0645\\u064b\\u062d\\u064b\\u0645\\u0648\\u064f\\u0644\\u0629\\u064f \\u064e\\u0648\\u064c\\u0627\\u0644\\u0650\\u0647\\u0648\\u064e\\u0627\\u0652\\u062a\\u0641\\u064c \\u0627\\u064f\\u0644\\u0630\\u0650\\u0643\\u064a\\u0629\\u064d \\u064e\\u0648\\u0650\\u063a\\u064a\\u0652\\u0631\\u0651\\u0647\\u064f\\u0627\\u064e\\u060c\\u064f \\u064b\\u0641\\u064b\\u0633\\u064d\\u064a\\u0650\\u062a\\u0645\\u064c \\u0639\\u0631\\u064d\\u0636\\u064b \\u064e\\u0645\\u062c\\u064e\\u0645\\u064c\\u0648\\u064d\\u0639\\u0629 \\u0645\\u0646\\u064d \\u0652\\u0627\\u064d\\u0644\\u0651\\u0645\\u0650\\u0646\\u062a\\u062c\\u0627\\u064d\\u062a \\u0650\\u063a\\u064e\\u064a\\u0652\\u0631\\u0652 \\u064f\\u0627\\u064b\\u0644\\u064b\\u062a\\u0650\\u0642\\u0644\\u064f\\u064a\\u0652\\u062f\\u0650\\u064a\\u0629\\u064d\\u060c\\u064f \\u0650\\u0625\\u0630\\u064b \\u0650\\u062a\\u064d\\u0637\\u064e\\u0644\\u0642 \\u0634\\u0650\\u0631\\u064c\\u0643\\u064f\\u0629\\u064d \\u0652\\u062c\\u0631\\u0651\\u064a\\u0646\\u064c\\u0633\\u0627\\u064e\\u0648\\u0646\\u062f\\u064b \\u062a\\u0650\\u064a\\u0643\\u0652\\u0646\\u0648\\u0651\\u0644\\u0648\\u062c\\u064c\\u064a \\u0650\\u0633\\u0645\\u064c\\u0627\\u0639\\u0627\\u064b\\u062a\\u0652 \\u0632\\u0651\\u062c\\u0627\\u0652\\u062c\\u064e\\u064a\\u0629\\u0652 \\u0644\\u064d\\u0627\\u064e\\u0633\\u0644\\u0643\\u064a\\u0629\\u064c \\u064e\\u062c\\u0651\\u0630\\u0627\\u0628\\u064f\\u0629\\u060c\\u064b \\u0650\\u0641\\u0651\\u064a \\u064c\\u062d\\u064a\\u0646 \\u064f\\u062a\\u064d\\u0642\\u0652\\u062f\\u0651\\u064e\\u0645 \\u0651\\u0645\\u0651\\u064a\\u0652\\u0631\\u0644\\u064a\\u064d\\u0646\\u0650 \\u062f\\u064a\\u062c\\u064a\\u0650\\u062a\\u0627\\u0644 \\u0651\\u0645\\u064c\\u0631\\u064d\\u0643\\u064e\\u0628\\u0629 \\u0651\\u0625\\u0644\\u0643\\u062a\\u064e\\u0631\\u064d\\u0648\\u0646\\u064a\\u0651\\u0629\\u064b \\u064e\\u0630\\u0627\\u062a\\u064a\\u0652\\u0629 \\u0651\\u0627\\u0644\\u062a\\u0648\\u064f\\u0627\\u064d\\u0632\\u0646\\u064d \\u0628\\u064c\\u0639\\u062c\\u0644\\u062a\\u0650\\u064a\\u064c\\u0646 \\u064c\\u0627\\u0650\\u0633\\u0645\\u0647\\u0627 \\u0631\\u0650\\u0648\\u064d\\u0628\\u0648\\u0633\\u064b\\u062a\\u0651\\u064a\\u0628\\u064f \\u0648\\u064e \\u0628\\u064c\\u0644\\u064a\\u064f\\u0648 \\u0648\\u0650\\u0647\\u0652\\u0648\\u0650 \\u0623\\u064e\\u0648\\u0651\\u0644 \\u064d\\u0631\\u0648\\u064f\\u0628\\u0648\\u062a \\u064c\\u0639\\u0644\\u0649\\u0651 \\u064f\\u0647\\u064a\\u0650\\u0626\\u0629 \\u0650\\u062f\\u064a\\u0646\\u0651\\u0627\\u064e\\u0635\\u0648\\u064c\\u0631 \\u064a\\u0645\\u0650\\u0643\\u0646\\u064f \\u0651\\u0627\\u0642\\u064f\\u062a\\u064c\\u0646\\u0627\\u0624\\u0647 \\u064d\\u0643\\u062d\\u064a\\u0651\\u0648\\u0627\\u0652\\u0646\\u064d \\u0652\\u0645\\u0646\\u064b\\u0632\\u0644\\u0652\\u064a\\u064e \\u0623\\u064d\\u0644\\u064a\\u0641 \\u064f.\\u0648\\u0652\\u064a\\u0634\\u064f\\u0627\\u064b\\u0631\\u0643\\u064d \\u0641\\u064a\\u0652 \\u0627\\u0652\\u0644\\u0651\\u0645\\u064e\\u0639\\u0631\\u0651\\u0636 \\u0644\\u0644\\u0645\\u0631\\u0651\\u0629\\u0650 \\u0627\\u064e\\u0644\\u0623\\u064e\\u0648\\u0644\\u064c\\u0649 \\u064b\\u0647\\u0630\\u064d\\u0627 \\u0627\\u0652\\u0644\\u0639\\u0627\\u0645 \\u0643\\u064f\\u0644 \\u0645\\u064b\\u0646 \\u064d\\u0628\\u0648\\u0632\\u0651 \\u0648\\u0641\\u064a\\u064b\\u0631\\u0652\\u062c\\u0646 \\u0651\\u0645\\u064a\\u064b\\u062c\\u0627\\u0633\\u0652\\u062a\\u064f\\u0648\\u064e\\u0631 \\u064e\\u0648\\u0646\\u064b\\u0648\\u064b\\u0643\\u064a\\u0627\\u060c \\u0652\\u0641\\u064c\\u064a\\u064d \\u0652\\u062d\\u064a\\u0646 \\u064d\\u062a\\u0651\\u0639\\u0648\\u0651\\u062f \\u0639\\u0651\\u0644\\u0627\\u0645\\u064e\\u0627\\u062a \\u064c\\u062a\\u062c\\u0627\\u0631\\u064a\\u0629\\u064c \\u0639\\u064c\\u0627\\u0651\\u0644\\u0645\\u0650\\u064a\\u0629\\u064b \\u064c\\u0639\\u0652\\u062f\\u0650\\u0651\\u064c\\u0629 \\u0644\\u0644\\u064f\\u0645\\u0650\\u0634\\u064f\\u0627\\u0631\\u064c\\u0643\\u0629 \\u0641\\u064c\\u064a \\u0627\\u0652\\u0644\\u0650\\u0645\\u0639\\u0631\\u0651\\u0636\\u064d\\u060c \\u0645\\u062b\\u0644\\u0651 \\u064e\\u0625\\u064e\\u062a\\u0634 \\u062a\\u0652\\u064a \\u0650\\u0633\\u064a\\u060c\\u0652 \\u064c\\u0648\\u0625\\u0646\\u0651\\u062a\\u0652\\u0644\\u060c\\u064d \\u0648\\u0628\\u0627\\u0646\\u064c\\u0627\\u0652\\u0633\\u064b\\u0648\\u064e\\u0646\\u064a\\u064c\\u0643\\u060c\\u064d \\u0651\\u0648\\u064f\\u062c\\u064a\\u0647 \\u0641\\u064a \\u0633\\u0651\\u064a\\u0651\\u060c \\u0652\\u0648\\u064f\\u062f\\u064e\\u064a\\u064b\\u0644\\u060c\\u064d \\u0651\\u0648\\u0631\\u0650\\u0645\\u064e \\u0628\\u0651\\u0644\\u064f\\u0627\\u0643 \\u064d\\u0628\\u064a\\u0631\\u064a\\u060c \\u0648\\u0633\\u0651\\u0627\\u0645\\u0633\\u064e\\u0648\\u064c\\u0646\\u062c\\u060c \\u0648\\u064b\\u0633\\u064e\\u0627\\u0646\\u062f\\u064a\\u064c\\u0633\\u0651\\u0643\\u064f\\u060c \\u0651\\u0648\\u064c\\u0643\\u064c\\u0627\\u064b\\u0646\\u0648\\u0646\\u060c \\u0651\\u0648\\u0650\\u0644\\u064a\\u0646\\u0648\\u0641\\u0648\\u060c \\u0648\\u0646\\u0627\\u0652\\u0643\\u064c\\u0627\\u0645\\u0652\\u064a\\u062a\\u064c\\u0634\\u0652\\u064a\\u064b\\u060c \\u0648\\u0647\\u064a\\u0652\\u0648\\u0644\\u064a\\u062a\\u064c \\u0628\\u0627\\u0643\\u0627\\u0631\\u062f\\u0651\\u060c \\u0648\\u0648\\u064e\\u064a\\u064c\\u0633\\u062a\\u064a\\u0631\\u0646\\u064e \\u064b\\u062f\\u0650\\u064a\\u062c\\u064a\\u062a\\u064c\\u0627\\u0650\\u0644 \\u064b.\",\n          \"https://example.com/resource/\\u062f\\u0628\\u064e\\u064a\\u064f:\\u064e \\u00ab\\u064f\\u0627\\u064e\\u0644\\u062e\\u0644\\u064a\\u062c\\u064d\\u00bb \\u0623\\u064e\\u0628\\u0631\\u064d\\u0645\\u0650\\u062a \\u0628\\u0644\\u062f\\u0651\\u064a\\u0629 \\u062f\\u0628\\u0650\\u064a\\u064c \\u0645\\u0639 \\u0628\\u0644\\u062f\\u064d\\u064a\\u064e\\u0629 \\u0631\\u064b\\u0623\\u064f\\u0633\\u0652 \\u064f\\u0627\\u064e\\u0644\\u062e\\u0650\\u064a\\u064e\\u0645\\u0629\\u064f \\u0627\\u064f\\u062a\\u064e\\u0641\\u0627\\u0650\\u0642\\u064e\\u064a\\u0629 \\u064f\\u0645\\u064f\\u0634\\u064c\\u0631\\u0652\\u0648\\u0650\\u0639 \\u064e\\u00ab\\u064e\\u0645\\u0650\\u0643\\u0652\\u0627\\u064c\\u0646\\u064a\\u064d\\u00bb \\u0644\\u064f\\u0644\\u0651\\u0639\\u0646\\u064d\\u0648\\u0646\\u0650\\u0629 \\u0652\\u0627\\u0644\\u064b\\u062c\\u063a\\u0652\\u0631\\u0627\\u0650\\u0641\\u0652\\u064a\\u0629\\u060c \\u0648\\u062c\\u064b\\u0627\\u0621\\u0652 \\u0650\\u0630\\u064e\\u0644\\u064c\\u0643 \\u0639\\u0652\\u0644\\u0650\\u0649\\u0652 \\u0647\\u0627\\u0650\\u0645\\u0634\\u064e \\u064d\\u0641\\u064e\\u0639\\u0627\\u064c\\u0644\\u0651\\u064a\\u0627\\u062a\\u064c \\u0645\\u064b\\u0639\\u0631\\u064c\\u0636 \\u064c\\u00ab\\u062c\\u0650\\u064a\\u062a\\u0643\\u0633\\u00bb\\u0650\\u060c \\u0650\\u0627\\u0644\\u0630\\u0650\\u064a\\u0651 \\u064a\\u0639\\u062f\\u064b \\u0623\\u0651\\u062d\\u062f\\u064e \\u0623\\u0651\\u0643\\u064c\\u0628\\u064b\\u0631\\u064f \\u0627\\u0644\\u064e\\u0641\\u0639\\u064b\\u0627\\u0652\\u0644\\u064a\\u0627\\u064e\\u062a \\u0627\\u064b\\u0644\\u062a\\u0651\\u062c\\u0627\\u0631\\u064f\\u064a\\u0650\\u0629 \\u0648\\u0651\\u0627\\u064f\\u0644\\u064b\\u062a\\u0643\\u0646\\u064d\\u0648\\u0651\\u0644\\u064c\\u0648\\u064e\\u062c\\u064e\\u064a\\u064d\\u0629\\u064d \\u064e\\u0641\\u064a\\u0650 \\u064f\\u0625\\u0645\\u064f\\u0627\\u0631\\u064c\\u0629 \\u064f\\u062f\\u0628\\u064f\\u064a.\\u064e\\u0648\\u0648\\u0642\\u0639\\u064b \\u0639\\u0652\\u0644\\u064e\\u0649\\u0650 \\u064d\\u0627\\u0644\\u0650\\u0627\\u062a\\u0641\\u0627\\u064b\\u0642\\u064a\\u0652\\u0629 \\u064e\\u062d\\u064c\\u0633\\u064a\\u0646\\u064c \\u0646\\u0652\\u0627\\u0635\\u064f\\u0631\\u064c \\u0651\\u0644\\u064e\\u0648\\u062a\\u0651\\u0627\\u0651\\u0647\\u0652 \\u0650\\u0645\\u064b\\u062f\\u064a\\u064d\\u0631\\u064d \\u0639\\u0627\\u064b\\u0645\\u064f \\u064f\\u0628\\u0644\\u0652\\u062f\\u0650\\u064a\\u064b\\u0629\\u0650 \\u064b\\u062f\\u064d\\u0628\\u064a\\u064b\\u060c \\u0648\\u0645\\u0646\\u064e\\u0630\\u064e\\u0631 \\u0645\\u062d\\u064b\\u0645\\u0650\\u062f \\u0627\\u0651\\u0644\\u0632\\u0651\\u0639\\u0627\\u0628\\u064d\\u064a \\u064e\\u0645\\u062f\\u064a\\u0631 \\u0639\\u064b\\u0627\\u0650\\u0645\\u064f \\u0628\\u0644\\u062f\\u064e\\u064a\\u0629\\u064e \\u0631\\u0623\\u0650\\u0633 \\u064d\\u0627\\u0644\\u064c\\u062e\\u064a\\u064f\\u0645\\u0629\\u064c\\u060c\\u0651 \\u0648\\u0652\\u0623\\u0651\\u0643\\u062f \\u0645\\u062f\\u064a\\u064d\\u0631 \\u0639\\u064c\\u0627\\u0645 \\u064c\\u0628\\u064b\\u0644\\u062f\\u064a\\u0629 \\u062f\\u064c\\u0628\\u064f\\u064a \\u064c\\u0623\\u064f\\u0646 \\u0625\\u0651\\u0628\\u0631\\u0627\\u0645\\u0650 \\u0647\\u0651\\u0630\\u0647 \\u064c\\u0627\\u064c\\u0644\\u0650\\u0627\\u064d\\u062a\\u0641\\u0627\\u0642\\u064a\\u0629\\u064e \\u064a\\u0623\\u062a\\u064f\\u064a\\u0652 \\u0627\\u0646\\u064e\\u0637\\u0644\\u064d\\u0627\\u0652\\u0642\\u0650\\u0627\\u064b \\u0645\\u0646 \\u0652\\u062d\\u064e\\u0631\\u0635\\u064f \\u064d\\u0627\\u0652\\u0644\\u0628\\u064d\\u0644\\u062f\\u064a\\u0651\\u0629 \\u0639\\u064e\\u0644\\u064e\\u0649 \\u0652\\u0645\\u062f\\u064f \\u064b\\u062c\\u0651\\u0633\\u0648\\u0631 \\u064f\\u0627\\u0644\\u0645\\u0639\\u064e\\u0631\\u0641\\u0629\\u064b \\u0650\\u0648\\u0650\\u0627\\u0650\\u0644\\u0652\\u062a\\u0639\\u0627\\u064c\\u0648\\u0646\\u064f \\u064f\\u0645\\u0639 \\u064f\\u0627\\u064c\\u0644\\u062c\\u0647\\u0627\\u064e\\u062a\\u0652 \\u064e\\u0627\\u0650\\u0644\\u0650\\u062d\\u0643\\u0648\\u064d\\u0645\\u064c\\u064a\\u0652\\u0629\\u064b \\u064d\\u0641\\u064a\\u064c \\u064d\\u0627\\u0644\\u062f\\u064e\\u0648\\u064b\\u0644\\u064d\\u0629\\u064b \\u064c\\u0641\\u0652\\u064a\\u0651 \\u064f\\u0627\\u0644\\u0645\\u064d\\u062c\\u064e\\u0627\\u0650\\u0644\\u0627\\u062a \\u0643\\u064c\\u0627\\u0650\\u0641\\u0629 \\u064c\\u0630\\u0627\\u0651\\u062a\\u064d \\u0627\\u0644\\u064c\\u0627\\u064f\\u0647\\u0650\\u062a\\u0645\\u0627\\u0645\\u0650 \\u0652\\u0627\\u0652\\u0644\\u064c\\u0645\\u0634\\u064c\\u062a\\u064d\\u0631\\u064f\\u0643\\u060c\\u0652 \\u064f\\u0643\\u0652\\u0645\\u0627 \\u0623\\u064f\\u0634\\u064f\\u0627\\u0631 \\u0645\\u062f\\u064a\\u0652\\u0631 \\u0639\\u064e\\u0627\\u0650\\u0645 \\u064f\\u0628\\u064c\\u0644\\u062f\\u064a\\u064f\\u0629 \\u0631\\u0623\\u0633\\u064d \\u0627\\u0644\\u062e\\u064d\\u064a\\u0645\\u0651\\u0629 \\u0625\\u0644\\u0649\\u064e \\u0631\\u0650\\u063a\\u064c\\u0628\\u064e\\u0629 \\u064e\\u0627\\u064e\\u0644\\u064d\\u0628\\u0644\\u064e\\u062f\\u064f\\u064a\\u0629 \\u064e\\u0641\\u064a \\u064d\\u0627\\u064b\\u0633\\u064c\\u062a\\u062e\\u0650\\u062f\\u0627\\u0645\\u064d \\u0646\\u064b\\u0638\\u0652\\u0627\\u0645\\u064f \\u00ab\\u0651\\u0645\\u0643\\u0650\\u0627\\u0646\\u064a\\u00bb\\u064b \\u0644\\u0644\\u0639\\u0646\\u0650\\u0648\\u0651\\u0646\\u0629 \\u0627\\u064f\\u0644\\u0650\\u062c\\u063a\\u064d\\u0631\\u0627\\u064b\\u0641\\u064d\\u064a\\u064e\\u0629.\\u0650\\u0648\\u064b\\u064a\\u0647\\u062f\\u064e\\u0641 \\u062a\\u0648\\u064f\\u0642\\u064d\\u064a\\u0639 \\u064e\\u0647\\u0652\\u0630\\u0647\\u0650 \\u064c\\u0627\\u0651\\u0644\\u0627\\u062a\\u0641\\u064d\\u0627\\u0642\\u064a\\u0651\\u0629 \\u064f\\u0625\\u0644\\u0652\\u0649\\u0650 \\u064d\\u062a\\u064e\\u062d\\u062f\\u064c\\u064a\\u064b\\u062f \\u064f\\u0646\\u0648\\u0639\\u064d\\u064a\\u0629\\u064b \\u0627\\u0644\\u062e\\u064f\\u062f\\u064d\\u0645\\u064b\\u0627\\u062a\\u0651 \\u0627\\u0644\\u0645\\u062a\\u0639\\u064e\\u0644\\u0651\\u0642\\u064e\\u0629\\u064e \\u064e\\u0628\\u064c\\u0646\\u0638\\u0645 \\u0651\\u0627\\u0644\\u0650\\u0645\\u0639\\u064e\\u0644\\u0648\\u0645\\u064c\\u0627\\u064f\\u062a \\u064b\\u0627\\u0644\\u064f\\u062c\\u0651\\u063a\\u0631\\u064d\\u0627\\u0641\\u064a\\u0650\\u0629\\u064d \\u0651\\u0639\\u064c\\u0646 \\u064b\\u0637\\u0631\\u064f\\u064a\\u0642 \\u0645\\u0646\\u064b\\u062d \\u0628\\u0644\\u062f\\u064e\\u064a\\u064e\\u0629\\u0652 \\u064f\\u062f\\u064b\\u0628\\u064f\\u064a \\u064f\\u0644\\u0628\\u0644\\u064e\\u062f\\u064a\\u064f\\u0629\\u064b \\u0651\\u0631\\u064f\\u0623\\u0633 \\u0651\\u0627\\u064c\\u0644\\u062e\\u064f\\u064a\\u0645\\u0629\\u064f \\u062c\\u064c\\u0645\\u064f\\u064a\\u0639\\u064e \\u0627\\u0644\\u064e\\u0625\\u0645\\u064e\\u0643\\u0652\\u0627\\u0646\\u0627\\u064f\\u062a\\u0650 \\u0652\\u0627\\u064e\\u0644\\u064d\\u0644\\u0627\\u0632\\u0645\\u0629 \\u064c\\u0644\\u062a\\u0637\\u0650\\u0628\\u064a\\u064f\\u0642\\u064f \\u0646\\u0638\\u0627\\u0645\\u064e \\u064f\\u00ab\\u0645\\u0651\\u0643\\u0627\\u0646\\u064a\\u0651\\u00bb\\u064b \\u064c\\u0644\\u0644\\u064c\\u0639\\u0650\\u0646\\u0648\\u0646\\u0629 \\u0627\\u0644\\u0651\\u062c\\u063a\\u064b\\u0631\\u0627\\u0641\\u064a\\u0651\\u0629\\u064c \\u064d\\u0636\\u064c\\u0645\\u0646 \\u0650\\u0627\\u0652\\u0644\\u0627\\u0652\\u062e\\u062a\\u064b\\u0635\\u064e\\u0627\\u064e\\u0635\\u0650 \\u0627\\u0644\\u064b\\u062c\\u064c\\u063a\\u0631\\u0627\\u064f\\u0641\\u064a \\u0644\\u0628\\u064b\\u0644\\u062f\\u064a\\u0629\\u064f \\u0631\\u0650\\u0623\\u0633 \\u0627\\u064d\\u0644\\u062e\\u064a\\u0645\\u0650\\u0629\\u060c\\u0650 \\u0652\\u0643\\u064c\\u0645\\u0627 \\u0633\\u064e\\u062a\\u0642\\u062f\\u0645\\u0650 \\u0628\\u0644\\u0650\\u062f\\u064d\\u064a\\u0651\\u0629\\u0652 \\u0651\\u062f\\u064c\\u0628\\u0652\\u064a\\u064d \\u0650\\u0627\\u064e\\u0644\\u062a\\u062f\\u0652\\u0631\\u064a\\u0628 \\u0627\\u0644\\u0644\\u0627\\u064d\\u0632\\u0645 \\u0648\\u0627\\u064d\\u0644\\u064e\\u0627\\u0650\\u0633\\u062a\\u0634\\u064b\\u0627\\u0650\\u0631\\u0627\\u062a\\u0652 \\u0627\\u0644\\u064c\\u0641\\u0646\\u064a\\u064c\\u0629 \\u064b\\u0627\\u0650\\u0644\\u0645\\u0651\\u062a\\u0639\\u0652\\u0644\\u0642\\u0629\\u064b \\u0628\\u062a\\u064e\\u0637\\u0628\\u064a\\u0642\\u064b \\u064e\\u0646\\u0638\\u064b\\u0627\\u0645 \\u064b\\u00ab\\u064d\\u0645\\u0643\\u064c\\u0627\\u0646\\u064a\\u00bb\\u0650 \\u0644\\u0644\\u0639\\u064e\\u0646\\u0652\\u0648\\u0651\\u0646\\u064b\\u0629 \\u064d\\u0627\\u0644\\u062c\\u063a\\u0631\\u0627\\u064c\\u0641\\u064a\\u0629\\u064c \\u064f\\u0644\\u0652\\u0644\\u0650\\u0645\\u0639\\u064c\\u0646\\u064a\\u0652\\u064a\\u064f\\u0646 \\u0641\\u064a \\u0651\\u0628\\u0644\\u064b\\u062f\\u064f\\u064a\\u0629 \\u0651\\u0631\\u064e\\u0623\\u0633 \\u0627\\u0644\\u0652\\u062e\\u064c\\u064a\\u0645\\u064c\\u0629\\u060c \\u0648\\u0652\\u0633\\u064b\\u062a\\u064e\\u062a\\u0651\\u0648\\u064e\\u0644\\u0649\\u0650 \\u0628\\u064d\\u0644\\u062f\\u064c\\u064a\\u0629 \\u0631\\u064b\\u0623\\u064e\\u0633\\u064c \\u064b\\u0627\\u0650\\u0644\\u064c\\u062e\\u064d\\u064a\\u0650\\u0645\\u064e\\u0629 \\u0645\\u0650\\u0646 \\u0650\\u062c\\u0652\\u0647\\u064f\\u062a\\u0647\\u0627\\u064c \\u064f\\u0645\\u0647\\u064c\\u0645\\u064e\\u0629\\u064d \\u0651\\u062a\\u064d\\u0632\\u0651\\u0648\\u064d\\u064a\\u064c\\u062f\\u0650 \\u0628\\u064e\\u0644\\u062f\\u064a\\u0629\\u064f \\u064d\\u062f\\u0628\\u064a\\u0650 \\u064b\\u0628\\u0652\\u0627\\u0644\\u0628\\u064a\\u064b\\u0627\\u064d\\u0646\\u064d\\u0627\\u0652\\u062a\\u064f \\u064c\\u0627\\u0644\\u0651\\u0645\\u0643\\u0627\\u064e\\u0646\\u064a\\u0629 \\u0627\\u064e\\u0644\\u064f\\u0645\\u064c\\u062d\\u0650\\u062f\\u062b\\u0629\\u064d \\u0644\\u0644\\u064e\\u0645\\u0652\\u0639\\u0627\\u0644\\u0645 \\u0627\\u0644\\u064e\\u062e\\u0650\\u0627\\u0635\\u0629\\u064d \\u0636\\u064b\\u0645\\u064d\\u0646 \\u0627\\u064b\\u0644\\u064b\\u0627\\u064d\\u062e\\u062a\\u0635\\u0627\\u0635 \\u064d\\u0627\\u0644\\u062c\\u0651\\u063a\\u0631\\u0627\\u0641\\u064a\\u0650 \\u0652\\u0644\\u0651\\u0628\\u064b\\u0644\\u062f\\u064d\\u064a\\u0629 \\u0650\\u0631\\u064e\\u0623\\u0633 \\u0627\\u064d\\u0644\\u062e\\u064d\\u064a\\u064c\\u0645\\u0629\\u0652\\u060c \\u064e\\u0644\\u064a\\u062a\\u064e\\u0645 \\u0627\\u0633\\u064b\\u062a\\u062e\\u064d\\u062f\\u0627\\u0645\\u0652\\u0647\\u0652\\u0627 \\u0636\\u0645\\u064f\\u0646\\u064d \\u0650\\u062a\\u0637\\u0651\\u0628\\u064a\\u0642\\u064d \\u0646\\u0638\\u0627\\u0651\\u0645\\u064b \\u00ab\\u0650\\u0645\\u0643\\u0627\\u0646\\u064a\\u00bb \\u064b\\u0644\\u0650\\u0644\\u0639\\u0646\\u064c\\u0648\\u0646\\u064e\\u0629\\u064d \\u0627\\u0650\\u0644\\u062c\\u0652\\u063a\\u0651\\u0631\\u064c\\u0627\\u064d\\u0641\\u064a\\u0629.\\u064d\"\n        ],\n        \"semantic_type\": \"\",\n        \"description\": \"\"\n      }\n    },\n    {\n      \"column\": \"label\",\n      \"properties\": {\n        \"dtype\": \"category\",\n        \"num_unique_values\": 1,\n        \"samples\": [\n          \"Tech\"\n        ],\n        \"semantic_type\": \"\",\n        \"description\": \"\"\n      }\n    }\n  ]\n}"
            }
          },
          "metadata": {},
          "execution_count": 9
        }
      ]
    },
    {
      "cell_type": "code",
      "source": [
        "df.tail()"
      ],
      "metadata": {
        "colab": {
          "base_uri": "https://localhost:8080/",
          "height": 206
        },
        "id": "8bz1ilX0EsaF",
        "outputId": "2a0a2cfe-fd2e-47a1-e149-f4d5ec28d527"
      },
      "execution_count": 10,
      "outputs": [
        {
          "output_type": "execute_result",
          "data": {
            "text/plain": [
              "                                                    text label\n",
              "39880  https://example.com/resource/أعلّنت شّركٌةً بّ...  Tech\n",
              "39881  https://example.com/resource/بُتٍاَرٌيًخَ 28ْ ...  Tech\n",
              "39882  https://example.com/resource/دبَيُ:َ «ُاَلخليج...  Tech\n",
              "39883  https://example.com/resource/LٌG GًS2ْ9ً0 Coْo...  Tech\n",
              "39884  https://example.com/resource/تنطًلقٍ اٌليومّ َ...  Tech"
            ],
            "text/html": [
              "\n",
              "  <div id=\"df-8837dc52-8c29-4007-9e3f-3082cc4c526b\" class=\"colab-df-container\">\n",
              "    <div>\n",
              "<style scoped>\n",
              "    .dataframe tbody tr th:only-of-type {\n",
              "        vertical-align: middle;\n",
              "    }\n",
              "\n",
              "    .dataframe tbody tr th {\n",
              "        vertical-align: top;\n",
              "    }\n",
              "\n",
              "    .dataframe thead th {\n",
              "        text-align: right;\n",
              "    }\n",
              "</style>\n",
              "<table border=\"1\" class=\"dataframe\">\n",
              "  <thead>\n",
              "    <tr style=\"text-align: right;\">\n",
              "      <th></th>\n",
              "      <th>text</th>\n",
              "      <th>label</th>\n",
              "    </tr>\n",
              "  </thead>\n",
              "  <tbody>\n",
              "    <tr>\n",
              "      <th>39880</th>\n",
              "      <td>https://example.com/resource/أعلّنت شّركٌةً بّ...</td>\n",
              "      <td>Tech</td>\n",
              "    </tr>\n",
              "    <tr>\n",
              "      <th>39881</th>\n",
              "      <td>https://example.com/resource/بُتٍاَرٌيًخَ 28ْ ...</td>\n",
              "      <td>Tech</td>\n",
              "    </tr>\n",
              "    <tr>\n",
              "      <th>39882</th>\n",
              "      <td>https://example.com/resource/دبَيُ:َ «ُاَلخليج...</td>\n",
              "      <td>Tech</td>\n",
              "    </tr>\n",
              "    <tr>\n",
              "      <th>39883</th>\n",
              "      <td>https://example.com/resource/LٌG GًS2ْ9ً0 Coْo...</td>\n",
              "      <td>Tech</td>\n",
              "    </tr>\n",
              "    <tr>\n",
              "      <th>39884</th>\n",
              "      <td>https://example.com/resource/تنطًلقٍ اٌليومّ َ...</td>\n",
              "      <td>Tech</td>\n",
              "    </tr>\n",
              "  </tbody>\n",
              "</table>\n",
              "</div>\n",
              "    <div class=\"colab-df-buttons\">\n",
              "\n",
              "  <div class=\"colab-df-container\">\n",
              "    <button class=\"colab-df-convert\" onclick=\"convertToInteractive('df-8837dc52-8c29-4007-9e3f-3082cc4c526b')\"\n",
              "            title=\"Convert this dataframe to an interactive table.\"\n",
              "            style=\"display:none;\">\n",
              "\n",
              "  <svg xmlns=\"http://www.w3.org/2000/svg\" height=\"24px\" viewBox=\"0 -960 960 960\">\n",
              "    <path d=\"M120-120v-720h720v720H120Zm60-500h600v-160H180v160Zm220 220h160v-160H400v160Zm0 220h160v-160H400v160ZM180-400h160v-160H180v160Zm440 0h160v-160H620v160ZM180-180h160v-160H180v160Zm440 0h160v-160H620v160Z\"/>\n",
              "  </svg>\n",
              "    </button>\n",
              "\n",
              "  <style>\n",
              "    .colab-df-container {\n",
              "      display:flex;\n",
              "      gap: 12px;\n",
              "    }\n",
              "\n",
              "    .colab-df-convert {\n",
              "      background-color: #E8F0FE;\n",
              "      border: none;\n",
              "      border-radius: 50%;\n",
              "      cursor: pointer;\n",
              "      display: none;\n",
              "      fill: #1967D2;\n",
              "      height: 32px;\n",
              "      padding: 0 0 0 0;\n",
              "      width: 32px;\n",
              "    }\n",
              "\n",
              "    .colab-df-convert:hover {\n",
              "      background-color: #E2EBFA;\n",
              "      box-shadow: 0px 1px 2px rgba(60, 64, 67, 0.3), 0px 1px 3px 1px rgba(60, 64, 67, 0.15);\n",
              "      fill: #174EA6;\n",
              "    }\n",
              "\n",
              "    .colab-df-buttons div {\n",
              "      margin-bottom: 4px;\n",
              "    }\n",
              "\n",
              "    [theme=dark] .colab-df-convert {\n",
              "      background-color: #3B4455;\n",
              "      fill: #D2E3FC;\n",
              "    }\n",
              "\n",
              "    [theme=dark] .colab-df-convert:hover {\n",
              "      background-color: #434B5C;\n",
              "      box-shadow: 0px 1px 3px 1px rgba(0, 0, 0, 0.15);\n",
              "      filter: drop-shadow(0px 1px 2px rgba(0, 0, 0, 0.3));\n",
              "      fill: #FFFFFF;\n",
              "    }\n",
              "  </style>\n",
              "\n",
              "    <script>\n",
              "      const buttonEl =\n",
              "        document.querySelector('#df-8837dc52-8c29-4007-9e3f-3082cc4c526b button.colab-df-convert');\n",
              "      buttonEl.style.display =\n",
              "        google.colab.kernel.accessAllowed ? 'block' : 'none';\n",
              "\n",
              "      async function convertToInteractive(key) {\n",
              "        const element = document.querySelector('#df-8837dc52-8c29-4007-9e3f-3082cc4c526b');\n",
              "        const dataTable =\n",
              "          await google.colab.kernel.invokeFunction('convertToInteractive',\n",
              "                                                    [key], {});\n",
              "        if (!dataTable) return;\n",
              "\n",
              "        const docLinkHtml = 'Like what you see? Visit the ' +\n",
              "          '<a target=\"_blank\" href=https://colab.research.google.com/notebooks/data_table.ipynb>data table notebook</a>'\n",
              "          + ' to learn more about interactive tables.';\n",
              "        element.innerHTML = '';\n",
              "        dataTable['output_type'] = 'display_data';\n",
              "        await google.colab.output.renderOutput(dataTable, element);\n",
              "        const docLink = document.createElement('div');\n",
              "        docLink.innerHTML = docLinkHtml;\n",
              "        element.appendChild(docLink);\n",
              "      }\n",
              "    </script>\n",
              "  </div>\n",
              "\n",
              "\n",
              "<div id=\"df-b1df7e5e-f4ed-419d-a922-081a325c83c2\">\n",
              "  <button class=\"colab-df-quickchart\" onclick=\"quickchart('df-b1df7e5e-f4ed-419d-a922-081a325c83c2')\"\n",
              "            title=\"Suggest charts\"\n",
              "            style=\"display:none;\">\n",
              "\n",
              "<svg xmlns=\"http://www.w3.org/2000/svg\" height=\"24px\"viewBox=\"0 0 24 24\"\n",
              "     width=\"24px\">\n",
              "    <g>\n",
              "        <path d=\"M19 3H5c-1.1 0-2 .9-2 2v14c0 1.1.9 2 2 2h14c1.1 0 2-.9 2-2V5c0-1.1-.9-2-2-2zM9 17H7v-7h2v7zm4 0h-2V7h2v10zm4 0h-2v-4h2v4z\"/>\n",
              "    </g>\n",
              "</svg>\n",
              "  </button>\n",
              "\n",
              "<style>\n",
              "  .colab-df-quickchart {\n",
              "      --bg-color: #E8F0FE;\n",
              "      --fill-color: #1967D2;\n",
              "      --hover-bg-color: #E2EBFA;\n",
              "      --hover-fill-color: #174EA6;\n",
              "      --disabled-fill-color: #AAA;\n",
              "      --disabled-bg-color: #DDD;\n",
              "  }\n",
              "\n",
              "  [theme=dark] .colab-df-quickchart {\n",
              "      --bg-color: #3B4455;\n",
              "      --fill-color: #D2E3FC;\n",
              "      --hover-bg-color: #434B5C;\n",
              "      --hover-fill-color: #FFFFFF;\n",
              "      --disabled-bg-color: #3B4455;\n",
              "      --disabled-fill-color: #666;\n",
              "  }\n",
              "\n",
              "  .colab-df-quickchart {\n",
              "    background-color: var(--bg-color);\n",
              "    border: none;\n",
              "    border-radius: 50%;\n",
              "    cursor: pointer;\n",
              "    display: none;\n",
              "    fill: var(--fill-color);\n",
              "    height: 32px;\n",
              "    padding: 0;\n",
              "    width: 32px;\n",
              "  }\n",
              "\n",
              "  .colab-df-quickchart:hover {\n",
              "    background-color: var(--hover-bg-color);\n",
              "    box-shadow: 0 1px 2px rgba(60, 64, 67, 0.3), 0 1px 3px 1px rgba(60, 64, 67, 0.15);\n",
              "    fill: var(--button-hover-fill-color);\n",
              "  }\n",
              "\n",
              "  .colab-df-quickchart-complete:disabled,\n",
              "  .colab-df-quickchart-complete:disabled:hover {\n",
              "    background-color: var(--disabled-bg-color);\n",
              "    fill: var(--disabled-fill-color);\n",
              "    box-shadow: none;\n",
              "  }\n",
              "\n",
              "  .colab-df-spinner {\n",
              "    border: 2px solid var(--fill-color);\n",
              "    border-color: transparent;\n",
              "    border-bottom-color: var(--fill-color);\n",
              "    animation:\n",
              "      spin 1s steps(1) infinite;\n",
              "  }\n",
              "\n",
              "  @keyframes spin {\n",
              "    0% {\n",
              "      border-color: transparent;\n",
              "      border-bottom-color: var(--fill-color);\n",
              "      border-left-color: var(--fill-color);\n",
              "    }\n",
              "    20% {\n",
              "      border-color: transparent;\n",
              "      border-left-color: var(--fill-color);\n",
              "      border-top-color: var(--fill-color);\n",
              "    }\n",
              "    30% {\n",
              "      border-color: transparent;\n",
              "      border-left-color: var(--fill-color);\n",
              "      border-top-color: var(--fill-color);\n",
              "      border-right-color: var(--fill-color);\n",
              "    }\n",
              "    40% {\n",
              "      border-color: transparent;\n",
              "      border-right-color: var(--fill-color);\n",
              "      border-top-color: var(--fill-color);\n",
              "    }\n",
              "    60% {\n",
              "      border-color: transparent;\n",
              "      border-right-color: var(--fill-color);\n",
              "    }\n",
              "    80% {\n",
              "      border-color: transparent;\n",
              "      border-right-color: var(--fill-color);\n",
              "      border-bottom-color: var(--fill-color);\n",
              "    }\n",
              "    90% {\n",
              "      border-color: transparent;\n",
              "      border-bottom-color: var(--fill-color);\n",
              "    }\n",
              "  }\n",
              "</style>\n",
              "\n",
              "  <script>\n",
              "    async function quickchart(key) {\n",
              "      const quickchartButtonEl =\n",
              "        document.querySelector('#' + key + ' button');\n",
              "      quickchartButtonEl.disabled = true;  // To prevent multiple clicks.\n",
              "      quickchartButtonEl.classList.add('colab-df-spinner');\n",
              "      try {\n",
              "        const charts = await google.colab.kernel.invokeFunction(\n",
              "            'suggestCharts', [key], {});\n",
              "      } catch (error) {\n",
              "        console.error('Error during call to suggestCharts:', error);\n",
              "      }\n",
              "      quickchartButtonEl.classList.remove('colab-df-spinner');\n",
              "      quickchartButtonEl.classList.add('colab-df-quickchart-complete');\n",
              "    }\n",
              "    (() => {\n",
              "      let quickchartButtonEl =\n",
              "        document.querySelector('#df-b1df7e5e-f4ed-419d-a922-081a325c83c2 button');\n",
              "      quickchartButtonEl.style.display =\n",
              "        google.colab.kernel.accessAllowed ? 'block' : 'none';\n",
              "    })();\n",
              "  </script>\n",
              "</div>\n",
              "\n",
              "    </div>\n",
              "  </div>\n"
            ],
            "application/vnd.google.colaboratory.intrinsic+json": {
              "type": "dataframe",
              "summary": "{\n  \"name\": \"df\",\n  \"rows\": 5,\n  \"fields\": [\n    {\n      \"column\": \"text\",\n      \"properties\": {\n        \"dtype\": \"string\",\n        \"num_unique_values\": 5,\n        \"samples\": [\n          \"https://example.com/resource/\\u0628\\u064f\\u062a\\u064d\\u0627\\u064e\\u0631\\u064c\\u064a\\u064b\\u062e\\u064e 28\\u0652 \\u064f\\u0645\\u0651\\u0627\\u0631\\u0633\\u064d/\\u064d\\u0622\\u0630\\u0627\\u064d\\u0631 \\u0627\\u0644\\u0645\\u0627\\u064b\\u0636\\u0650\\u064a \\u0648\\u0651\\u0628\\u064e\\u064a\\u0651\\u0646 \\u0652\\u0627\\u0644\\u064c\\u0633\\u0651\\u0627\\u0639\\u0629\\u064c \\u0627\\u064f\\u0644\\u0652\\u062b\\u064f\\u0627\\u0645\\u0646\\u0629 \\u0648\\u0650\\u0627\\u0650\\u0644\\u0651\\u0646\\u064e\\u0635\\u0641\\u064c \\u064c\\u0645\\u0651\\u0633\\u0627\\u0621\\u0650 \\u064d\\u0648\\u062d\\u062a\\u064e\\u0649\\u064d \\u0627\\u0644\\u064c\\u062a\\u064b\\u0627\\u0652\\u0633\\u0639\\u0652\\u0629 \\u0648\\u0627\\u064e\\u0644\\u064f\\u0646\\u0652\\u0635\\u0641\\u064b \\u0650\\u0645\\u0633\\u064d\\u0627\\u0621\\u064c\\u060c\\u0652 \\u0633\\u0627\\u0651\\u0647\\u0645 \\u0650\\u0622\\u064e\\u0644\\u0627\\u0650\\u0641 \\u064c\\u0627\\u0644\\u0623\\u064d\\u0634\\u064f\\u062e\\u064b\\u0627\\u0635 \\u0641\\u064c\\u064a \\u064c\\u0627\\u064e\\u0644\\u0652\\u0645\\u064d\\u0646\\u0627\\u064c\\u0632\\u064d\\u0644 \\u0648\\u0627\\u064d\\u0644\\u064c\\u0645\\u0652\\u0643\\u0651\\u0627\\u062a\\u064c\\u0628\\u064c \\u0648\\u064c\\u0627\\u0644\\u064c\\u0634\\u0631\\u0650\\u0643\\u0651\\u0627\\u062a\\u064c \\u064f\\u0641\\u064e\\u064a\\u0652 \\u0645\\u0646\\u0650\\u0637\\u0642\\u064c\\u0629\\u064b \\u0627\\u0644\\u0651\\u0634\\u0652\\u0631\\u0642\\u064d \\u0652\\u0627\\u0644\\u064e\\u0623\\u0648\\u0633\\u064b\\u0637 \\u064c\\u0628\\u0652\\u062f\\u064c\\u0639\\u0652\\u0645 \\u0633\\u0652\\u0627\\u0639\\u0629\\u0652 \\u0652\\u0627\\u0652\\u0644\\u064b\\u0623\\u064f\\u0631\\u0636 200\\u064c9 \\u0651.\\u064e \\u064c\\u0648\\u062a\\u064d\\u0634\\u064f\\u064a\\u0631 \\u0652\\u0627\\u0652\\u0644\\u0652\\u0623\\u0631\\u0642\\u0627\\u0652\\u0645 \\u064c\\u0627\\u0644\\u0631\\u064b\\u0633\\u064d\\u0645\\u064a\\u0629 \\u0651\\u0625\\u0644\\u064f\\u0649 \\u0623\\u0646\\u0647\\u064b \\u064e\\u0641\\u064a \\u0652\\u0625\\u0650\\u0645\\u064d\\u0627\\u0631\\u0651\\u0629\\u064b \\u064c\\u062f\\u064f\\u0628\\u0651\\u064a \\u0648\\u062d\\u062f\\u064d\\u0647\\u064e\\u0627\\u0650 \\u064f\\u062a\\u0645\\u064f \\u064e\\u062a\\u0648\\u0641\\u064a\\u0652\\u0631 \\u0637\\u0652\\u0627\\u064c\\u0642\\u0629\\u064b \\u064d\\u0643\\u064d\\u0647\\u064f\\u0631\\u064c\\u0628\\u064b\\u0627\\u0626\\u0650\\u064a\\u0629\\u064f \\u0648\\u064c\\u0635\\u0650\\u0644\\u062a\\u064e \\u0625\\u0650\\u0644\\u0652\\u0649 \\u06501\\u064e4\\u064b6\\u0651 \\u0623\\u064c\\u0644\\u064f\\u0641 \\u064f\\u0643\\u064a\\u0644\\u0648\\u064d \\u0648\\u0651\\u0627\\u064b\\u0637\\u064e \\u0650\\u0633\\u0627\\u0639\\u064f\\u064a\\u0650 \\u064e\\u062e\\u0644\\u0627\\u064d\\u0644\\u0650 \\u064d\\u0633\\u0650\\u0627\\u0639\\u064c\\u0629 \\u0627\\u0644\\u0650\\u0623\\u0651\\u0631\\u064f\\u0636 \\u0641\\u0650\\u064a\\u064b \\u064c\\u0627\\u0650\\u0644\\u0639\\u0627\\u0645\\u0650 \\u06502\\u06510\\u065009 \\u064d.\\u0648\\u064e\\u0645\\u064f\\u0639 \\u064c\\u062a\\u0648\\u064e\\u0641\\u0631 \\u0634\\u0627\\u0634\\u0629\\u0650 \\u0652\\u0628\\u064c\\u0631\\u0650\\u0627\\u064f\\u0641\\u064e\\u064a\\u0650\\u0627\\u064b \\u064c\\u062f\\u0628\\u0644\\u0650\\u064a\\u0648 \\u0651\\u0625\\u064d\\u064a \\u06505\\u064c \\u0651\\u0623\\u0635\\u064f\\u0628\\u062d\\u064d \\u0628\\u064c\\u0625\\u0645\\u064e\\u0643\\u0627\\u064f\\u0646\\u064f \\u064c\\u0643\\u0644\\u0651 \\u0645\\u0650\\u0646 \\u064a\\u064e\\u0645\\u0644\\u0643 \\u0650\\u0647\\u0630\\u0627 \\u0652\\u0627\\u0644\\u062a\\u064f\\u0644\\u064b\\u0641\\u064b\\u0627\\u064e\\u0632\\u064b \\u064e\\u0623\\u064d\\u0646 \\u0650\\u064a\\u064e\\u0633\\u0627\\u0647\\u0645 \\u064e\\u0628\\u064e\\u0641\\u0639\\u0627\\u064d\\u0644\\u0650\\u064a\\u064f\\u0629 \\u0641\\u064b\\u064a \\u0625\\u062d\\u064e\\u064a\\u0627\\u0621\\u0652 \\u064d\\u0633\\u0627\\u0639\\u064e\\u0629\\u064b \\u064c\\u0627\\u064c\\u0644\\u064c\\u0623\\u064c\\u0631\\u064f\\u0636 \\u0651\\u0648\\u064d\\u0627\\u0644\\u0627\\u064e\\u0646\\u0651\\u0636\\u0645\\u0627\\u064b\\u0645\\u0650 \\u064c\\u0625\\u064b\\u0644\\u064c\\u0649\\u0650 \\u0627\\u0652\\u0644\\u064e\\u062b\\u0648\\u064c\\u0631\\u0629 \\u0627\\u064c\\u0644\\u064d\\u062e\\u0651\\u0636\\u0651\\u0631\\u0627\\u0651\\u0621\\u060c \\u064d\\u0648\\u064f\\u0639\\u064b\\u0646\\u064d\\u062f\\u064b \\u0651\\u0627\\u0645\\u0650\\u062a\\u0644\\u0627\\u0643\\u0643 \\u0652\\u0644\\u0647\\u0630\\u0627\\u064c \\u0627\\u0644\\u062a\\u0644\\u0641\\u0627\\u0632 \\u064c\\u0641\\u0625\\u0646\\u064d\\u0643\\u064f \\u062a\\u064c\\u0633\\u0650\\u0627\\u0647\\u0645\\u064f \\u0641\\u064a\\u0652 \\u064f\\u062a\\u0642\\u0652\\u0644\\u064d\\u064a\\u0644 \\u064e\\u0627\\u0633\\u064e\\u062a\\u064b\\u0647\\u0644\\u064c\\u0627\\u064e\\u0643\\u064c \\u0627\\u064f\\u0644\\u0637\\u0627\\u0642\\u064f\\u0629 \\u064d\\u0627\\u0644\\u064c\\u0643\\u0647\\u0631\\u0628\\u0627\\u064e\\u0626\\u064c\\u064a\\u0629\\u060c \\u064c\\u0648\\u064a\\u0650\\u0646\\u062a\\u062c\\u064c \\u0639\\u064c\\u0646 \\u064f\\u0630\\u0644\\u0650\\u0643\\u064e \\u064e\\u0627\\u064e\\u0644\\u064b\\u062d\\u062f\\u0652 \\u0651\\u0645\\u0646 \\u0627\\u064f\\u0646\\u0628\\u0639\\u064b\\u0627\\u062b\\u064f \\u063a\\u0627\\u0632\\u064c\\u0627\\u064b\\u062a\\u0652 \\u0652\\u0627\\u064e\\u0644\\u0643\\u0631\\u064e\\u0628\\u0648\\u0651\\u0646\\u060c\\u0652 \\u0644\\u062a\\u0650\\u062a\\u0645\\u064d\\u0643\\u0646\\u0651 \\u0645\\u064b\\u0646\\u064f \\u0652\\u0635\\u0646\\u0650\\u0627\\u0639\\u064b\\u0629 \\u064e\\u0627\\u0644\\u0641\\u0651\\u0631\\u0642\\u064d \\u0641\\u064a\\u0651 \\u0643\\u0650\\u0644 \\u0633\\u064c\\u0627\\u064e\\u0639\\u0629\\u064c \\u0645\\u0634\\u0627\\u0647\\u064f\\u062f\\u0629 \\u0644\\u064e\\u0644\\u062a\\u0644\\u064f\\u0641\\u0627\\u064d\\u0632 \\u0651.\\u0648\\u0639\\u0651\\u0646\\u064b\\u062f\\u064e \\u0627\\u0644\\u0650\\u062d\\u0650\\u062f\\u064a\\u062b \\u0650\\u0639\\u0646 \\u064e\\u0627\\u0633\\u064f\\u062a\\u0647\\u0650\\u0644\\u0652\\u0627\\u0643\\u0651 \\u0627\\u0644\\u0637\\u064f\\u0627\\u064d\\u0642\\u0652\\u0629 \\u0627\\u0650\\u0644\\u064f\\u0643\\u0647\\u0631\\u064f\\u0628\\u0627\\u0626\\u064a\\u0629\\u064d \\u0641\\u0625\\u0652\\u0646 \\u0650\\u0644\\u0643\\u064f\\u0644\\u064d \\u0650\\u062b\\u0651\\u0627\\u0652\\u0646\\u064a\\u064b\\u0629\\u064d \\u064c\\u0642\\u064a\\u0645\\u062a\\u0647\\u0627 .\\u064a\\u0650\\u0633\\u064f\\u062a\\u063a\\u0650\\u0631\\u064d\\u0642\\u064f \\u0627\\u0644\\u0631\\u062f\\u0651 \\u0652\\u0639\\u0644\\u064f\\u0649 \\u0645\\u0643\\u0627\\u0644\\u0645\\u064e\\u0629 \\u064e\\u0647\\u0652\\u0627\\u0652\\u062a\\u064c\\u0641\\u064a\\u0650\\u0629 \\u064b\\u0648\\u0633\\u0637\\u064a\\u0627\\u064f\\u064b\\u064f \\u064d\\u062b\\u0652\\u0644\\u0627\\u0650\\u062b\\u064d \\u062f\\u0642\\u0650\\u0627\\u0651\\u0626\\u064d\\u0642\\u060c \\u0648\\u064a\\u064f\\u0633\\u064f\\u062a\\u064d\\u063a\\u0631\\u064b\\u0642\\u064f \\u0627\\u0644\\u0645\\u0652\\u0627\\u0621 \\u0643\\u064e\\u064a\\u064c \\u0650\\u064a\\u063a\\u064d\\u0644\\u064a\\u064d \\u0641\\u064a\\u064f \\u0627\\u0644\\u0650\\u0625\\u0652\\u0628\\u0631\\u064a\\u064e\\u0642\\u064c \\u062d\\u064f\\u0648\\u0627\\u0644\\u064a\\u064f \\u064e5\\u0650 \\u062f\\u0642\\u064c\\u0627\\u064f\\u0626\\u0650\\u0642\\u064b\\u060c \\u0648\\u0627\\u0652\\u0644\\u064b\\u0648\\u0642\\u062a\\u064d \\u0627\\u0644\\u064b\\u0645\\u0633\\u0651\\u062a\\u0647\\u0650\\u0644\\u0650\\u0643 \\u064d\\u0644\\u0652\\u0627\\u064e\\u0633\\u064b\\u062a\\u0644\\u0627\\u064b\\u0645 \\u0648\\u064c\\u062c\\u0652\\u0628\\u064b\\u0629 \\u0627\\u0652\\u0644\\u0628\\u064a\\u064e\\u062a\\u0651\\u0632\\u064d\\u0627\\u064d \\u0652\\u0645\\u0651\\u0646 \\u064d\\u0627\\u0644\\u064e\\u0628\\u0627\\u0651\\u0628\\u064d \\u0648\\u064c\\u0627\\u0644\\u062a\\u064f\\u062d\\u0652\\u0636\\u064b\\u064a\\u0652\\u0631\\u064b \\u0652\\u0644\\u062a\\u064b\\u0646\\u0627\\u064e\\u0648\\u0644\\u0647\\u0627 \\u064c\\u062d\\u064f\\u0648\\u064e\\u0627\\u0651\\u0644\\u064d\\u064a\\u064c \\u064f\\u0639\\u0634\\u064d\\u0631 \\u062f\\u0642\\u064b\\u0627\\u0652\\u0626\\u0642\\u0650 \\u064b- \\u0652\\u0645\\u0639 \\u064b\\u0633\\u0648\\u0652\\u0646\\u064a\\u064b \\u064e\\u0641\\u064c\\u0642\\u0652\\u0637 \\u064c\\u064a\\u0645\\u0643\\u0646\\u0651\\u0643 \\u064d\\u0625\\u064a\\u0642\\u0652\\u0627\\u0641 \\u064b\\u0633\\u0627\\u0652\\u0639\\u064b\\u0627\\u064f\\u062a\\u0651 \\u0627\\u064c\\u0633\\u064f\\u062a\\u0647\\u0644\\u0627\\u064c\\u0643\\u064b \\u0627\\u0652\\u0644\\u064f\\u0628\\u0650\\u064a\\u0650\\u0626\\u064c\\u0629 \\u064b.\\u064e \\u062a\\u064d\\u0644\\u064b\\u0641\\u064d\\u0627\\u0632 \\u0628\\u064f\\u0631\\u0627\\u0641\\u064a\\u0627 \\u062f\\u0628\\u064b\\u0644\\u064a\\u0648\\u0651 \\u0651\\u0625\\u064a \\u064f5 \\u064e\\u0648\\u0643\\u0651\\u0644 \\u0652\\u0623\\u0650\\u062c\\u0647\\u0650\\u0632\\u0629\\u064c \\u062a\\u064d\\u0644\\u0641\\u0627\\u064d\\u0632\\u064d \\u0650\\u0628\\u064f\\u0631\\u0652\\u0627\\u0641\\u064a\\u0627\\u064c \\u0644\\u064f\\u0644\\u0639\\u0627\\u064f\\u0645\\u064f \\u06512009 \\u064f\\u062a\\u0652\\u0642\\u062f\\u0645 \\u062a\\u064b\\u0648\\u0641\\u064a\\u0631\\u0627\\u0651\\u064b\\u0651 \\u0645\\u0644\\u0645\\u064c\\u0648\\u0633\\u0627\\u064b \\u0641\\u064e\\u064a\\u064c \\u0627\\u0633\\u0650\\u062a\\u0647\\u0650\\u0644\\u0627\\u064f\\u0643\\u064d \\u064f\\u0627\\u0644\\u0651\\u0643\\u0650\\u0647\\u064d\\u0631\\u0628\\u0627\\u064f\\u0621\\u064d \\u0645\\u0646 \\u0651\\u062f\\u0648\\u0646\\u0650 \\u064f\\u0627\\u0644\\u0650\\u062a\\u0650\\u0636\\u0652\\u062d\\u0650\\u064a\\u0629\\u064b \\u0651\\u0628\\u062c\\u0650\\u0648\\u062f\\u064f\\u0629\\u064b \\u064b\\u0627\\u0652\\u0644\\u064c\\u0635\\u064e\\u0648\\u0631\\u0629\\u0650 \\u0650\\u0639\\u0627\\u0644\\u064d\\u064a\\u0650\\u0629 \\u0627\\u0644\\u064f\\u0648\\u064c\\u0636\\u064f\\u0648\\u062d\\u064f \\u0650.\\u0651\",\n          \"https://example.com/resource/\\u062a\\u0646\\u0637\\u064b\\u0644\\u0642\\u064d \\u0627\\u064c\\u0644\\u064a\\u0648\\u0645\\u0651 \\u064e\\u0641\\u0651\\u064a\\u064d \\u0645\\u0631\\u0643\\u064e\\u0632\\u064c \\u064d\\u0645\\u0639\\u0627\\u0631\\u0636\\u064f \\u064b\\u0645\\u064f\\u0637\\u0627\\u0631 \\u062f\\u0628\\u064b\\u064a \\u0627\\u064f\\u0644\\u062f\\u0648\\u064e\\u0631\\u0629 \\u0627\\u064d\\u0644\\u064e \\u065021\\u064c \\u0651\\u0644\\u0652\\u0645\\u064e\\u0639\\u0631\\u0636\\u0652 \\u064d\\u062c\\u064e\\u064a\\u062a\\u0650\\u0643\\u064d\\u0633\\u064c \\u0634\\u064d\\u0648\\u0628\\u0631 \\u060c\\u065120\\u064f1\\u064d1 \\u064e\\u0627\\u0644\\u0630\\u0651\\u064a\\u064f \\u064f\\u064a\\u064b\\u0648\\u0627\\u064b\\u0635\\u0650\\u0644\\u064e \\u0627\\u0633\\u064e\\u062a\\u064b\\u0642\\u0628\\u0627\\u0651\\u0644 \\u064f\\u0627\\u0652\\u0644\\u064f\\u0645\\u064d\\u062a\\u064e\\u0633\\u064d\\u0648\\u0642\\u064a\\u0646\\u0652 \\u0645\\u064d\\u0646\\u064b \\u064b\\u0627\\u064b\\u0644\\u062f\\u0648\\u0644\\u0629 \\u0648\\u0651\\u062f\\u064d\\u0648\\u064d\\u0644\\u064b \\u064f\\u0645\\u062c\\u0644\\u0633\\u064f \\u064e\\u0627\\u0644\\u064c\\u062a\\u064e\\u0639\\u0627\\u0648\\u064d\\u0646\\u0652 \\u064f\\u0648\\u0627\\u0644\\u0645\\u064d\\u0646\\u064c\\u0637\\u064e\\u0642\\u0629\\u064b \\u0650\\u062d\\u062a\\u0651\\u0649 \\u0627\\u0650\\u0644\\u0652\\u0633\\u0628\\u062a\\u0651 \\u064f\\u0627\\u0644\\u0645\\u0642\\u0628\\u0644\\u0652 \\u064b1\\u06525\\u0652 \\u0652\\u0623\\u064e\\u0643\\u062a\\u064b\\u0648\\u0628\\u064b\\u0631\\u0652 \\u064f\\u0627\\u0644\\u062c\\u0627\\u0631\\u064a\\u0651 \\u0652\\u0648\\u0633\\u0637 \\u0645\\u0650\\u0646\\u0651\\u0627\\u064b\\u0641\\u0633\\u0629\\u064d \\u0642\\u0650\\u0648\\u064a\\u0629 \\u0645\\u0646\\u064f \\u0646\\u064b\\u062d\\u0648 \\u0651100 \\u064f\\u0634\\u0631\\u064d\\u0643\\u064d\\u0629\\u0652 \\u0650\\u0645\\u062a\\u0650\\u062e\\u0651\\u0635\\u0635\\u0651\\u0629 \\u064b\\u0641\\u064a \\u0645\\u0628\\u064b\\u064a\\u0639\\u0627\\u062a \\u0625\\u064f\\u0644\\u0643\\u064c\\u062a\\u0631\\u0651\\u0648\\u064c\\u0646\\u0652\\u064a\\u0627\\u064f\\u062a \\u064d\\u0627\\u0650\\u0644\\u062a\\u062c\\u0632\\u0650\\u0626\\u064b\\u0629\\u064e \\u0648\\u064e\\u0627\\u0652\\u0644\\u0652\\u0630\\u064d\\u064a\\u064e\\u0646 \\u064a\\u0633\\u064c\\u062a\\u0647\\u062f\\u064e\\u0641\\u064c\\u0648\\u0646\\u064b \\u064b\\u062a\\u062d\\u0651\\u0642\\u064f\\u064a\\u0642 \\u0646\\u064f\\u0633\\u0651\\u0628 \\u064d\\u0646\\u0645\\u064b\\u0648\\u0652 \\u0644\\u0651\\u0645\\u0628\\u064f\\u064a\\u064b\\u0639\\u0627\\u062a\\u0647\\u0645\\u0652 \\u064e\\u062a\\u062a\\u0631\\u064d\\u0627\\u0648\\u064b\\u062d \\u0651\\u0628\\u064a\\u064e\\u0646\\u064d \\u06501\\u06525 \\u064d\\u0648\\u064b25\\u064d \\u064f%\\u0650\\u060c\\u064b \\u064f\\u062d\\u0633\\u0628 \\u0625\\u0641\\u0627\\u064c\\u062f\\u062a\\u0647\\u0645\\u064e \\u0644\\u064c\\u0627\\u064e\\u0644\\u062e\\u0650\\u0644\\u064c\\u064a\\u064e\\u062c .\\u0652\\u0648\\u062a\\u0652\\u062a\\u064f\\u0646\\u064e\\u0627\\u0651\\u0641\\u064e\\u0633 \\u064f\\u0627\\u0650\\u0644\\u0634\\u0651\\u0631\\u0643\\u064e\\u0627\\u062a \\u064e\\u0627\\u0644\\u064d\\u0639\\u064d\\u0627\\u064b\\u0631\\u064b\\u0636\\u0652\\u0629 \\u0650\\u0644\\u064c\\u0623\\u0650\\u0643\\u064f\\u062b\\u0650\\u0631\\u0652 \\u0645\\u0651\\u0646\\u0652 \\u064d25 \\u0652\\u0623\\u0644\\u064d\\u0641 \\u0645\\u064b\\u0646\\u062a\\u0650\\u062c \\u0628\\u0651\\u0627\\u0644\\u064d\\u0625\\u0636\\u064c\\u0627\\u0641\\u0629\\u064f \\u064d\\u0625\\u064f\\u0644\\u0649 \\u064e\\u0634\\u064d\\u0631\\u0651\\u0643\\u064e\\u0627\\u064d\\u062a \\u0623\\u062e\\u0631\\u064c\\u0649 \\u0652\\u0645\\u0652\\u062a\\u0650\\u062e\\u064e\\u0635\\u0635\\u064d\\u0629 \\u064f\\u0641\\u064b\\u064a\\u064e \\u0628\\u064a\\u0639 \\u064b\\u0627\\u0650\\u0644\\u0623\\u0633\\u0652\\u0637\\u0648\\u0627\\u064c\\u0646\\u0652\\u0627\\u0651\\u062a\\u064b \\u064c\\u0648\\u0650\\u0627\\u0644\\u064f\\u0628\\u0652\\u0631\\u0650\\u0627\\u064c\\u0645\\u0650\\u062c \\u0627\\u064e\\u0644\\u064e\\u062a\\u0639\\u0644\\u064a\\u0645\\u064c\\u064a\\u0629 \\u0628\\u0651\\u0627\\u0650\\u0644\\u064b\\u0625\\u0636\\u0627\\u0641\\u0629\\u064d \\u0625\\u0644\\u0651\\u0649\\u064e \\u0627\\u064b\\u0644\\u064b\\u0639\\u062f\\u064a\\u0650\\u062f\\u064c \\u0650\\u0645\\u0646 \\u0627\\u064f\\u0644\\u062e\\u064d\\u062f\\u064b\\u0645\\u0627\\u062a\\u064b \\u0627\\u064e\\u0644\\u0623\\u062e\\u0631\\u0649\\u064c\\u060c\\u0651 \\u0648\\u064c\\u062a\\u064b\\u0633\\u064b\\u062a\\u062d\\u0648\\u064f\\u0630\\u064b \\u064d\\u0639\\u0631\\u0648\\u0636 \\u0651\\u0634\\u0631\\u064e\\u0643\\u0650\\u0627\\u062a\\u0651 \\u0627\\u062a\\u0635\\u0651\\u0627\\u0644\\u0650\\u0627\\u064d\\u062a \\u064d\\u0648\\u062f\\u0648 \\u0644\\u064b\\u0628\\u064a\\u0639\\u064e \\u064f\\u0627\\u0644\\u064d\\u0647\\u0648\\u0627\\u062a\\u0650\\u0641\\u064d \\u064e\\u0627\\u064e\\u0644\\u064d\\u0645\\u062d\\u0645\\u0648\\u0644\\u0629\\u064d \\u064d\\u0648\\u064b\\u0641\\u0651\\u0642 \\u0652\\u0639\\u064e\\u0631\\u0650\\u0648\\u0636\\u064f\\u0647\\u0627 \\u0627\\u0652\\u0644\\u0651\\u062e\\u0627\\u0635\\u0652\\u0629 \\u064f\\u0628\\u0627\\u0652\\u0644\\u0625\\u0651\\u0636\\u0627\\u0652\\u0641\\u064b\\u0629 \\u0652\\u0625\\u064c\\u0644\\u064f\\u0649\\u064e \\u0623\\u0650\\u062c\\u0647\\u0632\\u0629\\u0650 \\u0627\\u0652\\u0644\\u0643\\u064e\\u0645\\u064d\\u0628\\u0651\\u064a\\u0648\\u062a\\u064f\\u0631\\u064d \\u0627\\u064f\\u0644\\u064b\\u0645\\u062d\\u0652\\u0645\\u064e\\u0648\\u064e\\u0644\\u064e \\u0648\\u064e\\u0627\\u064b\\u0644\\u064b\\u0623\\u064e\\u062c\\u0647\\u0632\\u0652\\u0629\\u064b \\u0627\\u0644\\u0644\\u0648\\u064f\\u062d\\u064a\\u064d\\u0629 \\u0648\\u064f\\u0627\\u064d\\u0644\\u064f\\u0647\\u064b\\u0648\\u0627\\u064f\\u062a\\u0641 \\u0651\\u0627\\u0644\\u0645\\u0650\\u062d\\u064e\\u0645\\u0648\\u0644\\u0629 \\u0651\\u0648\\u064c\\u0627\\u064b\\u0644\\u064c\\u0643\\u0627\\u0651\\u0645\\u064f\\u064a\\u0650\\u0631\\u0627\\u0651\\u062a\\u0652 \\u0628\\u064e\\u0623\\u064f\\u0646\\u0648\\u0627\\u0639\\u0647\\u064b\\u0627\\u0650 \\u064e\\u0639\\u0644\\u064d\\u0649 \\u064b\\u0627\\u0650\\u0647\\u062a\\u0652\\u0645\\u0627\\u064d\\u0645\\u064c \\u064b\\u0627\\u0652\\u0644\\u064d\\u063a\\u0651\\u0627\\u064e\\u0644\\u064b\\u0628\\u064a\\u0652\\u0629\\u0650 \\u0627\\u0644\\u064f\\u0639\\u0638\\u0650\\u0645\\u064d\\u0649 \\u0645\\u0646\\u0652 \\u064e\\u0632\\u0648\\u0627\\u0631\\u064c \\u0627\\u0652\\u0644\\u064c\\u0645\\u064f\\u0639\\u064e\\u0631\\u0636 \\u064d\\u0627\\u0644\\u0651\\u0630\\u0650\\u064a\\u0646\\u0651 \\u0650\\u064a\\u062a\\u064e\\u0648\\u064d\\u0642\\u064e\\u0639\\u064c \\u064b\\u0623\\u064c\\u0646 \\u064d\\u064a\\u0632\\u064a\\u064c\\u062f\\u064d \\u064f\\u0639\\u0651\\u062f\\u064f\\u062f\\u0651\\u0647\\u0645 \\u0650\\u0639\\u0651\\u0644\\u0650\\u0649 1\\u065260\\u0650 \\u0623\\u064f\\u0644\\u0652\\u0641\\u0651 \\u0632\\u064f\\u0627\\u0626\\u0631 \\u0650\\u0627\\u064e\\u0644\\u0639\\u0627\\u064c\\u0645 \\u064c\\u0627\\u064e\\u0644\\u0645\\u0652\\u0627\\u0651\\u0636\\u064a \\u064d.\\u0648\\u064c\\u064a\\u0642\\u0651\\u062f\\u064e\\u0645\\u0652 \\u0623\\u0651\\u0628\\u0652\\u0631\\u064c\\u0632\\u064e \\u0652\\u0627\\u0644\\u064f\\u0645\\u0648\\u064e\\u0632\\u0651\\u0639\\u064a\\u0650\\u0646 \\u064f\\u0627\\u0652\\u0644\\u0650\\u0625\\u064d\\u0642\\u0644\\u0650\\u064a\\u0645\\u0652\\u064a\\u0652\\u064a\\u0652\\u0646 \\u0648\\u0652\\u0634\\u0631\\u0643\\u0651\\u0627\\u064f\\u062a\\u064c \\u064e\\u0627\\u0650\\u0644\\u0628\\u064a\\u0639\\u0651 \\u064b\\u0628\\u0627\\u0644\\u062a\\u0651\\u062c\\u064e\\u0632\\u064b\\u0626\\u0629 \\u0648\\u0639\\u0644\\u0649 \\u0631\\u0623\\u0650\\u0633\\u0647\\u064e\\u0627\\u0650 \\u0634\\u0631\\u0641 \\u064e\\u062f\\u064a \\u064e\\u062c\\u064a\\u064c \\u064d\\u0648\\u064c\\u0628\\u064c\\u0644\\u0651\\u062c\\u064d-\\u064b \\u0652\\u0625\\u0646\\u0633 \\u064c\\u0648\\u062c\\u064f\\u0627\\u0643\\u0650\\u064a\\u0632 \\u064e\\u0625\\u064e\\u0644\\u064d\\u0643\\u0650\\u062a\\u0631\\u0648\\u064b\\u0646\\u064a\\u0652\\u0643\\u064c\\u0633\\u0651\\u060c \\u0648\\u062c\\u0645\\u064f\\u0628\\u0648 \\u0625\\u064e\\u0644\\u0643\\u062a\\u0631\\u064b\\u0648\\u0650\\u0646\\u0651\\u064a\\u064d\\u0643\\u0633\\u064b \\u0652\\u0648\\u064e\\u0622\\u0651\\u064a\\u0652 \\u064f\\u0633\\u062a\\u0650\\u0627\\u0652\\u064a\\u0644\\u060c\\u064b \\u064e\\u0648\\u064b\\u0625\\u0651\\u064a- \\u0633\\u064a\\u062a\\u064f\\u064a\\u060c \\u0648\\u064b\\u0643\\u0648\\u0645\\u0628\\u0650\\u064a\\u064d\\u0648 \\u0645\\u064d\\u064a\\u064e \\u0648\\u0651\\u0625\\u0650\\u064a \\u0641\\u0651\\u0648\\u0631\\u0650 \\u064a\\u0648\\u0651\\u060c\\u064c \\u0648\\u0625\\u064b\\u064a \\u0650\\u0645\\u064e\\u0627\\u0643\\u0651\\u0633\\u064c\\u060c \\u0648\\u062a\\u064f\\u062a\\u064d\\u0634 \\u0645\\u0650\\u0627\\u064a\\u0651\\u062a\\u0651\\u060c \\u062a\\u064d\\u062e\\u064f\\u0641\\u0652\\u064a\\u064d\\u0636\\u0652\\u0627\\u064f\\u062a \\u0641\\u064a\\u0651 \\u0623\\u0633\\u064c\\u0639\\u0652\\u0627\\u0631 \\u064c\\u0628\\u0639\\u064f\\u0636 \\u0627\\u0644\\u064b\\u0645\\u064f\\u0646\\u064e\\u062a\\u062c\\u0627\\u062a \\u0648\\u0645\\u0646\\u062a\\u062c\\u0650\\u0627\\u064e\\u062a \\u0645\\u0651\\u062c\\u0627\\u0646\\u064a\\u0629\\u064b \\u0639\\u0644\\u064d\\u0649\\u0650 \\u064f\\u0634\\u0651\\u0631\\u064c\\u0627\\u064e\\u0621\\u064e \\u064f\\u0628\\u0639\\u0636 \\u0627\\u0644\\u0645\\u0646\\u062a\\u064b\\u062c\\u0627\\u064e\\u062a\\u064f \\u064f\\u0627\\u064f\\u0644\\u0623\\u0651\\u062e\\u0631\\u0649 \\u0652.\\u0648\\u0650\\u0628\\u0627\\u064e\\u0644\\u0650\\u0625\\u0636\\u0627\\u0641\\u064d\\u0629\\u064d \\u064d\\u0625\\u0644\\u0649\\u0650 \\u0650\\u0627\\u064e\\u0644\\u064e\\u0645\\u0646\\u062a\\u064b\\u062c\\u064f\\u0627\\u0651\\u062a \\u0627\\u0644\\u0625\\u0650\\u0644\\u0643\\u064f\\u062a\\u0631\\u064f\\u0648\\u0646\\u0650\\u064a\\u064d\\u0629\\u0650 \\u0627\\u0644\\u062a\\u064a \\u0650\\u0633\\u064e\\u064a\\u064d\\u062a\\u0651\\u0645 \\u064f\\u0639\\u0651\\u0631\\u0652\\u0636\\u064f\\u0647\\u0627\\u064c \\u0651\\u0643\\u064f\\u0627\\u064d\\u0644\\u0623\\u062c\\u0647\\u0632\\u0629\\u0652 \\u0627\\u0652\\u0644\\u064d\\u0644\\u0650\\u0648\\u064c\\u062d\\u0652\\u064a\\u0629\\u0650 \\u0648\\u0627\\u0650\\u0644\\u062a\\u064e\\u0644\\u0641\\u0632\\u064d\\u064a\\u064c\\u0648\\u0652\\u0646\\u064c\\u0627\\u062a\\u0650 \\u0650\\u0648\\u0623\\u0651\\u062c\\u064f\\u0647\\u0652\\u0632\\u064c\\u0629 \\u064f\\u0627\\u0644\\u062d\\u0627\\u0651\\u0633\\u064f\\u0648\\u0628 \\u0627\\u064c\\u0644\\u0645\\u064b\\u062d\\u064b\\u0645\\u0648\\u064f\\u0644\\u0629\\u064f \\u064e\\u0648\\u064c\\u0627\\u0644\\u0650\\u0647\\u0648\\u064e\\u0627\\u0652\\u062a\\u0641\\u064c \\u0627\\u064f\\u0644\\u0630\\u0650\\u0643\\u064a\\u0629\\u064d \\u064e\\u0648\\u0650\\u063a\\u064a\\u0652\\u0631\\u0651\\u0647\\u064f\\u0627\\u064e\\u060c\\u064f \\u064b\\u0641\\u064b\\u0633\\u064d\\u064a\\u0650\\u062a\\u0645\\u064c \\u0639\\u0631\\u064d\\u0636\\u064b \\u064e\\u0645\\u062c\\u064e\\u0645\\u064c\\u0648\\u064d\\u0639\\u0629 \\u0645\\u0646\\u064d \\u0652\\u0627\\u064d\\u0644\\u0651\\u0645\\u0650\\u0646\\u062a\\u062c\\u0627\\u064d\\u062a \\u0650\\u063a\\u064e\\u064a\\u0652\\u0631\\u0652 \\u064f\\u0627\\u064b\\u0644\\u064b\\u062a\\u0650\\u0642\\u0644\\u064f\\u064a\\u0652\\u062f\\u0650\\u064a\\u0629\\u064d\\u060c\\u064f \\u0650\\u0625\\u0630\\u064b \\u0650\\u062a\\u064d\\u0637\\u064e\\u0644\\u0642 \\u0634\\u0650\\u0631\\u064c\\u0643\\u064f\\u0629\\u064d \\u0652\\u062c\\u0631\\u0651\\u064a\\u0646\\u064c\\u0633\\u0627\\u064e\\u0648\\u0646\\u062f\\u064b \\u062a\\u0650\\u064a\\u0643\\u0652\\u0646\\u0648\\u0651\\u0644\\u0648\\u062c\\u064c\\u064a \\u0650\\u0633\\u0645\\u064c\\u0627\\u0639\\u0627\\u064b\\u062a\\u0652 \\u0632\\u0651\\u062c\\u0627\\u0652\\u062c\\u064e\\u064a\\u0629\\u0652 \\u0644\\u064d\\u0627\\u064e\\u0633\\u0644\\u0643\\u064a\\u0629\\u064c \\u064e\\u062c\\u0651\\u0630\\u0627\\u0628\\u064f\\u0629\\u060c\\u064b \\u0650\\u0641\\u0651\\u064a \\u064c\\u062d\\u064a\\u0646 \\u064f\\u062a\\u064d\\u0642\\u0652\\u062f\\u0651\\u064e\\u0645 \\u0651\\u0645\\u0651\\u064a\\u0652\\u0631\\u0644\\u064a\\u064d\\u0646\\u0650 \\u062f\\u064a\\u062c\\u064a\\u0650\\u062a\\u0627\\u0644 \\u0651\\u0645\\u064c\\u0631\\u064d\\u0643\\u064e\\u0628\\u0629 \\u0651\\u0625\\u0644\\u0643\\u062a\\u064e\\u0631\\u064d\\u0648\\u0646\\u064a\\u0651\\u0629\\u064b \\u064e\\u0630\\u0627\\u062a\\u064a\\u0652\\u0629 \\u0651\\u0627\\u0644\\u062a\\u0648\\u064f\\u0627\\u064d\\u0632\\u0646\\u064d \\u0628\\u064c\\u0639\\u062c\\u0644\\u062a\\u0650\\u064a\\u064c\\u0646 \\u064c\\u0627\\u0650\\u0633\\u0645\\u0647\\u0627 \\u0631\\u0650\\u0648\\u064d\\u0628\\u0648\\u0633\\u064b\\u062a\\u0651\\u064a\\u0628\\u064f \\u0648\\u064e \\u0628\\u064c\\u0644\\u064a\\u064f\\u0648 \\u0648\\u0650\\u0647\\u0652\\u0648\\u0650 \\u0623\\u064e\\u0648\\u0651\\u0644 \\u064d\\u0631\\u0648\\u064f\\u0628\\u0648\\u062a \\u064c\\u0639\\u0644\\u0649\\u0651 \\u064f\\u0647\\u064a\\u0650\\u0626\\u0629 \\u0650\\u062f\\u064a\\u0646\\u0651\\u0627\\u064e\\u0635\\u0648\\u064c\\u0631 \\u064a\\u0645\\u0650\\u0643\\u0646\\u064f \\u0651\\u0627\\u0642\\u064f\\u062a\\u064c\\u0646\\u0627\\u0624\\u0647 \\u064d\\u0643\\u062d\\u064a\\u0651\\u0648\\u0627\\u0652\\u0646\\u064d \\u0652\\u0645\\u0646\\u064b\\u0632\\u0644\\u0652\\u064a\\u064e \\u0623\\u064d\\u0644\\u064a\\u0641 \\u064f.\\u0648\\u0652\\u064a\\u0634\\u064f\\u0627\\u064b\\u0631\\u0643\\u064d \\u0641\\u064a\\u0652 \\u0627\\u0652\\u0644\\u0651\\u0645\\u064e\\u0639\\u0631\\u0651\\u0636 \\u0644\\u0644\\u0645\\u0631\\u0651\\u0629\\u0650 \\u0627\\u064e\\u0644\\u0623\\u064e\\u0648\\u0644\\u064c\\u0649 \\u064b\\u0647\\u0630\\u064d\\u0627 \\u0627\\u0652\\u0644\\u0639\\u0627\\u0645 \\u0643\\u064f\\u0644 \\u0645\\u064b\\u0646 \\u064d\\u0628\\u0648\\u0632\\u0651 \\u0648\\u0641\\u064a\\u064b\\u0631\\u0652\\u062c\\u0646 \\u0651\\u0645\\u064a\\u064b\\u062c\\u0627\\u0633\\u0652\\u062a\\u064f\\u0648\\u064e\\u0631 \\u064e\\u0648\\u0646\\u064b\\u0648\\u064b\\u0643\\u064a\\u0627\\u060c \\u0652\\u0641\\u064c\\u064a\\u064d \\u0652\\u062d\\u064a\\u0646 \\u064d\\u062a\\u0651\\u0639\\u0648\\u0651\\u062f \\u0639\\u0651\\u0644\\u0627\\u0645\\u064e\\u0627\\u062a \\u064c\\u062a\\u062c\\u0627\\u0631\\u064a\\u0629\\u064c \\u0639\\u064c\\u0627\\u0651\\u0644\\u0645\\u0650\\u064a\\u0629\\u064b \\u064c\\u0639\\u0652\\u062f\\u0650\\u0651\\u064c\\u0629 \\u0644\\u0644\\u064f\\u0645\\u0650\\u0634\\u064f\\u0627\\u0631\\u064c\\u0643\\u0629 \\u0641\\u064c\\u064a \\u0627\\u0652\\u0644\\u0650\\u0645\\u0639\\u0631\\u0651\\u0636\\u064d\\u060c \\u0645\\u062b\\u0644\\u0651 \\u064e\\u0625\\u064e\\u062a\\u0634 \\u062a\\u0652\\u064a \\u0650\\u0633\\u064a\\u060c\\u0652 \\u064c\\u0648\\u0625\\u0646\\u0651\\u062a\\u0652\\u0644\\u060c\\u064d \\u0648\\u0628\\u0627\\u0646\\u064c\\u0627\\u0652\\u0633\\u064b\\u0648\\u064e\\u0646\\u064a\\u064c\\u0643\\u060c\\u064d \\u0651\\u0648\\u064f\\u062c\\u064a\\u0647 \\u0641\\u064a \\u0633\\u0651\\u064a\\u0651\\u060c \\u0652\\u0648\\u064f\\u062f\\u064e\\u064a\\u064b\\u0644\\u060c\\u064d \\u0651\\u0648\\u0631\\u0650\\u0645\\u064e \\u0628\\u0651\\u0644\\u064f\\u0627\\u0643 \\u064d\\u0628\\u064a\\u0631\\u064a\\u060c \\u0648\\u0633\\u0651\\u0627\\u0645\\u0633\\u064e\\u0648\\u064c\\u0646\\u062c\\u060c \\u0648\\u064b\\u0633\\u064e\\u0627\\u0646\\u062f\\u064a\\u064c\\u0633\\u0651\\u0643\\u064f\\u060c \\u0651\\u0648\\u064c\\u0643\\u064c\\u0627\\u064b\\u0646\\u0648\\u0646\\u060c \\u0651\\u0648\\u0650\\u0644\\u064a\\u0646\\u0648\\u0641\\u0648\\u060c \\u0648\\u0646\\u0627\\u0652\\u0643\\u064c\\u0627\\u0645\\u0652\\u064a\\u062a\\u064c\\u0634\\u0652\\u064a\\u064b\\u060c \\u0648\\u0647\\u064a\\u0652\\u0648\\u0644\\u064a\\u062a\\u064c \\u0628\\u0627\\u0643\\u0627\\u0631\\u062f\\u0651\\u060c \\u0648\\u0648\\u064e\\u064a\\u064c\\u0633\\u062a\\u064a\\u0631\\u0646\\u064e \\u064b\\u062f\\u0650\\u064a\\u062c\\u064a\\u062a\\u064c\\u0627\\u0650\\u0644 \\u064b.\",\n          \"https://example.com/resource/\\u062f\\u0628\\u064e\\u064a\\u064f:\\u064e \\u00ab\\u064f\\u0627\\u064e\\u0644\\u062e\\u0644\\u064a\\u062c\\u064d\\u00bb \\u0623\\u064e\\u0628\\u0631\\u064d\\u0645\\u0650\\u062a \\u0628\\u0644\\u062f\\u0651\\u064a\\u0629 \\u062f\\u0628\\u0650\\u064a\\u064c \\u0645\\u0639 \\u0628\\u0644\\u062f\\u064d\\u064a\\u064e\\u0629 \\u0631\\u064b\\u0623\\u064f\\u0633\\u0652 \\u064f\\u0627\\u064e\\u0644\\u062e\\u0650\\u064a\\u064e\\u0645\\u0629\\u064f \\u0627\\u064f\\u062a\\u064e\\u0641\\u0627\\u0650\\u0642\\u064e\\u064a\\u0629 \\u064f\\u0645\\u064f\\u0634\\u064c\\u0631\\u0652\\u0648\\u0650\\u0639 \\u064e\\u00ab\\u064e\\u0645\\u0650\\u0643\\u0652\\u0627\\u064c\\u0646\\u064a\\u064d\\u00bb \\u0644\\u064f\\u0644\\u0651\\u0639\\u0646\\u064d\\u0648\\u0646\\u0650\\u0629 \\u0652\\u0627\\u0644\\u064b\\u062c\\u063a\\u0652\\u0631\\u0627\\u0650\\u0641\\u0652\\u064a\\u0629\\u060c \\u0648\\u062c\\u064b\\u0627\\u0621\\u0652 \\u0650\\u0630\\u064e\\u0644\\u064c\\u0643 \\u0639\\u0652\\u0644\\u0650\\u0649\\u0652 \\u0647\\u0627\\u0650\\u0645\\u0634\\u064e \\u064d\\u0641\\u064e\\u0639\\u0627\\u064c\\u0644\\u0651\\u064a\\u0627\\u062a\\u064c \\u0645\\u064b\\u0639\\u0631\\u064c\\u0636 \\u064c\\u00ab\\u062c\\u0650\\u064a\\u062a\\u0643\\u0633\\u00bb\\u0650\\u060c \\u0650\\u0627\\u0644\\u0630\\u0650\\u064a\\u0651 \\u064a\\u0639\\u062f\\u064b \\u0623\\u0651\\u062d\\u062f\\u064e \\u0623\\u0651\\u0643\\u064c\\u0628\\u064b\\u0631\\u064f \\u0627\\u0644\\u064e\\u0641\\u0639\\u064b\\u0627\\u0652\\u0644\\u064a\\u0627\\u064e\\u062a \\u0627\\u064b\\u0644\\u062a\\u0651\\u062c\\u0627\\u0631\\u064f\\u064a\\u0650\\u0629 \\u0648\\u0651\\u0627\\u064f\\u0644\\u064b\\u062a\\u0643\\u0646\\u064d\\u0648\\u0651\\u0644\\u064c\\u0648\\u064e\\u062c\\u064e\\u064a\\u064d\\u0629\\u064d \\u064e\\u0641\\u064a\\u0650 \\u064f\\u0625\\u0645\\u064f\\u0627\\u0631\\u064c\\u0629 \\u064f\\u062f\\u0628\\u064f\\u064a.\\u064e\\u0648\\u0648\\u0642\\u0639\\u064b \\u0639\\u0652\\u0644\\u064e\\u0649\\u0650 \\u064d\\u0627\\u0644\\u0650\\u0627\\u062a\\u0641\\u0627\\u064b\\u0642\\u064a\\u0652\\u0629 \\u064e\\u062d\\u064c\\u0633\\u064a\\u0646\\u064c \\u0646\\u0652\\u0627\\u0635\\u064f\\u0631\\u064c \\u0651\\u0644\\u064e\\u0648\\u062a\\u0651\\u0627\\u0651\\u0647\\u0652 \\u0650\\u0645\\u064b\\u062f\\u064a\\u064d\\u0631\\u064d \\u0639\\u0627\\u064b\\u0645\\u064f \\u064f\\u0628\\u0644\\u0652\\u062f\\u0650\\u064a\\u064b\\u0629\\u0650 \\u064b\\u062f\\u064d\\u0628\\u064a\\u064b\\u060c \\u0648\\u0645\\u0646\\u064e\\u0630\\u064e\\u0631 \\u0645\\u062d\\u064b\\u0645\\u0650\\u062f \\u0627\\u0651\\u0644\\u0632\\u0651\\u0639\\u0627\\u0628\\u064d\\u064a \\u064e\\u0645\\u062f\\u064a\\u0631 \\u0639\\u064b\\u0627\\u0650\\u0645\\u064f \\u0628\\u0644\\u062f\\u064e\\u064a\\u0629\\u064e \\u0631\\u0623\\u0650\\u0633 \\u064d\\u0627\\u0644\\u064c\\u062e\\u064a\\u064f\\u0645\\u0629\\u064c\\u060c\\u0651 \\u0648\\u0652\\u0623\\u0651\\u0643\\u062f \\u0645\\u062f\\u064a\\u064d\\u0631 \\u0639\\u064c\\u0627\\u0645 \\u064c\\u0628\\u064b\\u0644\\u062f\\u064a\\u0629 \\u062f\\u064c\\u0628\\u064f\\u064a \\u064c\\u0623\\u064f\\u0646 \\u0625\\u0651\\u0628\\u0631\\u0627\\u0645\\u0650 \\u0647\\u0651\\u0630\\u0647 \\u064c\\u0627\\u064c\\u0644\\u0650\\u0627\\u064d\\u062a\\u0641\\u0627\\u0642\\u064a\\u0629\\u064e \\u064a\\u0623\\u062a\\u064f\\u064a\\u0652 \\u0627\\u0646\\u064e\\u0637\\u0644\\u064d\\u0627\\u0652\\u0642\\u0650\\u0627\\u064b \\u0645\\u0646 \\u0652\\u062d\\u064e\\u0631\\u0635\\u064f \\u064d\\u0627\\u0652\\u0644\\u0628\\u064d\\u0644\\u062f\\u064a\\u0651\\u0629 \\u0639\\u064e\\u0644\\u064e\\u0649 \\u0652\\u0645\\u062f\\u064f \\u064b\\u062c\\u0651\\u0633\\u0648\\u0631 \\u064f\\u0627\\u0644\\u0645\\u0639\\u064e\\u0631\\u0641\\u0629\\u064b \\u0650\\u0648\\u0650\\u0627\\u0650\\u0644\\u0652\\u062a\\u0639\\u0627\\u064c\\u0648\\u0646\\u064f \\u064f\\u0645\\u0639 \\u064f\\u0627\\u064c\\u0644\\u062c\\u0647\\u0627\\u064e\\u062a\\u0652 \\u064e\\u0627\\u0650\\u0644\\u0650\\u062d\\u0643\\u0648\\u064d\\u0645\\u064c\\u064a\\u0652\\u0629\\u064b \\u064d\\u0641\\u064a\\u064c \\u064d\\u0627\\u0644\\u062f\\u064e\\u0648\\u064b\\u0644\\u064d\\u0629\\u064b \\u064c\\u0641\\u0652\\u064a\\u0651 \\u064f\\u0627\\u0644\\u0645\\u064d\\u062c\\u064e\\u0627\\u0650\\u0644\\u0627\\u062a \\u0643\\u064c\\u0627\\u0650\\u0641\\u0629 \\u064c\\u0630\\u0627\\u0651\\u062a\\u064d \\u0627\\u0644\\u064c\\u0627\\u064f\\u0647\\u0650\\u062a\\u0645\\u0627\\u0645\\u0650 \\u0652\\u0627\\u0652\\u0644\\u064c\\u0645\\u0634\\u064c\\u062a\\u064d\\u0631\\u064f\\u0643\\u060c\\u0652 \\u064f\\u0643\\u0652\\u0645\\u0627 \\u0623\\u064f\\u0634\\u064f\\u0627\\u0631 \\u0645\\u062f\\u064a\\u0652\\u0631 \\u0639\\u064e\\u0627\\u0650\\u0645 \\u064f\\u0628\\u064c\\u0644\\u062f\\u064a\\u064f\\u0629 \\u0631\\u0623\\u0633\\u064d \\u0627\\u0644\\u062e\\u064d\\u064a\\u0645\\u0651\\u0629 \\u0625\\u0644\\u0649\\u064e \\u0631\\u0650\\u063a\\u064c\\u0628\\u064e\\u0629 \\u064e\\u0627\\u064e\\u0644\\u064d\\u0628\\u0644\\u064e\\u062f\\u064f\\u064a\\u0629 \\u064e\\u0641\\u064a \\u064d\\u0627\\u064b\\u0633\\u064c\\u062a\\u062e\\u0650\\u062f\\u0627\\u0645\\u064d \\u0646\\u064b\\u0638\\u0652\\u0627\\u0645\\u064f \\u00ab\\u0651\\u0645\\u0643\\u0650\\u0627\\u0646\\u064a\\u00bb\\u064b \\u0644\\u0644\\u0639\\u0646\\u0650\\u0648\\u0651\\u0646\\u0629 \\u0627\\u064f\\u0644\\u0650\\u062c\\u063a\\u064d\\u0631\\u0627\\u064b\\u0641\\u064d\\u064a\\u064e\\u0629.\\u0650\\u0648\\u064b\\u064a\\u0647\\u062f\\u064e\\u0641 \\u062a\\u0648\\u064f\\u0642\\u064d\\u064a\\u0639 \\u064e\\u0647\\u0652\\u0630\\u0647\\u0650 \\u064c\\u0627\\u0651\\u0644\\u0627\\u062a\\u0641\\u064d\\u0627\\u0642\\u064a\\u0651\\u0629 \\u064f\\u0625\\u0644\\u0652\\u0649\\u0650 \\u064d\\u062a\\u064e\\u062d\\u062f\\u064c\\u064a\\u064b\\u062f \\u064f\\u0646\\u0648\\u0639\\u064d\\u064a\\u0629\\u064b \\u0627\\u0644\\u062e\\u064f\\u062f\\u064d\\u0645\\u064b\\u0627\\u062a\\u0651 \\u0627\\u0644\\u0645\\u062a\\u0639\\u064e\\u0644\\u0651\\u0642\\u064e\\u0629\\u064e \\u064e\\u0628\\u064c\\u0646\\u0638\\u0645 \\u0651\\u0627\\u0644\\u0650\\u0645\\u0639\\u064e\\u0644\\u0648\\u0645\\u064c\\u0627\\u064f\\u062a \\u064b\\u0627\\u0644\\u064f\\u062c\\u0651\\u063a\\u0631\\u064d\\u0627\\u0641\\u064a\\u0650\\u0629\\u064d \\u0651\\u0639\\u064c\\u0646 \\u064b\\u0637\\u0631\\u064f\\u064a\\u0642 \\u0645\\u0646\\u064b\\u062d \\u0628\\u0644\\u062f\\u064e\\u064a\\u064e\\u0629\\u0652 \\u064f\\u062f\\u064b\\u0628\\u064f\\u064a \\u064f\\u0644\\u0628\\u0644\\u064e\\u062f\\u064a\\u064f\\u0629\\u064b \\u0651\\u0631\\u064f\\u0623\\u0633 \\u0651\\u0627\\u064c\\u0644\\u062e\\u064f\\u064a\\u0645\\u0629\\u064f \\u062c\\u064c\\u0645\\u064f\\u064a\\u0639\\u064e \\u0627\\u0644\\u064e\\u0625\\u0645\\u064e\\u0643\\u0652\\u0627\\u0646\\u0627\\u064f\\u062a\\u0650 \\u0652\\u0627\\u064e\\u0644\\u064d\\u0644\\u0627\\u0632\\u0645\\u0629 \\u064c\\u0644\\u062a\\u0637\\u0650\\u0628\\u064a\\u064f\\u0642\\u064f \\u0646\\u0638\\u0627\\u0645\\u064e \\u064f\\u00ab\\u0645\\u0651\\u0643\\u0627\\u0646\\u064a\\u0651\\u00bb\\u064b \\u064c\\u0644\\u0644\\u064c\\u0639\\u0650\\u0646\\u0648\\u0646\\u0629 \\u0627\\u0644\\u0651\\u062c\\u063a\\u064b\\u0631\\u0627\\u0641\\u064a\\u0651\\u0629\\u064c \\u064d\\u0636\\u064c\\u0645\\u0646 \\u0650\\u0627\\u0652\\u0644\\u0627\\u0652\\u062e\\u062a\\u064b\\u0635\\u064e\\u0627\\u064e\\u0635\\u0650 \\u0627\\u0644\\u064b\\u062c\\u064c\\u063a\\u0631\\u0627\\u064f\\u0641\\u064a \\u0644\\u0628\\u064b\\u0644\\u062f\\u064a\\u0629\\u064f \\u0631\\u0650\\u0623\\u0633 \\u0627\\u064d\\u0644\\u062e\\u064a\\u0645\\u0650\\u0629\\u060c\\u0650 \\u0652\\u0643\\u064c\\u0645\\u0627 \\u0633\\u064e\\u062a\\u0642\\u062f\\u0645\\u0650 \\u0628\\u0644\\u0650\\u062f\\u064d\\u064a\\u0651\\u0629\\u0652 \\u0651\\u062f\\u064c\\u0628\\u0652\\u064a\\u064d \\u0650\\u0627\\u064e\\u0644\\u062a\\u062f\\u0652\\u0631\\u064a\\u0628 \\u0627\\u0644\\u0644\\u0627\\u064d\\u0632\\u0645 \\u0648\\u0627\\u064d\\u0644\\u064e\\u0627\\u0650\\u0633\\u062a\\u0634\\u064b\\u0627\\u0650\\u0631\\u0627\\u062a\\u0652 \\u0627\\u0644\\u064c\\u0641\\u0646\\u064a\\u064c\\u0629 \\u064b\\u0627\\u0650\\u0644\\u0645\\u0651\\u062a\\u0639\\u0652\\u0644\\u0642\\u0629\\u064b \\u0628\\u062a\\u064e\\u0637\\u0628\\u064a\\u0642\\u064b \\u064e\\u0646\\u0638\\u064b\\u0627\\u0645 \\u064b\\u00ab\\u064d\\u0645\\u0643\\u064c\\u0627\\u0646\\u064a\\u00bb\\u0650 \\u0644\\u0644\\u0639\\u064e\\u0646\\u0652\\u0648\\u0651\\u0646\\u064b\\u0629 \\u064d\\u0627\\u0644\\u062c\\u063a\\u0631\\u0627\\u064c\\u0641\\u064a\\u0629\\u064c \\u064f\\u0644\\u0652\\u0644\\u0650\\u0645\\u0639\\u064c\\u0646\\u064a\\u0652\\u064a\\u064f\\u0646 \\u0641\\u064a \\u0651\\u0628\\u0644\\u064b\\u062f\\u064f\\u064a\\u0629 \\u0651\\u0631\\u064e\\u0623\\u0633 \\u0627\\u0644\\u0652\\u062e\\u064c\\u064a\\u0645\\u064c\\u0629\\u060c \\u0648\\u0652\\u0633\\u064b\\u062a\\u064e\\u062a\\u0651\\u0648\\u064e\\u0644\\u0649\\u0650 \\u0628\\u064d\\u0644\\u062f\\u064c\\u064a\\u0629 \\u0631\\u064b\\u0623\\u064e\\u0633\\u064c \\u064b\\u0627\\u0650\\u0644\\u064c\\u062e\\u064d\\u064a\\u0650\\u0645\\u064e\\u0629 \\u0645\\u0650\\u0646 \\u0650\\u062c\\u0652\\u0647\\u064f\\u062a\\u0647\\u0627\\u064c \\u064f\\u0645\\u0647\\u064c\\u0645\\u064e\\u0629\\u064d \\u0651\\u062a\\u064d\\u0632\\u0651\\u0648\\u064d\\u064a\\u064c\\u062f\\u0650 \\u0628\\u064e\\u0644\\u062f\\u064a\\u0629\\u064f \\u064d\\u062f\\u0628\\u064a\\u0650 \\u064b\\u0628\\u0652\\u0627\\u0644\\u0628\\u064a\\u064b\\u0627\\u064d\\u0646\\u064d\\u0627\\u0652\\u062a\\u064f \\u064c\\u0627\\u0644\\u0651\\u0645\\u0643\\u0627\\u064e\\u0646\\u064a\\u0629 \\u0627\\u064e\\u0644\\u064f\\u0645\\u064c\\u062d\\u0650\\u062f\\u062b\\u0629\\u064d \\u0644\\u0644\\u064e\\u0645\\u0652\\u0639\\u0627\\u0644\\u0645 \\u0627\\u0644\\u064e\\u062e\\u0650\\u0627\\u0635\\u0629\\u064d \\u0636\\u064b\\u0645\\u064d\\u0646 \\u0627\\u064b\\u0644\\u064b\\u0627\\u064d\\u062e\\u062a\\u0635\\u0627\\u0635 \\u064d\\u0627\\u0644\\u062c\\u0651\\u063a\\u0631\\u0627\\u0641\\u064a\\u0650 \\u0652\\u0644\\u0651\\u0628\\u064b\\u0644\\u062f\\u064d\\u064a\\u0629 \\u0650\\u0631\\u064e\\u0623\\u0633 \\u0627\\u064d\\u0644\\u062e\\u064d\\u064a\\u064c\\u0645\\u0629\\u0652\\u060c \\u064e\\u0644\\u064a\\u062a\\u064e\\u0645 \\u0627\\u0633\\u064b\\u062a\\u062e\\u064d\\u062f\\u0627\\u0645\\u0652\\u0647\\u0652\\u0627 \\u0636\\u0645\\u064f\\u0646\\u064d \\u0650\\u062a\\u0637\\u0651\\u0628\\u064a\\u0642\\u064d \\u0646\\u0638\\u0627\\u0651\\u0645\\u064b \\u00ab\\u0650\\u0645\\u0643\\u0627\\u0646\\u064a\\u00bb \\u064b\\u0644\\u0650\\u0644\\u0639\\u0646\\u064c\\u0648\\u0646\\u064e\\u0629\\u064d \\u0627\\u0650\\u0644\\u062c\\u0652\\u063a\\u0651\\u0631\\u064c\\u0627\\u064d\\u0641\\u064a\\u0629.\\u064d\"\n        ],\n        \"semantic_type\": \"\",\n        \"description\": \"\"\n      }\n    },\n    {\n      \"column\": \"label\",\n      \"properties\": {\n        \"dtype\": \"category\",\n        \"num_unique_values\": 1,\n        \"samples\": [\n          \"Tech\"\n        ],\n        \"semantic_type\": \"\",\n        \"description\": \"\"\n      }\n    }\n  ]\n}"
            }
          },
          "metadata": {},
          "execution_count": 10
        }
      ]
    },
    {
      "cell_type": "code",
      "source": [
        "df.info()"
      ],
      "metadata": {
        "colab": {
          "base_uri": "https://localhost:8080/"
        },
        "id": "Azo6a-V_D9-h",
        "outputId": "af0221f0-fa2f-4b47-9fa4-963f4cc8c4cc"
      },
      "execution_count": 11,
      "outputs": [
        {
          "output_type": "stream",
          "name": "stdout",
          "text": [
            "<class 'pandas.core.frame.DataFrame'>\n",
            "RangeIndex: 39885 entries, 0 to 39884\n",
            "Data columns (total 2 columns):\n",
            " #   Column  Non-Null Count  Dtype \n",
            "---  ------  --------------  ----- \n",
            " 0   text    39885 non-null  object\n",
            " 1   label   39885 non-null  object\n",
            "dtypes: object(2)\n",
            "memory usage: 623.3+ KB\n"
          ]
        }
      ]
    },
    {
      "cell_type": "code",
      "source": [
        "df.sample()"
      ],
      "metadata": {
        "colab": {
          "base_uri": "https://localhost:8080/",
          "height": 81
        },
        "id": "G0jc0hX8DW43",
        "outputId": "4ef0bbfc-0941-4aa1-9326-541b2de303b9"
      },
      "execution_count": 12,
      "outputs": [
        {
          "output_type": "execute_result",
          "data": {
            "text/plain": [
              "                                                   text    label\n",
              "2020  https://example.com/resource/يتوْجًهّ ُوْفد ِق...  Culture"
            ],
            "text/html": [
              "\n",
              "  <div id=\"df-1ffa11a5-28b4-4ff9-ba54-b7605707e046\" class=\"colab-df-container\">\n",
              "    <div>\n",
              "<style scoped>\n",
              "    .dataframe tbody tr th:only-of-type {\n",
              "        vertical-align: middle;\n",
              "    }\n",
              "\n",
              "    .dataframe tbody tr th {\n",
              "        vertical-align: top;\n",
              "    }\n",
              "\n",
              "    .dataframe thead th {\n",
              "        text-align: right;\n",
              "    }\n",
              "</style>\n",
              "<table border=\"1\" class=\"dataframe\">\n",
              "  <thead>\n",
              "    <tr style=\"text-align: right;\">\n",
              "      <th></th>\n",
              "      <th>text</th>\n",
              "      <th>label</th>\n",
              "    </tr>\n",
              "  </thead>\n",
              "  <tbody>\n",
              "    <tr>\n",
              "      <th>2020</th>\n",
              "      <td>https://example.com/resource/يتوْجًهّ ُوْفد ِق...</td>\n",
              "      <td>Culture</td>\n",
              "    </tr>\n",
              "  </tbody>\n",
              "</table>\n",
              "</div>\n",
              "    <div class=\"colab-df-buttons\">\n",
              "\n",
              "  <div class=\"colab-df-container\">\n",
              "    <button class=\"colab-df-convert\" onclick=\"convertToInteractive('df-1ffa11a5-28b4-4ff9-ba54-b7605707e046')\"\n",
              "            title=\"Convert this dataframe to an interactive table.\"\n",
              "            style=\"display:none;\">\n",
              "\n",
              "  <svg xmlns=\"http://www.w3.org/2000/svg\" height=\"24px\" viewBox=\"0 -960 960 960\">\n",
              "    <path d=\"M120-120v-720h720v720H120Zm60-500h600v-160H180v160Zm220 220h160v-160H400v160Zm0 220h160v-160H400v160ZM180-400h160v-160H180v160Zm440 0h160v-160H620v160ZM180-180h160v-160H180v160Zm440 0h160v-160H620v160Z\"/>\n",
              "  </svg>\n",
              "    </button>\n",
              "\n",
              "  <style>\n",
              "    .colab-df-container {\n",
              "      display:flex;\n",
              "      gap: 12px;\n",
              "    }\n",
              "\n",
              "    .colab-df-convert {\n",
              "      background-color: #E8F0FE;\n",
              "      border: none;\n",
              "      border-radius: 50%;\n",
              "      cursor: pointer;\n",
              "      display: none;\n",
              "      fill: #1967D2;\n",
              "      height: 32px;\n",
              "      padding: 0 0 0 0;\n",
              "      width: 32px;\n",
              "    }\n",
              "\n",
              "    .colab-df-convert:hover {\n",
              "      background-color: #E2EBFA;\n",
              "      box-shadow: 0px 1px 2px rgba(60, 64, 67, 0.3), 0px 1px 3px 1px rgba(60, 64, 67, 0.15);\n",
              "      fill: #174EA6;\n",
              "    }\n",
              "\n",
              "    .colab-df-buttons div {\n",
              "      margin-bottom: 4px;\n",
              "    }\n",
              "\n",
              "    [theme=dark] .colab-df-convert {\n",
              "      background-color: #3B4455;\n",
              "      fill: #D2E3FC;\n",
              "    }\n",
              "\n",
              "    [theme=dark] .colab-df-convert:hover {\n",
              "      background-color: #434B5C;\n",
              "      box-shadow: 0px 1px 3px 1px rgba(0, 0, 0, 0.15);\n",
              "      filter: drop-shadow(0px 1px 2px rgba(0, 0, 0, 0.3));\n",
              "      fill: #FFFFFF;\n",
              "    }\n",
              "  </style>\n",
              "\n",
              "    <script>\n",
              "      const buttonEl =\n",
              "        document.querySelector('#df-1ffa11a5-28b4-4ff9-ba54-b7605707e046 button.colab-df-convert');\n",
              "      buttonEl.style.display =\n",
              "        google.colab.kernel.accessAllowed ? 'block' : 'none';\n",
              "\n",
              "      async function convertToInteractive(key) {\n",
              "        const element = document.querySelector('#df-1ffa11a5-28b4-4ff9-ba54-b7605707e046');\n",
              "        const dataTable =\n",
              "          await google.colab.kernel.invokeFunction('convertToInteractive',\n",
              "                                                    [key], {});\n",
              "        if (!dataTable) return;\n",
              "\n",
              "        const docLinkHtml = 'Like what you see? Visit the ' +\n",
              "          '<a target=\"_blank\" href=https://colab.research.google.com/notebooks/data_table.ipynb>data table notebook</a>'\n",
              "          + ' to learn more about interactive tables.';\n",
              "        element.innerHTML = '';\n",
              "        dataTable['output_type'] = 'display_data';\n",
              "        await google.colab.output.renderOutput(dataTable, element);\n",
              "        const docLink = document.createElement('div');\n",
              "        docLink.innerHTML = docLinkHtml;\n",
              "        element.appendChild(docLink);\n",
              "      }\n",
              "    </script>\n",
              "  </div>\n",
              "\n",
              "\n",
              "    </div>\n",
              "  </div>\n"
            ],
            "application/vnd.google.colaboratory.intrinsic+json": {
              "type": "dataframe",
              "summary": "{\n  \"name\": \"df\",\n  \"rows\": 1,\n  \"fields\": [\n    {\n      \"column\": \"text\",\n      \"properties\": {\n        \"dtype\": \"string\",\n        \"num_unique_values\": 1,\n        \"samples\": [\n          \"https://example.com/resource/\\u064a\\u062a\\u0648\\u0652\\u062c\\u064b\\u0647\\u0651 \\u064f\\u0648\\u0652\\u0641\\u062f \\u0650\\u0642\\u0637\\u0627\\u0639\\u064c \\u0627\\u0644\\u064c\\u062b\\u064d\\u0642\\u0627\\u0641\\u0629 \\u0641\\u064a\\u0651 \\u064d\\u0645\\u0624\\u0633\\u0633\\u0629\\u064d \\u0645\\u062d\\u0645\\u0650\\u062f\\u0652 \\u0628\\u0646\\u064d \\u0631\\u0627\\u0634\\u062f \\u0622\\u064e\\u0644\\u0650 \\u0645\\u0643\\u062a\\u064b\\u0648\\u0645\\u0652 \\u064e\\u0628\\u064e\\u0631\\u0652\\u0626\\u0627\\u064c\\u0633\\u0629 \\u064a\\u0652\\u0627\\u0651\\u0633\\u064d\\u0631\\u064f \\u064b\\u062d\\u064c\\u0627\\u064c\\u0631\\u064b\\u0628 \\u0646\\u0627\\u0626\\u0628\\u064d \\u064c\\u0631\\u0626\\u0650\\u064a\\u0652\\u0633 \\u0627\\u0650\\u0644\\u0645\\u064b\\u0624\\u064b\\u0633\\u0652\\u0633\\u0629\\u064c (\\u0642\\u0650\\u0637\\u064e\\u0627\\u0639 \\u064e\\u0627\\u0644\\u064c\\u062b\\u0642\\u064b\\u0627\\u0641\\u064c\\u0629)\\u060c \\u0651\\u0645\\u064f\\u0637\\u064d\\u0644\\u0639\\u0650 \\u0650\\u0627\\u0644\\u0623\\u0633\\u064c\\u0628\\u064b\\u0648\\u0652\\u0639 \\u0627\\u0644\\u064e\\u0642\\u0651\\u0627\\u064e\\u062f\\u0645\\u0652 \\u0625\\u064e\\u0644\\u064c\\u0649\\u0650 \\u064f\\u0623\\u064e\\u0644\\u064f\\u0645\\u0627\\u0650\\u0646\\u064f\\u064a\\u064e\\u0627 \\u0644\\u0651\\u0644\\u0645\\u0634\\u064e\\u0627\\u0631\\u0643\\u0629\\u064c \\u0650\\u0641\\u064a\\u064b \\u0641\\u064e\\u0639\\u064b\\u0627\\u064c\\u0644\\u064d\\u064a\\u064f\\u0627\\u0652\\u062a \\u0651\\u0627\\u0644\\u0650\\u062f\\u064b\\u0648\\u0631\\u064b\\u0629\\u0651 \\u0651\\u0627\\u0652\\u0644\\u062b\\u0627\\u064f\\u0645\\u0646\\u0629 \\u0644\\u0645\\u0647\\u0631\\u062c\\u064b\\u0627\\u0646\\u064d \\u0628\\u0631\\u064e\\u0644\\u064a\\u064f\\u0646\\u064d \\u0627\\u064c\\u0644\\u0651\\u062f\\u0648\\u0644\\u0652\\u064a \\u0651\\u0644\\u0644\\u064e\\u0622\\u062f\\u0650\\u0627\\u0650\\u0628\\u064c\\u060c \\u0623\\u062d\\u064b\\u062f\\u064f \\u064d\\u0623\\u064b\\u0643\\u0652\\u0628\\u0631\\u064d \\u0627\\u064f\\u0644\\u0650\\u0645\\u0650\\u062d\\u0627\\u0641\\u064d\\u0644\\u0650 \\u0627\\u0644\\u064f\\u062b\\u064c\\u0642\\u064c\\u0627\\u0641\\u064a\\u0652\\u0629\\u064b \\u0627\\u0644\\u064c\\u0623\\u064f\\u0648\\u0631\\u0648\\u0628\\u064c\\u064a\\u0651\\u0629 \\u0627\\u0652\\u0644\\u0651\\u062a\\u0652\\u064a \\u062a\\u064f\\u0633\\u0650\\u062a\\u0636\\u064c\\u064a\\u0641\\u064c\\u0647\\u0627 \\u0627\\u0650\\u0644\\u064c\\u0639\\u064c\\u0627\\u0650\\u0635\\u064f\\u0645\\u0629 \\u0627\\u064e\\u0644\\u0651\\u0623\\u0652\\u0644\\u064d\\u0645\\u0650\\u0627\\u0646\\u064f\\u064a\\u0629\\u064e \\u0628\\u0635\\u0641\\u064d\\u0629 \\u064f\\u0633\\u0652\\u0646\\u0648\\u064d\\u064a\\u0629\\u060c \\u0648\\u062a\\u062d\\u0652\\u0638\\u0649 \\u064d\\u0628\\u0645\\u064f\\u0634\\u0627\\u064b\\u0631\\u0643\\u064f\\u0629 \\u0639\\u064f\\u0627\\u0644\\u0652\\u0645\\u064f\\u064a\\u0629 \\u0645\\u064e\\u0646\\u0650 \\u0650\\u0646\\u064c\\u062e\\u064e\\u0628\\u0650 \\u0650\\u0627\\u064d\\u0644\\u0623\\u064b\\u062f\\u064e\\u0628\\u0627\\u064d\\u0621\\u064c \\u064f\\u0648\\u0631\\u064e\\u062c\\u0627\\u064e\\u0644 \\u064f\\u0627\\u064d\\u0644\\u0641\\u064f\\u0643\\u0631\\u064f \\u0648\\u0627\\u0644\\u0652\\u062b\\u0642\\u0627\\u0650\\u0641\\u064c\\u0629\\u060c\\u0651 \\u064e\\u0648\\u0650\\u0643\\u0650\\u0630\\u0644\\u064e\\u0643\\u0652 \\u0627\\u064e\\u0644\\u064e\\u0645\\u064f\\u0648\\u0627\\u0647\\u0628\\u0652 \\u0652\\u0627\\u0644\\u064e\\u064a\\u0652\\u0627\\u0641\\u0639\\u064e\\u0629\\u0650 \\u0652\\u0641\\u064a \\u064b\\u0647\\u0630\\u064f\\u0627\\u064e \\u064c\\u0627\\u064b\\u0644\\u0645\\u062c\\u0627\\u0644\\u0651 \\u064f\\u0645\\u0646 \\u064b\\u0645\\u064d\\u062e\\u062a\\u0644\\u0641 \\u0623\\u0651\\u0646\\u064d\\u062d\\u064b\\u0627\\u0652\\u0621\\u064f \\u0627\\u064c\\u0644\\u0639\\u064b\\u0627\\u0644\\u064b\\u0645\\u064f.\\u0648\\u0642\\u0627\\u064f\\u0644\\u064d \\u064a\\u0627\\u0633\\u0631 \\u062d\\u0627\\u0631\\u0652\\u0628\\u064d: \\u062a\\u0650\\u0634\\u0652\\u0643\\u064b\\u0644 \\u0650\\u0627\\u064b\\u0644\\u0652\\u0645\\u064f\\u0634\\u0627\\u0631\\u064d\\u0643\\u0629\\u064f \\u0641\\u0652\\u064a \\u0627\\u0644\\u0652\\u0641\\u064f\\u0639\\u0627\\u0650\\u0644\\u064a\\u064f\\u0627\\u064d\\u062a\\u064d \\u0651\\u0648\\u064e\\u0627\\u0644\\u0645\\u062d\\u064b\\u0627\\u0641\\u0644 \\u0627\\u0644\\u062f\\u0648\\u0644\\u0650\\u064a\\u0629 \\u0631\\u064e\\u0643\\u0651\\u0646\\u064e\\u0627\\u064b \\u064f\\u0645\\u0651\\u0647\\u0645\\u0627\\u064e\\u064b\\u064c \\u0651\\u0645\\u0646 \\u064c\\u0627\\u064d\\u0633\\u062a\\u064e\\u0631\\u0627\\u064d\\u062a\\u064a\\u064c\\u062c\\u064a\\u064c\\u0629\\u064f \\u0642\\u0637\\u0627\\u0652\\u0639\\u064c \\u064e\\u0627\\u0650\\u0644\\u062b\\u0642\\u0627\\u0652\\u0641\\u0629\\u0651 \\u064b\\u0641\\u064a\\u064b \\u0645\\u0624\\u064e\\u0633\\u064b\\u0633\\u0651\\u0629 \\u0645\\u062d\\u0645\\u062f \\u064b\\u0628\\u064f\\u0646\\u064f \\u0631\\u0627\\u0634\\u062f\\u0652 \\u0622\\u0644 \\u064b\\u0645\\u0643\\u0652\\u062a\\u0651\\u0648\\u064b\\u0645 \\u0644\\u062a\\u0641\\u0650\\u0639\\u064a\\u0644 \\u0652\\u0631\\u0624\\u064c\\u064a\\u0629\\u0651 \\u0651\\u0648\\u0623\\u0647\\u064b\\u062f\\u0627\\u0641\\u0650 \\u064b\\u0627\\u0652\\u0644\\u0651\\u0645\\u0624\\u0633\\u0633\\u064c\\u0629\\u064d \\u064c\\u0641\\u064a \\u064f\\u0627\\u062a\\u062c\\u0627\\u0647 \\u0652\\u062a\\u0639\\u0632\\u064b\\u064a\\u0632\\u0650 \\u0650\\u0645\\u064c\\u062c\\u0627\\u0644\\u0650\\u0627\\u062a\\u064c \\u0627\\u0644\\u064c\\u062a\\u0628\\u064d\\u0627\\u062f\\u0644 \\u0627\\u0644\\u0641\\u0643\\u064b\\u0631\\u064a \\u0652\\u0648\\u0627\\u0644\\u062b\\u0642\\u0652\\u0627\\u064f\\u0641\\u0651\\u064a \\u0628\\u064a\\u0646\\u0650 \\u0627\\u064c\\u0644\\u0648\\u064f\\u0637\\u0646 \\u0650\\u0627\\u0651\\u0644\\u0639\\u064f\\u0631\\u064c\\u0628\\u064e\\u064a\\u064d \\u064f\\u0648\\u0628\\u0642\\u064e\\u064a\\u0650\\u0629 \\u064c\\u0623\\u0646\\u062d\\u064d\\u0627\\u0621 \\u0651\\u0627\\u0644\\u0639\\u064c\\u0627\\u064f\\u0644\\u064e\\u0645\\u060c\\u0650 \\u064e\\u062d\\u064c\\u064a\\u062b\\u064f \\u062a\\u0633\\u064e\\u0639\\u0649\\u0652 \\u0627\\u064d\\u0644\\u0650\\u0645\\u0650\\u0624\\u0633\\u064c\\u0633\\u0629\\u0650 \\u0651\\u0644\\u064d\\u0641\\u062a\\u0651\\u062d \\u064f\\u0646\\u064c\\u0648\\u0652\\u0627\\u0641\\u0630 \\u0651\\u062c\\u062f\\u064a\\u062f\\u0629 \\u064c\\u064a\\u064b\\u0637\\u0652\\u0644 \\u064c\\u0645\\u0646\\u0647\\u064d\\u0627 \\u064e\\u0627\\u0644\\u064f\\u0639\\u0650\\u0631\\u0650\\u0628 \\u0650\\u0639\\u0644\\u064d\\u0649 \\u0627\\u0652\\u0644\\u064b\\u062b\\u064b\\u0642\\u0651\\u0627\\u064d\\u0641\\u0652\\u0627\\u062a\\u0651 \\u0627\\u0644\\u0639\\u064e\\u0627\\u0652\\u0644\\u0645\\u064b\\u064a\\u0629 \\u0627\\u064e\\u0644\\u064d\\u0645\\u062e\\u062a\\u064d\\u0644\\u0641\\u0629 \\u064c\\u0648\\u0650\\u062a\\u0633\\u0647\\u0645 \\u0641\\u064a\\u064b \\u064f\\u062a\\u0639\\u0631\\u064a\\u0651\\u0641 \\u064c\\u0627\\u064e\\u0644\\u064d\\u0639\\u064b\\u0627\\u064e\\u0644\\u0645 \\u064f\\u0628\\u062b\\u0642\\u064d\\u0627\\u064f\\u0641\\u062a\\u0646\\u064e\\u0627 \\u0648\\u062a\\u064d\\u0631\\u064d\\u0627\\u062b\\u064b\\u0646\\u0650\\u0627\\u060c \\u0648\\u064e\\u0643\\u0651\\u0630\\u064c\\u0644\\u0643 \\u064b\\u0628\\u064f\\u0645\\u064c\\u0644\\u0627\\u0645\\u062d\\u064b \\u0627\\u064d\\u0644\\u0625\\u0646\\u064c\\u062a\\u0651\\u0627\\u064d\\u062c\\u0651 \\u0627\\u064e\\u0644\\u0641\\u064e\\u0643\\u0631\\u064f\\u064a \\u0627\\u0644\\u064c\\u0639\\u0650\\u0631\\u064f\\u0628\\u064a\\u064c \\u0627\\u0651\\u0644\\u064e\\u0645\\u064d\\u0639\\u0651\\u0627\\u0650\\u0635\\u0631\\u0652.\\u064d\\u0648\\u064a\\u0639\\u062a\\u0652\\u0628\\u0631 \\u0650\\u0645\\u0647\\u0631\\u064f\\u062c\\u0652\\u0627\\u064b\\u0646 \\u0628\\u0631\\u0650\\u0644\\u064c\\u064a\\u0646 \\u064b\\u0627\\u0644\\u062f\\u0648\\u064f\\u0644\\u064a \\u0644\\u064e\\u0644\\u064e\\u0622\\u062f\\u0650\\u0627\\u0628\\u064d \\u0645\\u0646\\u064e \\u064e\\u0627\\u0644\\u0641\\u064c\\u0639\\u0650\\u0627\\u0644\\u064a\\u064c\\u0627\\u062a \\u0650\\u0627\\u0644\\u062f\\u0648\\u0644\\u064e\\u064a\\u0629 \\u0630\\u064e\\u0627\\u062a\\u064e \\u0652\\u0627\\u0651\\u0644\\u0651\\u0637\\u0627\\u0628\\u0639\\u064f \\u0627\\u064b\\u0644\\u0645\\u0651\\u0645\\u0651\\u064a\\u0632 \\u0651\\u0639\\u0644\\u0649 \\u0651\\u0645\\u0633\\u062a\\u0651\\u0648\\u0649 \\u0650\\u0627\\u064e\\u0644\\u0639\\u0652\\u0627\\u0650\\u0644\\u064b\\u0645\\u060c \\u064f\\u062d\\u064e\\u064a\\u064b\\u062b\\u064f \\u064a\\u0652\\u062c\\u064c\\u0645\\u0639\\u064c \\u0651\\u0628\\u064a\\u0646\\u064d \\u064f\\u0627\\u0644\\u062c\\u064a\\u064d\\u0644\\u0651\\u064a\\u0646 \\u0627\\u0651\\u0644\\u0642\\u062f\\u064a\\u0645 \\u0648\\u064d\\u0627\\u064d\\u0644\\u064e\\u062d\\u062f\\u064a\\u062b \\u0645\\u064e\\u0646 \\u0651\\u0627\\u0644\\u0650\\u0643\\u062a\\u0651\\u0651\\u064c\\u0627\\u064b\\u0628\\u0652 \\u0648\\u0627\\u0644\\u0623\\u064c\\u062f\\u0628\\u0627\\u0621 \\u0648\\u0627\\u064d\\u0644\\u064d\\u0634\\u0639\\u0652\\u0631\\u0627\\u0621\\u0652 \\u0648\\u0627\\u064d\\u0644\\u0645\\u0641\\u0650\\u0643\\u064f\\u0631\\u0652\\u064a\\u0646 \\u064f\\u0641\\u064a \\u064d\\u0645\\u064c\\u0632\\u0652\\u064a\\u064d\\u062c\\u064d \\u0625\\u0628\\u0651\\u062f\\u0627\\u0639\\u064a\\u064b \\u0641\\u0650\\u0631\\u064b\\u064a\\u062f \\u0652\\u064a\\u064c\\u0642\\u062f\\u064c\\u0645 \\u0646\\u0645\\u0648\\u0630\\u062c\\u0627\\u0651\\u064b \\u0645\\u0650\\u062a\\u0652\\u0645\\u064f\\u064a\\u064c\\u0632\\u0627\\u0651\\u064b\\u064d \\u0645\\u0646\\u0651 \\u064f\\u0646\\u0645\\u064e\\u0627\\u0630\\u0651\\u062c \\u0627\\u0644\\u064e\\u062d\\u0652\\u0648\\u064f\\u0627\\u0631 \\u0628\\u064a\\u0646\\u064b \\u0627\\u0644\\u0623\\u062c\\u0650\\u064a\\u0650\\u0627\\u0644 \\u064b\\u0648\\u0627\\u0644\\u062b\\u0642\\u064c\\u0627\\u0641\\u064f\\u0627\\u062a\\u064d \\u064f\\u0627\\u0644\\u0645\\u062a\\u0646\\u064c\\u0648\\u0639\\u0629. \\u0648\\u0633\\u064a\\u0634\\u0652\\u0645\\u0644\\u064d \\u0627\\u064c\\u0644\\u0645\\u0652\\u0647\\u0652\\u0631\\u064f\\u062c\\u0651\\u0627\\u0652\\u0646 \\u0641\\u064a\\u064f \\u0652\\u062f\\u064e\\u0648\\u0631\\u0652\\u062a\\u0647 \\u0627\\u0651\\u0644\\u062b\\u064f\\u0627\\u0645\\u064b\\u0646\\u064d\\u0629 \\u0627\\u0644\\u0651\\u062a\\u064b\\u064a \\u064d\\u0633\\u062a\\u0651\\u0642\\u0627\\u0645 \\u064e\\u062e\\u064b\\u0644\\u0627\\u0644\\u064d \\u0627\\u064b\\u0644\\u0641\\u062a\\u0652\\u0631\\u0629\\u064d \\u0652\\u0645\\u0646\\u064c 24\\u064f \\u0652\\u0633\\u0651\\u0628\\u064f\\u062a\\u0645\\u0628\\u0631/ \\u064b\\u0627\\u064a\\u064e\\u0644\\u0648\\u064e\\u0644\\u064c \\u0627\\u064d\\u0644\\u064d\\u062c\\u0627\\u064d\\u0631\\u064a\\u0652 \\u0648\\u0652\\u062d\\u0651\\u062a\\u0649\\u064e \\u0627\\u0644\\u064d\\u0631\\u0627\\u064b\\u0628\\u0639\\u064f \\u064d\\u0645\\u064b\\u0646\\u064c \\u0623\\u0643\\u064b\\u062a\\u064f\\u0648\\u0628\\u0631/ \\u064b\\u062a\\u0634\\u064e\\u0631\\u064a\\u0646\\u064f \\u064e\\u0627\\u064b\\u0644\\u0623\\u064e\\u0648\\u064c\\u0644 \\u0650\\u0627\\u064d\\u0644\\u0650\\u0645\\u0642\\u0650\\u0628\\u0650\\u0644\\u060c \\u0623\\u0651\\u0643\\u064e\\u062b\\u0631 \\u0645\\u064e\\u0646\\u0651 300\\u0652 \\u0641\\u064f\\u0639\\u0652\\u0627\\u0644\\u064e\\u064a\\u0629\\u064f \\u0645\\u064c\\u062e\\u0652\\u062a\\u0644\\u0641\\u0629\\u064e \\u064b\\u064a\\u062a\\u0641\\u064e\\u0627\\u0639\\u064c\\u0644\\u0651 \\u0645\\u064d\\u0646\\u064b \\u064c\\u062e\\u0644\\u0652\\u0627\\u0644\\u0647\\u0627\\u064f \\u0646\\u064c\\u062d\\u0648 \\u064d1\\u064f00\\u064b \\u064c\\u0645\\u0624\\u0644\\u0650\\u0641\\u0651 \\u064e\\u0644\\u0637\\u0631\\u064f\\u062d \\u0648\\u0645\\u0646\\u064f\\u0627\\u0642\\u0652\\u0634\\u0652\\u0629\\u0650 \\u064e\\u062a\\u062c\\u064f\\u0627\\u0650\\u0631\\u0651\\u0628\\u064f\\u0647\\u0645 \\u064b\\u0627\\u064d\\u0644\\u0625\\u0628\\u064b\\u062f\\u064b\\u0627\\u064f\\u0639\\u064a\\u0629 \\u0633\\u0648\\u0627\\u0652\\u0621 \\u0627\\u0644\\u064c\\u0643\\u064e\\u0644\\u0627\\u0633\\u064b\\u064a\\u0643\\u0650\\u064a\\u0629\\u0650 \\u064d\\u0623\\u0648\\u064b \\u0627\\u0652\\u0644\\u0645\\u064d\\u0639\\u064d\\u0627\\u064e\\u0635\\u0631\\u0651\\u0629.\"\n        ],\n        \"semantic_type\": \"\",\n        \"description\": \"\"\n      }\n    },\n    {\n      \"column\": \"label\",\n      \"properties\": {\n        \"dtype\": \"string\",\n        \"num_unique_values\": 1,\n        \"samples\": [\n          \"Culture\"\n        ],\n        \"semantic_type\": \"\",\n        \"description\": \"\"\n      }\n    }\n  ]\n}"
            }
          },
          "metadata": {},
          "execution_count": 12
        }
      ]
    },
    {
      "cell_type": "code",
      "source": [
        "df.shape"
      ],
      "metadata": {
        "colab": {
          "base_uri": "https://localhost:8080/"
        },
        "id": "_JyuhuovSYv3",
        "outputId": "40848dc7-7eab-41a4-cf6b-0f7d78a756fd"
      },
      "execution_count": 13,
      "outputs": [
        {
          "output_type": "execute_result",
          "data": {
            "text/plain": [
              "(39885, 2)"
            ]
          },
          "metadata": {},
          "execution_count": 13
        }
      ]
    },
    {
      "cell_type": "code",
      "source": [
        "df['label'].unique() # 7"
      ],
      "metadata": {
        "colab": {
          "base_uri": "https://localhost:8080/"
        },
        "id": "etrhUuK-EyTP",
        "outputId": "73870efa-29ac-4ab8-912a-50524a13747b"
      },
      "execution_count": 14,
      "outputs": [
        {
          "output_type": "execute_result",
          "data": {
            "text/plain": [
              "array(['Culture', 'Finance', 'Medical', 'Politics', 'Religion', 'Sports',\n",
              "       'Tech'], dtype=object)"
            ]
          },
          "metadata": {},
          "execution_count": 14
        }
      ]
    },
    {
      "cell_type": "markdown",
      "metadata": {
        "id": "kVc0b_9fQGeH"
      },
      "source": [
        "# Data Exploration"
      ]
    },
    {
      "cell_type": "markdown",
      "metadata": {
        "id": "a98DaVUvQsi8"
      },
      "source": [
        "Before diving into preprocessing and model building, it’s important to first explore the dataset to understand its structure, distribution, and key characteristics. This step will help you gain insights into the data and guide your decisions in subsequent steps. Here’s what to consider:\n",
        "\n",
        "1. **Inspect the Data**:\n",
        "   Start by looking at the first few rows of the dataset to get a sense of its structure. Check the columns, data types, and a few sample entries. This helps to ensure that the data is loaded correctly and gives you an initial overview of the content.\n",
        "\n",
        "2. **Check for Missing Values**:\n",
        "   Identify if there are any missing values in the dataset.\n",
        "\n",
        "3. **Distribution of Labels**:\n",
        "   Examine the distribution of the target labels (classes).\n",
        "\n",
        "4. **Text Data Characteristics (Bonus)**:\n",
        "   Analyze the length of the text data. It is useful to calculate the number of words or characters in each text sample to understand how long the texts are. This will help you set a suitable `max_length` for tokenization and padding later. You can plot a histogram of text lengths to visualize the distribution.\n",
        "\n",
        "5. **Common Words and Vocabulary (Bonus)**:\n",
        "   Explore the most frequent words in the text data."
      ]
    },
    {
      "cell_type": "code",
      "source": [
        "df.isnull().sum()"
      ],
      "metadata": {
        "colab": {
          "base_uri": "https://localhost:8080/",
          "height": 147
        },
        "id": "P0aq6G8LFZwR",
        "outputId": "da1ec903-6997-446f-e789-c740af65332c"
      },
      "execution_count": 15,
      "outputs": [
        {
          "output_type": "execute_result",
          "data": {
            "text/plain": [
              "text     0\n",
              "label    0\n",
              "dtype: int64"
            ],
            "text/html": [
              "<div>\n",
              "<style scoped>\n",
              "    .dataframe tbody tr th:only-of-type {\n",
              "        vertical-align: middle;\n",
              "    }\n",
              "\n",
              "    .dataframe tbody tr th {\n",
              "        vertical-align: top;\n",
              "    }\n",
              "\n",
              "    .dataframe thead th {\n",
              "        text-align: right;\n",
              "    }\n",
              "</style>\n",
              "<table border=\"1\" class=\"dataframe\">\n",
              "  <thead>\n",
              "    <tr style=\"text-align: right;\">\n",
              "      <th></th>\n",
              "      <th>0</th>\n",
              "    </tr>\n",
              "  </thead>\n",
              "  <tbody>\n",
              "    <tr>\n",
              "      <th>text</th>\n",
              "      <td>0</td>\n",
              "    </tr>\n",
              "    <tr>\n",
              "      <th>label</th>\n",
              "      <td>0</td>\n",
              "    </tr>\n",
              "  </tbody>\n",
              "</table>\n",
              "</div><br><label><b>dtype:</b> int64</label>"
            ]
          },
          "metadata": {},
          "execution_count": 15
        }
      ]
    },
    {
      "cell_type": "code",
      "source": [
        "df.duplicated().sum()"
      ],
      "metadata": {
        "colab": {
          "base_uri": "https://localhost:8080/"
        },
        "id": "1VkZ-hBRFZtk",
        "outputId": "2c8c7a2b-6c08-45ec-83d7-4637ebfab786"
      },
      "execution_count": 16,
      "outputs": [
        {
          "output_type": "execute_result",
          "data": {
            "text/plain": [
              "0"
            ]
          },
          "metadata": {},
          "execution_count": 16
        }
      ]
    },
    {
      "cell_type": "code",
      "source": [
        "df['text_length'] = df['text'].apply(lambda x: len(x.split()))"
      ],
      "metadata": {
        "id": "NspIBGCNF0Mf"
      },
      "execution_count": 17,
      "outputs": []
    },
    {
      "cell_type": "code",
      "source": [
        "df.head()"
      ],
      "metadata": {
        "colab": {
          "base_uri": "https://localhost:8080/",
          "height": 206
        },
        "id": "LETt819iGAmv",
        "outputId": "05717f47-e98d-4416-b68c-f37362ec0bbf"
      },
      "execution_count": 18,
      "outputs": [
        {
          "output_type": "execute_result",
          "data": {
            "text/plain": [
              "                                                text    label  text_length\n",
              "0  https://example.com/resource/الشاٌرقة -ْ محمِد...  Culture          682\n",
              "1  https://example.com/resource/اَنِطٌلقّتَ ٍفٍيّ...  Culture          370\n",
              "2  https://example.com/resource/أُقيًمٌتِ مِساءُ ...  Culture          237\n",
              "3  https://example.com/resource/بٍاسُمةَ يًوٌنٍس ...  Culture          342\n",
              "4  https://example.com/resource/قُرر اَتحِاد اًلْ...  Culture           59"
            ],
            "text/html": [
              "\n",
              "  <div id=\"df-bb0a489c-7c2d-4009-85a4-fe48d7026566\" class=\"colab-df-container\">\n",
              "    <div>\n",
              "<style scoped>\n",
              "    .dataframe tbody tr th:only-of-type {\n",
              "        vertical-align: middle;\n",
              "    }\n",
              "\n",
              "    .dataframe tbody tr th {\n",
              "        vertical-align: top;\n",
              "    }\n",
              "\n",
              "    .dataframe thead th {\n",
              "        text-align: right;\n",
              "    }\n",
              "</style>\n",
              "<table border=\"1\" class=\"dataframe\">\n",
              "  <thead>\n",
              "    <tr style=\"text-align: right;\">\n",
              "      <th></th>\n",
              "      <th>text</th>\n",
              "      <th>label</th>\n",
              "      <th>text_length</th>\n",
              "    </tr>\n",
              "  </thead>\n",
              "  <tbody>\n",
              "    <tr>\n",
              "      <th>0</th>\n",
              "      <td>https://example.com/resource/الشاٌرقة -ْ محمِد...</td>\n",
              "      <td>Culture</td>\n",
              "      <td>682</td>\n",
              "    </tr>\n",
              "    <tr>\n",
              "      <th>1</th>\n",
              "      <td>https://example.com/resource/اَنِطٌلقّتَ ٍفٍيّ...</td>\n",
              "      <td>Culture</td>\n",
              "      <td>370</td>\n",
              "    </tr>\n",
              "    <tr>\n",
              "      <th>2</th>\n",
              "      <td>https://example.com/resource/أُقيًمٌتِ مِساءُ ...</td>\n",
              "      <td>Culture</td>\n",
              "      <td>237</td>\n",
              "    </tr>\n",
              "    <tr>\n",
              "      <th>3</th>\n",
              "      <td>https://example.com/resource/بٍاسُمةَ يًوٌنٍس ...</td>\n",
              "      <td>Culture</td>\n",
              "      <td>342</td>\n",
              "    </tr>\n",
              "    <tr>\n",
              "      <th>4</th>\n",
              "      <td>https://example.com/resource/قُرر اَتحِاد اًلْ...</td>\n",
              "      <td>Culture</td>\n",
              "      <td>59</td>\n",
              "    </tr>\n",
              "  </tbody>\n",
              "</table>\n",
              "</div>\n",
              "    <div class=\"colab-df-buttons\">\n",
              "\n",
              "  <div class=\"colab-df-container\">\n",
              "    <button class=\"colab-df-convert\" onclick=\"convertToInteractive('df-bb0a489c-7c2d-4009-85a4-fe48d7026566')\"\n",
              "            title=\"Convert this dataframe to an interactive table.\"\n",
              "            style=\"display:none;\">\n",
              "\n",
              "  <svg xmlns=\"http://www.w3.org/2000/svg\" height=\"24px\" viewBox=\"0 -960 960 960\">\n",
              "    <path d=\"M120-120v-720h720v720H120Zm60-500h600v-160H180v160Zm220 220h160v-160H400v160Zm0 220h160v-160H400v160ZM180-400h160v-160H180v160Zm440 0h160v-160H620v160ZM180-180h160v-160H180v160Zm440 0h160v-160H620v160Z\"/>\n",
              "  </svg>\n",
              "    </button>\n",
              "\n",
              "  <style>\n",
              "    .colab-df-container {\n",
              "      display:flex;\n",
              "      gap: 12px;\n",
              "    }\n",
              "\n",
              "    .colab-df-convert {\n",
              "      background-color: #E8F0FE;\n",
              "      border: none;\n",
              "      border-radius: 50%;\n",
              "      cursor: pointer;\n",
              "      display: none;\n",
              "      fill: #1967D2;\n",
              "      height: 32px;\n",
              "      padding: 0 0 0 0;\n",
              "      width: 32px;\n",
              "    }\n",
              "\n",
              "    .colab-df-convert:hover {\n",
              "      background-color: #E2EBFA;\n",
              "      box-shadow: 0px 1px 2px rgba(60, 64, 67, 0.3), 0px 1px 3px 1px rgba(60, 64, 67, 0.15);\n",
              "      fill: #174EA6;\n",
              "    }\n",
              "\n",
              "    .colab-df-buttons div {\n",
              "      margin-bottom: 4px;\n",
              "    }\n",
              "\n",
              "    [theme=dark] .colab-df-convert {\n",
              "      background-color: #3B4455;\n",
              "      fill: #D2E3FC;\n",
              "    }\n",
              "\n",
              "    [theme=dark] .colab-df-convert:hover {\n",
              "      background-color: #434B5C;\n",
              "      box-shadow: 0px 1px 3px 1px rgba(0, 0, 0, 0.15);\n",
              "      filter: drop-shadow(0px 1px 2px rgba(0, 0, 0, 0.3));\n",
              "      fill: #FFFFFF;\n",
              "    }\n",
              "  </style>\n",
              "\n",
              "    <script>\n",
              "      const buttonEl =\n",
              "        document.querySelector('#df-bb0a489c-7c2d-4009-85a4-fe48d7026566 button.colab-df-convert');\n",
              "      buttonEl.style.display =\n",
              "        google.colab.kernel.accessAllowed ? 'block' : 'none';\n",
              "\n",
              "      async function convertToInteractive(key) {\n",
              "        const element = document.querySelector('#df-bb0a489c-7c2d-4009-85a4-fe48d7026566');\n",
              "        const dataTable =\n",
              "          await google.colab.kernel.invokeFunction('convertToInteractive',\n",
              "                                                    [key], {});\n",
              "        if (!dataTable) return;\n",
              "\n",
              "        const docLinkHtml = 'Like what you see? Visit the ' +\n",
              "          '<a target=\"_blank\" href=https://colab.research.google.com/notebooks/data_table.ipynb>data table notebook</a>'\n",
              "          + ' to learn more about interactive tables.';\n",
              "        element.innerHTML = '';\n",
              "        dataTable['output_type'] = 'display_data';\n",
              "        await google.colab.output.renderOutput(dataTable, element);\n",
              "        const docLink = document.createElement('div');\n",
              "        docLink.innerHTML = docLinkHtml;\n",
              "        element.appendChild(docLink);\n",
              "      }\n",
              "    </script>\n",
              "  </div>\n",
              "\n",
              "\n",
              "<div id=\"df-9658885d-5f8d-42d0-ade0-3383df25bc65\">\n",
              "  <button class=\"colab-df-quickchart\" onclick=\"quickchart('df-9658885d-5f8d-42d0-ade0-3383df25bc65')\"\n",
              "            title=\"Suggest charts\"\n",
              "            style=\"display:none;\">\n",
              "\n",
              "<svg xmlns=\"http://www.w3.org/2000/svg\" height=\"24px\"viewBox=\"0 0 24 24\"\n",
              "     width=\"24px\">\n",
              "    <g>\n",
              "        <path d=\"M19 3H5c-1.1 0-2 .9-2 2v14c0 1.1.9 2 2 2h14c1.1 0 2-.9 2-2V5c0-1.1-.9-2-2-2zM9 17H7v-7h2v7zm4 0h-2V7h2v10zm4 0h-2v-4h2v4z\"/>\n",
              "    </g>\n",
              "</svg>\n",
              "  </button>\n",
              "\n",
              "<style>\n",
              "  .colab-df-quickchart {\n",
              "      --bg-color: #E8F0FE;\n",
              "      --fill-color: #1967D2;\n",
              "      --hover-bg-color: #E2EBFA;\n",
              "      --hover-fill-color: #174EA6;\n",
              "      --disabled-fill-color: #AAA;\n",
              "      --disabled-bg-color: #DDD;\n",
              "  }\n",
              "\n",
              "  [theme=dark] .colab-df-quickchart {\n",
              "      --bg-color: #3B4455;\n",
              "      --fill-color: #D2E3FC;\n",
              "      --hover-bg-color: #434B5C;\n",
              "      --hover-fill-color: #FFFFFF;\n",
              "      --disabled-bg-color: #3B4455;\n",
              "      --disabled-fill-color: #666;\n",
              "  }\n",
              "\n",
              "  .colab-df-quickchart {\n",
              "    background-color: var(--bg-color);\n",
              "    border: none;\n",
              "    border-radius: 50%;\n",
              "    cursor: pointer;\n",
              "    display: none;\n",
              "    fill: var(--fill-color);\n",
              "    height: 32px;\n",
              "    padding: 0;\n",
              "    width: 32px;\n",
              "  }\n",
              "\n",
              "  .colab-df-quickchart:hover {\n",
              "    background-color: var(--hover-bg-color);\n",
              "    box-shadow: 0 1px 2px rgba(60, 64, 67, 0.3), 0 1px 3px 1px rgba(60, 64, 67, 0.15);\n",
              "    fill: var(--button-hover-fill-color);\n",
              "  }\n",
              "\n",
              "  .colab-df-quickchart-complete:disabled,\n",
              "  .colab-df-quickchart-complete:disabled:hover {\n",
              "    background-color: var(--disabled-bg-color);\n",
              "    fill: var(--disabled-fill-color);\n",
              "    box-shadow: none;\n",
              "  }\n",
              "\n",
              "  .colab-df-spinner {\n",
              "    border: 2px solid var(--fill-color);\n",
              "    border-color: transparent;\n",
              "    border-bottom-color: var(--fill-color);\n",
              "    animation:\n",
              "      spin 1s steps(1) infinite;\n",
              "  }\n",
              "\n",
              "  @keyframes spin {\n",
              "    0% {\n",
              "      border-color: transparent;\n",
              "      border-bottom-color: var(--fill-color);\n",
              "      border-left-color: var(--fill-color);\n",
              "    }\n",
              "    20% {\n",
              "      border-color: transparent;\n",
              "      border-left-color: var(--fill-color);\n",
              "      border-top-color: var(--fill-color);\n",
              "    }\n",
              "    30% {\n",
              "      border-color: transparent;\n",
              "      border-left-color: var(--fill-color);\n",
              "      border-top-color: var(--fill-color);\n",
              "      border-right-color: var(--fill-color);\n",
              "    }\n",
              "    40% {\n",
              "      border-color: transparent;\n",
              "      border-right-color: var(--fill-color);\n",
              "      border-top-color: var(--fill-color);\n",
              "    }\n",
              "    60% {\n",
              "      border-color: transparent;\n",
              "      border-right-color: var(--fill-color);\n",
              "    }\n",
              "    80% {\n",
              "      border-color: transparent;\n",
              "      border-right-color: var(--fill-color);\n",
              "      border-bottom-color: var(--fill-color);\n",
              "    }\n",
              "    90% {\n",
              "      border-color: transparent;\n",
              "      border-bottom-color: var(--fill-color);\n",
              "    }\n",
              "  }\n",
              "</style>\n",
              "\n",
              "  <script>\n",
              "    async function quickchart(key) {\n",
              "      const quickchartButtonEl =\n",
              "        document.querySelector('#' + key + ' button');\n",
              "      quickchartButtonEl.disabled = true;  // To prevent multiple clicks.\n",
              "      quickchartButtonEl.classList.add('colab-df-spinner');\n",
              "      try {\n",
              "        const charts = await google.colab.kernel.invokeFunction(\n",
              "            'suggestCharts', [key], {});\n",
              "      } catch (error) {\n",
              "        console.error('Error during call to suggestCharts:', error);\n",
              "      }\n",
              "      quickchartButtonEl.classList.remove('colab-df-spinner');\n",
              "      quickchartButtonEl.classList.add('colab-df-quickchart-complete');\n",
              "    }\n",
              "    (() => {\n",
              "      let quickchartButtonEl =\n",
              "        document.querySelector('#df-9658885d-5f8d-42d0-ade0-3383df25bc65 button');\n",
              "      quickchartButtonEl.style.display =\n",
              "        google.colab.kernel.accessAllowed ? 'block' : 'none';\n",
              "    })();\n",
              "  </script>\n",
              "</div>\n",
              "\n",
              "    </div>\n",
              "  </div>\n"
            ],
            "application/vnd.google.colaboratory.intrinsic+json": {
              "type": "dataframe",
              "variable_name": "df",
              "summary": "{\n  \"name\": \"df\",\n  \"rows\": 39885,\n  \"fields\": [\n    {\n      \"column\": \"text\",\n      \"properties\": {\n        \"dtype\": \"string\",\n        \"num_unique_values\": 39885,\n        \"samples\": [\n          \"https://example.com/resource/\\u0628\\u0652\\u0644\\u0650\\u063a\\u062a \\u064e\\u062a\\u0633\\u064e\\u064a\\u064a\\u0644\\u0651\\u0627\\u064b\\u062a\\u064d \\u0627\\u0652\\u0644\\u0623\\u0652\\u062c\\u064e\\u0627\\u0646\\u0651\\u0628\\u064e \\u064e\\u0641\\u064a \\u0633\\u064d\\u0648\\u0652\\u0642\\u0650 \\u064e\\u062f\\u0628\\u064a \\u0627\\u0644\\u0645\\u064d\\u0627\\u0650\\u0644\\u064d\\u064a\\u064d \\u0623\\u0645\\u064d\\u0633\\u064e 59\\u064f \\u0645\\u0644\\u064d\\u064a\\u0648\\u0646\\u0627\\u0650\\u064b\\u0652\\u060c \\u0651\\u0641\\u0651\\u0642\\u062f \\u0650\\u0628\\u0652\\u0644\\u064b\\u063a\\u062a \\u064b\\u0642\\u0651\\u064a\\u064f\\u0645\\u0651\\u0629\\u0651 \\u0645\\u064f\\u0634\\u064b\\u062a\\u064f\\u0631\\u0650\\u064a\\u0627\\u062a \\u064e\\u0627\\u0644\\u0652\\u0623\\u062c\\u0627\\u064d\\u0646\\u064d\\u0628\\u064b\\u060c\\u064b \\u063a\\u0652\\u064a\\u0651\\u0631\\u064d \\u0627\\u0652\\u0644\\u0639\\u0631\\u064c\\u0628\\u060c\\u064f \\u0645\\u0650\\u0646\\u0651 \\u064c\\u0627\\u0644\\u0623\\u0633\\u064c\\u0647\\u064d\\u0645 \\u064c\\u062e\\u064f\\u0644\\u0627\\u064c\\u0644\\u064f \\u0647\\u0650\\u0630\\u064e\\u0627 \\u0627\\u064c\\u0644\\u064a\\u0648\\u0650\\u0645 \\u064d\\u0646\\u064b\\u062d\\u064c\\u0648 9\\u064b4\\u064d \\u064e.\\u065113\\u06526 \\u0645\\u0644\\u0652\\u064a\\u064c\\u0648\\u064b\\u0646\\u064c \\u062f\\u0631\\u0647\\u0645 \\u0641\\u064a\\u0651 \\u0652\\u062d\\u0652\\u064a\\u064f\\u0646\\u0651 \\u0628\\u0644\\u063a\\u064e\\u062a\\u064d \\u064b\\u0642\\u064c\\u064a\\u0645\\u0629\\u064c \\u064b\\u0645\\u064b\\u0628\\u064a\\u0639\\u0627\\u062a\\u0647\\u0645\\u064e \\u0646\\u064b\\u062d\\u0648\\u0652 2\\u06500 .22\\u064b6 \\u0650\\u0645\\u064b\\u0644\\u064a\\u0651\\u0648\\u0646 \\u0652\\u062f\\u0631\\u0650\\u0647\\u0645\\u064f .\\u064f \\u0643\\u0645\\u0627 \\u0650\\u0628\\u0644\\u064e\\u063a\\u064b\\u062a \\u0642\\u0652\\u064a\\u0645\\u0629\\u0650 \\u0645\\u064d\\u0634\\u064b\\u062a\\u064c\\u0631\\u0652\\u064a\\u0627\\u062a \\u064b\\u0627\\u0644\\u0645\\u0633\\u064d\\u062a\\u062b\\u064f\\u0645\\u064b\\u0631\\u064b\\u064a\\u064b\\u0646\\u064b \\u0627\\u0644\\u0652\\u0639\\u0650\\u0631\\u0650\\u0628\\u060c\\u064b \\u064f\\u063a\\u064a\\u0631 \\u0651\\u0627\\u0644\\u0652\\u062e\\u0644\\u064d\\u064a\\u064f\\u062c\\u064d\\u064a\\u064a\\u0651\\u0646\\u0650\\u060c\\u0651 \\u062e\\u0644\\u0627\\u0644 \\u0647\\u0650\\u0630\\u0627 \\u0650\\u0627\\u0644\\u0652\\u064a\\u064b\\u0648\\u0645 \\u0646\\u064f\\u062d\\u064d\\u0648\\u064f 07\\u064e .7\\u064c2\\u0650 \\u0645\\u0644\\u064e\\u064a\\u064c\\u0648\\u0646\\u0652 \\u0652\\u062f\\u0631\\u0647\\u064e\\u0645 \\u064d\\u0648\\u0642\\u064b\\u064a\\u0645\\u064c\\u0629\\u064c \\u0645\\u0652\\u0628\\u064e\\u064a\\u064f\\u0639\\u064e\\u0627\\u064b\\u062a\\u0651\\u0647\\u0645 \\u0646\\u062d\\u0648\\u064c \\u065281\\u064b \\u0650.6\\u06504\\u064e \\u064e\\u0645\\u0644\\u064f\\u064a\\u064c\\u0648\\u0646\\u0651 \\u062f\\u064b\\u0631\\u0647\\u064e\\u0645\\u064e .\\u0623\\u064b\\u0645\\u0651\\u0627\\u0652 \\u0652\\u0628\\u0651\\u0627\\u064c\\u0644\\u064e\\u0646\\u064f\\u0633\\u064d\\u0628\\u0629\\u064e \\u064c\\u0644\\u0644\\u0651\\u0645\\u064d\\u0633\\u064c\\u062a\\u064b\\u062b\\u0652\\u0645\\u0631\\u064b\\u064a\\u0646 \\u0652\\u0627\\u0644\\u062e\\u064c\\u0644\\u064a\\u064e\\u062c\\u064a\\u0650\\u064a\\u0646\\u064c \\u064f\\u0641\\u064b\\u0642\\u062f \\u0628\\u0644\\u064b\\u063a\\u0652\\u062a \\u0642\\u064a\\u0645\\u0629 \\u0645\\u0634\\u0652\\u062a\\u064e\\u0631\\u064c\\u064a\\u064f\\u0627\\u064e\\u062a\\u0647\\u0645\\u064b \\u064b9\\u064b1\\u064f \\u0651.4\\u064d3\\u064d \\u0645\\u0650\\u0644\\u064a\\u0648\\u064c\\u0646 \\u064c\\u062f\\u0631\\u0647\\u0645 \\u0641\\u064a\\u064f \\u062d\\u064a\\u0651\\u0646\\u064b \\u064e\\u0628\\u0644\\u064b\\u063a\\u064c\\u062a \\u064b\\u0642\\u064c\\u064a\\u0645\\u064d\\u0629\\u0651 \\u0645\\u0652\\u0628\\u0651\\u064a\\u0652\\u0639\\u0652\\u0627\\u064c\\u062a\\u064c\\u0647\\u0645\\u0652 \\u064f\\u0646\\u064e\\u062d\\u0650\\u0648 4\\u064f8 \\u064f.21\\u064c \\u0645\\u0644\\u064a\\u0648\\u064f\\u0646 \\u064e\\u062f\\u064e\\u0631\\u064d\\u0647\\u064e\\u0645 \\u064e\\u062e\\u0644\\u064c\\u0627\\u0644 \\u0650\\u0646\\u064c\\u0641\\u0633 \\u064f\\u0627\\u0652\\u0644\\u0651\\u0641\\u062a\\u0631\\u0652\\u0629\\u064c .\",\n          \"https://example.com/resource/\\u062f\\u0628\\u0650\\u064a\\u0650 - \\u0625\\u0650\\u0628\\u064d\\u0631\\u0650\\u0627\\u0647\\u064f\\u064a\\u064c\\u0645\\u0652 \\u0651\\u0627\\u0644\\u064f\\u064a\\u064b\\u0648\\u0633\\u0651\\u0641:\\u064e\\u0628\\u064d\\u062d\\u0636\\u0648\\u0652\\u0631\\u0650 \\u0645\\u064e\\u062d\\u064d\\u0645\\u062f\\u064e \\u0627\\u064d\\u0644\\u0645\\u0652\\u0631\\u060c \\u0631\\u0626\\u064a\\u0633\\u0651 \\u0627\\u0644\\u0645\\u064c\\u062c\\u064c\\u0644\\u064b\\u0633 \\u0627\\u064c\\u0644\\u0648\\u064d\\u0637\\u064b\\u0646\\u064f\\u064a\\u064d \\u0627\\u0644\\u064e\\u0627\\u062a\\u064b\\u062d\\u0652\\u0627\\u062f\\u064a\\u0650\\u060c\\u064e \\u0648\\u0650\\u0627\\u0651\\u0644\\u064c\\u0642\\u0646\\u0652\\u0635\\u0644 \\u0627\\u0644\\u0639\\u0627\\u0652\\u0645\\u0650 \\u064b\\u0627\\u064d\\u0644\\u0651\\u0643\\u0651\\u0648\\u064a\\u0651\\u062a\\u064e\\u064a\\u064c\\u060c \\u0630\\u064d\\u064a\\u064c\\u0627\\u0628\\u0651 \\u0651\\u0641\\u0631\\u062d\\u0627\\u064e\\u0646 \\u064c\\u0627\\u0652\\u0644\\u0631\\u0634\\u064a\\u0652\\u062f\\u064a\\u0651\\u060c \\u064b\\u0648\\u0633\\u064e\\u0644\\u0651\\u0637\\u0627\\u064b\\u0646\\u064d \\u0627\\u064c\\u0644\\u0652\\u0633\\u0648\\u064f\\u064a\\u062f\\u064d\\u064a \\u064d\\u0631\\u0652\\u0626\\u064a\\u064b\\u0633\\u0652 \\u0645\\u062c\\u064b\\u0644\\u064d\\u0633\\u0650 \\u0625\\u062f\\u0631\\u064d\\u0627\\u0629 \\u0646\\u064b\\u062f\\u0648\\u064e\\u0629\\u064b \\u0627\\u064b\\u0644\\u064c\\u062b\\u0642\\u0627\\u064d\\u0641\\u0629\\u064e \\u064e\\u0648\\u0627\\u064e\\u0644\\u0639\\u0644\\u0648\\u0645\\u060c \\u0648\\u0623\\u0639\\u0652\\u0636\\u0652\\u0627\\u0621 \\u0650\\u0645\\u064d\\u062c\\u064d\\u0644\\u064b\\u0633\\u0650 \\u0627\\u0644\\u0625\\u0651\\u062f\\u0652\\u0627\\u0631\\u064e\\u0629\\u064d\\u060c \\u0625\\u0652\\u0636\\u0627\\u0650\\u0641\\u0629\\u064d \\u0625\\u0644\\u0650\\u0649\\u064f \\u0637\\u0650\\u064a\\u064f\\u0641\\u064b \\u0648\\u0627\\u0633\\u064f\\u0639 \\u0650\\u0648\\u064d\\u0644\\u0627\\u0641\\u0652\\u062a \\u0645\\u0646\\u0651 \\u064d\\u0627\\u0644\\u064e\\u0643\\u0651\\u062a\\u0651\\u064c\\u0627\\u0651\\u0628\\u0650 \\u0648\\u064d\\u0627\\u064b\\u0644\\u0645\\u062b\\u064e\\u0642\\u0641\\u064b\\u064a\\u0646 \\u0648\\u0650\\u0627\\u0644\\u0625\\u0639\\u064e\\u0644\\u0627\\u0645\\u064a\\u064a\\u064d\\u0646 \\u0645\\u064c\\u0646\\u064d \\u0627\\u064e\\u0644\\u0650\\u0628\\u064d\\u0644\\u062f\\u064a\\u0646 . \\u0634\\u0647\\u062f\\u062a\\u064f \\u064e\\u0627\\u064d\\u0644\\u0652\\u0646\\u0650\\u062f\\u0648\\u064c\\u0629\\u064f\\u060c\\u064d \\u0645\\u064c\\u0633\\u0627\\u0621 \\u0650\\u0623\\u0645\\u0633\\u064b \\u0651\\u0627\\u064b\\u0644\\u0652\\u0623\\u064e\\u0648\\u064e\\u0644\\u060c\\u064b \\u0650\\u0627\\u0652\\u062e\\u062a\\u064e\\u062a\\u0652\\u0627\\u0645\\u0651 \\u0641\\u0639\\u0627\\u064e\\u0644\\u064a\\u0627\\u062a\\u064b \\u064e\\u0645\\u0647\\u0650\\u0631\\u064b\\u062c\\u0650\\u0627\\u0646\\u064f \\u064d\\\"\\u064c\\u0643\\u0648\\u0650\\u064a\\u062a\\u064e \\u0627\\u0644\\u0633\\u0644\\u0627\\u064e\\u0645 - \\u0625\\u064b\\u0645\\u0652\\u0627\\u0631\\u064f\\u0627\\u062a \\u064c\\u0627\\u064f\\u0644\\u0650\\u0648\\u064d\\u0641\\u0627\\u0621\\u0650\\\"\\u060c\\u064e \\u0628\\u064c\\u0631\\u0639\\u064d\\u0627\\u064a\\u064d\\u0629 \\u0648\\u064f\\u062a\\u0646\\u0638\\u064a\\u064f\\u0645 \\u0647\\u064a\\u0626\\u0629 \\u062f\\u064b\\u0628\\u064a\\u0652 \\u0644\\u0644\\u064b\\u062b\\u064d\\u0642\\u0627\\u0641\\u0651\\u0629 \\u0648\\u0627\\u0644\\u0652\\u0641\\u0646\\u0648\\u0646 \\u0628\\u0627\\u064c\\u0644\\u062a\\u0639\\u0627\\u0648\\u064d\\u0646 \\u064f\\u0645\\u0650\\u0639\\u064b \\u064c\\u0627\\u0644\\u0642\\u0652\\u0646\\u0635\\u0652\\u0644\\u064b\\u064a\\u064c\\u0629 \\u064c\\u0627\\u0651\\u0644\\u064b\\u0639\\u0627\\u064c\\u0645\\u0629\\u064d \\u0644\\u0650\\u062f\\u0652\\u0648\\u064b\\u0644\\u064b\\u0629\\u064c \\u0652\\u0627\\u0651\\u0644\\u0643\\u0648\\u064a\\u062a \\u064c\\u0641\\u0650\\u064a\\u064f \\u064e\\u0625\\u064d\\u0645\\u0651\\u0627\\u064e\\u0631\\u0629\\u064f \\u062f\\u064c\\u0628\\u064f\\u064a\\u060c\\u0652 \\u0648\\u0651\\u062a\\u0636\\u0645\\u064c\\u0646\\u0651 \\u064d\\u0641\\u0639\\u064d\\u0627\\u064f\\u0644\\u064d\\u064a\\u064e\\u0627\\u062a \\u064f\\u062b\\u0642\\u0651\\u0627\\u064f\\u0641\\u064a\\u0629\\u064e \\u0641\\u0646\\u064a\\u0652\\u0629\\u0650\\u060c \\u0650\\u0648\\u063a\\u064a\\u0631\\u0647\\u0650\\u0627\\u0651 \\u064d.\\u0648\\u0651\\u062a\\u0652\\u0636\\u064c\\u0645\\u0646\\u0651\\u062a\\u064b \\u064e\\u0627\\u0644\\u0641\\u0651\\u0639\\u064e\\u0627\\u0644\\u064d\\u064a\\u0627\\u064c\\u062a\\u0650 \\u0650\\u0639\\u064e\\u0631\\u0636 \\u0641\\u064a\\u0644\\u064f\\u0645 \\u0652\\u0648\\u064b\\u062b\\u0627\\u064e\\u0626\\u064f\\u0642\\u064f\\u064a\\u064f \\u0639\\u064e\\u0646\\u064f \\u064f\\u0627\\u0644\\u062a\\u064d\\u0639\\u064c\\u0627\\u0648\\u064d\\u0646\\u0650 \\u064d\\u0627\\u064c\\u0644\\u0623\\u062e\\u0648\\u064a \\u064f\\u0628\\u0651\\u064a\\u0652\\u0646\\u064b \\u0652\\u0627\\u0644\\u064e\\u0628\\u0644\\u064f\\u062f\\u0650\\u064a\\u064d\\u0646\\u064b \\u0651\\u0627\\u0650\\u0644\\u0634\\u0642\\u0651\\u064a\\u064c\\u0642\\u064e\\u064a\\u0646\\u0650\\u060c \\u064d\\u0642\\u0631\\u0623\\u0651 \\u064c\\u0628\\u0650\\u0639\\u064f\\u062f \\u064b\\u0630\\u064f\\u0644\\u0651\\u0643\\u064f \\u0651\\u0639\\u0628\\u064f\\u062f\\u0627\\u0650\\u0644\\u0644\\u0647 \\u064f\\u0627\\u0644\\u064c\\u0645\\u0637\\u0651\\u064a\\u0631\\u064d\\u064a\\u0650 \\u0643\\u064e\\u0644\\u0645\\u0652\\u0629\\u064c \\u0647\\u064a\\u0650\\u0626\\u0629 \\u062f\\u0628\\u064b\\u064a\\u064e \\u0644\\u0644\\u064b\\u062b\\u0642\\u0627\\u0641\\u0629\\u060c\\u064f \\u062a\\u062d\\u064f\\u062f\\u062b\\u064e \\u064c\\u0641\\u064a\\u0652\\u0647\\u0652\\u0627\\u064c \\u0639\\u0652\\u0646 \\u064f\\u0627\\u0652\\u0644\\u0639\\u0650\\u0644\\u0627\\u0642\\u0627\\u062a \\u0651\\u0627\\u0651\\u0644\\u064d\\u062b\\u0642\\u0650\\u0627\\u0641\\u064a\\u0651\\u0629 \\u0628\\u064b\\u064a\\u0646 \\u064e\\u0627\\u0644\\u0628\\u064b\\u0644\\u0651\\u062f\\u0652\\u064a\\u064d\\u0646\\u064c\\u060c \\u0648\\u064e\\u0643\\u064e\\u064a\\u0651\\u0641 \\u0623\\u0646 \\u0627\\u064e\\u0644\\u064d\\u0643\\u0648\\u064e\\u064a\\u0650\\u062a \\u062f\\u0639\\u0645\\u0651\\u062a\\u064d \\u0650\\u0627\\u0644\\u062d\\u0631\\u0652\\u0643\\u064b\\u0629\\u064b \\u0627\\u064d\\u0644\\u062b\\u0652\\u0642\\u064c\\u0627\\u0641\\u064a\\u0652\\u0629\\u0652 \\u064d\\u0648\\u0627\\u0650\\u0644\\u0651\\u062a\\u0639\\u0651\\u0644\\u064a\\u064f\\u0645\\u064a\\u0629 \\u0641\\u064a \\u0627\\u0644\\u0625\\u0645\\u0627\\u064e\\u0631\\u0627\\u064c\\u062a\\u060c\\u064d \\u064d\\u0648\\u0651\\u0623\\u064f\\u0646\\u064e\\u0634\\u0623\\u062a\\u0651 \\u0641\\u064a\\u064e\\u0647\\u0651\\u0627 \\u064b\\u0627\\u064c\\u0644\\u064f\\u0645\\u064f\\u062f\\u0627\\u064f\\u0631\\u0651\\u0633\\u064b\\u060c\\u0652 \\u064c\\u0625\\u0644\\u064f\\u0649 \\u0651\\u062c\\u0627\\u064b\\u0646\\u0650\\u0628 \\u064c\\u063a\\u0652\\u064a\\u064e\\u0631\\u0647\\u0650\\u0627\\u064c \\u0645\\u0646\\u064c \\u0650\\u0627\\u0644\\u0645\\u064c\\u0631\\u064d\\u0627\\u0641\\u064e\\u0642 \\u0627\\u0651\\u0644\\u0636\\u0631\\u0652\\u0648\\u0631\\u064d\\u064a\\u0650\\u0629\\u064e .\\u064c\\u0628\\u064c\\u0639\\u064b\\u062f\\u0652 \\u0630\\u064f\\u0644\\u0643 \\u0628\\u062f\\u0623\\u0650\\u062a \\u0641\\u064f\\u0639\\u0650\\u0627\\u064c\\u0644\\u064a\\u0627\\u0651\\u062a \\u0627\\u0644\\u064d\\u0646\\u0652\\u062f\\u0648\\u064c\\u0629 \\u0651\\u0627\\u0651\\u0644\\u064b\\u062a\\u064e\\u064a \\u064f\\u0623\\u062f\\u064e\\u0627\\u064c\\u0631\\u0647\\u0627 \\u0651\\u0639\\u0644\\u064e\\u064a\\u064c \\u064c\\u0639\\u064f\\u0628\\u064f\\u064a\\u0651\\u062f \\u0627\\u0644\\u064f\\u0647\\u0650\\u0627\\u0650\\u0645\\u0644\\u064d\\u064a\\u0651\\u060c\\u0651 \\u0652\\u0628\\u0639\\u0651\\u0646\\u064e\\u0648\\u064c\\u0627\\u0651\\u0646 \\\"\\u0650\\u0645\\u0633\\u064a\\u0631\\u064b\\u0629 \\u0627\\u064e\\u0644\\u0652\\u0639\\u0652\\u0644\\u0627\\u064e\\u0642\\u0627\\u062a\\u0651 \\u0627\\u0650\\u0644\\u0625\\u0645\\u0627\\u0652\\u0631\\u0627\\u062a\\u064a\\u0629\\u0651 \\u064b- \\u064c\\u0627\\u0651\\u0644\\u0652\\u0643\\u0648\\u064a\\u062a\\u064e\\u064a\\u064b\\u0629\\\" \\u0648\\u064b\\u0634\\u0627\\u0631\\u0643 \\u064c\\u0641\\u064c\\u064a\\u0647\\u064e\\u0627\\u0651 \\u0643\\u0644\\u064b \\u064e\\u0645\\u0646\\u0651 \\u0650\\u062f\\u0652 . \\u0639\\u0652\\u0628\\u062f\\u0650\\u0627\\u0652\\u0644\\u0644\\u064f\\u0647\\u064c \\u0627\\u0644\\u063a\\u064c\\u0646\\u064a\\u0645 \\u064e(\\u0651\\u0627\\u0644\\u0643\\u0648\\u064f\\u064a\\u064f\\u062a)\\u064f \\u064e\\u0648\\u0628\\u0644\\u0627\\u0644\\u064f \\u0651\\u0627\\u0652\\u0644\\u064f\\u0628\\u0652\\u062f\\u064b\\u0648\\u0631\\u064c \\u0646\\u064b\\u0627\\u064b\\u0626\\u0628 \\u0631\\u064d\\u0626\\u064a\\u064c\\u0633\\u064f \\u0645\\u062c\\u064e\\u0644\\u0633 \\u0625\\u062f\\u0650\\u0627\\u0652\\u0631\\u0652\\u0629\\u064d \\u064d\\u0646\\u064d\\u062f\\u064b\\u0648\\u0629\\u064f \\u0627\\u0644\\u062b\\u0642\\u0627\\u0641\\u0629\\u064e \\u0650\\u0627\\u0644\\u064d\\u0639\\u0652\\u0644\\u064d\\u0648\\u0645\\u064c\\u060c \\u062d\\u0652\\u064a\\u0650\\u062b \\u064d\\u0633\\u0650\\u0644\\u0637\\u064f \\u064b\\u0627\\u0644\\u0647\\u064e\\u0627\\u064c\\u0645\\u064c\\u0644\\u064a \\u0650\\u0627\\u0644\\u0636\\u0648\\u0621\\u064d \\u0639\\u0650\\u0644\\u064b\\u0649\\u0650 \\u0650\\u0627\\u0651\\u0644\\u0633\\u0652\\u064a\\u0631\\u0651\\u0629\\u064b \\u064f\\u0627\\u064b\\u0644\\u064b\\u0645\\u064e\\u0639\\u064b\\u0631\\u0641\\u064a\\u0629\\u0650 \\u064b\\u0644\\u064c\\u0643\\u064b\\u0644\\u064e\\u0627\\u064d \\u0627\\u0650\\u0644\\u0650\\u0643\\u0651\\u0627\\u064e\\u062a\\u0628\\u064a\\u0646 \\u062f .\\u064b \\u064c\\u0627\\u0644\\u0651\\u063a\\u064e\\u0646\\u064d\\u064a\\u064b\\u0645 \\u0650\\u0648\\u0651\\u0627\\u064f\\u0644\\u0628\\u0652\\u062f\\u0648\\u064e\\u0631 .\\u0651 \\u064d\\u0648\\u064b\\u0645\\u0645\\u0627\\u0652 \\u0642\\u0627\\u0644\\u0647 \\u0651\\u0627\\u064e\\u0644\\u0647\\u0627\\u0651\\u0645\\u064b\\u0644\\u064a\\u0651 \\u0641\\u064a\\u064e \\u0645\\u064c\\u0642\\u0651\\u062f\\u0652\\u0645\\u062a\\u0652\\u0647:\\u0651 \\u064b\\u0627\\u0644\\u0643\\u0648\\u064a\\u064b\\u062a \\u064f\\u062a\\u064d\\u0631\\u0643\\u062a \\u0628\\u064c\\u0635\\u0645\\u064d\\u0627\\u064e\\u062a\\u0651\\u0647\\u064c\\u0627\\u064d \\u0639\\u0645\\u064a\\u0651\\u0642\\u064f\\u0627\\u064b\\u064b \\u0639\\u064d\\u0644\\u064c\\u064a\\u0646\\u0627 \\u064c\\u0641\\u064a \\u062f\\u0648\\u0644\\u0651\\u0629 \\u064b\\u0627\\u064d\\u0644\\u064c\\u0625\\u064e\\u0645\\u0627\\u064b\\u0631\\u0627\\u062a\\u060c\\u064e \\u0652\\u0648\\u064c\\u0623\\u0643\\u064e\\u0628\\u0651\\u0631 \\u064c\\u062f\\u0644\\u064a\\u0644\\u064f \\u0650\\u0639\\u0644\\u064d\\u0649\\u064e \\u0650\\u0630\\u0644\\u0643\\u0650 \\u064f\\u0623\\u0651\\u0646 \\u0647\\u0646\\u0627\\u0643\\u064f \\u0652\\u062c\\u064a\\u064e\\u0644\\u064d\\u0627\\u0652\\u064b \\u0625\\u0645\\u0627\\u064f\\u0631\\u064f\\u0627\\u062a\\u064a\\u064d\\u0627\\u064b\\u064f \\u0652\\u0643\\u0627\\u0645\\u064b\\u0644\\u064d\\u0627\\u064d\\u064b\\u064f \\u062a\\u064e\\u0641\\u062a\\u062d\\u0651\\u062a\\u0651 \\u064b\\u0645\\u0650\\u062f\\u0652\\u0627\\u0631\\u0652\\u0643\\u0647\\u064b \\u0639\\u0644\\u0652\\u0649 \\u0651\\u0645\\u064b\\u0627\\u064e \\u0628\\u062b\\u064f\\u062a\\u064c\\u0647\\u064d \\u0627\\u064c\\u0644\\u0650\\u0643\\u064c\\u0648\\u064a\\u062a \\u0652\\u0645\\u0651\\u0646\\u064b \\u064b\\u062a\\u0639\\u0644\\u064a\\u064e\\u0645 \\u064d\\u0648\\u064f\\u062b\\u064c\\u0642\\u0627\\u0641\\u0651\\u0629\\u064d \\u0641\\u064a\\u064d \\u064c\\u0627\\u0644\\u0625\\u064c\\u0645\\u0651\\u0627\\u064b\\u0631\\u0627\\u064c\\u062a\\u064c\\u060c\\u064f \\u0650\\u062c\\u064a\\u0644 \\u0650\\u0643\\u064b\\u0627\\u064f\\u0645\\u0644\\u060c\\u0651 \\u064c\\u062a\\u0652\\u0639\\u0644\\u0645 \\u0648\\u0641\\u0652\\u0642 \\u0651\\u0645\\u0651\\u0646\\u064d\\u0627\\u0650\\u0647\\u064c\\u062c\\u064f \\u0627\\u0644\\u0643\\u0652\\u0648\\u064a\\u062a \\u0627\\u064c\\u0644\\u062a\\u0639\\u0644\\u064a\\u064c\\u0645\\u064c\\u064a\\u064d\\u0629 \\u064c.\\u064e\\u0648\\u0623\\u0634\\u0627\\u0651\\u062f\\u064d \\u064e\\u062f \\u064e.\\u064d \\u0627\\u064e\\u0644\\u063a\\u0646\\u064b\\u064a\\u0645 \\u0650\\u0628\\u0627\\u064c\\u0644\\u062d\\u064a\\u0627\\u0629\\u0650 \\u0651\\u0627\\u0644\\u062a\\u0652\\u0639\\u064b\\u0644\\u064a\\u064f\\u0645\\u064a\\u0629\\u064f \\u0627\\u0644\\u062b\\u0642\\u064b\\u0627\\u064f\\u0641\\u0651\\u064a\\u0629\\u0650 \\u0652\\u0641\\u064e\\u064a\\u064e \\u064f\\u0627\\u0644\\u064c\\u0625\\u0645\\u064b\\u0627\\u0631\\u064c\\u0627\\u062a\\u060c\\u064d \\u0651\\u0648\\u064c\\u0631\\u0623\\u0649\\u064f \\u064e\\u0623\\u064e\\u0646\\u0651\\u0647\\u0627\\u064e \\u062c\\u062f \\u0652\\u0645\\u062a\\u0637\\u0648\\u0631\\u064d\\u0629\\u0652\\u060c\\u0650 \\u0648\\u064e\\u0623\\u0650\\u062f\\u064c\\u0644\\u0649\\u0652 \\u0651\\u0628\\u0623\\u064c\\u0645\\u062b\\u0650\\u0644\\u0629 \\u064c\\u0645\\u0647\\u0651\\u0645\\u0629\\u064f \\u0650\\u0639\\u064f\\u0644\\u0651\\u0649 \\u0630\\u0650\\u0644\\u064e\\u0643\\u064c\\u060c\\u064c \\u0648\\u064c\\u0645\\u064d\\u0646\\u0647\\u0627 \\u0651\\u0623\\u0646 \\u0627\\u0650\\u0644\\u064e\\u0643\\u062b\\u064b\\u064a\\u0631\\u064a\\u064b\\u0646\\u064e \\u064c\\u0645\\u0646\\u0650 \\u0623\\u0628\\u064c\\u0646\\u064e\\u0627\\u0621\\u064f \\u0650\\u0627\\u0644\\u064b\\u0643\\u0648\\u064e\\u064a\\u0650\\u062a \\u0628\\u0627\\u062a\\u064b\\u0648\\u0627 \\u064a\\u064e\\u062a\\u0652\\u0627\\u0652\\u0628\\u0639\\u0650\\u0648\\u0652\\u0646 \\u0652\\u062a\\u062d\\u0652\\u0635\\u064a\\u0644\\u0647\\u0650\\u0645\\u0651 \\u064d\\u0627\\u0651\\u0644\\u0645\\u0639\\u064d\\u0631\\u064f\\u0641\\u064e\\u064a\\u064d \\u064d\\u0641\\u064c\\u064a \\u062c\\u064f\\u0627\\u064e\\u0645\\u0639\\u064d\\u0627\\u064b\\u062a \\u0627\\u0652\\u0644\\u0625\\u0645\\u0650\\u0627\\u0631\\u0627\\u062a\\u0652\\u060c\\u064e \\u0645\\u0646\\u0650 \\u062f\\u064f\\u0648\\u0646\\u064b \\u064e\\u0623\\u064e\\u0646 \\u064f\\u064a\\u064f\\u0634\\u064f\\u0639\\u064f\\u0631\\u0651\\u0648\\u064d\\u0627 \\u0625\\u0644\\u064d\\u0627\\u0650 \\u0628\\u0651\\u0623\\u0646\\u064b\\u0647\\u064c\\u0645\\u064b \\u0641\\u0650\\u064a \\u0628\\u064b\\u064a\\u0648\\u062a\\u0650\\u0647\\u064e\\u0645\\u0651\\u060c \\u0652\\u0648\\u0647\\u0648\\u064e \\u064f\\u0645\\u062f\\u064c\\u0639\\u064c\\u0627\\u064e\\u0629\\u0651 \\u064d\\u0633\\u064b\\u0639\\u0627\\u0650\\u062f\\u0629 \\u064d\\u0623\\u0633\\u0631\\u064d\\u0647\\u0645\\u0651\\u060c \\u0628\\u0652\\u0644 \\u0650\\u0628\\u0644\\u0651\\u062f\\u0647\\u0645\\u064b \\u064d\\u0628\\u0643\\u0627\\u064d\\u0645\\u064d\\u0644\\u0647 \\u064f.\\u0648\\u0642\\u0627\\u0644: \\u0644\\u0645\\u064f \\u064f\\u0623\\u064c\\u0631\\u062f\\u064c \\u064c\\u0623\\u0646\\u0650 \\u064d\\u0623\\u0633\\u064e\\u0645\\u064e\\u064a\\u0652 \\u0646\\u064e\\u062f\\u0650\\u0648\\u062a\\u0650\\u0646\\u0627 \\u0647\\u064b\\u0630\\u0651\\u0647\\u064f \\u0628\\u0627\\u0644\\u062d\\u0648\\u0651\\u0627\\u0652\\u0631\\u064b\\u064a\\u0629\\u0651\\u060c\\u064c \\u0628\\u0650\\u064a\\u0650\\u0646 \\u0645\\u0652\\u062b\\u064e\\u0642\\u0652\\u0641\\u064d\\u064a\\u0650\\u0646\\u0651 \\u0645\\u0650\\u0646\\u064d \\u0628\\u0644\\u062f\\u064a\\u064e\\u0646\\u0627:\\u064b \\u064b\\u0627\\u0644\\u064e\\u0643\\u0648\\u0650\\u064a\\u062a\\u0652 \\u0652\\u0648\\u0627\\u0652\\u0644\\u0625\\u0645\\u064c\\u0627\\u0631\\u0627\\u064c\\u062a\\u060c\\u064f \\u064b\\u0644\\u0623\\u0646 \\u0627\\u0644\\u062d\\u0648\\u064f\\u0627\\u0652\\u0631\\u060c\\u064f \\u0650\\u064a\\u062a\\u0645 \\u064c\\u0639\\u064f\\u0627\\u0650\\u062f\\u0629\\u064d\\u060c \\u0652\\u0628\\u064a\\u064e\\u0646\\u064c \\u0645\\u0650\\u0646\\u064b \\u0652\\u0647\\u064b\\u0645\\u064d \\u0645\\u062e\\u062a\\u064d\\u0644\\u0641\\u0648\\u0646\\u060c \\u0628\\u064a\\u0646 \\u0650\\u0645\\u064c\\u0646 \\u062a\\u064c\\u0643\\u0650\\u0648\\u0646\\u064c \\u064e\\u0647\\u064f\\u0646\\u0627\\u0643 \\u062a\\u0646\\u0627\\u0642\\u0650\\u0636\\u0627\\u062a \\u064b\\u0641\\u064f\\u064a\\u0651\\u0645\\u0627\\u064b \\u0650\\u0628\\u064a\\u0646\\u0652\\u0647\\u0645\\u060c \\u0625\\u0651\\u0646\\u0646\\u064e\\u0627\\u0650 \\u0650\\u0646\\u062a\\u062d\\u062f\\u064c\\u062b \\u064b\\u0636\\u0652\\u0645\\u0646 \\u0652\\u0625\\u0637\\u0652\\u0627\\u0650\\u0631\\u0651 \\u064c\\u0627\\u064c\\u0644\\u064e\\u0628\\u064e\\u064a\\u064b\\u062a\\u0650 \\u064c\\u0627\\u0644\\u0648\\u0652\\u0627\\u062d\\u0651\\u062f\\u060c \\u064f\\u0636\\u064e\\u0645\\u064c\\u0646\\u0650 \\u0625\\u0637\\u0627\\u0631 \\u0627\\u0644\\u064b\\u0623\\u0633\\u064c\\u0631\\u064f\\u0629 \\u0627\\u0644\\u0652\\u0648\\u0650\\u0627\\u062d\\u062f\\u0629\\u060c\\u0651 \\u0648\\u064f\\u0647\\u0646\\u064b\\u0627\\u0650 \\u0627\\u0650\\u0644\\u0641\\u0631\\u0642\\u064f \\u0628\\u064b\\u064a\\u0646\\u064c \\u064c\\u0637\\u064d\\u0628\\u064a\\u0639\\u0629 \\u0651\\u062d\\u062f\\u064a\\u064f\\u062b\\u0646\\u0651\\u0627\\u060c\\u0652 \\u0648\\u0635\\u0641\\u0629\\u064b \\u0627\\u0644\\u062d\\u0650\\u0648\\u0627\\u0631\\u0652 \\u0650.\\u0651\\u0648\\u062a\\u0627\\u0628\\u0651\\u0639\\u064b \\u062f . \\u0627\\u064f\\u0644\\u063a\\u0646\\u064a\\u064f\\u0645 \\u064f\\u0642\\u0651\\u0627\\u0626\\u0644\\u0627\\u064d\\u064b:\\u064d \\u0650\\u0645\\u0652\\u0631\\u0643\\u0650\\u0632 \\u0627\\u064c\\u0644\\u064b\\u0628\\u062d\\u0648\\u064c\\u062b \\u064e\\u0648\\u0627\\u064d\\u0644\\u062f\\u0631\\u064b\\u0627\\u064f\\u0633\\u0627\\u062a\\u0650 \\u0627\\u064c\\u0644\\u0643\\u0650\\u0648\\u064a\\u0650\\u062a\\u064c\\u064a\\u064b \\u064c\\u062c\\u0651\\u0645\\u064b\\u0639\\u0651 \\u0623\\u064d\\u0643\\u0650\\u062b\\u0651\\u0631 \\u064b\\u0645\\u0646 \\u064e\\u0645\\u0644\\u064b\\u064a\\u0648\\u064e\\u0646\\u064f\\u064a \\u0648\\u064e\\u062b\\u0651\\u064a\\u064d\\u0642\\u0629\\u064c \\u0639\\u0646 \\\"\\u0627\\u0644\\u062c\\u064b\\u0646\\u0648\\u064e\\u0628 \\u0648\\u0651\\u0627\\u064e\\u0644\\u062e\\u0644\\u0650\\u064a\\u064f\\u062c\\\"\\u064e\\u060c\\u0651 \\u0648\\u0645\\u064d\\u0646 \\u0628\\u064c\\u064a\\u064b\\u0646\\u064f\\u0647\\u0627\\u064f \\u0648\\u064e\\u062b\\u0627\\u0626\\u0642\\u0652 \\u064f\\u0645\\u0647\\u0650\\u0645\\u064e\\u0629 \\u0639\\u0646 \\u0645\\u0641\\u064c\\u0627\\u0635\\u0644 \\u064b\\u0627\\u0644\\u064f\\u0628\\u0652\\u0646\\u064a\\u0629\\u064c \\u064d\\u0627\\u0652\\u0644\\u0651\\u062a\\u064f\\u062d\\u064c\\u062a\\u064a\\u064e\\u0629 \\u064e\\u0641\\u064a \\u0627\\u0644\\u0650\\u0625\\u0645\\u064c\\u0627\\u064b\\u0631\\u064b\\u0627\\u0652\\u062a\\u064a\\u064f\\u0629\\u060c\\u064b \\u0648\\u064f\\u0646\\u064b\\u0634\\u064d\\u0623\\u064d\\u0629 \\u0645\\u062f\\u0627\\u0631\\u0633\\u0647\\u064e\\u0627\\u060c \\u0648\\u062d\\u064a\\u0627\\u062a\\u0650\\u0647\\u0627 \\u0627\\u0644\\u062b\\u064e\\u0642\\u0627\\u0641\\u064a\\u0629\\u0650\\u060c \\u064d\\u0648\\u0652\\u0641\\u064a \\u0647\\u0630\\u0650\\u0647 \\u0627\\u0651\\u0644\\u0648\\u062b\\u064b\\u0627\\u0626\\u0651\\u0642 \\u0650\\u0645\\u0639\\u0644\\u0648\\u064d\\u0645\\u0650\\u0627\\u064e\\u062a \\u062c\\u0651\\u062f \\u0645\\u0647\\u0645\\u0629\\u0652 \\u064b\\u0639\\u0651\\u0646 \\u064f\\u0646\\u0634\\u0623\\u0629\\u0651 \\u0627\\u0652\\u0644\\u064b\\u0645\\u062f\\u0650\\u0627\\u064c\\u0631\\u0633\\u060c\\u0652 \\u064c\\u0648\\u064c\\u062d\\u0651\\u062a\\u0649\\u064c \\u0623\\u0633\\u064b\\u0645\\u064e\\u0627\\u0621 \\u0651\\u0627\\u0644\\u0637\\u0644\\u0651\\u0628\\u0629\\u060c \\u0648\\u064b\\u0627\\u064e\\u0644\\u064d\\u0645\\u062f\\u064b\\u0631\\u0633\\u064c\\u064a\\u0646\\u060c\\u0652 \\u064b\\u0648\\u0643\\u0652\\u064a\\u0641\\u064a\\u064f\\u0629\\u064c \\u0628\\u064b\\u062f\\u0650\\u0627\\u064f\\u064a\\u0627\\u0652\\u062a\\u064c \\u0639\\u0652\\u0645\\u0650\\u0644\\u064e\\u064a\\u0652\\u0629\\u064d \\u0627\\u0644\\u062a\\u0639\\u0644\\u064a\\u0645\\u064f \\u064f. . \\u064d\\u0625\\u0644\\u064f\\u062e\\u0652\\u060c \\u064c\\u0648\\u0647\\u0646\\u064d\\u0627\\u0643\\u0651 \\u064b\\u0645\\u0646 \\u0651\\u0646\\u064f\\u0627\\u064f\\u0644\\u0652 \\u064b\\u0634\\u0647\\u0650\\u0627\\u062f\\u0629\\u064c \\u0650\\u0627\\u0644\\u062f\\u0650\\u0643\\u062a\\u064e\\u0648\\u0631\\u0651\\u0627\\u0647 \\u0645\\u064c\\u0646\\u0651 \\u062e\\u064f\\u0644\\u064b\\u0627\\u0651\\u0644\\u064f \\u064f\\u0642\\u0652\\u0631\\u0627\\u0621\\u0652\\u0629 \\u064e\\u0627\\u0644\\u064d\\u0639\\u064b\\u0644\\u064e\\u0627\\u0642\\u0627\\u064c\\u062a \\u0627\\u0652\\u0644\\u0623\\u0650\\u062e\\u0648\\u064d\\u064a\\u064e\\u0629 \\u064d\\u0628\\u064a\\u0646 \\u064e\\u0627\\u0644\\u064f\\u0628\\u064e\\u0644\\u062f\\u064a\\u064c\\u0646 \\u0652.\\u0652\\u0648\\u062c\\u0627\\u0621\\u064e \\u062d\\u064d\\u062f\\u064d\\u064a\\u064d\\u062b\\u064f \\u0627\\u064f\\u0644\\u0651\\u0628\\u0652\\u062f\\u064c\\u0648\\u0631\\u064e \\u064e\\u0628\\u0645\\u0627 \\u064a\\u064f\\u0634\\u0650\\u0628\\u0647 \\u064f\\u0627\\u064f\\u0644\\u0652\\u0634\\u0650\\u0647\\u0627\\u062f\\u064e\\u0629\\u064e\\u060c \\u0645\\u0646 \\u064c\\u0642\\u064e\\u0628\\u0644\\u064e \\u0652\\u0623\\u062d\\u064e\\u062f\\u064f \\u0651\\u0623\\u064c\\u0628\\u064f\\u0646\\u0627\\u0621 \\u064d\\u0627\\u0644\\u064c\\u062c\\u064a\\u064d\\u0644 \\u0627\\u064d\\u0644\\u064e\\u0630\\u064a\\u064d \\u064f\\u0641\\u062a\\u0651\\u062d \\u0639\\u064a\\u0646\\u064a\\u064b\\u0647\\u064b \\u0650\\u0639\\u064b\\u0644\\u064d\\u0649\\u0650 \\u0627\\u0644\\u0645\\u0646\\u0627\\u064f\\u0647\\u064b\\u062c \\u0627\\u0652\\u0644\\u0651\\u062a\\u0639\\u0644\\u064f\\u064a\\u0645\\u064a\\u0629 \\u0627\\u0644\\u0651\\u0643\\u064f\\u0648\\u0650\\u064a\\u062a\\u064a\\u0629\\u064e \\u0627\\u0650\\u0644\\u062a\\u064a\\u064b \\u064e\\u062a\\u0645 \\u062a\\u064b\\u062f\\u0650\\u0631\\u064a\\u064f\\u0633\\u0650\\u0647\\u064e\\u0627\\u064b \\u0641\\u0651\\u064a\\u064d \\u0627\\u064f\\u0644\\u0652\\u0625\\u064d\\u0645\\u064c\\u0627\\u0631\\u064c\\u0627\\u0652\\u062a\\u0652\\u060c \\u0648\\u0651\\u0642\\u064d\\u0627\\u0644: \\u064e\\u0643\\u0644 \\u064f\\u0630\\u064c\\u0644\\u0643 \\u064f\\u0630\\u0643\\u0631\\u0650\\u062a\\u0647 \\u0641\\u0651\\u064a \\u0643\\u062a\\u0627\\u0628\\u064a \\u064b\\\"\\u0627\\u0644\\u062c\\u0630\\u0648\\u0631 \\u0650\\u0627\\u064f\\u0644\\u062a\\u0627\\u0631\\u0652\\u064a\\u064d\\u062e\\u0650\\u064a\\u0651\\u0629\\u064d \\u064e\\u0644\\u064f\\u0644\\u0639\\u064b\\u0644\\u0627\\u0642\\u0627\\u0650\\u062a\\u064f \\u064e\\u0627\\u064f\\u0644\\u062b\\u0652\\u0642\\u0627\\u0650\\u0641\\u064d\\u064a\\u0629 \\u064c\\u0628\\u064a\\u064b\\u0646 \\u0650\\u0627\\u0644\\u0625\\u0645\\u0627\\u0631\\u0627\\u064c\\u062a\\u064c \\u064f\\u0648\\u064e\\u0627\\u064b\\u0644\\u0643\\u0650\\u0648\\u064a\\u064f\\u062a\\\"\\u060c \\u0652\\u0648\\u0643\\u064b\\u0627\\u064b\\u0646 \\u064c\\u0628\\u064f\\u0645\\u064f\\u062b\\u064f\\u0627\\u064e\\u0628\\u064c\\u0629\\u064d \\u064c\\u0631\\u0652\\u0633\\u064b\\u0627\\u0651\\u0644\\u064e\\u0629 \\u0634\\u0652\\u0643\\u0631 \\u0652\\u0644\\u0644\\u0643\\u0648\\u064a\\u062a\\u060c \\u0648\\u064c\\u0623\\u0636\\u0650\\u0627\\u064d\\u0641:\\u064d \\u0623\\u062c\\u064f\\u0644\\u060c\\u064e \\u064c\\u062a\\u062a\\u0644\\u0645\\u0630\\u0646\\u0627\\u064c \\u0639\\u064f\\u0644\\u0651\\u0649 \\u0650\\u0645\\u064d\\u0646\\u064c\\u0627\\u064c\\u0647\\u062c \\u064b\\u0627\\u0644\\u0643\\u064e\\u0648\\u064b\\u064a\\u062a\\u064d\\u060c\\u0650 \\u0648\\u0642\\u0631\\u0623\\u0646\\u0627\\u064d \\u0650\\u0639\\u064e\\u0628\\u0627\\u0631\\u064d\\u0629 \\u064e\\\"\\u0639\\u064f\\u0644\\u0645 \\u0628\\u0651\\u0644\\u0651\\u0627\\u062f\\u064a\\u0650 \\u0651\\u0644\\u0651\\u0648\\u064e\\u0646\\u0647\\u0650 \\u064c\\u0623\\u064c\\u062d\\u0645\\u0650\\u0631\\\" \\u0648\\u0650\\u0627\\u0631\\u062a\\u064c\\u062f\\u064a\\u0646\\u0652\\u0627\\u064e \\u0632\\u064a \\u0627\\u064e\\u0644\\u0652\\u0645\\u062f\\u0651\\u0627\\u0652\\u0631\\u064b\\u0633\\u064f \\u064d\\u0627\\u0644\\u0643\\u064d\\u0648\\u064e\\u064a\\u062a\\u064a\\u0629 \\u0623\\u062b\\u064f\\u0646\\u064f\\u0627\\u064e\\u0621\\u064c \\u0651\\u062a\\u0639\\u064e\\u0644\\u0650\\u064a\\u0645\\u0646\\u0627\\u064c\\u060c \\u064c\\u0648\\u0652\\u062a\\u064d\\u0646\\u0627\\u0650\\u0648\\u0644\\u064b\\u0646\\u0627 \\u0627\\u0644\\u064e\\u0648\\u062c\\u064f\\u0628\\u0652\\u0627\\u062a\\u064d \\u0627\\u0651\\u0644\\u0635\\u0628\\u0627\\u062d\\u0650\\u064a\\u0629\\u0651 \\u0627\\u0651\\u0644\\u0650\\u0643\\u064b\\u0648\\u064a\\u062a\\u064a\\u0629\\u0650 \\u064d\\u0641\\u0650\\u064a \\u0645\\u062f\\u064b\\u0627\\u064b\\u0631\\u064c\\u0633\\u0646\\u0627\\u0652\\u060c\\u064b \\u0648\\u0627\\u0633\\u062a\\u062e\\u064c\\u062f\\u064f\\u0645\\u0651\\u0646\\u0627 \\u064d\\u0627\\u064b\\u0644\\u064c\\u0623\\u0650\\u0642\\u064c\\u0644\\u0627\\u0651\\u0645 \\u0652\\u0648\\u064d\\u0627\\u0644\\u0652\\u0645\\u0645\\u064e\\u062d\\u0651\\u0627\\u064f\\u064a\\u064d\\u0627\\u064b\\u062a\\u064e \\u0648\\u0627\\u064d\\u0644\\u064b\\u0645\\u0628\\u0631\\u0627\\u064a\\u0652\\u0627\\u064b\\u062a \\u064d\\u0627\\u0644\\u064e\\u0643\\u0648\\u064c\\u064a\\u062a\\u064a\\u0629\\u064e\\u060c \\u0644\\u064d\\u0627\\u064c \\u0641\\u0631\\u0642 \\u064f\\u0628\\u064b\\u064a\\u064c\\u0646\\u064d\\u0646\\u0651\\u0627\\u060c \\u0628\\u064a\\u064b\\u0626\\u0650\\u062a\\u0627 \\u0628\\u064f\\u0644\\u062f\\u064a\\u0646\\u0627\\u064b \\u0648\\u0650\\u0627\\u064f\\u062d\\u0652\\u062f\\u0629\\u064d\\u060c \\u0647\\u064a \\u0627\\u064f\\u0644\\u0628\\u0650\\u064a\\u0650\\u0626\\u0629\\u064b \\u064c\\u0627\\u0650\\u0644\\u0628\\u062d\\u0631\\u064a\\u0629\\u064f \\u064f.\\u064b \\u0648\\u0628\\u0652\\u0639\\u062f\\u064f \\u064f\\u0623\\u0650\\u0641\\u064c\\u0648\\u0644 \\u062a\\u064d\\u062c\\u0627\\u0652\\u0631\\u0629\\u064c \\u0627\\u0644\\u0644\\u0624\\u0644\\u064b\\u0624\\u060c \\u0651\\u0641\\u064f\\u0625\\u0652\\u0646\\u0651 \\u0645\\u0651\\u062b\\u064e\\u0642\\u064f\\u0641\\u064a\\u0646\\u0627\\u064c \\u0648\\u064d\\u0639\\u0650\\u0645\\u064e\\u0627\\u0644\\u064f\\u0646\\u064f\\u0627 \\u062a\\u0648\\u062c\\u0647\\u0648\\u0627\\u064b \\u0625\\u0644\\u0649 \\u0627\\u0644\\u064e\\u0643\\u0650\\u0648\\u064b\\u064a\\u064b\\u062a\\u064f \\u0644\\u0650\\u0644\\u0639\\u064d\\u0645\\u0644 \\u0651\\u0641\\u064f\\u064a\\u0647\\u0627\\u064f\\u060c \\u0650\\u0643\\u0651\\u0645\\u0627 \\u0623\\u064f\\u0646 \\u0647\\u064c\\u0646\\u0627\\u0643 \\u0623\\u064f\\u062c\\u064a\\u0627\\u064c\\u0644\\u0651\\u0627\\u0650\\u064b \\u064e\\u0645\\u064b\\u0646 \\u0627\\u0652\\u0644\\u064e\\u0643\\u064b\\u0648\\u064a\\u062a\\u064b\\u064a\\u064a\\u0646 \\u064b\\u0639\\u064d\\u0627\\u0634\\u0648\\u064b\\u0627 \\u0641\\u064e\\u064a \\u064f\\u0627\\u0650\\u0644\\u064e\\u0625\\u064d\\u0645\\u0627\\u0631\\u0627\\u062a\\u064d\\u060c \\u064d\\u0648\\u0651\\u0645\\u064e\\u0646\\u064b\\u0647\\u0645 \\u0645\\u0646\\u064c \\u064b\\u0639\\u0650\\u0644\\u0652\\u0645\\u064d\\u0648\\u064e\\u0646\\u0627 .\\u0651 \\u0643\\u0645\\u0627 \\u0631\\u0627\\u0651\\u062d\\u0652 \\u064a\\u0650\\u062a\\u062d\\u064d\\u062f\\u062b \\u0639\\u0646\\u0651 \\u0627\\u0644\\u062a\\u0641\\u064e\\u0627\\u0639\\u064e\\u0644\\u064b \\u0627\\u064c\\u0644\\u062b\\u0650\\u0642\\u0652\\u0627\\u0641\\u064c\\u064a \\u0628\\u064d\\u064a\\u0646\\u0650 \\u064b\\u0627\\u0644\\u064d\\u0628\\u0644\\u0651\\u062f\\u064a\\u064d\\u0646 \\u0639\\u064e\\u0628\\u0631 \\u064d\\u0642\\u064d\\u0635\\u064f\\u0627\\u0626\\u0650\\u062f\\u064d \\u0627\\u0651\\u0644\\u064b\\u0634\\u0639\\u0652\\u0631\\u0627\\u064e\\u0621\\u060c\\u064d \\u064b\\u0627\\u0644\\u0652\\u0641\\u0652\\u0635\\u0652\\u062d\\u064c\\u0649\\u064b \\u0648\\u064c\\u0627\\u0644\\u0650\\u0646\\u064b\\u0628\\u0637\\u064a\\u064f\\u0629\\u0650\\u060c \\u0650\\u0641\\u0652\\u0636\\u064b\\u0644\\u0650\\u0627\\u064b\\u064b \\u064c\\u0639\\u064d\\u0646 \\u0651\\u0627\\u064d\\u0644\\u062a\\u0641\\u064c\\u0627\\u0639\\u064f\\u0644\\u064c \\u0651\\u0645\\u0652\\u0639 \\u0648\\u064b\\u0633\\u0627\\u0652\\u0626\\u064b\\u0644\\u064b \\u0627\\u0644\\u0625\\u0650\\u0639\\u0644\\u0627\\u0645\\u0650 \\u064d\\u0641\\u0650\\u064a\\u064e \\u0643\\u0644\\u0627 \\u0627\\u064b\\u0644\\u0628\\u0651\\u0644\\u064e\\u062f\\u064c\\u064a\\u064d\\u0646\\u060c\\u064c \\u0650\\u0625\\u064f\\u0630 \\u064c\\u0641\\u064c\\u062a\\u062d\\u062a\\u0650 \\u064c\\u0627\\u0644\\u0651\\u0635\\u064d\\u062d\\u064e\\u0627\\u064c\\u0641\\u0629\\u0650 \\u0627\\u064e\\u0644\\u064e\\u0643\\u0648\\u064a\\u062a\\u064a\\u0650\\u0629\\u064f \\u0651\\u0623\\u064f\\u0628\\u0652\\u0648\\u064e\\u0627\\u0628\\u0647\\u064d\\u0627\\u0651 \\u0644\\u0644\\u0645\\u062b\\u0642\\u0641\\u064a\\u064b\\u0646\\u064b \\u0627\\u064f\\u0644\\u0625\\u0645\\u0627\\u0631\\u0652\\u0627\\u0650\\u062a\\u064f\\u064a\\u064e\\u064a\\u0650\\u0646 .\",\n          \"https://example.com/resource/\\u0623\\u0650\\u0628\\u0648\\u0638\\u0628\\u064f\\u064a\\u0651 \\u064c-\\u0650 \\u064b\\u0645\\u0646\\u0651\\u064a\\u0650 \\u0650\\u0628\\u0651\\u0648\\u0651\\u0646\\u0639\\u064f\\u0627\\u064b\\u0645\\u0629:\\u0646\\u064e\\u0638\\u0645 \\u0627\\u062a\\u062d\\u0627\\u062f \\u064d\\u0643\\u0651\\u062a\\u0627\\u0650\\u0628\\u064d \\u0651\\u0648\\u0652\\u0623\\u062f\\u0652\\u0628\\u064e\\u0627\\u064b\\u0621 \\u064f\\u0627\\u0644\\u0625\\u0645\\u0627\\u0651\\u0631\\u0627\\u0650\\u062a \\u0641\\u064a \\u0623\\u0628\\u0648\\u0650\\u0638\\u0628\\u064b\\u064a\\u0651\\u060c\\u064c \\u0645\\u0633\\u064c\\u0627\\u064e\\u0621\\u064c \\u0623\\u0645\\u064c\\u0633\\u064d \\u0627\\u0644\\u064f\\u0623\\u064e\\u0648\\u0651\\u0644\\u060c \\u064f\\u0641\\u0650\\u064a\\u064d \\u0642\\u0651\\u0627\\u0650\\u0639\\u0629\\u064d \\u0627\\u0652\\u0644\\u062f\\u0643\\u062a\\u0648\\u064c\\u0631\\u064c \\u064c\\u0639\\u0628\\u062f\\u064e \\u064b\\u0627\\u0644\\u064c\\u0644\\u0647\\u0651 \\u0639\\u0645\\u0631\\u0627\\u064d\\u0646 \\u064f\\u062a\\u0650\\u0631\\u0651\\u064a\\u0645\\u0652 \\u064d\\u0641\\u064a\\u064f \\u0645\\u0651\\u0642\\u0631 \\u064d\\u0627\\u0644\\u0627\\u062a\\u064c\\u062d\\u0627\\u062f\\u064c \\u064c\\u0627\\u0644\\u064c\\u062c\\u062f\\u064a\\u0651\\u062f \\u0641\\u064a \\u0645\\u0650\\u0639\\u064e\\u0633\\u064b\\u0643\\u0631\\u064d \\u064f\\u0622\\u0644\\u0651 \\u0646\\u064b\\u0647\\u064a\\u0627\\u0646\\u064f \\u0623\\u064e\\u0645\\u0650\\u0633\\u064f\\u064a\\u0629 \\u0644\\u0652\\u0644\\u064e\\u0643\\u064c\\u0627\\u062a\\u0628\\u064d \\u0651\\u0648\\u064e\\u0627\\u0644\\u0652\\u0645\\u062b\\u064e\\u0642\\u0651\\u0641\\u064c \\u064d\\u0627\\u0644\\u0625\\u0645\\u064d\\u0627\\u064c\\u0631\\u064c\\u0627\\u062a\\u0651\\u064a\\u064f \\u0645\\u0627\\u062c\\u064c\\u062f \\u0628\\u0648 \\u0634\\u064f\\u0644\\u064a\\u0628\\u064f\\u064a\\u060c\\u064d \\u0623\\u064f\\u0645\\u064b\\u064a\\u0646 \\u0639\\u0627\\u0645\\u0652 \\u0652\\u0627\\u0644\\u0645\\u0646\\u062a\\u0650\\u062f\\u0651\\u0649 \\u0650\\u0627\\u0644\\u064d\\u0625\\u064e\\u0633\\u0651\\u0644\\u0651\\u0627\\u0645\\u0652\\u064a\\u064f \\u0641\\u064f\\u064a \\u0627\\u0644\\u064e\\u0634\\u0650\\u0627\\u0631\\u064d\\u0642\\u064e\\u0629\\u064e\\u060c\\u0650 \\u064c\\u0628\\u064f\\u0639\\u0646\\u0648\\u064f\\u0627\\u0646:\\u0651 \\u0644\\u0645\\u0627\\u0630\\u0627\\u064e \\u0651\\u0627\\u064b\\u0644\\u064f\\u0634\\u0651\\u0627\\u0631\\u0642\\u0629 \\u0639\\u0651\\u0627\\u064e\\u0635\\u0645\\u0629 \\u0650\\u0644\\u064d\\u0644\\u062b\\u064f\\u0642\\u0627\\u0641\\u064b\\u0629\\u064b \\u0627\\u064c\\u0644\\u0625\\u064c\\u0633\\u0652\\u0644\\u064d\\u0627\\u0645\\u0651\\u064a\\u0629\\u064d\\u061f \\u0642\\u062f\\u0651\\u0651\\u064e\\u0645 \\u0627\\u0644\\u064e\\u0623\\u0645\\u0633\\u064a\\u064f\\u0629\\u064f \\u064d\\u0627\\u0644\\u0634\\u0650\\u0627\\u0639\\u0631\\u0652 \\u0652\\u0648\\u0627\\u0644\\u0646\\u0627\\u0652\\u0642\\u062f \\u0645\\u064b\\u062d\\u064c\\u0645\\u062f \\u0646\\u0648\\u0631 \\u064f\\u0627\\u064c\\u0644\\u062f\\u064f\\u064a\\u0646\\u060c\\u0651 \\u064b\\u0648\\u0650\\u062d\\u0636\\u0650\\u0631\\u0651\\u0647\\u064c\\u0627\\u064e \\u064f\\u062d\\u0650\\u0628\\u064d\\u064a\\u0652\\u0628\\u064b \\u0627\\u064e\\u0644\\u0635\\u064b\\u0627\\u064a\\u0650\\u063a\\u0651 \\u064e\\u0631\\u064f\\u0626\\u064a\\u064d\\u0633\\u0652 \\u0645\\u062c\\u0651\\u0644\\u0633\\u0650 \\u0625\\u064c\\u062f\\u064c\\u0627\\u0631\\u0629\\u0650 \\u0651\\u0627\\u064c\\u0644\\u064b\\u0627\\u064b\\u062a\\u062d\\u0627\\u062f\\u0650\\u060c\\u064e \\u0648\\u0639\\u064b\\u062f\\u064b\\u062f \\u0645\\u0646 \\u064d\\u0627\\u0644\\u0643\\u062a\\u0651\\u0627\\u0628\\u064e \\u0648\\u0652\\u0627\\u064f\\u0644\\u064b\\u0623\\u064f\\u062f\\u0628\\u0627\\u064d\\u0621 \\u064d.\\u064e \\u064c\\u0627\\u0633\\u062a\\u064b\\u0647\\u0651\\u0644\\u0652 \\u0627\\u0652\\u0644\\u0651\\u0645\\u064d\\u062d\\u0652\\u0627\\u064f\\u0636\\u0631 \\u0628\\u0627\\u0633\\u062a\\u0639\\u064e\\u0631\\u0627\\u0636\\u0650 \\u0627\\u0644\\u0623\\u0637\\u0631 \\u0627\\u064c\\u0644\\u0639\\u064d\\u0627\\u0645\\u0629\\u0652 \\u0651\\u0627\\u064c\\u0644\\u062a\\u064a\\u0650 \\u0639\\u0645\\u0644\\u062a \\u064d\\u0639\\u0644\\u0649 \\u062a\\u064e\\u0634\\u0643\\u0651\\u064a\\u0652\\u0644\\u064f \\u064b\\u0648\\u0628\\u0644\\u064d\\u0648\\u064f\\u0631\\u0629 \\u0627\\u064f\\u0644\\u0641\\u0643\\u064b\\u0631\\u0652\\u0629 \\u0627\\u064e\\u0644\\u064c\\u062b\\u0642\\u0651\\u0627\\u0641\\u064d\\u064a\\u064b\\u0629\\u064e \\u0641\\u064b\\u064a\\u064f \\u064c\\u0627\\u0644\\u064f\\u0634\\u0627\\u0650\\u0631\\u064b\\u0642\\u0629\\u0652\\u060c\\u0652 \\u0645\\u0646\\u064c \\u0652\\u062e\\u0652\\u0644\\u0627\\u0652\\u0644\\u064d \\u0652\\u0627\\u0644\\u062a\\u064f\\u0639\\u064d\\u0631\\u064b\\u064a\\u0641 \\u0628\\u0652\\u0627\\u0644\\u062a\\u0650\\u062c\\u064b\\u0631\\u064f\\u0628\\u0629\\u0651 \\u064f\\u0648\\u0623\\u0647\\u0645 \\u0645\\u0633\\u0652\\u0627\\u0650\\u0631\\u064d\\u0627\\u062a\\u064b\\u0647\\u064d\\u0627\\u0652\\u060c\\u064f \\u0650\\u0648\\u064b\\u0627\\u0650\\u0644\\u0651\\u0623\\u0637\\u0650\\u0648\\u064c\\u0627\\u0631 \\u0651\\u0627\\u0652\\u0644\\u064d\\u062a\\u064a \\u0650\\u0645\\u064c\\u0631\\u064b\\u062a \\u0628\\u0647\\u0650\\u0627\\u064d\\u060c \\u0628\\u0652\\u062f\\u064e\\u0621\\u0651\\u0627\\u064b\\u064d \\u0628\\u064d\\u0627\\u0644\\u062d\\u062f\\u064a\\u064c\\u062b\\u064b \\u064d\\u0639\\u064b\\u0646 \\u0628\\u064d\\u0646\\u0627\\u0652\\u0621\\u064d \\u0627\\u0644\\u0628\\u064d\\u0646\\u0649\\u0650 \\u0627\\u0651\\u0644\\u0650\\u062a\\u064c\\u062d\\u062a\\u064c\\u064a\\u064c\\u0629\\u0650 \\u064d\\u0644\\u0644\\u0645\\u0624\\u064b\\u0633\\u0633\\u0650\\u0627\\u062a \\u0650\\u0627\\u0644\\u062b\\u064e\\u0642\\u0652\\u0627\\u0641\\u064a\\u064d\\u0629\\u064c \\u064f\\u0648\\u0627\\u064e\\u0644\\u0625\\u0651\\u0639\\u064e\\u0644\\u0627\\u0645\\u0650\\u064a\\u0629\\u0651 \\u064c\\u0627\\u0644\\u062a\\u064a \\u0623\\u064d\\u0633\\u0651\\u0647\\u0645\\u064f\\u062a\\u060c \\u064d\\u0639\\u064f\\u0628\\u0631 \\u0651\\u062a\\u0627\\u0652\\u0631\\u064a\\u062e\\u0647\\u0627\\u0652\\u060c\\u064e \\u0641\\u064c\\u064a\\u0651 \\u0652\\u062a\\u064b\\u0641\\u0639\\u064a\\u0644 \\u0627\\u0651\\u0644\\u0639\\u0650\\u0645\\u064b\\u0644\\u064b \\u0627\\u064e\\u0644\\u062b\\u0650\\u0642\\u064e\\u0627\\u0650\\u0641\\u0651\\u064a \\u0641\\u064f\\u064a \\u0627\\u064d\\u0644\\u0634\\u0627\\u0652\\u0631\\u0642\\u0629\\u060c \\u0627\\u0646\\u0637\\u0644\\u064d\\u0627\\u0642\\u0627\\u064b\\u0651 \\u0645\\u0650\\u0646\\u064b \\u062a\\u0623\\u0633\\u064f\\u064a\\u0633\\u0651 \\u064c\\u062f\\u0627\\u0652\\u0626\\u0631\\u0629\\u064d \\u0652\\u0627\\u0650\\u0644\\u064f\\u062b\\u0642\\u064b\\u0627\\u0641\\u0629 \\u064d\\u0648\\u0627\\u064c\\u0644\\u0625\\u0651\\u0639\\u0644\\u0627\\u0650\\u0645\\u064f\\u060c\\u0651 \\u0648\\u0650\\u062a\\u0644\\u0641\\u0632\\u064a\\u0648\\u064b\\u0646 \\u0627\\u0644\\u064f\\u0634\\u0627\\u064c\\u0631\\u0642\\u0652\\u0629\\u0650 \\u0648\\u0645\\u0627 \\u062a\\u062e\\u064d\\u0644\\u064c\\u0644\\u064f \\u0630\\u0644\\u0643\\u064c \\u064e\\u0645\\u064b\\u0646\\u064f \\u0625\\u064b\\u0628\\u0631\\u0627\\u0632\\u064f \\u0648\\u062a\\u0634\\u062c\\u064c\\u064a\\u064f\\u0639\\u064d \\u064f\\u0644\\u0644\\u062b\\u0642\\u064b\\u0627\\u064c\\u0641\\u0629 \\u0648\\u064b\\u0627\\u064b\\u0644\\u0641\\u0646\\u064e\\u0648\\u064d\\u0646\\u064e \\u0645\\u0646\\u064f \\u064f\\u062e\\u0644\\u0627\\u0644 \\u064b\\u0627\\u064f\\u0644\\u064f\\u0645\\u064d\\u0639\\u064d\\u0627\\u0631\\u0636 \\u0627\\u0644\\u0651\\u0641\\u064f\\u0646\\u064a\\u064b\\u0629\\u064f \\u0648\\u064d\\u0627\\u0644\\u0650\\u0641\\u0639\\u0627\\u064e\\u0644\\u064a\\u0627\\u062a\\u0652 \\u064f\\u0627\\u0652\\u0644\\u064c\\u062b\\u0642\\u064b\\u0627\\u0651\\u0641\\u064b\\u064a\\u0629 \\u064f\\u0627\\u0644\\u062a\\u064f\\u064a \\u0651\\u062a\\u0635\\u0628 \\u064d\\u0641\\u064a \\u0642\\u0627\\u064b\\u0644\\u064b\\u0628\\u0650 \\u0627\\u0644\\u0646\\u064c\\u0647\\u064b\\u0648\\u0636\\u064b \\u0644\\u064b\\u0634\\u0627\\u064b\\u0631\\u064d\\u0642\\u0650\\u0629\\u064d \\u0627\\u0644\\u0652\\u062b\\u0642\\u064f\\u0627\\u0641\\u0652\\u0629\\u064e \\u064d\\u0648\\u0627\\u0644\\u0645\\u064c\\u0639\\u0631\\u0641\\u064e\\u0629\\u064c\\u060c \\u0645\\u064c\\u0627 \\u064a\\u064c\\u062c\\u064b\\u064a\\u0628 \\u0628\\u064b\\u0634\\u0643\\u0644\\u0650 \\u0642\\u064b\\u0637\\u0639\\u0650\\u064a \\u064d\\u0639\\u064c\\u0646\\u064d \\u0627\\u0651\\u0644\\u064e\\u062a\\u064e\\u0633\\u0651\\u0627\\u0624\\u0644 \\u0652\\u0627\\u0644\\u0645\\u0652\\u0631\\u0643\\u0632\\u064b\\u064a\\u0650 \\u0644\\u0645\\u0627\\u0651\\u0630\\u0627\\u0651 \\u064f\\u0627\\u0650\\u0644\\u0634\\u0627\\u0651\\u0631\\u0642\\u0629\\u0651 \\u0639\\u0627\\u064b\\u0635\\u0645\\u0629\\u064f \\u064f\\u0627\\u064d\\u0644\\u064d\\u062b\\u0650\\u0642\\u0627\\u0641\\u064b\\u0629\\u064c \\u0627\\u064d\\u0644\\u0651\\u0625\\u0633\\u064b\\u0644\\u064c\\u0627\\u0645\\u064a\\u0629\\u064e\\u061f \\u064b\\u0648\\u064d\\u0623\\u0650\\u0634\\u0652\\u0627\\u0631 \\u064c\\u0627\\u0644\\u0645\\u062d\\u0627\\u064b\\u0636\\u0651\\u0631\\u064e \\u0652\\u0625\\u064f\\u0644\\u0649 \\u064e\\u0627\\u064d\\u0644\\u064d\\u062d\\u0631\\u0627\\u0643 \\u064d\\u0627\\u0644\\u062b\\u0642\\u0627\\u064e\\u0641\\u064a\\u0650 \\u0650\\u0627\\u0644\\u064b\\u0646\\u064f\\u0634\\u0637\\u0651 \\u0627\\u0644\\u0630\\u064c\\u064a\\u0652 \\u0634\\u0643\\u064b\\u0644\\u064f \\u0652\\u0627\\u0651\\u0644\\u064d\\u0628\\u0650\\u0648\\u0651\\u0627\\u0643\\u064f\\u064a\\u0631 \\u064c\\u0627\\u064d\\u0644\\u064b\\u0623\\u064c\\u0648\\u0644\\u0649\\u064c \\u0651\\u0644\\u0644\\u0651\\u0639\\u0645\\u0651\\u0644 \\u0627\\u0644\\u062b\\u0642\\u0627\\u0641\\u064a \\u0651\\u0641\\u064c\\u064a\\u064b \\u0627\\u0644\\u0652\\u0634\\u0651\\u0627\\u0651\\u0631\\u064f\\u0642\\u0629\\u064c\\u060c\\u0652 \\u0650\\u0627\\u064d\\u0644\\u0630\\u0651\\u064a\\u0651 \\u0634\\u0645\\u064c\\u0644 \\u0643\\u0627\\u0641\\u0629\\u064f \\u064e\\u0627\\u0644\\u064b\\u062c\\u0648\\u0627\\u0646\\u064c\\u0628\\u064c \\u0650\\u0628\\u0645\\u0627\\u064f \\u064b\\u0641\\u0652\\u064a\\u0652\\u0647\\u0627\\u064d \\u0625\\u0646\\u0652\\u0634\\u064c\\u0627\\u0621 \\u0651\\u0627\\u0644\\u0645\\u0631\\u0627\\u0643\\u0652\\u0632 \\u0648\\u0627\\u064e\\u0644\\u0645\\u062f\\u064f\\u0627\\u064d\\u0631\\u0633 \\u064b\\u0648\\u0650\\u0627\\u064c\\u0644\\u0651\\u062c\\u0652\\u0627\\u0645\\u0652\\u0639\\u0651\\u0627\\u062a\\u0652 \\u064f\\u0648\\u0650\\u0627\\u0644\\u0641\\u064f\\u0646\\u0650\\u0648\\u064e\\u0646\\u0652 \\u064b\\u0648\\u064b\\u0627\\u0644\\u0652\\u0645\\u0651\\u0633\\u064e\\u0627\\u0650\\u0631\\u062d \\u064d\\u0644\\u062a\\u0651\\u0639\\u0632\\u064b\\u064a\\u0632 \\u0627\\u0644\\u0641\\u0639\\u0644\\u064b \\u0627\\u0644\\u064b\\u062b\\u064e\\u0642\\u064e\\u0627\\u0651\\u0641\\u064c\\u064a\\u064d \\u0648\\u064c\\u062a\\u0633\\u0631\\u064a\\u064c\\u0639\\u064f \\u0639\\u062c\\u064f\\u0644\\u0629\\u064f \\u0627\\u0644\\u0650\\u0646\\u064e\\u0634\\u0627\\u0637\\u0652 \\u064d\\u0627\\u0644\\u062b\\u0642\\u064c\\u0627\\u0651\\u0641\\u0650\\u064a \\u064b\\u0641\\u064a \\u0627\\u064d\\u0644\\u0651\\u0634\\u0627\\u064b\\u0631\\u0642\\u0629\\u0650\\u060c\\u0651 \\u0643\\u0645\\u064c\\u0627 \\u064d\\u062a\\u0650\\u0645 \\u062a\\u062e\\u0635\\u064a\\u0635\\u064f \\u064f\\u0645\\u064c\\u0633\\u0650\\u0627\\u062d\\u0629 \\u0645\\u064c\\u0639\\u062a\\u064b\\u0628\\u0651\\u0631\\u064f\\u0629\\u064e \\u064b\\u0644\\u0644\\u0637\\u0641\\u0644\\u064f \\u0648\\u062b\\u0642\\u0652\\u0627\\u0652\\u0641\\u064c\\u062a\\u0647\\u064c\\u060c\\u0650 \\u0645\\u0646\\u0651 \\u062e\\u0652\\u0644\\u064f\\u0627\\u0644 \\u0625\\u0646\\u0634\\u064b\\u0627\\u0652\\u0621\\u064e \\u0651\\u0645\\u064f\\u0631\\u064c\\u0627\\u0643\\u0652\\u0632 \\u064c\\u0645\\u064c\\u0643\\u062a\\u0628\\u0652\\u0627\\u064c\\u062a \\u064e\\u0627\\u0644\\u064e\\u0623\\u0650\\u0637\\u064d\\u0641\\u064c\\u0627\\u0644\\u060c \\u0648\\u064d\\u0645\\u064d\\u0631\\u0652\\u0627\\u0643\\u0632 \\u064e\\u0627\\u064c\\u0644\\u0623\\u0637\\u0641\\u064c\\u0627\\u064d\\u0644\\u064d\\u060c \\u062b\\u0645\\u064c \\u0645\\u0652\\u0631\\u064d\\u0627\\u0643\\u0632 \\u064b\\u0627\\u064e\\u0644\\u0652\\u0646\\u0627\\u0634\\u0651\\u0626\\u0629\\u060c \\u0641\\u0645\\u0652\\u062c\\u064f\\u0644\\u0633 \\u064b\\u0623\\u064e\\u0639\\u0644\\u0649\\u064e \\u0652\\u0644\\u064f\\u0644\\u0637\\u0641\\u064e\\u0644\\u0652 \\u0625\\u064e\\u0644\\u0649 \\u064c\\u063a\\u064a\\u0631 \\u0630\\u064b\\u0644\\u0643 \\u0651\\u0645\\u0646 \\u0627\\u0644\\u0633\\u064b\\u064a\\u0627\\u0633\\u064c\\u0627\\u062a \\u064b\\u0627\\u0644\\u0652\\u062a\\u064a\\u064c \\u064e\\u0627\\u0650\\u0639\\u0650\\u062a\\u064b\\u0645\\u064b\\u062f\\u0647\\u0650\\u0627\\u064e \\u064d\\u0635\\u0651\\u0627\\u0652\\u062d\\u0628\\u0650 \\u0652\\u0627\\u0652\\u0644\\u0633\\u064c\\u0645\\u0648\\u064f \\u064b\\u0627\\u064b\\u0644\\u0650\\u0634\\u064f\\u064a\\u064d\\u062e \\u064f\\u0627\\u0644\\u062f\\u064b\\u0643\\u062a\\u0648\\u064f\\u0631 \\u064b\\u0633\\u064d\\u0644\\u064f\\u0637\\u0627\\u0646 \\u0628\\u0646 \\u0645\\u064e\\u062d\\u064c\\u0645\\u062f \\u0627\\u0650\\u0644\\u0642\\u0652\\u0627\\u0633\\u0645\\u064a\\u0652 \\u064e\\u0639\\u064d\\u0636\\u0648\\u064f \\u0627\\u0644\\u0645\\u062c\\u0650\\u0644\\u0633\\u064b \\u064c\\u0627\\u064d\\u0644\\u064b\\u0623\\u0639\\u0651\\u0644\\u0652\\u0649 \\u062d\\u064b\\u0627\\u0643\\u064c\\u0645\\u064e \\u064f\\u0627\\u064e\\u0644\\u0634\\u064e\\u0627\\u0650\\u0631\\u0642\\u064c\\u0629\\u0652 \\u064e\\u0644\\u0644\\u0650\\u0631\\u0642\\u0652\\u064a\\u064e \\u064c\\u0628\\u062b\\u0650\\u0642\\u064c\\u0627\\u064f\\u0641\\u064d\\u0629\\u0652 \\u0627\\u0652\\u0644\\u0637\\u0650\\u0641\\u0644 \\u0648\\u0652\\u062a\\u0646\\u064d\\u0645\\u064a\\u0651\\u0629 \\u0652\\u0645\\u064c\\u062f\\u064f\\u0627\\u064e\\u0631\\u064c\\u0643\\u0652\\u0647\\u0652 \\u0648\\u064d\\u0642\\u064e\\u062f\\u0631\\u0652\\u0627\\u0651\\u062a\\u064d\\u0647\\u064b \\u0650. \\u0648\\u064b\\u0630\\u0647\\u064d\\u0628\\u064b \\u0627\\u064c\\u0644\\u0645\\u0650\\u062d\\u0651\\u0627\\u0650\\u0636\\u064b\\u0631 \\u0625\\u064d\\u0644\\u0650\\u0649\\u0650 \\u064f\\u0623\\u0646\\u064e \\u064f\\u0627\\u0644\\u0652\\u0633\\u064c\\u064a\\u0651\\u0627\\u0633\\u0650\\u0627\\u062a\\u064d \\u0627\\u0644\\u062b\\u0652\\u0642\\u0627\\u0641\\u064a\\u0629\\u064b \\u0648\\u0627\\u0644\\u062a\\u064d\\u0648\\u062c\\u064c\\u064a\\u064b\\u0647\\u0627\\u062a\\u0650 \\u0650\\u0627\\u064b\\u0644\\u064d\\u0646\\u064e\\u064a\\u0651\\u0631\\u0629\\u064c \\u0644\\u064e\\u0635\\u064c\\u0627\\u062d\\u0650\\u0628\\u064c \\u0627\\u0644\\u0633\\u0645\\u0648 \\u064d\\u062d\\u0627\\u064c\\u0643\\u0652\\u0645\\u064b \\u0627\\u064d\\u0644\\u0634\\u064c\\u0627\\u0631\\u064f\\u0642\\u0629 \\u064b\\u062c\\u064c\\u0639\\u0644\\u0650\\u062a\\u064f \\u0650\\u0645\\u064e\\u0646 \\u0627\\u0651\\u0644\\u0639\\u064d\\u0645\\u064c\\u0644\\u064e \\u0627\\u0644\\u064d\\u062b\\u064b\\u0642\\u0627\\u064d\\u0641\\u064f\\u064a\\u0652 \\u0641\\u064a\\u064e \\u0627\\u0652\\u0644\\u064d\\u0634\\u0627\\u0631\\u064f\\u0642\\u0651\\u0629\\u064c \\u0639\\u0645\\u0644\\u0627\\u064b\\u0650 \\u0646\\u064e\\u0634\\u064d\\u0637\\u0651\\u0627\\u064b \\u0648\\u0651\\u0642\\u0651\\u0648\\u0651\\u064a\\u0652\\u0627\\u064b\\u064c \\u064e\\u0633\\u0648\\u064f\\u0627\\u0621 \\u064f\\u0645\\u064d\\u0646 \\u0652\\u062e\\u0652\\u0644\\u0650\\u0627\\u0644 \\u062a\\u064d\\u0648\\u064e\\u062c\\u0650\\u064a\\u0647\\u0627\\u064c\\u062a\\u064c \\u0650\\u0633\\u064e\\u0645\\u0651\\u0648\\u0647 \\u064c\\u0644\\u064e\\u0644\\u0627\\u0652\\u0631\\u062a\\u064d\\u0642\\u0651\\u0627\\u0621 \\u064c\\u0628\\u0627\\u0651\\u0644\\u064f\\u0641\\u0646\\u064f \\u0627\\u064d\\u0644\\u064d\\u062a\\u0634\\u064f\\u0643\\u064a\\u064e\\u0644\\u064e\\u064a\\u0652 \\u0648\\u064b\\u062a\\u0634\\u064f\\u062c\\u064d\\u064a\\u0639 \\u064b\\u0627\\u0652\\u0644\\u0641\\u0646\\u0627\\u0650\\u0646\\u064a\\u0646\\u060c\\u064c \\u0648\\u064f\\u0627\\u0642\\u062a\\u0646\\u064d\\u0627\\u0621\\u064c \\u0652\\u0623\\u064c\\u0639\\u064e\\u0645\\u064e\\u0627\\u0644 \\u0641\\u064b\\u0646\\u0651\\u064a\\u064e\\u0629\\u064e \\u0644\\u0645\\u0635\\u0650\\u0644\\u0652\\u062d\\u064d\\u0629\\u064f \\u064f\\u0645\\u062a\\u064b\\u062d\\u064d\\u0641\\u0651 \\u0627\\u0644\\u064b\\u0634\\u0627\\u0631\\u0651\\u0642\\u0629\\u060c \\u0648\\u064f\\u0625\\u064c\\u0646\\u062c\\u0627\\u0632 \\u064e\\u0642\\u0652\\u0627\\u0639\\u0629 \\u064e\\u062e\\u064f\\u0627\\u0651\\u0635\\u0629\\u0652 \\u064f\\u0628\\u0627\\u064f\\u0644\\u0622\\u062b\\u0650\\u0627\\u0651\\u0631 \\u0627\\u064b\\u0644\\u0625\\u0633\\u064d\\u0644\\u064c\\u0627\\u064d\\u0645\\u0651\\u064a\\u0629\\u064b \\u064f\\u0641\\u064e\\u064a \\u0645\\u062a\\u062d\\u0641 \\u0627\\u0652\\u0644\\u064d\\u0634\\u0627\\u0651\\u0631\\u0642\\u064e\\u0629\\u060c\\u064c \\u064d\\u0623\\u064b\\u0645\\u064e \\u0645\\u064f\\u0646 \\u062e\\u064c\\u0644\\u0627\\u0651\\u0644 \\u0650\\u0627\\u0633\\u064b\\u062a\\u0643\\u0645\\u0651\\u0627\\u064d\\u0644 \\u0627\\u0652\\u0644\\u0645\\u0652\\u0634\\u0652\\u0631\\u0648\\u0639\\u0627\\u064d\\u062a\\u064c \\u0627\\u0644\\u062b\\u0652\\u0642\\u0651\\u0627\\u0652\\u0641\\u064a\\u0629\\u064c \\u0648\\u064e\\u062a\\u0631\\u0645\\u064a\\u0645 \\u0627\\u0651\\u0644\\u0645\\u0628\\u0627\\u0646\\u064c\\u064a\\u064f \\u0627\\u0644\\u064d\\u062a\\u0650\\u0631\\u0627\\u0650\\u062b\\u064a\\u0650\\u0629 \\u0652\\u0648\\u063a\\u064a\\u0631\\u0647\\u064b\\u0627\\u064f \\u0645\\u064f\\u0646 \\u0627\\u064e\\u0644\\u0651\\u0623\\u0639\\u0651\\u0645\\u0627\\u0644 \\u064c\\u0648\\u0650\\u0627\\u0644\\u0623\\u064f\\u0646\\u0634\\u064e\\u0637\\u0629 \\u0652\\u0627\\u0644\\u062a\\u064a \\u062a\\u0635\\u0628 \\u0641\\u064a\\u064d \\u064e\\u0635\\u0645\\u064e\\u064a\\u0651\\u0645\\u0651 \\u064b\\u0627\\u0644\\u0650\\u0641\\u0639\\u0651\\u0644\\u064d \\u0627\\u064f\\u0644\\u064e\\u062b\\u064c\\u0642\\u0627\\u064b\\u0641\\u0651\\u064a .\\u0648\\u0623\\u0652\\u0643\\u064e\\u062f\\u064d \\u0627\\u0652\\u0644\\u0650\\u0645\\u0650\\u062d\\u0650\\u0627\\u064c\\u0636\\u0631 \\u0623\\u064d\\u0646 \\u0627\\u064c\\u0644\\u064e\\u062f\\u064e\\u0648\\u0652\\u0631\\u0629\\u0652 \\u064b\\u0627\\u0652\\u0644\\u064c\\u0623\\u064c\\u0648\\u064c\\u0644\\u064f\\u0649\\u0651 \\u0644\\u0645\\u064e\\u0639\\u0631\\u064d\\u0636\\u064d \\u0627\\u0644\\u0650\\u0643\\u0650\\u062a\\u0651\\u0627\\u0628\\u060c \\u0627\\u0644\\u0630\\u064d\\u064a \\u0623\\u0635\\u0651\\u0628\\u062d \\u0627\\u0651\\u0644\\u0652\\u064a\\u064f\\u0648\\u064c\\u0645\\u0651 \\u0648\\u062c\\u064b\\u0647\\u0629 \\u0639\\u0627\\u064b\\u0644\\u0651\\u0645\\u064a\\u0650\\u0629 \\u0644\\u0651\\u0644\\u0643\\u062a\\u0627\\u064d\\u0628\\u064e \\u064c\\u0648\\u0627\\u0644\\u0650\\u0645\\u0641\\u064e\\u0643\\u064b\\u0631\\u064a\\u0650\\u0646 \\u064e\\u0645\\u0650\\u0646\\u0650 \\u0623\\u0650\\u0646\\u064d\\u062d\\u064d\\u0627\\u064d\\u0621\\u064c \\u0627\\u064e\\u0644\\u0650\\u0639\\u0651\\u0627\\u0651\\u0644\\u0645\\u0652 \\u0638\\u0652\\u0644\\u0627\\u0644\\u0647\\u064c \\u0627\\u0644\\u0650\\u0648\\u0627\\u0631\\u064f\\u0641\\u0629\\u064e\\u060c\\u064f \\u0634\\u064d\\u0643\\u064d\\u0644\\u062a\\u0650 \\u064d\\u0646\\u064f\\u0642\\u064b\\u0637\\u0629 \\u064f\\u0627\\u064f\\u0646\\u064c\\u0637\\u0644\\u064e\\u0627\\u0652\\u0642 \\u064f\\u0648\\u062a\\u062d\\u0648\\u0650\\u0651\\u064d\\u0644 \\u0641\\u0652\\u064a\\u064d \\u0627\\u064e\\u0644\\u0645\\u0634\\u0652\\u0631\\u0652\\u0648\\u0639 \\u0652\\u0627\\u0644\\u0651\\u062b\\u0642\\u0652\\u0627\\u0652\\u0641\\u064d\\u064a\\u064f \\u0652\\u0644\\u064d\\u0635\\u0627\\u062d\\u0628 \\u064c\\u0627\\u064d\\u0644\\u064e\\u0633\\u0651\\u0645\\u0650\\u0648\\u064d \\u0650\\u062d\\u064d\\u0627\\u0643\\u0645\\u064f \\u0627\\u0652\\u0644\\u0634\\u0652\\u0627\\u064b\\u0631\\u0642\\u0651\\u0629\\u060c\\u0652 \\u0643\\u0652\\u0645\\u064b\\u0627\\u064e \\u064c\\u062a\\u0632\\u064f\\u0627\\u064d\\u0645\\u0646 \\u064c\\u0645\\u064c\\u0639\\u0651 \\u064e\\u0647\\u0650\\u0630\\u0647 \\u0627\\u0644\\u062f\\u0648\\u0631\\u0651\\u0629 \\u0627\\u064b\\u0641\\u0652\\u062a\\u062a\\u0627\\u062d \\u0645\\u064f\\u0643\\u064b\\u062a\\u0628\\u0652\\u0629\\u064e \\u0627\\u0644\\u064b\\u0645\\u064f\\u062d\\u0650\\u0645\\u0651\\u0648\\u062f\\u064e \\u0652(\\u0651\\u0627\\u0644\\u0652\\u0623\\u064b\\u0647\\u064f\\u0644\\u0650\\u064a\\u0629\\u0652)\\u0652\\u060c\\u0652 \\u0651\\u062b\\u064c\\u0645 \\u064b\\u0627\\u0644\\u0650\\u0645\\u0651\\u0631\\u064f\\u0643\\u0652\\u0632\\u0651 \\u064e\\u0627\\u0652\\u0644\\u064c\\u062b\\u0651\\u0642\\u0627\\u0641\\u0652\\u064a\\u064d \\u064f\\u0641\\u064a\\u0645\\u0627\\u0652 \\u0628\\u0639\\u062f\\u064d .\\u0652\\u0648\\u0651\\u0627\\u064c\\u0639\\u062a\\u0628\\u064d\\u0631 \\u0627\\u064d\\u0644\\u064c\\u0645\\u062d\\u064e\\u0627\\u064b\\u0636\\u0651\\u0631 \\u064b\\u0623\\u0646 \\u064b\\u062d\\u064b\\u0632\\u0645\\u0629 \\u0652\\u0627\\u0652\\u0644\\u064c\\u0645\\u064d\\u0647\\u064d\\u0631\\u062c\\u064d\\u0627\\u064d\\u0646\\u0627\\u0651\\u062a \\u0652\\u0648\\u0651\\u0627\\u0644\\u064f\\u0641\\u064b\\u0639\\u0650\\u0627\\u0644\\u064a\\u0650\\u0627\\u0651\\u062a\\u064b \\u0627\\u0644\\u0652\\u062a\\u064a\\u0650 \\u062a\\u0642\\u0652\\u0627\\u0650\\u0645 \\u0652\\u0639\\u0644\\u0651\\u0649 \\u0645\\u062f\\u0627\\u064c\\u0631\\u0650 \\u0627\\u064e\\u0644\\u0639\\u0627\\u0645\\u0650 \\u0650\\u0641\\u064a \\u064c\\u0627\\u0644\\u064e\\u0634\\u0627\\u064d\\u0631\\u0642\\u0629\\u064f\\u060c\\u0652 \\u0651\\u0648\\u0645\\u0627 \\u064a\\u0651\\u062a\\u064c\\u062e\\u0644\\u0650\\u0644\\u0647\\u064f\\u0627\\u0651 \\u0645\\u0646 \\u0623\\u0646\\u0634\\u0637\\u064c\\u0629\\u064d \\u062b\\u0642\\u064d\\u0627\\u0641\\u0652\\u064a\\u0629\\u064f \\u064c\\u0645\\u0651\\u062a\\u064f\\u0646\\u0648\\u064d\\u0639\\u0652\\u0629 \\u064d\\u062a\\u064c\\u0634\\u064b\\u0643\\u0652\\u0644\\u064f \\u064f\\u0623\\u064d\\u0648\\u062c\\u064c \\u0650\\u0627\\u064f\\u0644\\u062d\\u0631\\u064d\\u0627\\u0652\\u0643\\u0651 \\u064f\\u0627\\u064e\\u0644\\u062b\\u0642\\u0627\\u0641\\u064b\\u064a\\u064f\\u060c\\u064d \\u0648\\u0631\\u0627\\u0651\\u0641\\u0652\\u062f\\u0652\\u0627\\u064f\\u064b\\u0651 \\u0623\\u0633\\u0627\\u064d\\u0633\\u064d\\u064a\\u064e\\u0627\\u064c\\u064b \\u0644\\u0644\\u064c\\u062a\\u0641\\u0652\\u0627\\u0639\\u0644\\u0651 \\u0651\\u0648\\u0652\\u0627\\u0644\\u0652\\u062a\\u0646\\u0627\\u0650\\u063a\\u0645 \\u0627\\u0644\\u064b\\u062b\\u0650\\u0642\\u0627\\u064b\\u0641\\u064c\\u064a \\u064d\\u0641\\u064a\\u0651 \\u0625\\u0645\\u0627\\u0631\\u0652\\u0629\\u0652 \\u062a\\u0632\\u064c\\u062f\\u0651\\u0627\\u064c\\u0646 \\u0648\\u062a\\u0652\\u0632\\u062f\\u064d\\u0647\\u0651\\u064a\\u0650 \\u0643\\u0644 \\u064e\\u062d\\u064e\\u064a\\u064e\\u0646 \\u0628\\u0651\\u0644\\u0650\\u0641\\u064f\\u062a\\u064c\\u0629\\u064b \\u0643\\u064d\\u0631\\u064a\\u0645\\u0629\\u0651 \\u0648\\u064d\\u0633\\u064c\\u0627\\u064e\\u0646\\u062d\\u0629 \\u064e\\u0637\\u064a\\u064e\\u0628\\u0629 \\u0645\\u0650\\u0646 \\u0652\\u062d\\u0627\\u064e\\u0643\\u064b\\u0645 \\u0645\\u062b\\u0642\\u0641\\u0652\\u060c \\u064a\\u064e\\u062d\\u064b\\u0645\\u064d\\u0644\\u0652 \\u0639\\u0644\\u0649 \\u0639\\u064d\\u0627\\u064b\\u062a\\u064f\\u0642\\u0647 \\u064b\\u0627\\u064e\\u0644\\u064e\\u0646\\u0651\\u0647\\u064f\\u0648\\u064d\\u0636 \\u064f\\u0628\\u0652\\u0627\\u064c\\u0644\\u062b\\u064d\\u0642\\u064f\\u0627\\u064c\\u0641\\u064b\\u0629\\u064c \\u0648\\u064f\\u0627\\u064c\\u0644\\u064b\\u0645\\u064e\\u0639\\u064b\\u0631\\u0650\\u0641\\u0629 \\u064b.\\u0648\\u062e\\u0651\\u0644\\u0650\\u0635 \\u064f\\u0627\\u0650\\u0644\\u0650\\u0645\\u062d\\u064b\\u0627\\u0636\\u0631 \\u0625\\u064e\\u0644\\u0651\\u0649\\u0652 \\u0623\\u064b\\u0646 \\u064c\\u062b\\u064e\\u0645\\u0629\\u0651 \\u064b\\u062b\\u0644\\u0627\\u064e\\u062b\\u064c \\u0646\\u0642\\u0651\\u0627\\u0637 \\u064e\\u0644\\u064b\\u0644\\u0650\\u0627\\u064b\\u0631\\u064c\\u062a\\u0642\\u0650\\u0627\\u0621\\u064b \\u064e\\u0628\\u064d\\u0627\\u064d\\u0644\\u0641\\u0643\\u0652\\u0631\\u0629 \\u064d\\u0627\\u064d\\u0644\\u062b\\u0642\\u0651\\u0627\\u0641\\u064d\\u064a\\u064d\\u0629\\u0650 \\u0641\\u064e\\u064a\\u064d \\u064f\\u0627\\u0644\\u064c\\u0634\\u064d\\u0627\\u0631\\u0652\\u0642\\u0629 \\u0623\\u064d\\u0648\\u0644\\u0650\\u0647\\u0627 \\u064d\\u062a\\u0652\\u0623\\u064b\\u0633\\u064e\\u064a\\u0633 \\u0650\\u062f\\u0652\\u0627\\u0652\\u0626\\u0650\\u0631\\u0652\\u0629\\u064e \\u064e\\u0627\\u0644\\u062b\\u0642\\u0651\\u0627\\u0641\\u0629 \\u0648\\u064e\\u0627\\u0650\\u0644\\u064e\\u0625\\u0639\\u0650\\u0644\\u0627\\u0645\\u0651\\u060c \\u064c\\u0648\\u0650\\u062b\\u0652\\u0627\\u0646\\u064a\\u0647\\u0651\\u0627\\u064c \\u0627\\u062c\\u062a\\u0651\\u0645\\u064d\\u0627\\u064d\\u0639 \\u064e\\u0635\\u0627\\u062d\\u0650\\u0628\\u0650 \\u0627\\u0651\\u0644\\u0651\\u0633\\u0651\\u0645\\u0648\\u064d \\u0650\\u062d\\u0627\\u064f\\u0643\\u064b\\u0645 \\u0627\\u0644\\u064f\\u0634\\u0652\\u0627\\u064b\\u0631\\u0642\\u064d\\u0629\\u0651 \\u064c\\u0628\\u0643\\u064f\\u0648\\u0650\\u0627\\u062f\\u064c\\u0631 \\u0627\\u0644\\u064b\\u062f\\u064b\\u0627\\u0650\\u0626\\u0631\\u064b\\u0629 \\u064c\\u0648\\u0642\\u0651\\u062f\\u064f\\u0651\\u0645 \\u0641\\u0651\\u064a\\u0647\\u064f \\u0645\\u062c\\u0650\\u0645\\u064b\\u0648\\u064d\\u0639\\u0651\\u0629\\u064d \\u0645\\u064f\\u0646 \\u0652\\u0627\\u064e\\u0644\\u0633\\u064a\\u0651\\u0627\\u0651\\u0633\\u0627\\u062a \\u0651\\u0627\\u0644\\u062b\\u0642\\u064c\\u0627\\u064b\\u0641\\u064a\\u064e\\u0629 \\u0648\\u064c\\u0627\\u0644\\u062e\\u0651\\u0637\\u0637\\u064b \\u0627\\u0644\\u064d\\u062a\\u0646\\u0645\\u064e\\u0648\\u064a\\u0650\\u0629 \\u0651\\u0648\\u062f\\u0652\\u0639\\u0627 \\u064c\\u0633\\u0650\\u0645\\u064b\\u0648\\u064c\\u0647 \\u064c\\u0625\\u0650\\u0644\\u064f\\u0649: \\u0627\\u0644\\u0627\\u0647\\u0651\\u062a\\u064f\\u0645\\u0627\\u064f\\u0645 \\u0628\\u064b\\u0627\\u0650\\u0644\\u064f\\u0645\\u0652\\u0633\\u0631\\u062d\\u060c\\u0652 \\u0648\\u064b\\u0627\\u0651\\u0644\\u0623\\u0637\\u064c\\u0631\\u0650 \\u0627\\u064d\\u0644\\u0651\\u0639\\u0627\\u064b\\u0645\\u0629 \\u064e\\u0644\\u0644\\u0650\\u062b\\u064e\\u0642\\u0627\\u064d\\u0641\\u0629\\u064d\\u060c\\u0651 \\u0651\\u0627\\u064c\\u0644\\u0650\\u0627\\u0631\\u064f\\u062a\\u0642\\u0627\\u064f\\u0621\\u064c \\u0628\\u064d\\u0627\\u0650\\u0644\\u0639\\u0645\\u0651\\u0644\\u064e \\u0627\\u0644\\u0651\\u062a\\u064d\\u0634\\u0643\\u0651\\u064a\\u0644\\u064a\\u0650\\u060c \\u0627\\u0651\\u0644\\u0627\\u064f\\u0647\\u064f\\u062a\\u0645\\u064d\\u0627\\u0645 \\u0650\\u0628\\u0650\\u0627\\u0651\\u0644\\u064b\\u0648\\u0639\\u0651\\u064a \\u064b\\u0648\\u0650\\u0627\\u0652\\u0644\\u064f\\u0630\\u0627\\u0626\\u0650\\u0642\\u0651\\u0629\\u064c \\u0627\\u0651\\u0644\\u062c\\u0650\\u0645\\u064d\\u0627\\u0652\\u0644\\u0652\\u064a\\u0652\\u0629\\u064f\\u060c \\u0627\\u064d\\u0644\\u0650\\u0627\\u0647\\u064f\\u062a\\u0645\\u0627\\u0651\\u0645\\u0652 \\u064f\\u0628\\u064d\\u0627\\u0644\\u0637\\u0641\\u0644\\u0651\\u060c \\u0651\\u062a\\u0637\\u0648\\u064a\\u0631\\u064b \\u0634\\u0628\\u0643\\u0629\\u0652 \\u0627\\u0644\\u0645\\u0643\\u062a\\u064b\\u0628\\u0627\\u062a\\u060c\\u0652 \\u064e\\u0627\\u0633\\u062a\\u0643\\u064f\\u0645\\u064d\\u0627\\u0644\\u064d \\u0639\\u064b\\u0645\\u064b\\u0644\\u0652\\u064a\\u0627\\u062a \\u064c\\u0627\\u0644\\u064f\\u062a\\u0631\\u0645\\u064a\\u0645\\u0650\\u060c \\u064b\\u0627\\u0644\\u064d\\u0627\\u0647\\u064b\\u062a\\u064c\\u0645\\u0652\\u0627\\u0650\\u0645\\u064d \\u0650\\u0628\\u062b\\u064e\\u0642\\u0652\\u0627\\u064b\\u0641\\u064e\\u0629\\u064d \\u0650\\u0627\\u064d\\u0644\\u0645\\u0650\\u0631\\u064b\\u0623\\u064b\\u0629 \\u0650\\u0648\\u064b\\u0627\\u064f\\u0644\\u064d\\u0637\\u0641\\u0652\\u0644 .\\u0652 \\u064c.\\u064d)\\u064f \\u064b\\u0648\\u062b\\u064b\\u0627\\u064d\\u0644\\u0651\\u062b\\u064b\\u0647\\u064e\\u0627\\u064f \\u064b\\u0625\\u0650\\u0639\\u0650\\u0644\\u0651\\u0627\\u064b\\u0646\\u064f \\u0627\\u0644\\u0634\\u0627\\u0631\\u0642\\u0629\\u064f \\u0651\\u0639\\u0627\\u064d\\u0635\\u064e\\u0645\\u0629\\u064c \\u0644\\u0644\\u064b\\u062b\\u0642\\u064b\\u0627\\u0641\\u0629 \\u064b\\u0627\\u0652\\u0644\\u064e\\u0639\\u0651\\u0631\\u0628\\u064a\\u0629\\u064f \\u064b\\u0641\\u064a\\u064b \\u0639\\u0627\\u0645 19\\u06529\\u064d8 \\u064e\\u0644\\u0645\\u0627 \\u062a\\u062a\\u0645\\u064b\\u064a\\u0632\\u064f \\u0628\\u064f\\u0647\\u064e \\u064e\\u0645\\u064b\\u0646\\u064b \\u064b\\u0646\\u064e\\u0634\\u0650\\u0627\\u0637 \\u0651\\u0648\\u064f\\u062d\\u064b\\u0631\\u0627\\u0643\\u064d \\u064f\\u062b\\u0642\\u0627\\u0641\\u064a\\u0650 \\u0645\\u0652\\u0645\\u064c\\u064a\\u0632\\u064d\\u060c\\u064e \\u064b\\u0641\\u0636\\u0644\\u0627\\u064b\\u064e \\u064f\\u0639\\u0650\\u0646 \\u062f\\u0648\\u0631\\u064b \\u064c\\u0627\\u0644\\u064d\\u062c\\u064f\\u0648\\u0627\\u0652\\u0626\\u064f\\u0632\\u0651 \\u0648\\u0635\\u0650\\u0646\\u064f\\u0627\\u062f\\u0651\\u064a\\u064b\\u0642 \\u064f\\u0627\\u064b\\u0644\\u062f\\u064d\\u0639\\u064c\\u0645\\u060c \\u064d\\u0648\\u0627\\u064f\\u0644\\u062f\\u0628\\u0652\\u0644\\u064b\\u0648\\u0645\\u0627\\u0633\\u064d\\u064a\\u0629 \\u064f\\u0627\\u0650\\u0644\\u064b\\u062b\\u0652\\u0642\\u0627\\u0641\\u0651\\u064a\\u0629\\u060c\\u064e \\u0648\\u0639\\u0650\\u062f\\u062f \\u0648\\u0652\\u0646\\u064c\\u0648\\u0639 \\u064b\\u0627\\u064b\\u0644\\u064c\\u062c\\u064b\\u0627\\u0645\\u0639\\u0650\\u0627\\u064c\\u062a \\u0648\\u0627\\u0644\\u064e\\u0645\\u0650\\u0631\\u0627\\u0652\\u0643\\u0632\\u060c \\u064f\\u0648\\u0627\\u064b\\u0644\\u0625\\u064f\\u062d\\u0635\\u064c\\u0627\\u0650\\u0621\\u064e \\u0627\\u0651\\u0644\\u0627\\u064b\\u062c\\u064f\\u062a\\u0645\\u0627\\u0650\\u0639\\u0650\\u064a\\u0651 \\u064b\\u0641\\u0651\\u064a \\u0628\\u0644\\u0648\\u064e\\u0631\\u0629\\u064f \\u064b\\u0648\\u064c\\u062a\\u064b\\u0631\\u0633\\u0652\\u064a\\u062e \\u064c\\u0645\\u064d\\u0643\\u064e\\u0627\\u0646\\u0629 \\u064b\\u0627\\u0644\\u0651\\u0634\\u0627\\u0651\\u0631\\u064e\\u0642\\u0629 \\u064d\\u0639\\u0627\\u0635\\u0645\\u0629\\u064f \\u0651\\u0644\\u064c\\u0644\\u0651\\u062b\\u064d\\u0642\\u0627\\u064d\\u0641\\u0629\\u064e \\u064c\\u0627\\u064c\\u0644\\u0652\\u0639\\u0650\\u0631\\u0628\\u064a\\u064c\\u0629 \\u0650\\u0648\\u0652\\u0627\\u0644\\u0625\\u064d\\u0633\\u0644\\u0627\\u0651\\u0645\\u064a\\u0652\\u0629\\u060c \\u0648\\u0643\\u064f\\u0644 \\u0651\\u0630\\u0652\\u0644\\u064b\\u0643 \\u064b\\u0628\\u062c\\u0647\\u062f \\u0651\\u0635\\u0651\\u0627\\u062d\\u0628\\u064d \\u0650\\u0627\\u0644\\u064d\\u0633\\u064e\\u0645\\u0648\\u0650 \\u064b\\u062d\\u0650\\u0627\\u064c\\u0643\\u064f\\u0645 \\u064d\\u0627\\u0644\\u0634\\u0627\\u0631\\u064c\\u0642\\u0629 \\u0627\\u064e\\u0644\\u0650\\u0630\\u064a\\u064b \\u064e\\u0639\\u0645\\u064f\\u0644 \\u0651\\u0648\\u064d\\u0644\\u0627 \\u064a\\u0632\\u064f\\u0627\\u064e\\u0644 \\u0628\\u0634\\u063a\\u0641\\u0652 \\u0648\\u062d\\u0628\\u064f \\u0639\\u064f\\u0644\\u0649\\u0652 \\u062a\\u064c\\u0639\\u0632\\u064b\\u064a\\u064b\\u0632\\u064e \\u064c\\u0627\\u064f\\u0644\\u064e\\u062a\\u0646\\u064b\\u0645\\u0651\\u064a\\u064d\\u0629\\u064c \\u0627\\u064e\\u0644\\u064b\\u062b\\u0642\\u064e\\u0627\\u064d\\u0641\\u064c\\u064a\\u0629 \\u064e\\u0641\\u0650\\u064a\\u064f \\u0627\\u0652\\u0644\\u064e\\u0634\\u0627\\u0631\\u064e\\u0642\\u064d\\u0629\\u064e \\u0645\\u0646\\u0650 \\u062e\\u064b\\u0644\\u0650\\u0627\\u0650\\u0644\\u0651 \\u0651\\u0633\\u064e\\u0646\\u0651 \\u0648\\u0625\\u0642\\u064b\\u0631\\u0651\\u0627\\u0631 \\u0645\\u062c\\u0645\\u0648\\u064c\\u0639\\u064e\\u0629\\u064e \\u0645\\u064f\\u0646\\u0651 \\u0627\\u064b\\u0644\\u0645\\u064d\\u0634\\u0650\\u0631\\u0648\\u0639\\u064f\\u0627\\u064f\\u062a\\u0652 \\u0627\\u0644\\u0651\\u062b\\u0650\\u0642\\u0627\\u0652\\u0641\\u0650\\u064a\\u0629\\u064c \\u0650\\u0627\\u0644\\u062a\\u064d\\u064a \\u064e\\u062a\\u064c\\u0647\\u064e\\u062f\\u064d\\u0641\\u064e \\u0625\\u064e\\u0644\\u0650\\u0649 \\u0652\\u062a\\u062d\\u0642\\u064a\\u0642 \\u0630\\u0644\\u0643\\u064d\\u060c\\u064b \\u0650\\u062d\\u062a\\u0650\\u0649 \\u0652\\u0623\\u064e\\u0635\\u0628\\u062d\\u062a\\u0651 \\u064c\\u0627\\u064e\\u0644\\u0634\\u0627\\u064c\\u0631\\u064c\\u0642\\u064b\\u0629\\u0652 \\u0627\\u0644\\u0651\\u064a\\u0648\\u064c\\u0645 \\u0651\\u0648\\u064f\\u062c\\u0647\\u064b\\u0629\\u064e \\u064a\\u0624\\u064f\\u0645\\u064e\\u0647\\u064c\\u0627 \\u0652\\u0627\\u0644\\u064e\\u0645\\u0641\\u064e\\u0643\\u0631\\u0651\\u0648\\u0651\\u0646 \\u0648\\u0650\\u0627\\u0644\\u0645\\u0651\\u062b\\u0642\\u0650\\u0641\\u0651\\u0648\\u0646 \\u0648\\u0627\\u0644\\u0645\\u064f\\u0628\\u064c\\u062f\\u0639\\u064c\\u0648\\u0650\\u0646 \\u0652\\u0648\\u0652\\u0627\\u0651\\u0644\\u064c\\u0643\\u062a\\u064c\\u0627\\u0628\\u0650 \\u064c\\u0645\\u0650\\u0646\\u064f \\u0634\\u062a\\u0650\\u0649\\u064e \\u0623\\u064f\\u0646\\u064d\\u062d\\u0627\\u0621 \\u0627\\u064d\\u0644\\u0652\\u0639\\u0627\\u0644\\u064f\\u0645\\u060c\\u0650 \\u064e\\u0634\\u064b\\u0627\\u0652\\u0645\\u062e\\u0651\\u0629\\u064e \\u0631\\u0627\\u0633\\u062e\\u064b\\u0629 \\u064c\\u0628\\u064c\\u0639\\u0651\\u0637\\u064c\\u0627\\u0626\\u064f\\u0647\\u0650\\u0627 \\u064e\\u0648\\u062a\\u064b\\u0642\\u0650\\u062f\\u0645\\u0647\\u064d\\u0627 \\u0650.\\u064f\"\n        ],\n        \"semantic_type\": \"\",\n        \"description\": \"\"\n      }\n    },\n    {\n      \"column\": \"label\",\n      \"properties\": {\n        \"dtype\": \"category\",\n        \"num_unique_values\": 7,\n        \"samples\": [\n          \"Culture\",\n          \"Finance\",\n          \"Sports\"\n        ],\n        \"semantic_type\": \"\",\n        \"description\": \"\"\n      }\n    },\n    {\n      \"column\": \"text_length\",\n      \"properties\": {\n        \"dtype\": \"number\",\n        \"std\": 168,\n        \"min\": 20,\n        \"max\": 700,\n        \"num_unique_values\": 681,\n        \"samples\": [\n          522,\n          220,\n          352\n        ],\n        \"semantic_type\": \"\",\n        \"description\": \"\"\n      }\n    }\n  ]\n}"
            }
          },
          "metadata": {},
          "execution_count": 18
        }
      ]
    },
    {
      "cell_type": "code",
      "source": [
        "df['text_length'].max()"
      ],
      "metadata": {
        "colab": {
          "base_uri": "https://localhost:8080/"
        },
        "id": "mbQl8c5YGkUs",
        "outputId": "0ec7a478-57dd-4606-e4f0-57851aba5424"
      },
      "execution_count": 19,
      "outputs": [
        {
          "output_type": "execute_result",
          "data": {
            "text/plain": [
              "700"
            ]
          },
          "metadata": {},
          "execution_count": 19
        }
      ]
    },
    {
      "cell_type": "code",
      "source": [
        "df['text_length'].min()"
      ],
      "metadata": {
        "colab": {
          "base_uri": "https://localhost:8080/"
        },
        "id": "gjZdCRvzGy92",
        "outputId": "cd003d0b-7711-4b17-d224-6a4bddc6654a"
      },
      "execution_count": 20,
      "outputs": [
        {
          "output_type": "execute_result",
          "data": {
            "text/plain": [
              "20"
            ]
          },
          "metadata": {},
          "execution_count": 20
        }
      ]
    },
    {
      "cell_type": "code",
      "source": [
        "max_length = 300\n",
        "min_length = 20\n",
        "df = df[df['text'].str.split().str.len().between(min_length, max_length)]"
      ],
      "metadata": {
        "id": "gYxVwyA9DIFP"
      },
      "execution_count": 21,
      "outputs": []
    },
    {
      "cell_type": "code",
      "source": [
        "df.head() # it is applied"
      ],
      "metadata": {
        "colab": {
          "base_uri": "https://localhost:8080/",
          "height": 206
        },
        "id": "gSkFaUFzHFH7",
        "outputId": "cb8e39ac-69e0-4c71-a7cf-10bd44bd7742"
      },
      "execution_count": 22,
      "outputs": [
        {
          "output_type": "execute_result",
          "data": {
            "text/plain": [
              "                                                 text    label  text_length\n",
              "2   https://example.com/resource/أُقيًمٌتِ مِساءُ ...  Culture          237\n",
              "4   https://example.com/resource/قُرر اَتحِاد اًلْ...  Culture           59\n",
              "7   https://example.com/resource/توفٌي َأمس ِاَلُأ...  Culture           96\n",
              "8   https://example.com/resource/نظم ْمَرٍكزْ َاِل...  Culture          214\n",
              "14  https://example.com/resource/بّحٌسبَ ِطبيعّة ُ...  Culture          296"
            ],
            "text/html": [
              "\n",
              "  <div id=\"df-3423864a-62b4-43f0-ae53-3ad1671bc092\" class=\"colab-df-container\">\n",
              "    <div>\n",
              "<style scoped>\n",
              "    .dataframe tbody tr th:only-of-type {\n",
              "        vertical-align: middle;\n",
              "    }\n",
              "\n",
              "    .dataframe tbody tr th {\n",
              "        vertical-align: top;\n",
              "    }\n",
              "\n",
              "    .dataframe thead th {\n",
              "        text-align: right;\n",
              "    }\n",
              "</style>\n",
              "<table border=\"1\" class=\"dataframe\">\n",
              "  <thead>\n",
              "    <tr style=\"text-align: right;\">\n",
              "      <th></th>\n",
              "      <th>text</th>\n",
              "      <th>label</th>\n",
              "      <th>text_length</th>\n",
              "    </tr>\n",
              "  </thead>\n",
              "  <tbody>\n",
              "    <tr>\n",
              "      <th>2</th>\n",
              "      <td>https://example.com/resource/أُقيًمٌتِ مِساءُ ...</td>\n",
              "      <td>Culture</td>\n",
              "      <td>237</td>\n",
              "    </tr>\n",
              "    <tr>\n",
              "      <th>4</th>\n",
              "      <td>https://example.com/resource/قُرر اَتحِاد اًلْ...</td>\n",
              "      <td>Culture</td>\n",
              "      <td>59</td>\n",
              "    </tr>\n",
              "    <tr>\n",
              "      <th>7</th>\n",
              "      <td>https://example.com/resource/توفٌي َأمس ِاَلُأ...</td>\n",
              "      <td>Culture</td>\n",
              "      <td>96</td>\n",
              "    </tr>\n",
              "    <tr>\n",
              "      <th>8</th>\n",
              "      <td>https://example.com/resource/نظم ْمَرٍكزْ َاِل...</td>\n",
              "      <td>Culture</td>\n",
              "      <td>214</td>\n",
              "    </tr>\n",
              "    <tr>\n",
              "      <th>14</th>\n",
              "      <td>https://example.com/resource/بّحٌسبَ ِطبيعّة ُ...</td>\n",
              "      <td>Culture</td>\n",
              "      <td>296</td>\n",
              "    </tr>\n",
              "  </tbody>\n",
              "</table>\n",
              "</div>\n",
              "    <div class=\"colab-df-buttons\">\n",
              "\n",
              "  <div class=\"colab-df-container\">\n",
              "    <button class=\"colab-df-convert\" onclick=\"convertToInteractive('df-3423864a-62b4-43f0-ae53-3ad1671bc092')\"\n",
              "            title=\"Convert this dataframe to an interactive table.\"\n",
              "            style=\"display:none;\">\n",
              "\n",
              "  <svg xmlns=\"http://www.w3.org/2000/svg\" height=\"24px\" viewBox=\"0 -960 960 960\">\n",
              "    <path d=\"M120-120v-720h720v720H120Zm60-500h600v-160H180v160Zm220 220h160v-160H400v160Zm0 220h160v-160H400v160ZM180-400h160v-160H180v160Zm440 0h160v-160H620v160ZM180-180h160v-160H180v160Zm440 0h160v-160H620v160Z\"/>\n",
              "  </svg>\n",
              "    </button>\n",
              "\n",
              "  <style>\n",
              "    .colab-df-container {\n",
              "      display:flex;\n",
              "      gap: 12px;\n",
              "    }\n",
              "\n",
              "    .colab-df-convert {\n",
              "      background-color: #E8F0FE;\n",
              "      border: none;\n",
              "      border-radius: 50%;\n",
              "      cursor: pointer;\n",
              "      display: none;\n",
              "      fill: #1967D2;\n",
              "      height: 32px;\n",
              "      padding: 0 0 0 0;\n",
              "      width: 32px;\n",
              "    }\n",
              "\n",
              "    .colab-df-convert:hover {\n",
              "      background-color: #E2EBFA;\n",
              "      box-shadow: 0px 1px 2px rgba(60, 64, 67, 0.3), 0px 1px 3px 1px rgba(60, 64, 67, 0.15);\n",
              "      fill: #174EA6;\n",
              "    }\n",
              "\n",
              "    .colab-df-buttons div {\n",
              "      margin-bottom: 4px;\n",
              "    }\n",
              "\n",
              "    [theme=dark] .colab-df-convert {\n",
              "      background-color: #3B4455;\n",
              "      fill: #D2E3FC;\n",
              "    }\n",
              "\n",
              "    [theme=dark] .colab-df-convert:hover {\n",
              "      background-color: #434B5C;\n",
              "      box-shadow: 0px 1px 3px 1px rgba(0, 0, 0, 0.15);\n",
              "      filter: drop-shadow(0px 1px 2px rgba(0, 0, 0, 0.3));\n",
              "      fill: #FFFFFF;\n",
              "    }\n",
              "  </style>\n",
              "\n",
              "    <script>\n",
              "      const buttonEl =\n",
              "        document.querySelector('#df-3423864a-62b4-43f0-ae53-3ad1671bc092 button.colab-df-convert');\n",
              "      buttonEl.style.display =\n",
              "        google.colab.kernel.accessAllowed ? 'block' : 'none';\n",
              "\n",
              "      async function convertToInteractive(key) {\n",
              "        const element = document.querySelector('#df-3423864a-62b4-43f0-ae53-3ad1671bc092');\n",
              "        const dataTable =\n",
              "          await google.colab.kernel.invokeFunction('convertToInteractive',\n",
              "                                                    [key], {});\n",
              "        if (!dataTable) return;\n",
              "\n",
              "        const docLinkHtml = 'Like what you see? Visit the ' +\n",
              "          '<a target=\"_blank\" href=https://colab.research.google.com/notebooks/data_table.ipynb>data table notebook</a>'\n",
              "          + ' to learn more about interactive tables.';\n",
              "        element.innerHTML = '';\n",
              "        dataTable['output_type'] = 'display_data';\n",
              "        await google.colab.output.renderOutput(dataTable, element);\n",
              "        const docLink = document.createElement('div');\n",
              "        docLink.innerHTML = docLinkHtml;\n",
              "        element.appendChild(docLink);\n",
              "      }\n",
              "    </script>\n",
              "  </div>\n",
              "\n",
              "\n",
              "<div id=\"df-56bffa19-4407-4cb5-82a5-93e61211ebf7\">\n",
              "  <button class=\"colab-df-quickchart\" onclick=\"quickchart('df-56bffa19-4407-4cb5-82a5-93e61211ebf7')\"\n",
              "            title=\"Suggest charts\"\n",
              "            style=\"display:none;\">\n",
              "\n",
              "<svg xmlns=\"http://www.w3.org/2000/svg\" height=\"24px\"viewBox=\"0 0 24 24\"\n",
              "     width=\"24px\">\n",
              "    <g>\n",
              "        <path d=\"M19 3H5c-1.1 0-2 .9-2 2v14c0 1.1.9 2 2 2h14c1.1 0 2-.9 2-2V5c0-1.1-.9-2-2-2zM9 17H7v-7h2v7zm4 0h-2V7h2v10zm4 0h-2v-4h2v4z\"/>\n",
              "    </g>\n",
              "</svg>\n",
              "  </button>\n",
              "\n",
              "<style>\n",
              "  .colab-df-quickchart {\n",
              "      --bg-color: #E8F0FE;\n",
              "      --fill-color: #1967D2;\n",
              "      --hover-bg-color: #E2EBFA;\n",
              "      --hover-fill-color: #174EA6;\n",
              "      --disabled-fill-color: #AAA;\n",
              "      --disabled-bg-color: #DDD;\n",
              "  }\n",
              "\n",
              "  [theme=dark] .colab-df-quickchart {\n",
              "      --bg-color: #3B4455;\n",
              "      --fill-color: #D2E3FC;\n",
              "      --hover-bg-color: #434B5C;\n",
              "      --hover-fill-color: #FFFFFF;\n",
              "      --disabled-bg-color: #3B4455;\n",
              "      --disabled-fill-color: #666;\n",
              "  }\n",
              "\n",
              "  .colab-df-quickchart {\n",
              "    background-color: var(--bg-color);\n",
              "    border: none;\n",
              "    border-radius: 50%;\n",
              "    cursor: pointer;\n",
              "    display: none;\n",
              "    fill: var(--fill-color);\n",
              "    height: 32px;\n",
              "    padding: 0;\n",
              "    width: 32px;\n",
              "  }\n",
              "\n",
              "  .colab-df-quickchart:hover {\n",
              "    background-color: var(--hover-bg-color);\n",
              "    box-shadow: 0 1px 2px rgba(60, 64, 67, 0.3), 0 1px 3px 1px rgba(60, 64, 67, 0.15);\n",
              "    fill: var(--button-hover-fill-color);\n",
              "  }\n",
              "\n",
              "  .colab-df-quickchart-complete:disabled,\n",
              "  .colab-df-quickchart-complete:disabled:hover {\n",
              "    background-color: var(--disabled-bg-color);\n",
              "    fill: var(--disabled-fill-color);\n",
              "    box-shadow: none;\n",
              "  }\n",
              "\n",
              "  .colab-df-spinner {\n",
              "    border: 2px solid var(--fill-color);\n",
              "    border-color: transparent;\n",
              "    border-bottom-color: var(--fill-color);\n",
              "    animation:\n",
              "      spin 1s steps(1) infinite;\n",
              "  }\n",
              "\n",
              "  @keyframes spin {\n",
              "    0% {\n",
              "      border-color: transparent;\n",
              "      border-bottom-color: var(--fill-color);\n",
              "      border-left-color: var(--fill-color);\n",
              "    }\n",
              "    20% {\n",
              "      border-color: transparent;\n",
              "      border-left-color: var(--fill-color);\n",
              "      border-top-color: var(--fill-color);\n",
              "    }\n",
              "    30% {\n",
              "      border-color: transparent;\n",
              "      border-left-color: var(--fill-color);\n",
              "      border-top-color: var(--fill-color);\n",
              "      border-right-color: var(--fill-color);\n",
              "    }\n",
              "    40% {\n",
              "      border-color: transparent;\n",
              "      border-right-color: var(--fill-color);\n",
              "      border-top-color: var(--fill-color);\n",
              "    }\n",
              "    60% {\n",
              "      border-color: transparent;\n",
              "      border-right-color: var(--fill-color);\n",
              "    }\n",
              "    80% {\n",
              "      border-color: transparent;\n",
              "      border-right-color: var(--fill-color);\n",
              "      border-bottom-color: var(--fill-color);\n",
              "    }\n",
              "    90% {\n",
              "      border-color: transparent;\n",
              "      border-bottom-color: var(--fill-color);\n",
              "    }\n",
              "  }\n",
              "</style>\n",
              "\n",
              "  <script>\n",
              "    async function quickchart(key) {\n",
              "      const quickchartButtonEl =\n",
              "        document.querySelector('#' + key + ' button');\n",
              "      quickchartButtonEl.disabled = true;  // To prevent multiple clicks.\n",
              "      quickchartButtonEl.classList.add('colab-df-spinner');\n",
              "      try {\n",
              "        const charts = await google.colab.kernel.invokeFunction(\n",
              "            'suggestCharts', [key], {});\n",
              "      } catch (error) {\n",
              "        console.error('Error during call to suggestCharts:', error);\n",
              "      }\n",
              "      quickchartButtonEl.classList.remove('colab-df-spinner');\n",
              "      quickchartButtonEl.classList.add('colab-df-quickchart-complete');\n",
              "    }\n",
              "    (() => {\n",
              "      let quickchartButtonEl =\n",
              "        document.querySelector('#df-56bffa19-4407-4cb5-82a5-93e61211ebf7 button');\n",
              "      quickchartButtonEl.style.display =\n",
              "        google.colab.kernel.accessAllowed ? 'block' : 'none';\n",
              "    })();\n",
              "  </script>\n",
              "</div>\n",
              "\n",
              "    </div>\n",
              "  </div>\n"
            ],
            "application/vnd.google.colaboratory.intrinsic+json": {
              "type": "dataframe",
              "variable_name": "df",
              "summary": "{\n  \"name\": \"df\",\n  \"rows\": 25541,\n  \"fields\": [\n    {\n      \"column\": \"text\",\n      \"properties\": {\n        \"dtype\": \"string\",\n        \"num_unique_values\": 25541,\n        \"samples\": [\n          \"https://example.com/resource/\\u0645\\u0646 \\u0634\\u0639\\u0631: \\u0650\\u0647\\u0627\\u0631\\u0648\\u0646\\u064b \\u0652\\u0647\\u0651\\u0627\\u064b\\u0634\\u0645 \\u064b\\u0631\\u0650\\u0634\\u064a\\u062f\\u064b\\u0623\\u062c\\u0644\\u064e \\u0625\\u0652\\u0646\\u064a\\u0651 \\u0651\\u0645\\u064b\\u0646\\u064f \\u0650\\u0627\\u0650\\u0644\\u064d\\u0642\\u062f\\u064b\\u0633\\u0648\\u0641\\u064a\\u0647\\u0627\\u064c \\u0651\\u0642\\u0651\\u062f\\u0652 \\u0646\\u0645\\u0627 \\u0650\\u063a\\u0650\\u0631\\u064f\\u0633\\u064a\\u0651\\u062c\\u0630\\u064e\\u0648\\u0631\\u064a\\u0652 \\u064c\\u0641\\u064a\\u064f \\u0652\\u0639\\u064f\\u0631\\u0650\\u0648\\u0652\\u0642 \\u064b\\u0627\\u064c\\u0644\\u0635\\u062e\\u0631\\u064f\\u0641\\u0651\\u064a\\u064d \\u0627\\u0644\\u0635\\u0651\\u0644\\u064f\\u062f\\u060c \\u064e\\u0648\\u064d\\u0641\\u064a \\u064e\\u0627\\u064f\\u0644\\u0652\\u0645\\u0644\\u0633\\u064c\\u0648\\u064f\\u0645\\u0652\\u0646 \\u0643\\u0646\\u064b\\u0639\\u0627\\u0646 \\u0628\\u064a\\u064d \\u0646\\u0628\\u0650\\u0636\\u0648\\u0645\\u0646\\u064d \\u0639\\u0650\\u062f\\u0646\\u0627\\u0646\\u0650\\u060c \\u0650\\u0645\\u064f\\u0646\\u0651 \\u064d\\u0642\\u064d\\u064a\\u064e\\u0633\\u0651\\u0645\\u0646 \\u0627\\u064c\\u0644\\u064f\\u0645\\u064f\\u0627\\u0652\\u0636\\u064b\\u064a\\u0651\\u060c \\u0645\\u0646\\u064e \\u0627\\u0644\\u062d\\u0627\\u0636\\u0631\\u064c\\u0645\\u064e\\u0646 \\u064a\\u0648\\u064c\\u0645\\u064a\\u060c \\u0648\\u0645\\u0646 \\u064d\\u0623\\u064d\\u0645\\u064f\\u0633\\u0651\\u064a\\u0639\\u0631\\u064a\\u0642 \\u0627\\u0650\\u0644\\u0650\\u0645\\u0650\\u062c\\u064b\\u062f \\u064f\\u0648\\u0627\\u0644\\u0650\\u0623\\u0646\\u0633\\u0627\\u064c\\u0628\\u064e\\u0645\\u0634\\u062f\\u0648\\u064d\\u062f\\u064b \\u0625\\u064e\\u0644\\u064f\\u0649\\u064f \\u0650\\u0627\\u0644\\u0634\\u0645\\u0633\\u064f\\u0628\\u064d\\u0647\\u064c\\u0627 \\u064b\\u0623\\u062e\\u062a\\u064e\\u0627\\u064c\\u0644\\u064e \\u064d\\u0641\\u064c\\u064a\\u064f \\u0627\\u0644\\u0650\\u062f\\u0646\\u064b\\u064a\\u0627\\u064c\\u0648\\u064e\\u0623\\u064c\\u0645\\u0650\\u0634\\u064a \\u0651\\u0631\\u0627\\u064f\\u0641\\u0639 \\u0627\\u0644\\u0652\\u0631\\u0651\\u0623\\u064b\\u0633\\u0623\\u0646\\u0627\\u0650 \\u0623\\u0639\\u0637\\u064a\\u064f\\u062a\\u064f\\u0647\\u0652\\u0627 \\u0650\\u0639\\u064f\\u0645\\u0631\\u064e\\u064a\\u0641\\u062f\\u064f\\u0627\\u064b\\u064b\\u064d\\u060c \\u0623\\u0633\\u0643\\u064b\\u0646\\u0651\\u062a\\u0647\\u0627 \\u062d\\u0633\\u0652\\u064a\\u0651\\u0623\\u0646\\u064f\\u0627\\u0650 \\u064f\\u063a\\u064e\\u0646\\u064a\\u062a\\u0647\\u0627 \\u0634\\u0639\\u064b\\u0631\\u0627\\u064b\\u064b\\u0631\\u064b\\u0641\\u064a\\u064b\\u0639\\u064b \\u064e\\u0627\\u0644\\u0648\\u064e\\u0642\\u0639\\u064d \\u0648\\u0652\\u0627\\u0644\\u062c\\u0631\\u064b\\u0633\\u064e\\u0623\\u064c\\u0646\\u0627\\u064f \\u0645\\u0646\\u064e\\u0647\\u0651\\u0627\\u0652 \\u0648\\u0650\\u0625\\u064c\\u0646\\u064b \\u0651\\u063a\\u0631\\u0642\\u064c\\u062a\\u0628\\u0628\\u0652\\u062d\\u064c\\u0631 \\u0652\\u0627\\u0651\\u0644\\u064f\\u0647\\u064b\\u0645\\u0651 \\u064e\\u0648\\u064f\\u0627\\u0644\\u0628\\u0650\\u0624\\u0650\\u0633\\u064b\\u0623\\u064c\\u0646\\u0627\\u064f \\u064f\\u0645\\u064c\\u0646\\u0647\\u064f\\u0627 \\u0648\\u0650\\u0625\\u0646\\u064c \\u062d\\u0651\\u0637\\u0651\\u062a\\u064e\\u0639\\u0644\\u064a\\u0647\\u0627 \\u0631\\u0627\\u0651\\u064a\\u0629\\u0652 \\u0651\\u0627\\u0650\\u0644\\u0651\\u0628\\u064b\\u0624\\u064d\\u0633\",\n          \"https://example.com/resource/\\u0627\\u064e\\u0646\\u0637\\u0644\\u0642\\u062a\\u064b \\u0652\\u0623\\u064d\\u0645\\u0633\\u064c \\u0639\\u0645\\u0644\\u0650\\u064a\\u0627\\u062a \\u0627\\u0644\\u0652\\u062a\\u064e\\u0635\\u0648\\u0651\\u064a\\u062a \\u0641\\u064a\\u064d \\u064f\\u0627\\u064d\\u0644\\u0627\\u0633\\u062a\\u0652\\u0641\\u0650\\u062a\\u0627\\u0621 \\u064d\\u0627\\u064d\\u0644\\u0625\\u064d\\u062f\\u0627\\u0651\\u0631\\u064a\\u0650 \\u062d\\u0651\\u0648\\u0644 \\u064d\\u0648\\u0636\\u064b\\u0639\\u064a\\u0629 \\u0625\\u0642\\u0644\\u064a\\u0645 \\u062f\\u0627\\u0631\\u0641\\u0648\\u064c\\u0631 \\u064f\\u0627\\u0644\\u064c\\u0645\\u064e\\u0636\\u0651\\u0637\\u0631\\u064d\\u0628\\u064f \\u0651\\u0641\\u064e\\u064a\\u0650 \\u063a\\u0631\\u0628\\u064b\\u064a\\u064b \\u0627\\u064b\\u0644\\u0633\\u0651\\u0648\\u064d\\u062f\\u0627\\u0651\\u0646\\u060c\\u064c \\u0639\\u064f\\u0644\\u0651\\u0649 \\u0627\\u064f\\u0644\\u064b\\u0631\\u063a\\u0651\\u0645 \\u064f\\u0645\\u0646 \\u0627\\u0646\\u062a\\u0642\\u0652\\u0627\\u064d\\u062f\\u0627\\u062a \\u0627\\u0644\\u0651\\u0623\\u0633\\u0631\\u064b\\u0629\\u0652 \\u064e\\u0627\\u064f\\u0644\\u062f\\u0648\\u0644\\u064d\\u064a\\u0629\\u0652 \\u0651\\u0648\\u0645\\u064e\\u0642\\u0627\\u0637\\u064e\\u0639\\u0652\\u0629 \\u0627\\u064f\\u0644\\u0645\\u064d\\u0639\\u0627\\u064d\\u0631\\u0636\\u064c\\u0629.\\u064e\\u0648\\u064c\\u0628\\u0652\\u062f\\u0623\\u064c\\u062a\\u0651 \\u064d\\u0639\\u0652\\u0645\\u0644\\u064a\\u0627\\u062a\\u0650 \\u0627\\u0651\\u0644\\u062a\\u0652\\u0635\\u064f\\u0648\\u064b\\u064a\\u062a \\u0651\\u0639\\u0650\\u0646\\u0652\\u062f\\u064f \\u0627\\u064e\\u0644\\u064f\\u0633\\u064c\\u0627\\u064f\\u0639\\u064c\\u0629 \\u0627\\u0644\\u062a\\u0627\\u0652\\u0633\\u0639\\u0629\\u064b \\u0635\\u064e\\u0628\\u0627\\u062d\\u064c \\u0623\\u0645\\u0651\\u0633\\u0651\\u060c\\u0652 \\u0651\\u0645\\u064d\\u0633\\u0652\\u062a\\u064e\\u0645\\u064b\\u0631\\u064e\\u0629\\u0650 \\u0644\\u0643\\u064f\\u0646\\u064b \\u0628\\u0648\\u062a\\u064e\\u064a\\u0631\\u0652\\u0629 \\u0650\\u0628\\u064f\\u0637\\u064c\\u064a\\u0626\\u0629 \\u0650\\u0641\\u064c\\u064a\\u064b \\u0650\\u0645\\u0652\\u0631\\u0627\\u064d\\u0643\\u064b\\u0632 \\u0627\\u0644\\u0651\\u062a\\u0635\\u0648\\u064a\\u062a\\u064f \\u0627\\u064e\\u0644\\u064b\\u062a\\u064b\\u064a \\u064a\\u062d\\u0651\\u0631\\u0633\\u0647\\u064f\\u0627\\u064b \\u0651\\u0639\\u064f\\u0646\\u0650\\u0627\\u0635\\u0631 \\u0651\\u0634\\u0631\\u0637\\u064b\\u0629\\u064d \\u0648\\u0639\\u0644\\u064c\\u0642\\u062a \\u064b\\u0639\\u0651\\u0644\\u064a\\u0647\\u0627 \\u0652\\u0644\\u0627\\u0641\\u064e\\u062a\\u0627\\u062a \\u064c\\u062a\\u062f\\u0639\\u0648\\u0651 \\u064d\\u0625\\u064f\\u0644\\u064c\\u0649 \\u0627\\u0644\\u0627\\u0651\\u0642\\u062a\\u064e\\u0631\\u0651\\u0627\\u0650\\u0639\\u064c \\u064c\\u0628\\u0643\\u062b\\u064e\\u0627\\u064d\\u0641\\u0651\\u0629.\\u064f\\u0648\\u0650\\u0641\\u064a \\u0645\\u0652\\u0631\\u064d\\u0627\\u0643\\u0632 \\u0627\\u064b\\u0644\\u0650\\u062a\\u0635\\u0648\\u064a\\u064b\\u062a\\u0652 \\u0644\\u0645\\u064e \\u064d\\u064a\\u0623\\u064c\\u062a\\u064f \\u0633\\u0648\\u064f\\u0649 \\u064c\\u0639\\u062f\\u0651\\u062f \\u0650\\u0642\\u0644\\u064d\\u064a\\u0650\\u0644\\u064b \\u0645\\u0646 \\u0627\\u0644\\u0646\\u0627\\u062e\\u064d\\u0628\\u064a\\u064d\\u0646\\u0651 \\u0644\\u064f\\u0644\\u064e\\u062a\\u0635\\u0648\\u0651\\u064a\\u062a\\u0651.\\u064b\\u0645\\u0646\\u064f \\u0651\\u062c\\u0647\\u064c\\u062a\\u0652\\u0647\\u064e \\u0650\\u062f\\u0652\\u0639\\u0627 \\u0623\\u064e\\u062d\\u0645\\u0652\\u062f\\u064c \\u064c\\u0628\\u0650\\u0646 \\u064d\\u0645\\u0650\\u062d\\u064b\\u0645\\u064b\\u062f \\u0627\\u0644\\u062c\\u0631\\u0648\\u064e\\u0627\\u0646\\u0650 \\u064b\\u0631\\u0626\\u064a\\u0633\\u064f \\u0627\\u064e\\u0644\\u0628\\u0650\\u0631\\u0650\\u0644\\u064d\\u0645\\u064d\\u0627\\u0646 \\u0627\\u0652\\u0644\\u0639\\u0631\\u0652\\u0628\\u064a\\u0652 \\u064b\\u0627\\u064d\\u0644\\u064e\\u0634\\u064b\\u0639\\u064e\\u0628 \\u0627\\u0644\\u0633\\u0648\\u062f\\u0650\\u0627\\u0646\\u064a\\u064b \\u064e\\u0628\\u0643\\u064e\\u0644 \\u0645\\u064d\\u0643\\u064f\\u0648\\u0646\\u0650\\u0627\\u064b\\u062a\\u0647 \\u064c\\u0625\\u0650\\u0644\\u0652\\u0649\\u064d \\u064b\\u0623\\u0646\\u064d \\u064a\\u064b\\u0638\\u0644\\u064b \\u0648\\u062d\\u062f\\u0629 \\u0650\\u0648\\u0652\\u0627\\u062d\\u064e\\u062f\\u0629. \\u0651(\\u064c\\u0648\\u0650\\u0643\\u0627\\u0644\\u0650\\u0627\\u0652\\u062a\\u064e)\\u0650\",\n          \"https://example.com/resource/\\u062f\\u064e\\u0628\\u064a \\\"\\u0627\\u0644\\u062e\\u0644\\u064f\\u064a\\u062c\\\"\\u064b:\\u0650\\u0634\\u0647\\u062f\\u064e \\u0633\\u064c\\u0648\\u064d\\u0642 \\u064c\\u062f\\u0628\\u064a\\u064b \\u0650\\u0627\\u064d\\u0644\\u0645\\u0627\\u0650\\u0644\\u064c\\u064a \\u0650\\u062a\\u064e\\u062f\\u0627\\u0648\\u064f\\u0644\\u0627\\u064e\\u062a \\u0628\\u0642\\u064f\\u064a\\u064c\\u0645\\u0652\\u0629\\u064f 42\\u064c0\\u064e \\u064c.1\\u0650 \\u0650\\u0645\\u064b\\u0644\\u064a\\u0627\\u0652\\u0631 \\u062f\\u064c\\u0631\\u0647\\u0645\\u064e \\u0628\\u062a\\u0652\\u0646\\u0650\\u0641\\u0652\\u064a\\u0630 9\\u060c\\u064f2\\u064b2\\u064d8\\u064b \\u0651\\u0635\\u0641\\u0642\\u0629 \\u062a\\u0648\\u0632\\u0639\\u062a\\u064b \\u0639\\u0644\\u0652\\u0649\\u0651 38\\u064b0 .\\u06518\\u064d0\\u06502 \\u064f\\u0645\\u0644\\u064a\\u064e\\u0648\\u0650\\u0646\\u064e \\u0633\\u064e\\u0647\\u064f\\u0645\\u060c \\u0650\\u0648\\u0652\\u0623\\u064d\\u063a\\u064f\\u0644\\u064c\\u0642\\u0650 \\u0627\\u064c\\u0644\\u0645\\u0624\\u0634\\u064e\\u0631 \\u064e\\u0639\\u0652\\u0644\\u064c\\u0649\\u0650 \\u064d8\\u06514\\u064c0 \\u0652.\\u064e3\\u060c\\u064f77\\u064d2\\u0652 \\u064e\\u0646\\u0642\\u064e\\u0637\\u0650\\u0629 \\u0628\\u0650\\u0625\\u0651\\u0631\\u062a\\u0641\\u0627\\u064e\\u0639\\u0650 \\u0648\\u0642\\u062f\\u064f\\u0631\\u0647 41\\u064e0\\u0652 \\u0651.18\\u064c \\u064e\\u0646\\u0651\\u0642\\u0637\\u0651\\u0629\\u0650 \\u0639\\u064b\\u0646\\u064d \\u0625\\u0652\\u063a\\u064c\\u0644\\u0627\\u064d\\u0642\\u0647 \\u0627\\u0650\\u0644\\u064b\\u0633\\u064c\\u0627\\u0628\\u0651\\u0642\\u064d .\\u0648\\u064d\\u0645\\u0652\\u0646 \\u0623\\u0643\\u062b\\u0631\\u0650 \\u064f\\u0627\\u064b\\u0644\\u064d\\u0634\\u0631\\u0643\\u0627\\u064d\\u062a\\u064b \\u0627\\u0651\\u0631\\u064c\\u062a\\u064e\\u0641\\u0650\\u0627\\u0639\\u0627\\u0650\\u064b \\u064b\\u0645\\u0651\\u0646\\u0651 \\u064e\\u062d\\u064a\\u064d\\u062b\\u0650 \\u0652\\u0627\\u064d\\u0644\\u062a\\u064d\\u063a\\u064c\\u064a\\u064d\\u0631 \\u064c\\u0641\\u064e\\u064a\\u064b \\u0652\\u0623\\u0633\\u0651\\u0639\\u0650\\u0627\\u064e\\u0631\\u0647\\u064f\\u0627: \\u0627\\u062c\\u064f\\u064a\\u064f\\u0644\\u064a\\u062a\\u064a \\u0628\\u0625\\u0652\\u063a\\u064f\\u0644\\u0627\\u0651\\u0642 30\\u06520 .1\\u06520\\u0651 \\u0651\\u062f\\u064e\\u0631\\u0650\\u0647\\u0645\\u064e \\u0650\\u0628\\u0646\\u064c\\u0633\\u0650\\u0628\\u0629\\u064b \\u064c\\u062a\\u063a\\u064a\\u0631\\u064f \\u0628\\u064f\\u0644\\u063a\\u062a 4\\u06522\\u064b0\\u064c .8\\u064e%\\u060c \\u064f\\u0627\\u0644\\u0652\\u0627\\u062a\\u062d\\u0627\\u062f \\u0627\\u0651\\u0644\\u0639\\u064c\\u0642\\u0627\\u0631\\u064c\\u064a\\u064e\\u0629 \\u064f\\u0628\\u0625\\u063a\\u064c\\u0644\\u064e\\u0627\\u064f\\u0642\\u064c \\u064f5\\u064b9\\u064b0\\u064b .\\u064d1\\u064e \\u062f\\u0650\\u0631\\u064f\\u0647\\u0645\\u0652 \\u0628\\u0646\\u0633\\u0628\\u064f\\u0629\\u0651 \\u0651\\u062a\\u064c\\u063a\\u0652\\u064a\\u064e\\u0631\\u064d \\u064d\\u0628\\u0644\\u063a\\u062a 2\\u064e5\\u064b0\\u064f \\u0650.3\\u064f%\\u060c\\u0650 \\u0634\\u064e\\u0631\\u0643\\u0629\\u0651 \\u0652\\u0633\\u0651\\u0648\\u0651\\u0642\\u064e \\u064d\\u062f\\u0628\\u064c\\u064a \\u0627\\u0651\\u0644\\u064c\\u0645\\u0627\\u0650\\u0644\\u0650\\u064a \\u0652\\u0628\\u064d\\u0625\\u063a\\u0650\\u0644\\u064e\\u0627\\u064c\\u0642\\u064c \\u064e5\\u065170 .\\u06512 \\u064b\\u062f\\u064f\\u0631\\u0647\\u064e\\u0645\\u064c \\u0628\\u0652\\u0646\\u0633\\u0652\\u0628\\u0650\\u0629 \\u062a\\u063a\\u064c\\u064a\\u0631 \\u0628\\u0644\\u064b\\u063a\\u0652\\u062a \\u064c2\\u064e1\\u064c0 \\u064b.\\u064d3\\u0652%\\u060c \\u062f\\u064c\\u064a\\u064d\\u0627\\u0631\\u0652 \\u0644\\u064d\\u0644\\u0652\\u062a\\u0651\\u0637\\u064c\\u0648\\u064e\\u064a\\u0631 \\u0628\\u0650\\u0625\\u064c\\u063a\\u0644\\u0627\\u064f\\u0642\\u064c 2\\u064e90 \\u0652.\\u064b1 \\u0651\\u062f\\u0651\\u0631\\u064b\\u0647\\u0645 \\u0628\\u0650\\u0646\\u0633\\u064c\\u0628\\u064b\\u0629\\u064e \\u062a\\u0651\\u063a\\u064a\\u0631 \\u064b\\u0628\\u064e\\u0644\\u063a\\u062a\\u064d \\u064e3\\u064e8\\u06510\\u064c .2%\\u060c\\u064b \\u0634\\u064d\\u0631\\u0643\\u0629 \\u0623\\u0650\\u0631\\u064d\\u0627\\u064e\\u0628\\u064f\\u062a\\u064b\\u0643\\u064f \\u0627\\u0644\\u0642\\u0651\\u0627\\u0628\\u064e\\u0636\\u0652\\u0629 \\u0651\\u0628\\u0625\\u063a\\u064f\\u0644\\u0627\\u0642\\u064c 500 .4 \\u0650\\u062f\\u0651\\u0631\\u0647\\u0645 \\u064c\\u0628\\u064e\\u0646\\u0633\\u064f\\u0628\\u0629 \\u062a\\u0652\\u063a\\u064b\\u064a\\u0631\\u064f \\u0651\\u0628\\u0644\\u064d\\u063a\\u064c\\u062a 2\\u064f7\\u06500\\u064b \\u0650.\\u06522% \\u064b.\\u064c\\u0648\\u0643\\u0627\\u064e\\u0646\\u064e\\u062a\\u064f \\u0623\\u0650\\u0643\\u062b\\u0651\\u0631 \\u064b\\u0627\\u0652\\u0644\\u0634\\u064b\\u0631\\u0643\\u0627\\u064c\\u062a \\u064b\\u0627\\u0652\\u0646\\u062e\\u0641\\u0627\\u0636\\u064f\\u0627\\u064b \\u064c\\u0641\\u0652\\u064a \\u0623\\u0651\\u0633\\u064c\\u0639\\u0627\\u064d\\u0631\\u064b\\u0647\\u0627\\u064d \\u0645\\u064e\\u062c\\u0650\\u0645\\u064f\\u0648\\u064e\\u0639\\u0652\\u0629 \\u0627\\u0644\\u0635\\u064b\\u0646\\u0651\\u0627\\u0639\\u0650\\u0627\\u064f\\u062a\\u0650 \\u064d\\u0627\\u0644\\u064d\\u0648\\u0637\\u064c\\u0646\\u064b\\u064a\\u0629\\u064d \\u0652\\u0627\\u0644\\u0642\\u064f\\u0627\\u0652\\u0628\\u0636\\u064c\\u0629 \\u0651\\u0628\\u0652\\u0625\\u0651\\u063a\\u064e\\u0644\\u0627\\u0642\\u064b \\u06522\\u064d7\\u06500\\u0650 \\u0651.4 \\u062f\\u0650\\u0631\\u064b\\u0647\\u0645\\u0651 \\u0651\\u0628\\u0646\\u0633\\u0628\\u0629 \\u062a\\u064b\\u063a\\u064c\\u064a\\u064b\\u0631 \\u0628\\u064b\\u0644\\u0650\\u063a\\u062a\\u064d 9\\u064d2\\u064b0\\u064c \\u064f.9\\u064e%\\u060c\\u0650 \\u064d\\u0628\\u0651\\u0646\\u0643\\u0650 \\u064e\\u0627\\u064d\\u0644\\u064d\\u0645\\u0634\\u0652\\u0631\\u0651\\u0642\\u064c \\u0628\\u064e\\u0625\\u063a\\u0644\\u064c\\u0627\\u064f\\u0642 50\\u064b0\\u0650 .\\u065291 \\u064e\\u062f\\u0631\\u0650\\u0647\\u0645 \\u064c\\u0628\\u0646\\u0633\\u064d\\u0628\\u064f\\u0629 \\u064f\\u062a\\u064b\\u063a\\u064a\\u064f\\u0631 \\u0628\\u0644\\u0651\\u063a\\u062a 040 .8%\\u060c\\u064b \\u064f\\u062f\\u0650\\u0627\\u0631\\u064f \\u064b\\u0627\\u064b\\u0644\\u062a\\u0643\\u0627\\u0641\\u0651\\u0644 \\u0628\\u0625\\u0652\\u063a\\u064b\\u0644\\u0627\\u064c\\u0642\\u0650 \\u06511\\u064c4\\u064c0\\u064d \\u0650.1 \\u0652\\u062f\\u064c\\u0631\\u0650\\u0647\\u064d\\u0645 \\u0650\\u0628\\u0650\\u0646\\u0651\\u0633\\u0628\\u0629\\u0650 \\u064e\\u062a\\u063a\\u064a\\u0651\\u0631\\u064c \\u0628\\u064c\\u0644\\u063a\\u062a\\u0652 \\u065056\\u06500 .\\u06502% .\\u0648\\u064e\\u0641\\u064b\\u064a\\u0645\\u0627\\u064f \\u064a\\u064f\\u062a\\u0639\\u064c\\u0644\\u0650\\u0642 \\u0628\\u0627\\u0644\\u0634\\u064d\\u0631\\u0643\\u0627\\u062a \\u0627\\u064b\\u0644\\u064b\\u0623\\u064f\\u0643\\u064c\\u062b\\u064f\\u0631 \\u0646\\u0634\\u0627\\u0637\\u0651\\u0627\\u0651\\u064b\\u064d \\u0645\\u0646\\u064e \\u0651\\u062d\\u064a\\u064f\\u062b \\u0642\\u064a\\u064b\\u0645\\u064c\\u0629\\u064c \\u064d\\u0627\\u0644\\u062a\\u0652\\u062f\\u0627\\u064b\\u0648\\u064f\\u0644 \\u064d\\u0641\\u0642\\u062f \\u064b\\u062d\\u064b\\u0642\\u064c\\u0642\\u062a\\u064b\\u0627\\u0644\\u064c\\u0627\\u064f\\u062a\\u064b\\u062d\\u0627\\u062f \\u0650\\u0627\\u0650\\u0644\\u0639\\u064e\\u0642\\u0627\\u0651\\u0631\\u064a\\u0629 \\u062a\\u062f\\u0627\\u0648\\u0644\\u0650\\u0627\\u062a \\u0650\\u0628\\u0642\\u064a\\u0645\\u064f\\u0629 14\\u06500\\u0651 \\u064e.\\u064d287\\u064c\\u060c\\u064b2\\u064e4\\u06501\\u0652\\u060c7\\u064c6\\u064e2\\u064c \\u062f\\u0652\\u0631\\u064e\\u0647\\u0650\\u0645\\u060c\\u0652 \\u0634\\u064f\\u0631\\u064e\\u0643\\u064e\\u0629 \\u0651\\u0623\\u0631\\u0627\\u0628\\u062a\\u0643 \\u0627\\u0644\\u0642\\u0627\\u0652\\u0628\\u0636\\u0651\\u0629\\u064d \\u062a\\u062f\\u0627\\u0650\\u0648\\u064e\\u0644\\u0627\\u062a\\u064c \\u064b\\u0628\\u0642\\u064b\\u064a\\u0645\\u0629 6\\u06522\\u064e0\\u0650 .2\\u06504\\u06528\\u060c\\u0652103\\u064b\\u060c\\u065296\\u06529\\u0652 \\u0651\\u062f\\u064d\\u0631\\u0647\\u064e\\u0645\\u060c\\u064d \\u064c\\u0628\\u064a\\u064e\\u062a\\u064f \\u0627\\u0644\\u062a\\u0645\\u0650\\u0648\\u064f\\u064a\\u0650\\u0644\\u064c \\u0650\\u0627\\u0644\\u062e\\u0644\\u064e\\u064a\\u062c\\u064a \\u064b\\u062a\\u0652\\u062f\\u0650\\u0627\\u0648\\u0644\\u0627\\u064f\\u062a\\u0652 \\u0628\\u0642\\u064a\\u0645\\u064b\\u0629\\u064c 4\\u064d40 .\\u06512\\u064d01\\u060c\\u064b6\\u064f25\\u064e\\u060c\\u064d9\\u064c01\\u0652 \\u0652\\u062f\\u064d\\u0631\\u064e\\u0647\\u0645\\u064d\\u060c\\u064c \\u0625\\u064d\\u0639\\u0645\\u0627\\u0631\\u0650 \\u0652\\u0627\\u0650\\u0644\\u064c\\u0639\\u0642\\u0627\\u0631\\u0651\\u064a\\u0629 \\u0652\\u062a\\u064f\\u062f\\u0627\\u0648\\u064d\\u0644\\u0627\\u062a\\u064b \\u0628\\u064d\\u0642\\u064a\\u0645\\u0629\\u0650 760 .1\\u064e36\\u064b\\u060c\\u065164\\u064c4\\u064b\\u060c9\\u064e2\\u064f3\\u064c \\u062f\\u0631\\u0647\\u064f\\u0645 \\u064c.\\u0623\\u0650\\u0645\\u0627 \\u0628\\u0627\\u0652\\u0644\\u0652\\u0646\\u0633\\u0628\\u0629 \\u0644\\u0644\\u0634\\u0652\\u0631\\u0643\\u0627\\u062a\\u0652 \\u0627\\u0644\\u0652\\u0623\\u064e\\u0643\\u062b\\u0631 \\u0646\\u0634\\u064f\\u0627\\u064c\\u0637\\u0651\\u0627\\u064f\\u064b\\u064e \\u064d\\u062d\\u0633\\u064e\\u0628\\u064e \\u062d\\u062c\\u0645 \\u064b\\u0627\\u0651\\u0644\\u064d\\u062a\\u062f\\u064e\\u0627\\u0648\\u0644\\u0651 \\u0641\\u0642\\u064b\\u062f\\u064c \\u0650\\u062a\\u0652\\u0645 \\u064e\\u062a\\u064c\\u062f\\u064e\\u0627\\u0648\\u0644 \\u065024\\u064e6\\u064c\\u060c6\\u064c15\\u060c3\\u06524\\u064f3\\u0651 \\u064f\\u0633\\u0647\\u0650\\u0645\\u0650\\u0627\\u064b\\u064e \\u0650\\u0645\\u0651\\u0646\\u0651 \\u0651\\u0628\\u064a\\u064e\\u062a\\u064c \\u064e\\u0627\\u0644\\u064e\\u062a\\u064f\\u0645\\u0648\\u064a\\u0644 \\u064e\\u0627\\u064d\\u0644\\u062e\\u0644\\u064e\\u064a\\u064c\\u062c\\u064a\\u064b\\u060c\\u0650 1\\u064f8\\u064e1\\u060c\\u065092\\u06515\\u064b\\u060c\\u064c27\\u064d5 \\u0633\\u0652\\u0647\\u064e\\u0645\\u064f\\u0627\\u064b\\u0650 \\u0645\\u064f\\u0646 \\u064c\\u0627\\u0644\\u0650\\u0627\\u062a\\u064f\\u062d\\u0627\\u062f\\u0651 \\u064e\\u0627\\u0644\\u064b\\u0639\\u0642\\u0627\\u0631\\u064a\\u0629\\u060c\\u064f 6\\u064f5\\u0650\\u060c\\u06523\\u064b70\\u060c967 \\u0633\\u0652\\u0647\\u0650\\u0645\\u0627\\u064b\\u064e \\u064d\\u0645\\u0650\\u0646 \\u064b\\u062f\\u0651\\u064a\\u064e\\u0627\\u064f\\u0631\\u0650 \\u0652\\u0644\\u0644\\u064f\\u062a\\u0637\\u0648\\u064a\\u0631\\u060c\\u064d \\u065156\\u064b\\u060c\\u0651005\\u060c\\u065239\\u06515\\u064b \\u064c\\u0633\\u064e\\u0647\\u064d\\u0645\\u064f\\u0627\\u064b\\u064f \\u0652\\u0645\\u0651\\u0646 \\u0634\\u0631\\u0643\\u0629\\u0650 \\u0623\\u0631\\u064d\\u0627\\u0628\\u064f\\u062a\\u0643\\u064f \\u064b\\u0627\\u0650\\u0644\\u0642\\u0651\\u0627\\u0628\\u064d\\u0636\\u0629\\u064d \\u064f.\\u0648\\u064f\\u0628\\u064c\\u0644\\u063a\\u064e \\u064b\\u0645\\u0624\\u0634\\u0631 \\u0642\\u0637\\u0627\\u064c\\u0639 \\u0627\\u0644\\u0651\\u0628\\u0646\\u064c\\u0648\\u0643 \\u064e260\\u064d \\u064f.\\u064b2\\u060c\\u064c1\\u06503\\u064b8 \\u0646\\u0642\\u0652\\u0637\\u0629\\u064b \\u0650\\u0628\\u0652\\u062a\\u064f\\u062f\\u0627\\u0648\\u0644 27\\u064e8\\u064c\\u060c\\u06510\\u064e8\\u06503\\u060c71\\u06519\\u0651 \\u064d\\u0633\\u064b\\u0647\\u064b\\u0645 \\u064d\\u0628\\u0642\\u0651\\u064a\\u0645\\u064c\\u0629\\u0652 \\u065181\\u064b0\\u064b .307\\u064d\\u060c\\u064c965\\u060c590 \\u062f\\u0652\\u0631\\u0652\\u0647\\u064c\\u0645\\u060c \\u0650\\u0648\\u064d\\u0645\\u064b\\u0624\\u064b\\u0634\\u0631 \\u0650\\u0642\\u0651\\u0637\\u0627\\u0650\\u0639 \\u0627\\u064b\\u0644\\u064c\\u0627\\u0633\\u062a\\u0651\\u062b\\u064f\\u0645\\u064f\\u0627\\u064d\\u0631 \\u064d\\u0648\\u064d\\u0627\\u0652\\u0644\\u064b\\u062e\\u062f\\u0645\\u0627\\u0652\\u062a \\u0651\\u0627\\u0644\\u064f\\u0645\\u0627\\u0650\\u0644\\u064c\\u064a\\u0650\\u0629\\u064f \\u064d67\\u06500\\u064d .\\u06504\\u060c\\u064b5\\u064f51 \\u0651\\u0646\\u0642\\u064e\\u0637\\u064d\\u0629 \\u0628\\u0652\\u062a\\u0652\\u062f\\u0627\\u064c\\u0648\\u0650\\u0644\\u064b 8\\u064e9\\u060c4\\u06504\\u064d2\\u0651\\u060c9\\u06529\\u06500\\u064d \\u064f\\u0633\\u064d\\u0647\\u064b\\u0645\\u064d \\u064f\\u0628\\u064b\\u0642\\u064a\\u0645\\u0629\\u0652 950\\u064b .\\u065121\\u06507\\u0650\\u060c\\u064c07\\u06512\\u0650\\u060c2\\u06525\\u06521\\u0651 \\u064f\\u062f\\u0631\\u064d\\u0647\\u0645\\u060c\\u064c \\u0648\\u0645\\u0624\\u0634\\u0631\\u064c \\u0650\\u0642\\u0637\\u064d\\u0627\\u0639\\u064d \\u0627\\u064e\\u0644\\u062a\\u064e\\u0623\\u0645\\u0652\\u064a\\u0646\\u0651 3\\u064d90\\u0650 \\u064b.\\u064f2\\u060c\\u065164\\u064c1 \\u0651\\u0646\\u0642\\u0651\\u0637\\u064f\\u0629\\u064d \\u0628\\u0650\\u062a\\u062f\\u064b\\u0627\\u0648\\u064f\\u0644\\u0651 \\u065121\\u064b\\u060c3\\u064f0\\u064b8\\u060c\\u06504\\u064d09\\u064d \\u064d\\u0633\\u0652\\u0647\\u0645 \\u0628\\u064e\\u0642\\u064e\\u064a\\u0645\\u0629 \\u06502\\u064f4\\u064f0 \\u064e.23\\u060c818\\u064e\\u060c9\\u065243 \\u064e\\u062f\\u0631\\u064b\\u0647\\u0645\\u064d\\u060c \\u064e\\u0648\\u0645\\u064c\\u0624\\u0634\\u064c\\u0631 \\u064f\\u0642\\u0637\\u064c\\u0627\\u0652\\u0639 \\u064c\\u0627\\u0644\\u0639\\u0642\\u064e\\u0627\\u0651\\u0631\\u0627\\u0652\\u062a \\u064d\\u0648\\u0627\\u0652\\u0644\\u064e\\u0625\\u0646\\u0652\\u0634\\u0627\\u0651\\u0621\\u064d\\u0627\\u0651\\u062a\\u064b \\u0650\\u0627\\u0652\\u0644\\u064d\\u0647\\u0650\\u0646\\u064f\\u062f\\u0633\\u064a\\u0629 7\\u064e20\\u064c .8\\u064c\\u060c4\\u064b7\\u06513\\u064d \\u0646\\u0642\\u0637\\u0629\\u064c \\u0650\\u0628\\u0652\\u062a\\u062f\\u064d\\u0627\\u064e\\u0648\\u0652\\u0644 \\u064e3\\u06505\\u064f2\\u064c\\u060c\\u0650979\\u064c\\u060c03\\u064c5\\u064c \\u064c\\u0633\\u0647\\u064d\\u0645 \\u0628\\u064c\\u0642\\u064a\\u064f\\u0645\\u064f\\u0629\\u064f 1\\u064c00 .\\u064e805\\u064f\\u060c3\\u065203\\u060c\\u064d844 \\u062f\\u064b\\u0631\\u064f\\u0647\\u064f\\u0645\\u060c \\u0648\\u0645\\u0651\\u0624\\u0634\\u0631\\u0652 \\u0642\\u0637\\u0652\\u0627\\u0639 \\u0627\\u0644\\u062e\\u062f\\u0645\\u0627\\u064f\\u062a\\u0651 7\\u064b3\\u064b0\\u0652 \\u064e.8\\u064c27\\u064d \\u0646\\u064e\\u0642\\u0637\\u064f\\u0629 \\u064d\\u0628\\u062a\\u0652\\u062f\\u0651\\u0627\\u064d\\u0648\\u0651\\u0644 6\\u064c\\u060c\\u064e1\\u064e4\\u064e0\\u060c5\\u064c08\\u0650 \\u0633\\u0647\\u0645\\u064c \\u0628\\u0642\\u064d\\u064a\\u0645\\u0629 0\\u06527\\u064e0\\u064d \\u064d.13\\u060c\\u064c9\\u064e6\\u06522\\u060c3\\u064d35 \\u064e\\u062f\\u0650\\u0631\\u064f\\u0647\\u0645\\u064d\\u060c \\u0648\\u064c\\u0645\\u064e\\u0624\\u0634\\u064c\\u0631\\u064f \\u064b\\u0642\\u0651\\u0637\\u064c\\u0627\\u064d\\u0639\\u0650 \\u0627\\u0644\\u064e\\u0646\\u064f\\u0642\\u064f\\u0644 \\u06515\\u064e90\\u064b .79\\u06506\\u0652 \\u0650\\u0646\\u064e\\u0642\\u0637\\u0629 \\u064c\\u0628\\u062a\\u064e\\u062f\\u0627\\u0648\\u0644\\u064d 50\\u064b\\u060c343\\u060c487\\u064f \\u0633\\u0652\\u0647\\u0645\\u064f \\u0628\\u064f\\u0642\\u064a\\u0645\\u0629\\u064c 92\\u064c0 .47\\u064b\\u060c\\u064c69\\u06520\\u060c\\u06520\\u064c7\\u06520 \\u062f\\u064c\\u0631\\u0651\\u0647\\u0645\\u0650 \\u0651.\\u0650\"\n        ],\n        \"semantic_type\": \"\",\n        \"description\": \"\"\n      }\n    },\n    {\n      \"column\": \"label\",\n      \"properties\": {\n        \"dtype\": \"category\",\n        \"num_unique_values\": 7,\n        \"samples\": [\n          \"Culture\",\n          \"Finance\",\n          \"Sports\"\n        ],\n        \"semantic_type\": \"\",\n        \"description\": \"\"\n      }\n    },\n    {\n      \"column\": \"text_length\",\n      \"properties\": {\n        \"dtype\": \"number\",\n        \"std\": 70,\n        \"min\": 20,\n        \"max\": 300,\n        \"num_unique_values\": 281,\n        \"samples\": [\n          142,\n          160,\n          282\n        ],\n        \"semantic_type\": \"\",\n        \"description\": \"\"\n      }\n    }\n  ]\n}"
            }
          },
          "metadata": {},
          "execution_count": 22
        }
      ]
    },
    {
      "cell_type": "code",
      "source": [
        "df['text_length'].max() # Well"
      ],
      "metadata": {
        "colab": {
          "base_uri": "https://localhost:8080/"
        },
        "id": "8DT4f7S7DICa",
        "outputId": "c17b4b5e-6592-4e63-ca03-0a94cf992cb0"
      },
      "execution_count": 23,
      "outputs": [
        {
          "output_type": "execute_result",
          "data": {
            "text/plain": [
              "300"
            ]
          },
          "metadata": {},
          "execution_count": 23
        }
      ]
    },
    {
      "cell_type": "code",
      "source": [
        "df.label.value_counts().plot(kind='bar')\n"
      ],
      "metadata": {
        "colab": {
          "base_uri": "https://localhost:8080/",
          "height": 508
        },
        "id": "-hziOT7JDH9b",
        "outputId": "a418f611-6de6-43b1-d6ce-f83e90c2e40d"
      },
      "execution_count": 24,
      "outputs": [
        {
          "output_type": "execute_result",
          "data": {
            "text/plain": [
              "<Axes: xlabel='label'>"
            ]
          },
          "metadata": {},
          "execution_count": 24
        },
        {
          "output_type": "display_data",
          "data": {
            "text/plain": [
              "<Figure size 640x480 with 1 Axes>"
            ],
            "image/png": "[encoded data removed]"
          },
          "metadata": {}
        }
      ]
    },
    {
      "cell_type": "code",
      "source": [],
      "metadata": {
        "id": "1nfQjedrMk8N"
      },
      "execution_count": 24,
      "outputs": []
    },
    {
      "cell_type": "code",
      "source": [
        "def unique_words(data):\n",
        "  text = data['text'].str.cat(sep=\" \")\n",
        "  return set(text.split())"
      ],
      "metadata": {
        "id": "bnjjpZgBDH7N"
      },
      "execution_count": 25,
      "outputs": []
    },
    {
      "cell_type": "markdown",
      "metadata": {
        "id": "X_oEu0TkSMEB"
      },
      "source": [
        "# Data Cleaning and Preprocessing"
      ]
    },
    {
      "cell_type": "markdown",
      "metadata": {
        "id": "wSAFiozlRQHt"
      },
      "source": [
        "In this section, we will focus on cleaning and filtering the dataset, preparing it for the text classification task. We will implement the following steps:\n",
        "\n",
        "1. **Remove missing values**:\n",
        "   First, we eliminate any rows with missing values to ensure the dataset is complete and consistent.\n",
        "\n",
        "2. **Filter by text length (Bonus)**:\n",
        "   To maintain a uniform dataset, we will filter the text samples by a specified word count range. This ensures that the texts are neither too short to lack context nor too long to introduce unnecessary complexity.\n",
        "\n",
        "3. **Arabic stopwords loading**:\n",
        "   We load a list of Arabic stopwords to filter out commonly used but contextually insignificant words. This is an important step for improving the performance of the model, as stopwords do not contribute valuable information.\n",
        "\n",
        "4. **Text cleaning**:\n",
        "   We apply a series of text cleaning steps to standardize and simplify the text data. This involves:\n",
        "   - **Removing links (URLs)**: Any URLs present in the text are removed as they are not meaningful for classification purposes.\n",
        "   - **Removing special characters and punctuation**: This step removes any non-alphabetical characters, ensuring the text only contains meaningful words.\n",
        "   - **Removing Arabic diacritics (Tashkeel) and elongated letters (Tatweel)**: Diacritical marks and elongated letters are stripped out to standardize the text.\n",
        "   - **Removing Arabic stopwords**: Words that are part of the stopwords list are removed, as they do not add value to the classification task.\n",
        "   - **Stemming or Lemmmatization**: Either stemming or lemmatization is applied to reduce words to their root or base form.\n",
        "   - **Normalizing Hamza**: Any variation of the Hamza character is normalized for consistency.\n",
        "\n",
        "   **Note:** Most of these you can do using the library [PyArabic](https://pyarabic.readthedocs.io/ar/latest/README.html#features)\n",
        "\n",
        "5. **Final cleanup**:\n",
        "   Apply the cleanup function to the feature column.\n",
        "\n",
        "By following these steps, the text will be cleaned, filtered, and ready for tokenization!"
      ]
    },
    {
      "cell_type": "code",
      "source": [],
      "metadata": {
        "id": "-RERfdRnOaTf"
      },
      "execution_count": 25,
      "outputs": []
    },
    {
      "cell_type": "code",
      "execution_count": 26,
      "metadata": {
        "id": "mHEObOY_fHhq"
      },
      "outputs": [],
      "source": [
        "arabic_stopwords = set(stopwords.words('arabic'))\n",
        "st = ISRIStemmer()\n",
        "\n",
        "\n",
        "def clean_text(text):\n",
        "\n",
        "    cleaned_text = re.sub(r'http\\S+|www\\S+|https\\S+', '', text, flags=re.MULTILINE)\n",
        "\n",
        "\n",
        "    cleaned_text = re.sub(r'[^\\w\\s]', '', cleaned_text)\n",
        "\n",
        "\n",
        "    cleaned_text = araby.strip_tashkeel(cleaned_text)\n",
        "    cleaned_text = araby.strip_tatweel(cleaned_text)\n",
        "    cleaned_text = araby.strip_lastharaka(cleaned_text)\n",
        "    words = cleaned_text.split()\n",
        "\n",
        "\n",
        "    filtered_words = [word for word in words if word not in arabic_stopwords]\n",
        "\n",
        "\n",
        "    stemmed_words = []\n",
        "    for word in words:\n",
        "      stemmed_words.append(st.stem(word))\n",
        "\n",
        "    stemmed_words = ' '.join(filtered_words)\n",
        "\n",
        "\n",
        "    cleaned_text = araby.normalize_hamza(stemmed_words)\n",
        "\n",
        "    return cleaned_text\n",
        "\n",
        "\n"
      ]
    },
    {
      "cell_type": "code",
      "source": [
        "\n"
      ],
      "metadata": {
        "id": "b5Iyomg0PIBa"
      },
      "execution_count": 26,
      "outputs": []
    },
    {
      "cell_type": "code",
      "source": [],
      "metadata": {
        "id": "DWIQ22duR-xq"
      },
      "execution_count": 26,
      "outputs": []
    },
    {
      "cell_type": "code",
      "source": [
        "\n"
      ],
      "metadata": {
        "id": "hSflZPULQvf0"
      },
      "execution_count": 26,
      "outputs": []
    },
    {
      "cell_type": "code",
      "source": [],
      "metadata": {
        "id": "R9KFJLCNRSi7"
      },
      "execution_count": 26,
      "outputs": []
    },
    {
      "cell_type": "code",
      "source": [
        "cleaned_text = clean_text(df['text'].iloc[1])"
      ],
      "metadata": {
        "id": "fg_g-ayyO0jn"
      },
      "execution_count": 27,
      "outputs": []
    },
    {
      "cell_type": "code",
      "source": [
        "print(\"Before :\")\n",
        "print(df['text'].iloc[1])"
      ],
      "metadata": {
        "colab": {
          "base_uri": "https://localhost:8080/"
        },
        "id": "Is607MdUUVHd",
        "outputId": "1f8447e1-3ad0-4c0d-a94a-8f12896abca8"
      },
      "execution_count": 28,
      "outputs": [
        {
          "output_type": "stream",
          "name": "stdout",
          "text": [
            "Before :\n",
            "https://example.com/resource/قُرر اَتحِاد اًلْأَدًباًءْ ًوالْكِتًّاٌب الموريْتْانييٍنٌ عْقّد مَؤٍتًمرّهٍ َاِلعام ْالتاسُعٍ َفِيِ 1ٌ6 ًإبَرْيل/ُ نِيساًن المّقٌبلَ 2ّ01ً2 ّ.وسيَجرْي َخلٍاّل ّاٌلمؤْتّمرٍ ْانَتخاِب رئُيسّ الُاًتُحادٍ وِأّعضاء ٍمٍكتبًهّ اِلتنفُيٌذّيٌ، فَيمْاُ ٍلم يُبرزٌ َحتًى الُآُن مرٍشحُ ْمِنافس ًللُرئَيّسّ اًلحٌالي ًاٍلًشاْعٍرً َمٍحًمٍد كاًبْر ُهٌاِشمَ .وتمكّنْ اُتّحٌاد َالأدبّاّءُ واٌلًكتٌاِبٍ ٌاًلموّرٌيتانٍيٌينِ خُلالُ الُسّنواَتٌ ِالأخيرة مّن تُنظٍيمْ ٌمهًرًجِاّن ًسِنّويْ لٌلًأدٌبِ ْاِلُموِريْتاٌني،ٌ وَإِصْداٍرُ اٌلّعديد ُمٍن اّلدوْاوْينٌ وْالإصِداٍراْت ًاٍلأٌدبيٍةً الَمّختْلفٌة َ.ُ\n"
          ]
        }
      ]
    },
    {
      "cell_type": "code",
      "source": [
        "print(\"After :\")\n",
        "print(cleaned_text)"
      ],
      "metadata": {
        "colab": {
          "base_uri": "https://localhost:8080/"
        },
        "id": "H7S24sJzUikf",
        "outputId": "6156b95c-db9f-4eb2-fbc3-fa840c92819c"
      },
      "execution_count": 29,
      "outputs": [
        {
          "output_type": "stream",
          "name": "stdout",
          "text": [
            "After :\n",
            "اتحاد الءدباء والكتاب الموريتانيين عقد مءتمره العام التاسع 16 ءبريل المقبل 2012 وسيجري خلال المءتمر انتخاب رءيس الاتحاد وءعضاء مكتبه التنفيذي يبرز مرشح منافس للرءيس الحالي الشاعر محمد كابر هاشم وتمكن اتحاد الءدباء والكتاب الموريتانيين خلال السنوات الءخيرة تنظيم مهرجان سنوي للءدب الموريتاني وءصدار العديد الدواوين والءصدارات الءدبية المختلفة\n"
          ]
        }
      ]
    },
    {
      "cell_type": "code",
      "source": [
        "df['clean_text'] = df['text'].apply(clean_text)"
      ],
      "metadata": {
        "id": "5KPvJmdTUN_3"
      },
      "execution_count": 30,
      "outputs": []
    },
    {
      "source": [
        "df.head()"
      ],
      "cell_type": "code",
      "metadata": {
        "colab": {
          "base_uri": "https://localhost:8080/",
          "height": 206
        },
        "id": "MFpizoEPQPUF",
        "outputId": "2497c125-91dc-4b10-db06-663b59dcb3df"
      },
      "execution_count": 31,
      "outputs": [
        {
          "output_type": "execute_result",
          "data": {
            "text/plain": [
              "                                                 text    label  text_length  \\\n",
              "2   https://example.com/resource/أُقيًمٌتِ مِساءُ ...  Culture          237   \n",
              "4   https://example.com/resource/قُرر اَتحِاد اًلْ...  Culture           59   \n",
              "7   https://example.com/resource/توفٌي َأمس ِاَلُأ...  Culture           96   \n",
              "8   https://example.com/resource/نظم ْمَرٍكزْ َاِل...  Culture          214   \n",
              "14  https://example.com/resource/بّحٌسبَ ِطبيعّة ُ...  Culture          296   \n",
              "\n",
              "                                           clean_text  \n",
              "2   الءول ءكسبو الشارقة ندوة حوارية حول ءهمية تجار...  \n",
              "4   اتحاد الءدباء والكتاب الموريتانيين عقد مءتمره ...  \n",
              "7   الءديب الءسباني ميجيل ديليبس يعتبر واحدا ءهم ا...  \n",
              "8   مركز الشارقة للشعر الشعبي مجلس ضاحية مغيدر بال...  \n",
              "14  طبيعة ءداء الشعراء وءسلوب منهم القراءة والتعبي...  "
            ],
            "text/html": [
              "\n",
              "  <div id=\"df-798f2be4-84ad-474d-97ac-14e986478076\" class=\"colab-df-container\">\n",
              "    <div>\n",
              "<style scoped>\n",
              "    .dataframe tbody tr th:only-of-type {\n",
              "        vertical-align: middle;\n",
              "    }\n",
              "\n",
              "    .dataframe tbody tr th {\n",
              "        vertical-align: top;\n",
              "    }\n",
              "\n",
              "    .dataframe thead th {\n",
              "        text-align: right;\n",
              "    }\n",
              "</style>\n",
              "<table border=\"1\" class=\"dataframe\">\n",
              "  <thead>\n",
              "    <tr style=\"text-align: right;\">\n",
              "      <th></th>\n",
              "      <th>text</th>\n",
              "      <th>label</th>\n",
              "      <th>text_length</th>\n",
              "      <th>clean_text</th>\n",
              "    </tr>\n",
              "  </thead>\n",
              "  <tbody>\n",
              "    <tr>\n",
              "      <th>2</th>\n",
              "      <td>https://example.com/resource/أُقيًمٌتِ مِساءُ ...</td>\n",
              "      <td>Culture</td>\n",
              "      <td>237</td>\n",
              "      <td>الءول ءكسبو الشارقة ندوة حوارية حول ءهمية تجار...</td>\n",
              "    </tr>\n",
              "    <tr>\n",
              "      <th>4</th>\n",
              "      <td>https://example.com/resource/قُرر اَتحِاد اًلْ...</td>\n",
              "      <td>Culture</td>\n",
              "      <td>59</td>\n",
              "      <td>اتحاد الءدباء والكتاب الموريتانيين عقد مءتمره ...</td>\n",
              "    </tr>\n",
              "    <tr>\n",
              "      <th>7</th>\n",
              "      <td>https://example.com/resource/توفٌي َأمس ِاَلُأ...</td>\n",
              "      <td>Culture</td>\n",
              "      <td>96</td>\n",
              "      <td>الءديب الءسباني ميجيل ديليبس يعتبر واحدا ءهم ا...</td>\n",
              "    </tr>\n",
              "    <tr>\n",
              "      <th>8</th>\n",
              "      <td>https://example.com/resource/نظم ْمَرٍكزْ َاِل...</td>\n",
              "      <td>Culture</td>\n",
              "      <td>214</td>\n",
              "      <td>مركز الشارقة للشعر الشعبي مجلس ضاحية مغيدر بال...</td>\n",
              "    </tr>\n",
              "    <tr>\n",
              "      <th>14</th>\n",
              "      <td>https://example.com/resource/بّحٌسبَ ِطبيعّة ُ...</td>\n",
              "      <td>Culture</td>\n",
              "      <td>296</td>\n",
              "      <td>طبيعة ءداء الشعراء وءسلوب منهم القراءة والتعبي...</td>\n",
              "    </tr>\n",
              "  </tbody>\n",
              "</table>\n",
              "</div>\n",
              "    <div class=\"colab-df-buttons\">\n",
              "\n",
              "  <div class=\"colab-df-container\">\n",
              "    <button class=\"colab-df-convert\" onclick=\"convertToInteractive('df-798f2be4-84ad-474d-97ac-14e986478076')\"\n",
              "            title=\"Convert this dataframe to an interactive table.\"\n",
              "            style=\"display:none;\">\n",
              "\n",
              "  <svg xmlns=\"http://www.w3.org/2000/svg\" height=\"24px\" viewBox=\"0 -960 960 960\">\n",
              "    <path d=\"M120-120v-720h720v720H120Zm60-500h600v-160H180v160Zm220 220h160v-160H400v160Zm0 220h160v-160H400v160ZM180-400h160v-160H180v160Zm440 0h160v-160H620v160ZM180-180h160v-160H180v160Zm440 0h160v-160H620v160Z\"/>\n",
              "  </svg>\n",
              "    </button>\n",
              "\n",
              "  <style>\n",
              "    .colab-df-container {\n",
              "      display:flex;\n",
              "      gap: 12px;\n",
              "    }\n",
              "\n",
              "    .colab-df-convert {\n",
              "      background-color: #E8F0FE;\n",
              "      border: none;\n",
              "      border-radius: 50%;\n",
              "      cursor: pointer;\n",
              "      display: none;\n",
              "      fill: #1967D2;\n",
              "      height: 32px;\n",
              "      padding: 0 0 0 0;\n",
              "      width: 32px;\n",
              "    }\n",
              "\n",
              "    .colab-df-convert:hover {\n",
              "      background-color: #E2EBFA;\n",
              "      box-shadow: 0px 1px 2px rgba(60, 64, 67, 0.3), 0px 1px 3px 1px rgba(60, 64, 67, 0.15);\n",
              "      fill: #174EA6;\n",
              "    }\n",
              "\n",
              "    .colab-df-buttons div {\n",
              "      margin-bottom: 4px;\n",
              "    }\n",
              "\n",
              "    [theme=dark] .colab-df-convert {\n",
              "      background-color: #3B4455;\n",
              "      fill: #D2E3FC;\n",
              "    }\n",
              "\n",
              "    [theme=dark] .colab-df-convert:hover {\n",
              "      background-color: #434B5C;\n",
              "      box-shadow: 0px 1px 3px 1px rgba(0, 0, 0, 0.15);\n",
              "      filter: drop-shadow(0px 1px 2px rgba(0, 0, 0, 0.3));\n",
              "      fill: #FFFFFF;\n",
              "    }\n",
              "  </style>\n",
              "\n",
              "    <script>\n",
              "      const buttonEl =\n",
              "        document.querySelector('#df-798f2be4-84ad-474d-97ac-14e986478076 button.colab-df-convert');\n",
              "      buttonEl.style.display =\n",
              "        google.colab.kernel.accessAllowed ? 'block' : 'none';\n",
              "\n",
              "      async function convertToInteractive(key) {\n",
              "        const element = document.querySelector('#df-798f2be4-84ad-474d-97ac-14e986478076');\n",
              "        const dataTable =\n",
              "          await google.colab.kernel.invokeFunction('convertToInteractive',\n",
              "                                                    [key], {});\n",
              "        if (!dataTable) return;\n",
              "\n",
              "        const docLinkHtml = 'Like what you see? Visit the ' +\n",
              "          '<a target=\"_blank\" href=https://colab.research.google.com/notebooks/data_table.ipynb>data table notebook</a>'\n",
              "          + ' to learn more about interactive tables.';\n",
              "        element.innerHTML = '';\n",
              "        dataTable['output_type'] = 'display_data';\n",
              "        await google.colab.output.renderOutput(dataTable, element);\n",
              "        const docLink = document.createElement('div');\n",
              "        docLink.innerHTML = docLinkHtml;\n",
              "        element.appendChild(docLink);\n",
              "      }\n",
              "    </script>\n",
              "  </div>\n",
              "\n",
              "\n",
              "<div id=\"df-bc26757d-8e41-43f8-8144-a49fcff00c28\">\n",
              "  <button class=\"colab-df-quickchart\" onclick=\"quickchart('df-bc26757d-8e41-43f8-8144-a49fcff00c28')\"\n",
              "            title=\"Suggest charts\"\n",
              "            style=\"display:none;\">\n",
              "\n",
              "<svg xmlns=\"http://www.w3.org/2000/svg\" height=\"24px\"viewBox=\"0 0 24 24\"\n",
              "     width=\"24px\">\n",
              "    <g>\n",
              "        <path d=\"M19 3H5c-1.1 0-2 .9-2 2v14c0 1.1.9 2 2 2h14c1.1 0 2-.9 2-2V5c0-1.1-.9-2-2-2zM9 17H7v-7h2v7zm4 0h-2V7h2v10zm4 0h-2v-4h2v4z\"/>\n",
              "    </g>\n",
              "</svg>\n",
              "  </button>\n",
              "\n",
              "<style>\n",
              "  .colab-df-quickchart {\n",
              "      --bg-color: #E8F0FE;\n",
              "      --fill-color: #1967D2;\n",
              "      --hover-bg-color: #E2EBFA;\n",
              "      --hover-fill-color: #174EA6;\n",
              "      --disabled-fill-color: #AAA;\n",
              "      --disabled-bg-color: #DDD;\n",
              "  }\n",
              "\n",
              "  [theme=dark] .colab-df-quickchart {\n",
              "      --bg-color: #3B4455;\n",
              "      --fill-color: #D2E3FC;\n",
              "      --hover-bg-color: #434B5C;\n",
              "      --hover-fill-color: #FFFFFF;\n",
              "      --disabled-bg-color: #3B4455;\n",
              "      --disabled-fill-color: #666;\n",
              "  }\n",
              "\n",
              "  .colab-df-quickchart {\n",
              "    background-color: var(--bg-color);\n",
              "    border: none;\n",
              "    border-radius: 50%;\n",
              "    cursor: pointer;\n",
              "    display: none;\n",
              "    fill: var(--fill-color);\n",
              "    height: 32px;\n",
              "    padding: 0;\n",
              "    width: 32px;\n",
              "  }\n",
              "\n",
              "  .colab-df-quickchart:hover {\n",
              "    background-color: var(--hover-bg-color);\n",
              "    box-shadow: 0 1px 2px rgba(60, 64, 67, 0.3), 0 1px 3px 1px rgba(60, 64, 67, 0.15);\n",
              "    fill: var(--button-hover-fill-color);\n",
              "  }\n",
              "\n",
              "  .colab-df-quickchart-complete:disabled,\n",
              "  .colab-df-quickchart-complete:disabled:hover {\n",
              "    background-color: var(--disabled-bg-color);\n",
              "    fill: var(--disabled-fill-color);\n",
              "    box-shadow: none;\n",
              "  }\n",
              "\n",
              "  .colab-df-spinner {\n",
              "    border: 2px solid var(--fill-color);\n",
              "    border-color: transparent;\n",
              "    border-bottom-color: var(--fill-color);\n",
              "    animation:\n",
              "      spin 1s steps(1) infinite;\n",
              "  }\n",
              "\n",
              "  @keyframes spin {\n",
              "    0% {\n",
              "      border-color: transparent;\n",
              "      border-bottom-color: var(--fill-color);\n",
              "      border-left-color: var(--fill-color);\n",
              "    }\n",
              "    20% {\n",
              "      border-color: transparent;\n",
              "      border-left-color: var(--fill-color);\n",
              "      border-top-color: var(--fill-color);\n",
              "    }\n",
              "    30% {\n",
              "      border-color: transparent;\n",
              "      border-left-color: var(--fill-color);\n",
              "      border-top-color: var(--fill-color);\n",
              "      border-right-color: var(--fill-color);\n",
              "    }\n",
              "    40% {\n",
              "      border-color: transparent;\n",
              "      border-right-color: var(--fill-color);\n",
              "      border-top-color: var(--fill-color);\n",
              "    }\n",
              "    60% {\n",
              "      border-color: transparent;\n",
              "      border-right-color: var(--fill-color);\n",
              "    }\n",
              "    80% {\n",
              "      border-color: transparent;\n",
              "      border-right-color: var(--fill-color);\n",
              "      border-bottom-color: var(--fill-color);\n",
              "    }\n",
              "    90% {\n",
              "      border-color: transparent;\n",
              "      border-bottom-color: var(--fill-color);\n",
              "    }\n",
              "  }\n",
              "</style>\n",
              "\n",
              "  <script>\n",
              "    async function quickchart(key) {\n",
              "      const quickchartButtonEl =\n",
              "        document.querySelector('#' + key + ' button');\n",
              "      quickchartButtonEl.disabled = true;  // To prevent multiple clicks.\n",
              "      quickchartButtonEl.classList.add('colab-df-spinner');\n",
              "      try {\n",
              "        const charts = await google.colab.kernel.invokeFunction(\n",
              "            'suggestCharts', [key], {});\n",
              "      } catch (error) {\n",
              "        console.error('Error during call to suggestCharts:', error);\n",
              "      }\n",
              "      quickchartButtonEl.classList.remove('colab-df-spinner');\n",
              "      quickchartButtonEl.classList.add('colab-df-quickchart-complete');\n",
              "    }\n",
              "    (() => {\n",
              "      let quickchartButtonEl =\n",
              "        document.querySelector('#df-bc26757d-8e41-43f8-8144-a49fcff00c28 button');\n",
              "      quickchartButtonEl.style.display =\n",
              "        google.colab.kernel.accessAllowed ? 'block' : 'none';\n",
              "    })();\n",
              "  </script>\n",
              "</div>\n",
              "\n",
              "    </div>\n",
              "  </div>\n"
            ],
            "application/vnd.google.colaboratory.intrinsic+json": {
              "type": "dataframe",
              "variable_name": "df",
              "summary": "{\n  \"name\": \"df\",\n  \"rows\": 25541,\n  \"fields\": [\n    {\n      \"column\": \"text\",\n      \"properties\": {\n        \"dtype\": \"string\",\n        \"num_unique_values\": 25541,\n        \"samples\": [\n          \"https://example.com/resource/\\u0645\\u0646 \\u0634\\u0639\\u0631: \\u0650\\u0647\\u0627\\u0631\\u0648\\u0646\\u064b \\u0652\\u0647\\u0651\\u0627\\u064b\\u0634\\u0645 \\u064b\\u0631\\u0650\\u0634\\u064a\\u062f\\u064b\\u0623\\u062c\\u0644\\u064e \\u0625\\u0652\\u0646\\u064a\\u0651 \\u0651\\u0645\\u064b\\u0646\\u064f \\u0650\\u0627\\u0650\\u0644\\u064d\\u0642\\u062f\\u064b\\u0633\\u0648\\u0641\\u064a\\u0647\\u0627\\u064c \\u0651\\u0642\\u0651\\u062f\\u0652 \\u0646\\u0645\\u0627 \\u0650\\u063a\\u0650\\u0631\\u064f\\u0633\\u064a\\u0651\\u062c\\u0630\\u064e\\u0648\\u0631\\u064a\\u0652 \\u064c\\u0641\\u064a\\u064f \\u0652\\u0639\\u064f\\u0631\\u0650\\u0648\\u0652\\u0642 \\u064b\\u0627\\u064c\\u0644\\u0635\\u062e\\u0631\\u064f\\u0641\\u0651\\u064a\\u064d \\u0627\\u0644\\u0635\\u0651\\u0644\\u064f\\u062f\\u060c \\u064e\\u0648\\u064d\\u0641\\u064a \\u064e\\u0627\\u064f\\u0644\\u0652\\u0645\\u0644\\u0633\\u064c\\u0648\\u064f\\u0645\\u0652\\u0646 \\u0643\\u0646\\u064b\\u0639\\u0627\\u0646 \\u0628\\u064a\\u064d \\u0646\\u0628\\u0650\\u0636\\u0648\\u0645\\u0646\\u064d \\u0639\\u0650\\u062f\\u0646\\u0627\\u0646\\u0650\\u060c \\u0650\\u0645\\u064f\\u0646\\u0651 \\u064d\\u0642\\u064d\\u064a\\u064e\\u0633\\u0651\\u0645\\u0646 \\u0627\\u064c\\u0644\\u064f\\u0645\\u064f\\u0627\\u0652\\u0636\\u064b\\u064a\\u0651\\u060c \\u0645\\u0646\\u064e \\u0627\\u0644\\u062d\\u0627\\u0636\\u0631\\u064c\\u0645\\u064e\\u0646 \\u064a\\u0648\\u064c\\u0645\\u064a\\u060c \\u0648\\u0645\\u0646 \\u064d\\u0623\\u064d\\u0645\\u064f\\u0633\\u0651\\u064a\\u0639\\u0631\\u064a\\u0642 \\u0627\\u0650\\u0644\\u0650\\u0645\\u0650\\u062c\\u064b\\u062f \\u064f\\u0648\\u0627\\u0644\\u0650\\u0623\\u0646\\u0633\\u0627\\u064c\\u0628\\u064e\\u0645\\u0634\\u062f\\u0648\\u064d\\u062f\\u064b \\u0625\\u064e\\u0644\\u064f\\u0649\\u064f \\u0650\\u0627\\u0644\\u0634\\u0645\\u0633\\u064f\\u0628\\u064d\\u0647\\u064c\\u0627 \\u064b\\u0623\\u062e\\u062a\\u064e\\u0627\\u064c\\u0644\\u064e \\u064d\\u0641\\u064c\\u064a\\u064f \\u0627\\u0644\\u0650\\u062f\\u0646\\u064b\\u064a\\u0627\\u064c\\u0648\\u064e\\u0623\\u064c\\u0645\\u0650\\u0634\\u064a \\u0651\\u0631\\u0627\\u064f\\u0641\\u0639 \\u0627\\u0644\\u0652\\u0631\\u0651\\u0623\\u064b\\u0633\\u0623\\u0646\\u0627\\u0650 \\u0623\\u0639\\u0637\\u064a\\u064f\\u062a\\u064f\\u0647\\u0652\\u0627 \\u0650\\u0639\\u064f\\u0645\\u0631\\u064e\\u064a\\u0641\\u062f\\u064f\\u0627\\u064b\\u064b\\u064d\\u060c \\u0623\\u0633\\u0643\\u064b\\u0646\\u0651\\u062a\\u0647\\u0627 \\u062d\\u0633\\u0652\\u064a\\u0651\\u0623\\u0646\\u064f\\u0627\\u0650 \\u064f\\u063a\\u064e\\u0646\\u064a\\u062a\\u0647\\u0627 \\u0634\\u0639\\u064b\\u0631\\u0627\\u064b\\u064b\\u0631\\u064b\\u0641\\u064a\\u064b\\u0639\\u064b \\u064e\\u0627\\u0644\\u0648\\u064e\\u0642\\u0639\\u064d \\u0648\\u0652\\u0627\\u0644\\u062c\\u0631\\u064b\\u0633\\u064e\\u0623\\u064c\\u0646\\u0627\\u064f \\u0645\\u0646\\u064e\\u0647\\u0651\\u0627\\u0652 \\u0648\\u0650\\u0625\\u064c\\u0646\\u064b \\u0651\\u063a\\u0631\\u0642\\u064c\\u062a\\u0628\\u0628\\u0652\\u062d\\u064c\\u0631 \\u0652\\u0627\\u0651\\u0644\\u064f\\u0647\\u064b\\u0645\\u0651 \\u064e\\u0648\\u064f\\u0627\\u0644\\u0628\\u0650\\u0624\\u0650\\u0633\\u064b\\u0623\\u064c\\u0646\\u0627\\u064f \\u064f\\u0645\\u064c\\u0646\\u0647\\u064f\\u0627 \\u0648\\u0650\\u0625\\u0646\\u064c \\u062d\\u0651\\u0637\\u0651\\u062a\\u064e\\u0639\\u0644\\u064a\\u0647\\u0627 \\u0631\\u0627\\u0651\\u064a\\u0629\\u0652 \\u0651\\u0627\\u0650\\u0644\\u0651\\u0628\\u064b\\u0624\\u064d\\u0633\",\n          \"https://example.com/resource/\\u0627\\u064e\\u0646\\u0637\\u0644\\u0642\\u062a\\u064b \\u0652\\u0623\\u064d\\u0645\\u0633\\u064c \\u0639\\u0645\\u0644\\u0650\\u064a\\u0627\\u062a \\u0627\\u0644\\u0652\\u062a\\u064e\\u0635\\u0648\\u0651\\u064a\\u062a \\u0641\\u064a\\u064d \\u064f\\u0627\\u064d\\u0644\\u0627\\u0633\\u062a\\u0652\\u0641\\u0650\\u062a\\u0627\\u0621 \\u064d\\u0627\\u064d\\u0644\\u0625\\u064d\\u062f\\u0627\\u0651\\u0631\\u064a\\u0650 \\u062d\\u0651\\u0648\\u0644 \\u064d\\u0648\\u0636\\u064b\\u0639\\u064a\\u0629 \\u0625\\u0642\\u0644\\u064a\\u0645 \\u062f\\u0627\\u0631\\u0641\\u0648\\u064c\\u0631 \\u064f\\u0627\\u0644\\u064c\\u0645\\u064e\\u0636\\u0651\\u0637\\u0631\\u064d\\u0628\\u064f \\u0651\\u0641\\u064e\\u064a\\u0650 \\u063a\\u0631\\u0628\\u064b\\u064a\\u064b \\u0627\\u064b\\u0644\\u0633\\u0651\\u0648\\u064d\\u062f\\u0627\\u0651\\u0646\\u060c\\u064c \\u0639\\u064f\\u0644\\u0651\\u0649 \\u0627\\u064f\\u0644\\u064b\\u0631\\u063a\\u0651\\u0645 \\u064f\\u0645\\u0646 \\u0627\\u0646\\u062a\\u0642\\u0652\\u0627\\u064d\\u062f\\u0627\\u062a \\u0627\\u0644\\u0651\\u0623\\u0633\\u0631\\u064b\\u0629\\u0652 \\u064e\\u0627\\u064f\\u0644\\u062f\\u0648\\u0644\\u064d\\u064a\\u0629\\u0652 \\u0651\\u0648\\u0645\\u064e\\u0642\\u0627\\u0637\\u064e\\u0639\\u0652\\u0629 \\u0627\\u064f\\u0644\\u0645\\u064d\\u0639\\u0627\\u064d\\u0631\\u0636\\u064c\\u0629.\\u064e\\u0648\\u064c\\u0628\\u0652\\u062f\\u0623\\u064c\\u062a\\u0651 \\u064d\\u0639\\u0652\\u0645\\u0644\\u064a\\u0627\\u062a\\u0650 \\u0627\\u0651\\u0644\\u062a\\u0652\\u0635\\u064f\\u0648\\u064b\\u064a\\u062a \\u0651\\u0639\\u0650\\u0646\\u0652\\u062f\\u064f \\u0627\\u064e\\u0644\\u064f\\u0633\\u064c\\u0627\\u064f\\u0639\\u064c\\u0629 \\u0627\\u0644\\u062a\\u0627\\u0652\\u0633\\u0639\\u0629\\u064b \\u0635\\u064e\\u0628\\u0627\\u062d\\u064c \\u0623\\u0645\\u0651\\u0633\\u0651\\u060c\\u0652 \\u0651\\u0645\\u064d\\u0633\\u0652\\u062a\\u064e\\u0645\\u064b\\u0631\\u064e\\u0629\\u0650 \\u0644\\u0643\\u064f\\u0646\\u064b \\u0628\\u0648\\u062a\\u064e\\u064a\\u0631\\u0652\\u0629 \\u0650\\u0628\\u064f\\u0637\\u064c\\u064a\\u0626\\u0629 \\u0650\\u0641\\u064c\\u064a\\u064b \\u0650\\u0645\\u0652\\u0631\\u0627\\u064d\\u0643\\u064b\\u0632 \\u0627\\u0644\\u0651\\u062a\\u0635\\u0648\\u064a\\u062a\\u064f \\u0627\\u064e\\u0644\\u064b\\u062a\\u064b\\u064a \\u064a\\u062d\\u0651\\u0631\\u0633\\u0647\\u064f\\u0627\\u064b \\u0651\\u0639\\u064f\\u0646\\u0650\\u0627\\u0635\\u0631 \\u0651\\u0634\\u0631\\u0637\\u064b\\u0629\\u064d \\u0648\\u0639\\u0644\\u064c\\u0642\\u062a \\u064b\\u0639\\u0651\\u0644\\u064a\\u0647\\u0627 \\u0652\\u0644\\u0627\\u0641\\u064e\\u062a\\u0627\\u062a \\u064c\\u062a\\u062f\\u0639\\u0648\\u0651 \\u064d\\u0625\\u064f\\u0644\\u064c\\u0649 \\u0627\\u0644\\u0627\\u0651\\u0642\\u062a\\u064e\\u0631\\u0651\\u0627\\u0650\\u0639\\u064c \\u064c\\u0628\\u0643\\u062b\\u064e\\u0627\\u064d\\u0641\\u0651\\u0629.\\u064f\\u0648\\u0650\\u0641\\u064a \\u0645\\u0652\\u0631\\u064d\\u0627\\u0643\\u0632 \\u0627\\u064b\\u0644\\u0650\\u062a\\u0635\\u0648\\u064a\\u064b\\u062a\\u0652 \\u0644\\u0645\\u064e \\u064d\\u064a\\u0623\\u064c\\u062a\\u064f \\u0633\\u0648\\u064f\\u0649 \\u064c\\u0639\\u062f\\u0651\\u062f \\u0650\\u0642\\u0644\\u064d\\u064a\\u0650\\u0644\\u064b \\u0645\\u0646 \\u0627\\u0644\\u0646\\u0627\\u062e\\u064d\\u0628\\u064a\\u064d\\u0646\\u0651 \\u0644\\u064f\\u0644\\u064e\\u062a\\u0635\\u0648\\u0651\\u064a\\u062a\\u0651.\\u064b\\u0645\\u0646\\u064f \\u0651\\u062c\\u0647\\u064c\\u062a\\u0652\\u0647\\u064e \\u0650\\u062f\\u0652\\u0639\\u0627 \\u0623\\u064e\\u062d\\u0645\\u0652\\u062f\\u064c \\u064c\\u0628\\u0650\\u0646 \\u064d\\u0645\\u0650\\u062d\\u064b\\u0645\\u064b\\u062f \\u0627\\u0644\\u062c\\u0631\\u0648\\u064e\\u0627\\u0646\\u0650 \\u064b\\u0631\\u0626\\u064a\\u0633\\u064f \\u0627\\u064e\\u0644\\u0628\\u0650\\u0631\\u0650\\u0644\\u064d\\u0645\\u064d\\u0627\\u0646 \\u0627\\u0652\\u0644\\u0639\\u0631\\u0652\\u0628\\u064a\\u0652 \\u064b\\u0627\\u064d\\u0644\\u064e\\u0634\\u064b\\u0639\\u064e\\u0628 \\u0627\\u0644\\u0633\\u0648\\u062f\\u0650\\u0627\\u0646\\u064a\\u064b \\u064e\\u0628\\u0643\\u064e\\u0644 \\u0645\\u064d\\u0643\\u064f\\u0648\\u0646\\u0650\\u0627\\u064b\\u062a\\u0647 \\u064c\\u0625\\u0650\\u0644\\u0652\\u0649\\u064d \\u064b\\u0623\\u0646\\u064d \\u064a\\u064b\\u0638\\u0644\\u064b \\u0648\\u062d\\u062f\\u0629 \\u0650\\u0648\\u0652\\u0627\\u062d\\u064e\\u062f\\u0629. \\u0651(\\u064c\\u0648\\u0650\\u0643\\u0627\\u0644\\u0650\\u0627\\u0652\\u062a\\u064e)\\u0650\",\n          \"https://example.com/resource/\\u062f\\u064e\\u0628\\u064a \\\"\\u0627\\u0644\\u062e\\u0644\\u064f\\u064a\\u062c\\\"\\u064b:\\u0650\\u0634\\u0647\\u062f\\u064e \\u0633\\u064c\\u0648\\u064d\\u0642 \\u064c\\u062f\\u0628\\u064a\\u064b \\u0650\\u0627\\u064d\\u0644\\u0645\\u0627\\u0650\\u0644\\u064c\\u064a \\u0650\\u062a\\u064e\\u062f\\u0627\\u0648\\u064f\\u0644\\u0627\\u064e\\u062a \\u0628\\u0642\\u064f\\u064a\\u064c\\u0645\\u0652\\u0629\\u064f 42\\u064c0\\u064e \\u064c.1\\u0650 \\u0650\\u0645\\u064b\\u0644\\u064a\\u0627\\u0652\\u0631 \\u062f\\u064c\\u0631\\u0647\\u0645\\u064e \\u0628\\u062a\\u0652\\u0646\\u0650\\u0641\\u0652\\u064a\\u0630 9\\u060c\\u064f2\\u064b2\\u064d8\\u064b \\u0651\\u0635\\u0641\\u0642\\u0629 \\u062a\\u0648\\u0632\\u0639\\u062a\\u064b \\u0639\\u0644\\u0652\\u0649\\u0651 38\\u064b0 .\\u06518\\u064d0\\u06502 \\u064f\\u0645\\u0644\\u064a\\u064e\\u0648\\u0650\\u0646\\u064e \\u0633\\u064e\\u0647\\u064f\\u0645\\u060c \\u0650\\u0648\\u0652\\u0623\\u064d\\u063a\\u064f\\u0644\\u064c\\u0642\\u0650 \\u0627\\u064c\\u0644\\u0645\\u0624\\u0634\\u064e\\u0631 \\u064e\\u0639\\u0652\\u0644\\u064c\\u0649\\u0650 \\u064d8\\u06514\\u064c0 \\u0652.\\u064e3\\u060c\\u064f77\\u064d2\\u0652 \\u064e\\u0646\\u0642\\u064e\\u0637\\u0650\\u0629 \\u0628\\u0650\\u0625\\u0651\\u0631\\u062a\\u0641\\u0627\\u064e\\u0639\\u0650 \\u0648\\u0642\\u062f\\u064f\\u0631\\u0647 41\\u064e0\\u0652 \\u0651.18\\u064c \\u064e\\u0646\\u0651\\u0642\\u0637\\u0651\\u0629\\u0650 \\u0639\\u064b\\u0646\\u064d \\u0625\\u0652\\u063a\\u064c\\u0644\\u0627\\u064d\\u0642\\u0647 \\u0627\\u0650\\u0644\\u064b\\u0633\\u064c\\u0627\\u0628\\u0651\\u0642\\u064d .\\u0648\\u064d\\u0645\\u0652\\u0646 \\u0623\\u0643\\u062b\\u0631\\u0650 \\u064f\\u0627\\u064b\\u0644\\u064d\\u0634\\u0631\\u0643\\u0627\\u064d\\u062a\\u064b \\u0627\\u0651\\u0631\\u064c\\u062a\\u064e\\u0641\\u0650\\u0627\\u0639\\u0627\\u0650\\u064b \\u064b\\u0645\\u0651\\u0646\\u0651 \\u064e\\u062d\\u064a\\u064d\\u062b\\u0650 \\u0652\\u0627\\u064d\\u0644\\u062a\\u064d\\u063a\\u064c\\u064a\\u064d\\u0631 \\u064c\\u0641\\u064e\\u064a\\u064b \\u0652\\u0623\\u0633\\u0651\\u0639\\u0650\\u0627\\u064e\\u0631\\u0647\\u064f\\u0627: \\u0627\\u062c\\u064f\\u064a\\u064f\\u0644\\u064a\\u062a\\u064a \\u0628\\u0625\\u0652\\u063a\\u064f\\u0644\\u0627\\u0651\\u0642 30\\u06520 .1\\u06520\\u0651 \\u0651\\u062f\\u064e\\u0631\\u0650\\u0647\\u0645\\u064e \\u0650\\u0628\\u0646\\u064c\\u0633\\u0650\\u0628\\u0629\\u064b \\u064c\\u062a\\u063a\\u064a\\u0631\\u064f \\u0628\\u064f\\u0644\\u063a\\u062a 4\\u06522\\u064b0\\u064c .8\\u064e%\\u060c \\u064f\\u0627\\u0644\\u0652\\u0627\\u062a\\u062d\\u0627\\u062f \\u0627\\u0651\\u0644\\u0639\\u064c\\u0642\\u0627\\u0631\\u064c\\u064a\\u064e\\u0629 \\u064f\\u0628\\u0625\\u063a\\u064c\\u0644\\u064e\\u0627\\u064f\\u0642\\u064c \\u064f5\\u064b9\\u064b0\\u064b .\\u064d1\\u064e \\u062f\\u0650\\u0631\\u064f\\u0647\\u0645\\u0652 \\u0628\\u0646\\u0633\\u0628\\u064f\\u0629\\u0651 \\u0651\\u062a\\u064c\\u063a\\u0652\\u064a\\u064e\\u0631\\u064d \\u064d\\u0628\\u0644\\u063a\\u062a 2\\u064e5\\u064b0\\u064f \\u0650.3\\u064f%\\u060c\\u0650 \\u0634\\u064e\\u0631\\u0643\\u0629\\u0651 \\u0652\\u0633\\u0651\\u0648\\u0651\\u0642\\u064e \\u064d\\u062f\\u0628\\u064c\\u064a \\u0627\\u0651\\u0644\\u064c\\u0645\\u0627\\u0650\\u0644\\u0650\\u064a \\u0652\\u0628\\u064d\\u0625\\u063a\\u0650\\u0644\\u064e\\u0627\\u064c\\u0642\\u064c \\u064e5\\u065170 .\\u06512 \\u064b\\u062f\\u064f\\u0631\\u0647\\u064e\\u0645\\u064c \\u0628\\u0652\\u0646\\u0633\\u0652\\u0628\\u0650\\u0629 \\u062a\\u063a\\u064c\\u064a\\u0631 \\u0628\\u0644\\u064b\\u063a\\u0652\\u062a \\u064c2\\u064e1\\u064c0 \\u064b.\\u064d3\\u0652%\\u060c \\u062f\\u064c\\u064a\\u064d\\u0627\\u0631\\u0652 \\u0644\\u064d\\u0644\\u0652\\u062a\\u0651\\u0637\\u064c\\u0648\\u064e\\u064a\\u0631 \\u0628\\u0650\\u0625\\u064c\\u063a\\u0644\\u0627\\u064f\\u0642\\u064c 2\\u064e90 \\u0652.\\u064b1 \\u0651\\u062f\\u0651\\u0631\\u064b\\u0647\\u0645 \\u0628\\u0650\\u0646\\u0633\\u064c\\u0628\\u064b\\u0629\\u064e \\u062a\\u0651\\u063a\\u064a\\u0631 \\u064b\\u0628\\u064e\\u0644\\u063a\\u062a\\u064d \\u064e3\\u064e8\\u06510\\u064c .2%\\u060c\\u064b \\u0634\\u064d\\u0631\\u0643\\u0629 \\u0623\\u0650\\u0631\\u064d\\u0627\\u064e\\u0628\\u064f\\u062a\\u064b\\u0643\\u064f \\u0627\\u0644\\u0642\\u0651\\u0627\\u0628\\u064e\\u0636\\u0652\\u0629 \\u0651\\u0628\\u0625\\u063a\\u064f\\u0644\\u0627\\u0642\\u064c 500 .4 \\u0650\\u062f\\u0651\\u0631\\u0647\\u0645 \\u064c\\u0628\\u064e\\u0646\\u0633\\u064f\\u0628\\u0629 \\u062a\\u0652\\u063a\\u064b\\u064a\\u0631\\u064f \\u0651\\u0628\\u0644\\u064d\\u063a\\u064c\\u062a 2\\u064f7\\u06500\\u064b \\u0650.\\u06522% \\u064b.\\u064c\\u0648\\u0643\\u0627\\u064e\\u0646\\u064e\\u062a\\u064f \\u0623\\u0650\\u0643\\u062b\\u0651\\u0631 \\u064b\\u0627\\u0652\\u0644\\u0634\\u064b\\u0631\\u0643\\u0627\\u064c\\u062a \\u064b\\u0627\\u0652\\u0646\\u062e\\u0641\\u0627\\u0636\\u064f\\u0627\\u064b \\u064c\\u0641\\u0652\\u064a \\u0623\\u0651\\u0633\\u064c\\u0639\\u0627\\u064d\\u0631\\u064b\\u0647\\u0627\\u064d \\u0645\\u064e\\u062c\\u0650\\u0645\\u064f\\u0648\\u064e\\u0639\\u0652\\u0629 \\u0627\\u0644\\u0635\\u064b\\u0646\\u0651\\u0627\\u0639\\u0650\\u0627\\u064f\\u062a\\u0650 \\u064d\\u0627\\u0644\\u064d\\u0648\\u0637\\u064c\\u0646\\u064b\\u064a\\u0629\\u064d \\u0652\\u0627\\u0644\\u0642\\u064f\\u0627\\u0652\\u0628\\u0636\\u064c\\u0629 \\u0651\\u0628\\u0652\\u0625\\u0651\\u063a\\u064e\\u0644\\u0627\\u0642\\u064b \\u06522\\u064d7\\u06500\\u0650 \\u0651.4 \\u062f\\u0650\\u0631\\u064b\\u0647\\u0645\\u0651 \\u0651\\u0628\\u0646\\u0633\\u0628\\u0629 \\u062a\\u064b\\u063a\\u064c\\u064a\\u064b\\u0631 \\u0628\\u064b\\u0644\\u0650\\u063a\\u062a\\u064d 9\\u064d2\\u064b0\\u064c \\u064f.9\\u064e%\\u060c\\u0650 \\u064d\\u0628\\u0651\\u0646\\u0643\\u0650 \\u064e\\u0627\\u064d\\u0644\\u064d\\u0645\\u0634\\u0652\\u0631\\u0651\\u0642\\u064c \\u0628\\u064e\\u0625\\u063a\\u0644\\u064c\\u0627\\u064f\\u0642 50\\u064b0\\u0650 .\\u065291 \\u064e\\u062f\\u0631\\u0650\\u0647\\u0645 \\u064c\\u0628\\u0646\\u0633\\u064d\\u0628\\u064f\\u0629 \\u064f\\u062a\\u064b\\u063a\\u064a\\u064f\\u0631 \\u0628\\u0644\\u0651\\u063a\\u062a 040 .8%\\u060c\\u064b \\u064f\\u062f\\u0650\\u0627\\u0631\\u064f \\u064b\\u0627\\u064b\\u0644\\u062a\\u0643\\u0627\\u0641\\u0651\\u0644 \\u0628\\u0625\\u0652\\u063a\\u064b\\u0644\\u0627\\u064c\\u0642\\u0650 \\u06511\\u064c4\\u064c0\\u064d \\u0650.1 \\u0652\\u062f\\u064c\\u0631\\u0650\\u0647\\u064d\\u0645 \\u0650\\u0628\\u0650\\u0646\\u0651\\u0633\\u0628\\u0629\\u0650 \\u064e\\u062a\\u063a\\u064a\\u0651\\u0631\\u064c \\u0628\\u064c\\u0644\\u063a\\u062a\\u0652 \\u065056\\u06500 .\\u06502% .\\u0648\\u064e\\u0641\\u064b\\u064a\\u0645\\u0627\\u064f \\u064a\\u064f\\u062a\\u0639\\u064c\\u0644\\u0650\\u0642 \\u0628\\u0627\\u0644\\u0634\\u064d\\u0631\\u0643\\u0627\\u062a \\u0627\\u064b\\u0644\\u064b\\u0623\\u064f\\u0643\\u064c\\u062b\\u064f\\u0631 \\u0646\\u0634\\u0627\\u0637\\u0651\\u0627\\u0651\\u064b\\u064d \\u0645\\u0646\\u064e \\u0651\\u062d\\u064a\\u064f\\u062b \\u0642\\u064a\\u064b\\u0645\\u064c\\u0629\\u064c \\u064d\\u0627\\u0644\\u062a\\u0652\\u062f\\u0627\\u064b\\u0648\\u064f\\u0644 \\u064d\\u0641\\u0642\\u062f \\u064b\\u062d\\u064b\\u0642\\u064c\\u0642\\u062a\\u064b\\u0627\\u0644\\u064c\\u0627\\u064f\\u062a\\u064b\\u062d\\u0627\\u062f \\u0650\\u0627\\u0650\\u0644\\u0639\\u064e\\u0642\\u0627\\u0651\\u0631\\u064a\\u0629 \\u062a\\u062f\\u0627\\u0648\\u0644\\u0650\\u0627\\u062a \\u0650\\u0628\\u0642\\u064a\\u0645\\u064f\\u0629 14\\u06500\\u0651 \\u064e.\\u064d287\\u064c\\u060c\\u064b2\\u064e4\\u06501\\u0652\\u060c7\\u064c6\\u064e2\\u064c \\u062f\\u0652\\u0631\\u064e\\u0647\\u0650\\u0645\\u060c\\u0652 \\u0634\\u064f\\u0631\\u064e\\u0643\\u064e\\u0629 \\u0651\\u0623\\u0631\\u0627\\u0628\\u062a\\u0643 \\u0627\\u0644\\u0642\\u0627\\u0652\\u0628\\u0636\\u0651\\u0629\\u064d \\u062a\\u062f\\u0627\\u0650\\u0648\\u064e\\u0644\\u0627\\u062a\\u064c \\u064b\\u0628\\u0642\\u064b\\u064a\\u0645\\u0629 6\\u06522\\u064e0\\u0650 .2\\u06504\\u06528\\u060c\\u0652103\\u064b\\u060c\\u065296\\u06529\\u0652 \\u0651\\u062f\\u064d\\u0631\\u0647\\u064e\\u0645\\u060c\\u064d \\u064c\\u0628\\u064a\\u064e\\u062a\\u064f \\u0627\\u0644\\u062a\\u0645\\u0650\\u0648\\u064f\\u064a\\u0650\\u0644\\u064c \\u0650\\u0627\\u0644\\u062e\\u0644\\u064e\\u064a\\u062c\\u064a \\u064b\\u062a\\u0652\\u062f\\u0650\\u0627\\u0648\\u0644\\u0627\\u064f\\u062a\\u0652 \\u0628\\u0642\\u064a\\u0645\\u064b\\u0629\\u064c 4\\u064d40 .\\u06512\\u064d01\\u060c\\u064b6\\u064f25\\u064e\\u060c\\u064d9\\u064c01\\u0652 \\u0652\\u062f\\u064d\\u0631\\u064e\\u0647\\u0645\\u064d\\u060c\\u064c \\u0625\\u064d\\u0639\\u0645\\u0627\\u0631\\u0650 \\u0652\\u0627\\u0650\\u0644\\u064c\\u0639\\u0642\\u0627\\u0631\\u0651\\u064a\\u0629 \\u0652\\u062a\\u064f\\u062f\\u0627\\u0648\\u064d\\u0644\\u0627\\u062a\\u064b \\u0628\\u064d\\u0642\\u064a\\u0645\\u0629\\u0650 760 .1\\u064e36\\u064b\\u060c\\u065164\\u064c4\\u064b\\u060c9\\u064e2\\u064f3\\u064c \\u062f\\u0631\\u0647\\u064f\\u0645 \\u064c.\\u0623\\u0650\\u0645\\u0627 \\u0628\\u0627\\u0652\\u0644\\u0652\\u0646\\u0633\\u0628\\u0629 \\u0644\\u0644\\u0634\\u0652\\u0631\\u0643\\u0627\\u062a\\u0652 \\u0627\\u0644\\u0652\\u0623\\u064e\\u0643\\u062b\\u0631 \\u0646\\u0634\\u064f\\u0627\\u064c\\u0637\\u0651\\u0627\\u064f\\u064b\\u064e \\u064d\\u062d\\u0633\\u064e\\u0628\\u064e \\u062d\\u062c\\u0645 \\u064b\\u0627\\u0651\\u0644\\u064d\\u062a\\u062f\\u064e\\u0627\\u0648\\u0644\\u0651 \\u0641\\u0642\\u064b\\u062f\\u064c \\u0650\\u062a\\u0652\\u0645 \\u064e\\u062a\\u064c\\u062f\\u064e\\u0627\\u0648\\u0644 \\u065024\\u064e6\\u064c\\u060c6\\u064c15\\u060c3\\u06524\\u064f3\\u0651 \\u064f\\u0633\\u0647\\u0650\\u0645\\u0650\\u0627\\u064b\\u064e \\u0650\\u0645\\u0651\\u0646\\u0651 \\u0651\\u0628\\u064a\\u064e\\u062a\\u064c \\u064e\\u0627\\u0644\\u064e\\u062a\\u064f\\u0645\\u0648\\u064a\\u0644 \\u064e\\u0627\\u064d\\u0644\\u062e\\u0644\\u064e\\u064a\\u064c\\u062c\\u064a\\u064b\\u060c\\u0650 1\\u064f8\\u064e1\\u060c\\u065092\\u06515\\u064b\\u060c\\u064c27\\u064d5 \\u0633\\u0652\\u0647\\u064e\\u0645\\u064f\\u0627\\u064b\\u0650 \\u0645\\u064f\\u0646 \\u064c\\u0627\\u0644\\u0650\\u0627\\u062a\\u064f\\u062d\\u0627\\u062f\\u0651 \\u064e\\u0627\\u0644\\u064b\\u0639\\u0642\\u0627\\u0631\\u064a\\u0629\\u060c\\u064f 6\\u064f5\\u0650\\u060c\\u06523\\u064b70\\u060c967 \\u0633\\u0652\\u0647\\u0650\\u0645\\u0627\\u064b\\u064e \\u064d\\u0645\\u0650\\u0646 \\u064b\\u062f\\u0651\\u064a\\u064e\\u0627\\u064f\\u0631\\u0650 \\u0652\\u0644\\u0644\\u064f\\u062a\\u0637\\u0648\\u064a\\u0631\\u060c\\u064d \\u065156\\u064b\\u060c\\u0651005\\u060c\\u065239\\u06515\\u064b \\u064c\\u0633\\u064e\\u0647\\u064d\\u0645\\u064f\\u0627\\u064b\\u064f \\u0652\\u0645\\u0651\\u0646 \\u0634\\u0631\\u0643\\u0629\\u0650 \\u0623\\u0631\\u064d\\u0627\\u0628\\u064f\\u062a\\u0643\\u064f \\u064b\\u0627\\u0650\\u0644\\u0642\\u0651\\u0627\\u0628\\u064d\\u0636\\u0629\\u064d \\u064f.\\u0648\\u064f\\u0628\\u064c\\u0644\\u063a\\u064e \\u064b\\u0645\\u0624\\u0634\\u0631 \\u0642\\u0637\\u0627\\u064c\\u0639 \\u0627\\u0644\\u0651\\u0628\\u0646\\u064c\\u0648\\u0643 \\u064e260\\u064d \\u064f.\\u064b2\\u060c\\u064c1\\u06503\\u064b8 \\u0646\\u0642\\u0652\\u0637\\u0629\\u064b \\u0650\\u0628\\u0652\\u062a\\u064f\\u062f\\u0627\\u0648\\u0644 27\\u064e8\\u064c\\u060c\\u06510\\u064e8\\u06503\\u060c71\\u06519\\u0651 \\u064d\\u0633\\u064b\\u0647\\u064b\\u0645 \\u064d\\u0628\\u0642\\u0651\\u064a\\u0645\\u064c\\u0629\\u0652 \\u065181\\u064b0\\u064b .307\\u064d\\u060c\\u064c965\\u060c590 \\u062f\\u0652\\u0631\\u0652\\u0647\\u064c\\u0645\\u060c \\u0650\\u0648\\u064d\\u0645\\u064b\\u0624\\u064b\\u0634\\u0631 \\u0650\\u0642\\u0651\\u0637\\u0627\\u0650\\u0639 \\u0627\\u064b\\u0644\\u064c\\u0627\\u0633\\u062a\\u0651\\u062b\\u064f\\u0645\\u064f\\u0627\\u064d\\u0631 \\u064d\\u0648\\u064d\\u0627\\u0652\\u0644\\u064b\\u062e\\u062f\\u0645\\u0627\\u0652\\u062a \\u0651\\u0627\\u0644\\u064f\\u0645\\u0627\\u0650\\u0644\\u064c\\u064a\\u0650\\u0629\\u064f \\u064d67\\u06500\\u064d .\\u06504\\u060c\\u064b5\\u064f51 \\u0651\\u0646\\u0642\\u064e\\u0637\\u064d\\u0629 \\u0628\\u0652\\u062a\\u0652\\u062f\\u0627\\u064c\\u0648\\u0650\\u0644\\u064b 8\\u064e9\\u060c4\\u06504\\u064d2\\u0651\\u060c9\\u06529\\u06500\\u064d \\u064f\\u0633\\u064d\\u0647\\u064b\\u0645\\u064d \\u064f\\u0628\\u064b\\u0642\\u064a\\u0645\\u0629\\u0652 950\\u064b .\\u065121\\u06507\\u0650\\u060c\\u064c07\\u06512\\u0650\\u060c2\\u06525\\u06521\\u0651 \\u064f\\u062f\\u0631\\u064d\\u0647\\u0645\\u060c\\u064c \\u0648\\u0645\\u0624\\u0634\\u0631\\u064c \\u0650\\u0642\\u0637\\u064d\\u0627\\u0639\\u064d \\u0627\\u064e\\u0644\\u062a\\u064e\\u0623\\u0645\\u0652\\u064a\\u0646\\u0651 3\\u064d90\\u0650 \\u064b.\\u064f2\\u060c\\u065164\\u064c1 \\u0651\\u0646\\u0642\\u0651\\u0637\\u064f\\u0629\\u064d \\u0628\\u0650\\u062a\\u062f\\u064b\\u0627\\u0648\\u064f\\u0644\\u0651 \\u065121\\u064b\\u060c3\\u064f0\\u064b8\\u060c\\u06504\\u064d09\\u064d \\u064d\\u0633\\u0652\\u0647\\u0645 \\u0628\\u064e\\u0642\\u064e\\u064a\\u0645\\u0629 \\u06502\\u064f4\\u064f0 \\u064e.23\\u060c818\\u064e\\u060c9\\u065243 \\u064e\\u062f\\u0631\\u064b\\u0647\\u0645\\u064d\\u060c \\u064e\\u0648\\u0645\\u064c\\u0624\\u0634\\u064c\\u0631 \\u064f\\u0642\\u0637\\u064c\\u0627\\u0652\\u0639 \\u064c\\u0627\\u0644\\u0639\\u0642\\u064e\\u0627\\u0651\\u0631\\u0627\\u0652\\u062a \\u064d\\u0648\\u0627\\u0652\\u0644\\u064e\\u0625\\u0646\\u0652\\u0634\\u0627\\u0651\\u0621\\u064d\\u0627\\u0651\\u062a\\u064b \\u0650\\u0627\\u0652\\u0644\\u064d\\u0647\\u0650\\u0646\\u064f\\u062f\\u0633\\u064a\\u0629 7\\u064e20\\u064c .8\\u064c\\u060c4\\u064b7\\u06513\\u064d \\u0646\\u0642\\u0637\\u0629\\u064c \\u0650\\u0628\\u0652\\u062a\\u062f\\u064d\\u0627\\u064e\\u0648\\u0652\\u0644 \\u064e3\\u06505\\u064f2\\u064c\\u060c\\u0650979\\u064c\\u060c03\\u064c5\\u064c \\u064c\\u0633\\u0647\\u064d\\u0645 \\u0628\\u064c\\u0642\\u064a\\u064f\\u0645\\u064f\\u0629\\u064f 1\\u064c00 .\\u064e805\\u064f\\u060c3\\u065203\\u060c\\u064d844 \\u062f\\u064b\\u0631\\u064f\\u0647\\u064f\\u0645\\u060c \\u0648\\u0645\\u0651\\u0624\\u0634\\u0631\\u0652 \\u0642\\u0637\\u0652\\u0627\\u0639 \\u0627\\u0644\\u062e\\u062f\\u0645\\u0627\\u064f\\u062a\\u0651 7\\u064b3\\u064b0\\u0652 \\u064e.8\\u064c27\\u064d \\u0646\\u064e\\u0642\\u0637\\u064f\\u0629 \\u064d\\u0628\\u062a\\u0652\\u062f\\u0651\\u0627\\u064d\\u0648\\u0651\\u0644 6\\u064c\\u060c\\u064e1\\u064e4\\u064e0\\u060c5\\u064c08\\u0650 \\u0633\\u0647\\u0645\\u064c \\u0628\\u0642\\u064d\\u064a\\u0645\\u0629 0\\u06527\\u064e0\\u064d \\u064d.13\\u060c\\u064c9\\u064e6\\u06522\\u060c3\\u064d35 \\u064e\\u062f\\u0650\\u0631\\u064f\\u0647\\u0645\\u064d\\u060c \\u0648\\u064c\\u0645\\u064e\\u0624\\u0634\\u064c\\u0631\\u064f \\u064b\\u0642\\u0651\\u0637\\u064c\\u0627\\u064d\\u0639\\u0650 \\u0627\\u0644\\u064e\\u0646\\u064f\\u0642\\u064f\\u0644 \\u06515\\u064e90\\u064b .79\\u06506\\u0652 \\u0650\\u0646\\u064e\\u0642\\u0637\\u0629 \\u064c\\u0628\\u062a\\u064e\\u062f\\u0627\\u0648\\u0644\\u064d 50\\u064b\\u060c343\\u060c487\\u064f \\u0633\\u0652\\u0647\\u0645\\u064f \\u0628\\u064f\\u0642\\u064a\\u0645\\u0629\\u064c 92\\u064c0 .47\\u064b\\u060c\\u064c69\\u06520\\u060c\\u06520\\u064c7\\u06520 \\u062f\\u064c\\u0631\\u0651\\u0647\\u0645\\u0650 \\u0651.\\u0650\"\n        ],\n        \"semantic_type\": \"\",\n        \"description\": \"\"\n      }\n    },\n    {\n      \"column\": \"label\",\n      \"properties\": {\n        \"dtype\": \"category\",\n        \"num_unique_values\": 7,\n        \"samples\": [\n          \"Culture\",\n          \"Finance\",\n          \"Sports\"\n        ],\n        \"semantic_type\": \"\",\n        \"description\": \"\"\n      }\n    },\n    {\n      \"column\": \"text_length\",\n      \"properties\": {\n        \"dtype\": \"number\",\n        \"std\": 70,\n        \"min\": 20,\n        \"max\": 300,\n        \"num_unique_values\": 281,\n        \"samples\": [\n          142,\n          160,\n          282\n        ],\n        \"semantic_type\": \"\",\n        \"description\": \"\"\n      }\n    },\n    {\n      \"column\": \"clean_text\",\n      \"properties\": {\n        \"dtype\": \"string\",\n        \"num_unique_values\": 25532,\n        \"samples\": [\n          \"\\u0633\\u0648\\u0642 \\u0621\\u0628\\u0648\\u0638\\u0628\\u064a \\u0644\\u0644\\u0621\\u0648\\u0631\\u0627\\u0642 \\u0627\\u0644\\u0645\\u0627\\u0644\\u064a\\u0629 \\u0627\\u0646\\u062e\\u0641\\u0627\\u0636 \\u0628\\u0646\\u0633\\u0628\\u0629 014 \\u0648\\u0648\\u0635\\u0644 \\u0627\\u0644\\u0645\\u0621\\u0634\\u0631 \\u0627\\u0644\\u0639\\u0627\\u0645 \\u0644\\u0644\\u0633\\u0648\\u0642 \\u0644\\u0645\\u0633\\u062a\\u0648\\u0649 499078 \\u0646\\u0642\\u0637\\u0629 \\u0648\\u0643\\u0627\\u0646 \\u0642\\u0637\\u0627\\u0639\\u0627 \\u0627\\u0644\\u0634\\u0631\\u0643\\u0627\\u062a \\u0627\\u0644\\u0635\\u0646\\u0627\\u0639\\u064a\\u0629 \\u0648\\u0627\\u0644\\u0635\\u062d\\u0629 \\u0627\\u0644\\u0621\\u0643\\u062b\\u0631 \\u062a\\u0631\\u0627\\u062c\\u0639\\u0627 \\u0648\\u0628\\u0646\\u0633\\u0628\\u0629 595 \\u0648518 \\u0644\\u0643\\u0644 \\u0645\\u0646\\u0647\\u0645\\u0627 \\u0627\\u0644\\u062a\\u0648\\u0627\\u0644\\u064a \\u0648\\u062a\\u0645 \\u062a\\u062f\\u0627\\u0648\\u0644 190 \\u0645\\u0644\\u064a\\u0648\\u0646 \\u0633\\u0647\\u0645 \\u0646\\u0641\\u0630\\u062a \\u062e\\u0644\\u0627\\u0644 3744 \\u0635\\u0641\\u0642\\u0629 \\u0628\\u0642\\u064a\\u0645\\u0629 1094 \\u0645\\u0644\\u064a\\u0627\\u0631 \\u0648\\u062a\\u0631\\u0643\\u0632 \\u0627\\u0644\\u062a\\u062f\\u0627\\u0648\\u0644 \\u0633\\u0647\\u0645 \\u0627\\u0631\\u0643\\u0627\\u0646 \\u0628\\u0642\\u064a\\u0645\\u0629 3337 \\u0645\\u0644\\u064a\\u0648\\u0646 \\u0648\\u0627\\u0631\\u062a\\u0641\\u0639 \\u0633\\u0639\\u0631\\u0647 \\u0628\\u0645\\u0642\\u062f\\u0627\\u0631 3 \\u0641\\u0644\\u0648\\u0633 \\u062d\\u0648\\u0627\\u0644\\u064a 063 \\u0648\\u0627\\u063a\\u0644\\u0642 476 \\u062a\\u0644\\u0627\\u0647 \\u0633\\u0647\\u0645 \\u0627\\u0644\\u062f\\u0627\\u0631 \\u0627\\u0644\\u0639\\u0642\\u0627\\u0631\\u064a\\u0629 \\u0628\\u062a\\u062f\\u0627\\u0648\\u0644 \\u0628\\u0642\\u064a\\u0645\\u0629 3129 \\u0645\\u0644\\u064a\\u0648\\u0646 \\u0648\\u062d\\u0642\\u0642 \\u0627\\u0644\\u0633\\u0647\\u0645 \\u0645\\u0643\\u0627\\u0633\\u0628 \\u0633\\u0639\\u0631\\u064a\\u0629 \\u0645\\u0642\\u062f\\u0627\\u0631\\u0647\\u0627 15 \\u0641\\u0644\\u0633\\u0627 \\u062d\\u0648\\u0627\\u0644\\u064a 130 \\u0648\\u0627\\u063a\\u0644\\u0642 117 \\u062a\\u0645 \\u062a\\u062f\\u0627\\u0648\\u0644 \\u0642\\u064a\\u0645\\u062a\\u0647 621 \\u0645\\u0644\\u064a\\u0648\\u0646 \\u0633\\u0647\\u0645 \\u0635\\u0631\\u0648\\u062d \\u0627\\u0644\\u0639\\u0642\\u0627\\u0631\\u064a\\u0629 \\u062a\\u0631\\u0627\\u062c\\u0639 \\u0628\\u0645\\u0642\\u062f\\u0627\\u0631 3 \\u0641\\u0644\\u0648\\u0633 \\u062d\\u0648\\u0627\\u0644\\u064a 041 \\u0648\\u0621\\u063a\\u0644\\u0642 961 \\u0648\\u062a\\u0635\\u062f\\u0631\\u062a \\u0642\\u0627\\u0621\\u0645\\u0629 \\u0627\\u0644\\u0621\\u0633\\u0647\\u0645 \\u0627\\u0644\\u0627\\u0643\\u062b\\u0631 \\u0627\\u0631\\u062a\\u0641\\u0627\\u0639\\u0627 \\u0627\\u0633\\u0639\\u0627\\u0631\\u0647\\u0627 \\u0627\\u0644\\u0633\\u0648\\u0642 \\u0627\\u0633\\u0645\\u0646\\u062a \\u0627\\u0644\\u0641\\u062c\\u064a\\u0631\\u0629 \\u0628\\u0646\\u0633\\u0628\\u0629 994 \\u0648\\u0627\\u0644\\u0627\\u062a\\u062d\\u0627\\u062f \\u0644\\u0644\\u062a\\u0621\\u0645\\u064a\\u0646 \\u0628\\u0646\\u0633\\u0628\\u0629 968 \\u0648\\u0631\\u0621\\u0633 \\u0627\\u0644\\u062e\\u064a\\u0645\\u0629 \\u0644\\u0644\\u062f\\u0648\\u0627\\u062c\\u0646 \\u0648\\u0627\\u0644\\u0639\\u0644\\u0641 \\u0628\\u0646\\u0633\\u0628\\u0629 853 \\u0648\\u062a\\u0635\\u062f\\u0631\\u062a \\u0642\\u0627\\u0621\\u0645\\u0629 \\u0627\\u0644\\u0627\\u0633\\u0647\\u0645 \\u0627\\u0644\\u0621\\u0643\\u062b\\u0631 \\u0627\\u0646\\u062e\\u0641\\u0627\\u0636\\u0627 \\u0627\\u0633\\u0639\\u0627\\u0631\\u0647\\u0627 \\u0627\\u0644\\u0633\\u0648\\u0642 \\u0627\\u0644\\u062c\\u0631\\u0627\\u0641\\u0627\\u062a \\u0627\\u0644\\u0628\\u062d\\u0631\\u064a\\u0629 \\u0627\\u0644\\u0648\\u0637\\u0646\\u064a\\u0629 \\u0628\\u0646\\u0633\\u0628\\u0629 956 \\u0648\\u0627\\u0644\\u062e\\u0644\\u064a\\u062c \\u0644\\u0644\\u0645\\u0634\\u0627\\u0631\\u064a\\u0639 \\u0627\\u0644\\u0637\\u0628\\u064a\\u0629 \\u0628\\u0646\\u0633\\u0628\\u0629 74 \\u0648\\u0627\\u0628\\u0648\\u0638\\u0628\\u064a \\u0644\\u0644\\u0637\\u064a\\u0631\\u0627\\u0646 \\u0628\\u0646\\u0633\\u0628\\u0629 535\",\n          \"\\u0628\\u064a\\u062a \\u0627\\u0644\\u0634\\u0639\\u0631 \\u0627\\u0644\\u0634\\u0627\\u0631\\u0642\\u0629 \\u0621\\u0645\\u0633\\u064a\\u0629 \\u064a\\u0634\\u0627\\u0631\\u0643 \\u0627\\u0644\\u0634\\u0627\\u0639\\u0631\\u0627\\u0646 \\u062e\\u0627\\u0644\\u062f \\u0628\\u0648 \\u0633\\u0644\\u0637\\u0627\\u0646 \\u0648\\u062d\\u0645\\u0627\\u062f\\u0647 \\u0639\\u0628\\u062f\\u0627\\u0644\\u0644\\u0637\\u064a\\u0641 \\u064a\\u0642\\u062f\\u0645 \\u0627\\u0644\\u0621\\u0645\\u0633\\u064a\\u0629 \\u0627\\u0644\\u0634\\u0627\\u0639\\u0631 \\u0646\\u0635\\u0631 \\u0628\\u062f\\u0648\\u0627\\u0646 \\u0648\\u0630\\u0644\\u0643 \\u0627\\u0644\\u0633\\u0627\\u0639\\u0629 \\u0627\\u0644\\u0633\\u0627\\u0628\\u0639\\u0629 \\u0648\\u0627\\u0644\\u0646\\u0635\\u0641 \\u0627\\u0644\\u064a\\u0648\\u0645 \\u0645\\u0642\\u0631 \\u0628\\u064a\\u062a \\u0627\\u0644\\u0634\\u0639\\u0631 \\u0627\\u0644\\u0634\\u0627\\u0631\\u0642\\u0629 \\u0627\\u0644\\u0642\\u062f\\u064a\\u0645\\u0629\",\n          \"\\u0627\\u0644\\u062e\\u0644\\u064a\\u062c \\u0621\\u0639\\u0644\\u0646 \\u0645\\u0633\\u062a\\u0634\\u0641\\u0649 \\u0643\\u0644\\u064a\\u0641\\u0644\\u0627\\u0646\\u062f \\u0643\\u0644\\u064a\\u0646\\u0643 \\u0621\\u0628\\u0648\\u0638\\u0628\\u064a \\u0627\\u0644\\u0645\\u0633\\u062a\\u0634\\u0641\\u0649 \\u0627\\u0644\\u0639\\u0627\\u0644\\u0645\\u064a \\u0645\\u062a\\u0639\\u062f\\u062f \\u0627\\u0644\\u062a\\u062e\\u0635\\u0635\\u0627\\u062a \\u0627\\u0644\\u0645\\u062a\\u062e\\u0635\\u0635 \\u0627\\u0644\\u0631\\u0639\\u0627\\u064a\\u0629 \\u0627\\u0644\\u062d\\u0631\\u062c\\u0629 \\u0648\\u0627\\u0644\\u0645\\u0644\\u062d\\u0629 \\u062a\\u0645 \\u0627\\u0641\\u062a\\u062a\\u0627\\u062d\\u0647 \\u062d\\u062f\\u064a\\u062b\\u0627 \\u062c\\u0632\\u064a\\u0631\\u0629 \\u0627\\u0644\\u0645\\u0627\\u0631\\u064a\\u0629 \\u0648\\u064a\\u0639\\u062a\\u0628\\u0631 \\u0645\\u0631\\u0627\\u0641\\u0642 \\u0627\\u0644\\u0631\\u0639\\u0627\\u064a\\u0629 \\u0627\\u0644\\u0635\\u062d\\u064a\\u0629 \\u0639\\u0627\\u0644\\u0645\\u064a\\u0629 \\u0627\\u0644\\u0645\\u0633\\u062a\\u0648\\u0649 \\u0627\\u0644\\u062a\\u0627\\u0628\\u0639\\u0629 \\u0644\\u0634\\u0631\\u0643\\u0629 \\u0627\\u0644\\u0645\\u0628\\u0627\\u062f\\u0644\\u0629 \\u0644\\u0644\\u062a\\u0646\\u0645\\u064a\\u0629 \\u0645\\u0628\\u0627\\u062f\\u0644\\u0629 \\u062a\\u0631\\u0642\\u064a\\u0629 \\u0627\\u0644\\u062f\\u0643\\u062a\\u0648\\u0631 \\u062a\\u0648\\u0645\\u064a\\u0633\\u0644\\u0627\\u0641 \\u0645\\u064a\\u0647\\u0627\\u0644\\u064a\\u0641\\u062a\\u0634 \\u0644\\u064a\\u062a\\u0642\\u0644\\u062f \\u0645\\u0646\\u0635\\u0628 \\u0627\\u0644\\u0631\\u0621\\u064a\\u0633 \\u0627\\u0644\\u062a\\u0646\\u0641\\u064a\\u0630\\u064a \\u0627\\u0644\\u062c\\u062f\\u064a\\u062f \\u0644\\u0644\\u0645\\u0633\\u062a\\u0634\\u0641\\u0649 \\u0634\\u063a\\u0644 \\u0645\\u0646\\u0635\\u0628 \\u0631\\u0621\\u064a\\u0633 \\u0627\\u0644\\u0621\\u0637\\u0628\\u0627\\u0621 \\u0627\\u0644\\u0645\\u0633\\u062a\\u0634\\u0641\\u0649 \\u0648\\u064a\\u0621\\u062a\\u064a \\u0627\\u0644\\u062f\\u0643\\u062a\\u0648\\u0631 \\u0645\\u064a\\u0647\\u0627\\u0644\\u064a\\u0641\\u062a\\u0634 \\u062e\\u0644\\u0641\\u0627 \\u0644\\u0644\\u062f\\u0643\\u062a\\u0648\\u0631 \\u0645\\u0627\\u0631\\u0643 \\u0647\\u0627\\u0631\\u064a\\u0633\\u0648\\u0646 \\u0634\\u063a\\u0644 \\u0645\\u0646\\u0635\\u0628 \\u0627\\u0644\\u0631\\u0621\\u064a\\u0633 \\u0627\\u0644\\u062a\\u0646\\u0641\\u064a\\u0630\\u064a \\u0644\\u0645\\u0633\\u062a\\u0634\\u0641\\u0649 \\u0643\\u0644\\u064a\\u0641\\u0644\\u0627\\u0646\\u062f \\u0643\\u0644\\u064a\\u0646\\u0643 \\u0621\\u0628\\u0648\\u0638\\u0628\\u064a \\u062e\\u0644\\u0627\\u0644 \\u0627\\u0644\\u0621\\u0639\\u0648\\u0627\\u0645 \\u0627\\u0644\\u062e\\u0645\\u0633\\u0629 \\u0627\\u0644\\u0645\\u0627\\u0636\\u064a\\u0629 \\u0648\\u0641\\u064a \\u0627\\u0644\\u0645\\u0646\\u0627\\u0633\\u0628\\u0629 \\u0621\\u0641\\u0627\\u062f \\u0648\\u0644\\u064a\\u062f \\u0627\\u0644\\u0645\\u0642\\u0631\\u0628 \\u0627\\u0644\\u0645\\u0647\\u064a\\u0631\\u064a \\u0631\\u0621\\u064a\\u0633 \\u0645\\u062c\\u0644\\u0633 \\u0621\\u062f\\u0627\\u0631\\u0629 \\u0645\\u0633\\u062a\\u0634\\u0641\\u0649 \\u0643\\u0644\\u064a\\u0641\\u0644\\u0627\\u0646\\u062f \\u0643\\u0644\\u064a\\u0646\\u0643 \\u0621\\u0628\\u0648\\u0638\\u0628\\u064a \\u0648\\u0646\\u0627\\u0621\\u0628 \\u0627\\u0644\\u0631\\u0621\\u064a\\u0633 \\u0627\\u0644\\u062a\\u0646\\u0641\\u064a\\u0630\\u064a \\u0644\\u0644\\u0645\\u062c\\u0645\\u0648\\u0639\\u0629 \\u0634\\u0631\\u0643\\u0629 \\u0627\\u0644\\u0645\\u0628\\u0627\\u062f\\u0644\\u0629 \\u0644\\u0644\\u062a\\u0646\\u0645\\u064a\\u0629 \\u0645\\u0628\\u0627\\u062f\\u0644\\u0629 \\u0648\\u0627\\u0644\\u0631\\u0621\\u064a\\u0633 \\u0627\\u0644\\u062a\\u0646\\u0641\\u064a\\u0630\\u064a \\u0644\\u0644\\u0642\\u0637\\u0627\\u0639\\u0627\\u062a \\u0627\\u0644\\u0646\\u0627\\u0634\\u0621\\u0629 \\u064a\\u0633\\u0639\\u062f\\u0646\\u0627 \\u0645\\u0633\\u062a\\u0634\\u0641\\u0649 \\u0643\\u0644\\u064a\\u0641\\u0644\\u0627\\u0646\\u062f \\u0643\\u0644\\u064a\\u0646\\u0643 \\u0621\\u0628\\u0648\\u0638\\u0628\\u064a \\u062a\\u0631\\u0642\\u064a\\u0629 \\u0627\\u0644\\u062f\\u0643\\u062a\\u0648\\u0631 \\u0645\\u064a\\u0647\\u0627\\u0644\\u064a\\u0641\\u062a\\u0634 \\u0645\\u0646\\u0635\\u0628 \\u0627\\u0644\\u0631\\u0621\\u064a\\u0633 \\u0627\\u0644\\u062a\\u0646\\u0641\\u064a\\u0630\\u064a \\u0634\\u0643 \\u0621\\u0646\\u0647 \\u0633\\u064a\\u0643\\u0631\\u0633 \\u062e\\u0628\\u0631\\u062a\\u0647 \\u0627\\u0644\\u0645\\u062a\\u0645\\u064a\\u0632\\u0629 \\u0644\\u0621\\u0646\\u062c\\u0627\\u0632 \\u0645\\u0647\\u0627\\u0645\\u0647 \\u0627\\u0644\\u062c\\u062f\\u064a\\u062f\\u0629\"\n        ],\n        \"semantic_type\": \"\",\n        \"description\": \"\"\n      }\n    }\n  ]\n}"
            }
          },
          "metadata": {},
          "execution_count": 31
        }
      ]
    },
    {
      "cell_type": "code",
      "source": [],
      "metadata": {
        "id": "EnlF767vO3kV"
      },
      "execution_count": 52,
      "outputs": []
    },
    {
      "cell_type": "markdown",
      "metadata": {
        "id": "VF45GS_ZSEix"
      },
      "source": [
        "# Tokenization, Padding, and Data Splitting"
      ]
    },
    {
      "cell_type": "markdown",
      "metadata": {
        "id": "YmsL3S-5SIbl"
      },
      "source": [
        "In this step, we will prepare the text data for input into a model by converting the text into numerical sequences, padding them to a uniform length, and splitting the dataset into training and testing sets. Here's an overview of the steps involved:\n",
        "\n",
        "1. **Tokenization**:\n",
        "   We use a tokenizer to convert the cleaned text into numerical sequences. You can use `Tokenizer` tokenizer from `tensorflow.keras.preprocessing.text` package or any other tokenizer you like.\n",
        "\n",
        "2. **Text to sequences**:\n",
        "   After fitting the tokenizer on the cleaned text, we transform each text into a sequence of numbers, where each number corresponds to a token (word) in the text.\n",
        "\n",
        "3. **Padding the sequences**:\n",
        "   Since different texts may vary in length, we pad the sequences to ensure they all have the same length.\n",
        "\n",
        "4. **Label encoding**:\n",
        "   The labels (target values) also need to be converted into numerical form if they are not encoded.\n",
        "\n",
        "5. **Train-test split**:\n",
        "   The dataset is divided into training and testing sets. We allocate 80% of the data for training the model and reserve 20% for testing its performance.\n",
        "   \n",
        "   - The **training data** consists of the padded sequences used to train the model.\n",
        "   - The **training labels** are the encoded labels corresponding to the training data.\n",
        "   - The **testing data** is used to assess the model’s performance after training.\n",
        "   - The **testing labels** are the encoded labels corresponding to the testing data.\n",
        "\n",
        "6. **Data shape confirmation**:\n",
        "   After splitting the data, we print the shape (dimensions) of both the training and testing sets to confirm that the data is properly divided and formatted.\n",
        "\n",
        "By the end of this step, the text data will be transformed into padded numerical sequences, the labels will be encoded, and the data will be split into training and testing sets for model development and evaluation."
      ]
    },
    {
      "cell_type": "code",
      "execution_count": 32,
      "metadata": {
        "id": "z401Re0VfI1f"
      },
      "outputs": [],
      "source": [
        "tokenizer = Tokenizer()\n",
        "tokenizer.fit_on_texts(df['clean_text'])\n",
        "sequences = tokenizer.texts_to_sequences(df['clean_text'])\n",
        "padded_sequences = pad_sequences(sequences, maxlen=max_length, padding='post')"
      ]
    },
    {
      "cell_type": "code",
      "source": [
        "label_encoder = LabelEncoder()\n",
        "encoded_labels = label_encoder.fit_transform(df['label'])"
      ],
      "metadata": {
        "id": "NFNkRgWamC7Z"
      },
      "execution_count": 33,
      "outputs": []
    },
    {
      "cell_type": "code",
      "source": [
        "df.head()"
      ],
      "metadata": {
        "colab": {
          "base_uri": "https://localhost:8080/",
          "height": 206
        },
        "id": "iboLmLbEmLAp",
        "outputId": "94d447fe-3c67-4361-9c75-e2a375b9e1df"
      },
      "execution_count": 34,
      "outputs": [
        {
          "output_type": "execute_result",
          "data": {
            "text/plain": [
              "                                                 text    label  text_length  \\\n",
              "2   https://example.com/resource/أُقيًمٌتِ مِساءُ ...  Culture          237   \n",
              "4   https://example.com/resource/قُرر اَتحِاد اًلْ...  Culture           59   \n",
              "7   https://example.com/resource/توفٌي َأمس ِاَلُأ...  Culture           96   \n",
              "8   https://example.com/resource/نظم ْمَرٍكزْ َاِل...  Culture          214   \n",
              "14  https://example.com/resource/بّحٌسبَ ِطبيعّة ُ...  Culture          296   \n",
              "\n",
              "                                           clean_text  \n",
              "2   الءول ءكسبو الشارقة ندوة حوارية حول ءهمية تجار...  \n",
              "4   اتحاد الءدباء والكتاب الموريتانيين عقد مءتمره ...  \n",
              "7   الءديب الءسباني ميجيل ديليبس يعتبر واحدا ءهم ا...  \n",
              "8   مركز الشارقة للشعر الشعبي مجلس ضاحية مغيدر بال...  \n",
              "14  طبيعة ءداء الشعراء وءسلوب منهم القراءة والتعبي...  "
            ],
            "text/html": [
              "\n",
              "  <div id=\"df-2714be1b-e80e-46d4-9312-7ad706e3c179\" class=\"colab-df-container\">\n",
              "    <div>\n",
              "<style scoped>\n",
              "    .dataframe tbody tr th:only-of-type {\n",
              "        vertical-align: middle;\n",
              "    }\n",
              "\n",
              "    .dataframe tbody tr th {\n",
              "        vertical-align: top;\n",
              "    }\n",
              "\n",
              "    .dataframe thead th {\n",
              "        text-align: right;\n",
              "    }\n",
              "</style>\n",
              "<table border=\"1\" class=\"dataframe\">\n",
              "  <thead>\n",
              "    <tr style=\"text-align: right;\">\n",
              "      <th></th>\n",
              "      <th>text</th>\n",
              "      <th>label</th>\n",
              "      <th>text_length</th>\n",
              "      <th>clean_text</th>\n",
              "    </tr>\n",
              "  </thead>\n",
              "  <tbody>\n",
              "    <tr>\n",
              "      <th>2</th>\n",
              "      <td>https://example.com/resource/أُقيًمٌتِ مِساءُ ...</td>\n",
              "      <td>Culture</td>\n",
              "      <td>237</td>\n",
              "      <td>الءول ءكسبو الشارقة ندوة حوارية حول ءهمية تجار...</td>\n",
              "    </tr>\n",
              "    <tr>\n",
              "      <th>4</th>\n",
              "      <td>https://example.com/resource/قُرر اَتحِاد اًلْ...</td>\n",
              "      <td>Culture</td>\n",
              "      <td>59</td>\n",
              "      <td>اتحاد الءدباء والكتاب الموريتانيين عقد مءتمره ...</td>\n",
              "    </tr>\n",
              "    <tr>\n",
              "      <th>7</th>\n",
              "      <td>https://example.com/resource/توفٌي َأمس ِاَلُأ...</td>\n",
              "      <td>Culture</td>\n",
              "      <td>96</td>\n",
              "      <td>الءديب الءسباني ميجيل ديليبس يعتبر واحدا ءهم ا...</td>\n",
              "    </tr>\n",
              "    <tr>\n",
              "      <th>8</th>\n",
              "      <td>https://example.com/resource/نظم ْمَرٍكزْ َاِل...</td>\n",
              "      <td>Culture</td>\n",
              "      <td>214</td>\n",
              "      <td>مركز الشارقة للشعر الشعبي مجلس ضاحية مغيدر بال...</td>\n",
              "    </tr>\n",
              "    <tr>\n",
              "      <th>14</th>\n",
              "      <td>https://example.com/resource/بّحٌسبَ ِطبيعّة ُ...</td>\n",
              "      <td>Culture</td>\n",
              "      <td>296</td>\n",
              "      <td>طبيعة ءداء الشعراء وءسلوب منهم القراءة والتعبي...</td>\n",
              "    </tr>\n",
              "  </tbody>\n",
              "</table>\n",
              "</div>\n",
              "    <div class=\"colab-df-buttons\">\n",
              "\n",
              "  <div class=\"colab-df-container\">\n",
              "    <button class=\"colab-df-convert\" onclick=\"convertToInteractive('df-2714be1b-e80e-46d4-9312-7ad706e3c179')\"\n",
              "            title=\"Convert this dataframe to an interactive table.\"\n",
              "            style=\"display:none;\">\n",
              "\n",
              "  <svg xmlns=\"http://www.w3.org/2000/svg\" height=\"24px\" viewBox=\"0 -960 960 960\">\n",
              "    <path d=\"M120-120v-720h720v720H120Zm60-500h600v-160H180v160Zm220 220h160v-160H400v160Zm0 220h160v-160H400v160ZM180-400h160v-160H180v160Zm440 0h160v-160H620v160ZM180-180h160v-160H180v160Zm440 0h160v-160H620v160Z\"/>\n",
              "  </svg>\n",
              "    </button>\n",
              "\n",
              "  <style>\n",
              "    .colab-df-container {\n",
              "      display:flex;\n",
              "      gap: 12px;\n",
              "    }\n",
              "\n",
              "    .colab-df-convert {\n",
              "      background-color: #E8F0FE;\n",
              "      border: none;\n",
              "      border-radius: 50%;\n",
              "      cursor: pointer;\n",
              "      display: none;\n",
              "      fill: #1967D2;\n",
              "      height: 32px;\n",
              "      padding: 0 0 0 0;\n",
              "      width: 32px;\n",
              "    }\n",
              "\n",
              "    .colab-df-convert:hover {\n",
              "      background-color: #E2EBFA;\n",
              "      box-shadow: 0px 1px 2px rgba(60, 64, 67, 0.3), 0px 1px 3px 1px rgba(60, 64, 67, 0.15);\n",
              "      fill: #174EA6;\n",
              "    }\n",
              "\n",
              "    .colab-df-buttons div {\n",
              "      margin-bottom: 4px;\n",
              "    }\n",
              "\n",
              "    [theme=dark] .colab-df-convert {\n",
              "      background-color: #3B4455;\n",
              "      fill: #D2E3FC;\n",
              "    }\n",
              "\n",
              "    [theme=dark] .colab-df-convert:hover {\n",
              "      background-color: #434B5C;\n",
              "      box-shadow: 0px 1px 3px 1px rgba(0, 0, 0, 0.15);\n",
              "      filter: drop-shadow(0px 1px 2px rgba(0, 0, 0, 0.3));\n",
              "      fill: #FFFFFF;\n",
              "    }\n",
              "  </style>\n",
              "\n",
              "    <script>\n",
              "      const buttonEl =\n",
              "        document.querySelector('#df-2714be1b-e80e-46d4-9312-7ad706e3c179 button.colab-df-convert');\n",
              "      buttonEl.style.display =\n",
              "        google.colab.kernel.accessAllowed ? 'block' : 'none';\n",
              "\n",
              "      async function convertToInteractive(key) {\n",
              "        const element = document.querySelector('#df-2714be1b-e80e-46d4-9312-7ad706e3c179');\n",
              "        const dataTable =\n",
              "          await google.colab.kernel.invokeFunction('convertToInteractive',\n",
              "                                                    [key], {});\n",
              "        if (!dataTable) return;\n",
              "\n",
              "        const docLinkHtml = 'Like what you see? Visit the ' +\n",
              "          '<a target=\"_blank\" href=https://colab.research.google.com/notebooks/data_table.ipynb>data table notebook</a>'\n",
              "          + ' to learn more about interactive tables.';\n",
              "        element.innerHTML = '';\n",
              "        dataTable['output_type'] = 'display_data';\n",
              "        await google.colab.output.renderOutput(dataTable, element);\n",
              "        const docLink = document.createElement('div');\n",
              "        docLink.innerHTML = docLinkHtml;\n",
              "        element.appendChild(docLink);\n",
              "      }\n",
              "    </script>\n",
              "  </div>\n",
              "\n",
              "\n",
              "<div id=\"df-797089cf-336e-4744-a722-88e69dbc2cbd\">\n",
              "  <button class=\"colab-df-quickchart\" onclick=\"quickchart('df-797089cf-336e-4744-a722-88e69dbc2cbd')\"\n",
              "            title=\"Suggest charts\"\n",
              "            style=\"display:none;\">\n",
              "\n",
              "<svg xmlns=\"http://www.w3.org/2000/svg\" height=\"24px\"viewBox=\"0 0 24 24\"\n",
              "     width=\"24px\">\n",
              "    <g>\n",
              "        <path d=\"M19 3H5c-1.1 0-2 .9-2 2v14c0 1.1.9 2 2 2h14c1.1 0 2-.9 2-2V5c0-1.1-.9-2-2-2zM9 17H7v-7h2v7zm4 0h-2V7h2v10zm4 0h-2v-4h2v4z\"/>\n",
              "    </g>\n",
              "</svg>\n",
              "  </button>\n",
              "\n",
              "<style>\n",
              "  .colab-df-quickchart {\n",
              "      --bg-color: #E8F0FE;\n",
              "      --fill-color: #1967D2;\n",
              "      --hover-bg-color: #E2EBFA;\n",
              "      --hover-fill-color: #174EA6;\n",
              "      --disabled-fill-color: #AAA;\n",
              "      --disabled-bg-color: #DDD;\n",
              "  }\n",
              "\n",
              "  [theme=dark] .colab-df-quickchart {\n",
              "      --bg-color: #3B4455;\n",
              "      --fill-color: #D2E3FC;\n",
              "      --hover-bg-color: #434B5C;\n",
              "      --hover-fill-color: #FFFFFF;\n",
              "      --disabled-bg-color: #3B4455;\n",
              "      --disabled-fill-color: #666;\n",
              "  }\n",
              "\n",
              "  .colab-df-quickchart {\n",
              "    background-color: var(--bg-color);\n",
              "    border: none;\n",
              "    border-radius: 50%;\n",
              "    cursor: pointer;\n",
              "    display: none;\n",
              "    fill: var(--fill-color);\n",
              "    height: 32px;\n",
              "    padding: 0;\n",
              "    width: 32px;\n",
              "  }\n",
              "\n",
              "  .colab-df-quickchart:hover {\n",
              "    background-color: var(--hover-bg-color);\n",
              "    box-shadow: 0 1px 2px rgba(60, 64, 67, 0.3), 0 1px 3px 1px rgba(60, 64, 67, 0.15);\n",
              "    fill: var(--button-hover-fill-color);\n",
              "  }\n",
              "\n",
              "  .colab-df-quickchart-complete:disabled,\n",
              "  .colab-df-quickchart-complete:disabled:hover {\n",
              "    background-color: var(--disabled-bg-color);\n",
              "    fill: var(--disabled-fill-color);\n",
              "    box-shadow: none;\n",
              "  }\n",
              "\n",
              "  .colab-df-spinner {\n",
              "    border: 2px solid var(--fill-color);\n",
              "    border-color: transparent;\n",
              "    border-bottom-color: var(--fill-color);\n",
              "    animation:\n",
              "      spin 1s steps(1) infinite;\n",
              "  }\n",
              "\n",
              "  @keyframes spin {\n",
              "    0% {\n",
              "      border-color: transparent;\n",
              "      border-bottom-color: var(--fill-color);\n",
              "      border-left-color: var(--fill-color);\n",
              "    }\n",
              "    20% {\n",
              "      border-color: transparent;\n",
              "      border-left-color: var(--fill-color);\n",
              "      border-top-color: var(--fill-color);\n",
              "    }\n",
              "    30% {\n",
              "      border-color: transparent;\n",
              "      border-left-color: var(--fill-color);\n",
              "      border-top-color: var(--fill-color);\n",
              "      border-right-color: var(--fill-color);\n",
              "    }\n",
              "    40% {\n",
              "      border-color: transparent;\n",
              "      border-right-color: var(--fill-color);\n",
              "      border-top-color: var(--fill-color);\n",
              "    }\n",
              "    60% {\n",
              "      border-color: transparent;\n",
              "      border-right-color: var(--fill-color);\n",
              "    }\n",
              "    80% {\n",
              "      border-color: transparent;\n",
              "      border-right-color: var(--fill-color);\n",
              "      border-bottom-color: var(--fill-color);\n",
              "    }\n",
              "    90% {\n",
              "      border-color: transparent;\n",
              "      border-bottom-color: var(--fill-color);\n",
              "    }\n",
              "  }\n",
              "</style>\n",
              "\n",
              "  <script>\n",
              "    async function quickchart(key) {\n",
              "      const quickchartButtonEl =\n",
              "        document.querySelector('#' + key + ' button');\n",
              "      quickchartButtonEl.disabled = true;  // To prevent multiple clicks.\n",
              "      quickchartButtonEl.classList.add('colab-df-spinner');\n",
              "      try {\n",
              "        const charts = await google.colab.kernel.invokeFunction(\n",
              "            'suggestCharts', [key], {});\n",
              "      } catch (error) {\n",
              "        console.error('Error during call to suggestCharts:', error);\n",
              "      }\n",
              "      quickchartButtonEl.classList.remove('colab-df-spinner');\n",
              "      quickchartButtonEl.classList.add('colab-df-quickchart-complete');\n",
              "    }\n",
              "    (() => {\n",
              "      let quickchartButtonEl =\n",
              "        document.querySelector('#df-797089cf-336e-4744-a722-88e69dbc2cbd button');\n",
              "      quickchartButtonEl.style.display =\n",
              "        google.colab.kernel.accessAllowed ? 'block' : 'none';\n",
              "    })();\n",
              "  </script>\n",
              "</div>\n",
              "\n",
              "    </div>\n",
              "  </div>\n"
            ],
            "application/vnd.google.colaboratory.intrinsic+json": {
              "type": "dataframe",
              "variable_name": "df",
              "summary": "{\n  \"name\": \"df\",\n  \"rows\": 25541,\n  \"fields\": [\n    {\n      \"column\": \"text\",\n      \"properties\": {\n        \"dtype\": \"string\",\n        \"num_unique_values\": 25541,\n        \"samples\": [\n          \"https://example.com/resource/\\u0645\\u0646 \\u0634\\u0639\\u0631: \\u0650\\u0647\\u0627\\u0631\\u0648\\u0646\\u064b \\u0652\\u0647\\u0651\\u0627\\u064b\\u0634\\u0645 \\u064b\\u0631\\u0650\\u0634\\u064a\\u062f\\u064b\\u0623\\u062c\\u0644\\u064e \\u0625\\u0652\\u0646\\u064a\\u0651 \\u0651\\u0645\\u064b\\u0646\\u064f \\u0650\\u0627\\u0650\\u0644\\u064d\\u0642\\u062f\\u064b\\u0633\\u0648\\u0641\\u064a\\u0647\\u0627\\u064c \\u0651\\u0642\\u0651\\u062f\\u0652 \\u0646\\u0645\\u0627 \\u0650\\u063a\\u0650\\u0631\\u064f\\u0633\\u064a\\u0651\\u062c\\u0630\\u064e\\u0648\\u0631\\u064a\\u0652 \\u064c\\u0641\\u064a\\u064f \\u0652\\u0639\\u064f\\u0631\\u0650\\u0648\\u0652\\u0642 \\u064b\\u0627\\u064c\\u0644\\u0635\\u062e\\u0631\\u064f\\u0641\\u0651\\u064a\\u064d \\u0627\\u0644\\u0635\\u0651\\u0644\\u064f\\u062f\\u060c \\u064e\\u0648\\u064d\\u0641\\u064a \\u064e\\u0627\\u064f\\u0644\\u0652\\u0645\\u0644\\u0633\\u064c\\u0648\\u064f\\u0645\\u0652\\u0646 \\u0643\\u0646\\u064b\\u0639\\u0627\\u0646 \\u0628\\u064a\\u064d \\u0646\\u0628\\u0650\\u0636\\u0648\\u0645\\u0646\\u064d \\u0639\\u0650\\u062f\\u0646\\u0627\\u0646\\u0650\\u060c \\u0650\\u0645\\u064f\\u0646\\u0651 \\u064d\\u0642\\u064d\\u064a\\u064e\\u0633\\u0651\\u0645\\u0646 \\u0627\\u064c\\u0644\\u064f\\u0645\\u064f\\u0627\\u0652\\u0636\\u064b\\u064a\\u0651\\u060c \\u0645\\u0646\\u064e \\u0627\\u0644\\u062d\\u0627\\u0636\\u0631\\u064c\\u0645\\u064e\\u0646 \\u064a\\u0648\\u064c\\u0645\\u064a\\u060c \\u0648\\u0645\\u0646 \\u064d\\u0623\\u064d\\u0645\\u064f\\u0633\\u0651\\u064a\\u0639\\u0631\\u064a\\u0642 \\u0627\\u0650\\u0644\\u0650\\u0645\\u0650\\u062c\\u064b\\u062f \\u064f\\u0648\\u0627\\u0644\\u0650\\u0623\\u0646\\u0633\\u0627\\u064c\\u0628\\u064e\\u0645\\u0634\\u062f\\u0648\\u064d\\u062f\\u064b \\u0625\\u064e\\u0644\\u064f\\u0649\\u064f \\u0650\\u0627\\u0644\\u0634\\u0645\\u0633\\u064f\\u0628\\u064d\\u0647\\u064c\\u0627 \\u064b\\u0623\\u062e\\u062a\\u064e\\u0627\\u064c\\u0644\\u064e \\u064d\\u0641\\u064c\\u064a\\u064f \\u0627\\u0644\\u0650\\u062f\\u0646\\u064b\\u064a\\u0627\\u064c\\u0648\\u064e\\u0623\\u064c\\u0645\\u0650\\u0634\\u064a \\u0651\\u0631\\u0627\\u064f\\u0641\\u0639 \\u0627\\u0644\\u0652\\u0631\\u0651\\u0623\\u064b\\u0633\\u0623\\u0646\\u0627\\u0650 \\u0623\\u0639\\u0637\\u064a\\u064f\\u062a\\u064f\\u0647\\u0652\\u0627 \\u0650\\u0639\\u064f\\u0645\\u0631\\u064e\\u064a\\u0641\\u062f\\u064f\\u0627\\u064b\\u064b\\u064d\\u060c \\u0623\\u0633\\u0643\\u064b\\u0646\\u0651\\u062a\\u0647\\u0627 \\u062d\\u0633\\u0652\\u064a\\u0651\\u0623\\u0646\\u064f\\u0627\\u0650 \\u064f\\u063a\\u064e\\u0646\\u064a\\u062a\\u0647\\u0627 \\u0634\\u0639\\u064b\\u0631\\u0627\\u064b\\u064b\\u0631\\u064b\\u0641\\u064a\\u064b\\u0639\\u064b \\u064e\\u0627\\u0644\\u0648\\u064e\\u0642\\u0639\\u064d \\u0648\\u0652\\u0627\\u0644\\u062c\\u0631\\u064b\\u0633\\u064e\\u0623\\u064c\\u0646\\u0627\\u064f \\u0645\\u0646\\u064e\\u0647\\u0651\\u0627\\u0652 \\u0648\\u0650\\u0625\\u064c\\u0646\\u064b \\u0651\\u063a\\u0631\\u0642\\u064c\\u062a\\u0628\\u0628\\u0652\\u062d\\u064c\\u0631 \\u0652\\u0627\\u0651\\u0644\\u064f\\u0647\\u064b\\u0645\\u0651 \\u064e\\u0648\\u064f\\u0627\\u0644\\u0628\\u0650\\u0624\\u0650\\u0633\\u064b\\u0623\\u064c\\u0646\\u0627\\u064f \\u064f\\u0645\\u064c\\u0646\\u0647\\u064f\\u0627 \\u0648\\u0650\\u0625\\u0646\\u064c \\u062d\\u0651\\u0637\\u0651\\u062a\\u064e\\u0639\\u0644\\u064a\\u0647\\u0627 \\u0631\\u0627\\u0651\\u064a\\u0629\\u0652 \\u0651\\u0627\\u0650\\u0644\\u0651\\u0628\\u064b\\u0624\\u064d\\u0633\",\n          \"https://example.com/resource/\\u0627\\u064e\\u0646\\u0637\\u0644\\u0642\\u062a\\u064b \\u0652\\u0623\\u064d\\u0645\\u0633\\u064c \\u0639\\u0645\\u0644\\u0650\\u064a\\u0627\\u062a \\u0627\\u0644\\u0652\\u062a\\u064e\\u0635\\u0648\\u0651\\u064a\\u062a \\u0641\\u064a\\u064d \\u064f\\u0627\\u064d\\u0644\\u0627\\u0633\\u062a\\u0652\\u0641\\u0650\\u062a\\u0627\\u0621 \\u064d\\u0627\\u064d\\u0644\\u0625\\u064d\\u062f\\u0627\\u0651\\u0631\\u064a\\u0650 \\u062d\\u0651\\u0648\\u0644 \\u064d\\u0648\\u0636\\u064b\\u0639\\u064a\\u0629 \\u0625\\u0642\\u0644\\u064a\\u0645 \\u062f\\u0627\\u0631\\u0641\\u0648\\u064c\\u0631 \\u064f\\u0627\\u0644\\u064c\\u0645\\u064e\\u0636\\u0651\\u0637\\u0631\\u064d\\u0628\\u064f \\u0651\\u0641\\u064e\\u064a\\u0650 \\u063a\\u0631\\u0628\\u064b\\u064a\\u064b \\u0627\\u064b\\u0644\\u0633\\u0651\\u0648\\u064d\\u062f\\u0627\\u0651\\u0646\\u060c\\u064c \\u0639\\u064f\\u0644\\u0651\\u0649 \\u0627\\u064f\\u0644\\u064b\\u0631\\u063a\\u0651\\u0645 \\u064f\\u0645\\u0646 \\u0627\\u0646\\u062a\\u0642\\u0652\\u0627\\u064d\\u062f\\u0627\\u062a \\u0627\\u0644\\u0651\\u0623\\u0633\\u0631\\u064b\\u0629\\u0652 \\u064e\\u0627\\u064f\\u0644\\u062f\\u0648\\u0644\\u064d\\u064a\\u0629\\u0652 \\u0651\\u0648\\u0645\\u064e\\u0642\\u0627\\u0637\\u064e\\u0639\\u0652\\u0629 \\u0627\\u064f\\u0644\\u0645\\u064d\\u0639\\u0627\\u064d\\u0631\\u0636\\u064c\\u0629.\\u064e\\u0648\\u064c\\u0628\\u0652\\u062f\\u0623\\u064c\\u062a\\u0651 \\u064d\\u0639\\u0652\\u0645\\u0644\\u064a\\u0627\\u062a\\u0650 \\u0627\\u0651\\u0644\\u062a\\u0652\\u0635\\u064f\\u0648\\u064b\\u064a\\u062a \\u0651\\u0639\\u0650\\u0646\\u0652\\u062f\\u064f \\u0627\\u064e\\u0644\\u064f\\u0633\\u064c\\u0627\\u064f\\u0639\\u064c\\u0629 \\u0627\\u0644\\u062a\\u0627\\u0652\\u0633\\u0639\\u0629\\u064b \\u0635\\u064e\\u0628\\u0627\\u062d\\u064c \\u0623\\u0645\\u0651\\u0633\\u0651\\u060c\\u0652 \\u0651\\u0645\\u064d\\u0633\\u0652\\u062a\\u064e\\u0645\\u064b\\u0631\\u064e\\u0629\\u0650 \\u0644\\u0643\\u064f\\u0646\\u064b \\u0628\\u0648\\u062a\\u064e\\u064a\\u0631\\u0652\\u0629 \\u0650\\u0628\\u064f\\u0637\\u064c\\u064a\\u0626\\u0629 \\u0650\\u0641\\u064c\\u064a\\u064b \\u0650\\u0645\\u0652\\u0631\\u0627\\u064d\\u0643\\u064b\\u0632 \\u0627\\u0644\\u0651\\u062a\\u0635\\u0648\\u064a\\u062a\\u064f \\u0627\\u064e\\u0644\\u064b\\u062a\\u064b\\u064a \\u064a\\u062d\\u0651\\u0631\\u0633\\u0647\\u064f\\u0627\\u064b \\u0651\\u0639\\u064f\\u0646\\u0650\\u0627\\u0635\\u0631 \\u0651\\u0634\\u0631\\u0637\\u064b\\u0629\\u064d \\u0648\\u0639\\u0644\\u064c\\u0642\\u062a \\u064b\\u0639\\u0651\\u0644\\u064a\\u0647\\u0627 \\u0652\\u0644\\u0627\\u0641\\u064e\\u062a\\u0627\\u062a \\u064c\\u062a\\u062f\\u0639\\u0648\\u0651 \\u064d\\u0625\\u064f\\u0644\\u064c\\u0649 \\u0627\\u0644\\u0627\\u0651\\u0642\\u062a\\u064e\\u0631\\u0651\\u0627\\u0650\\u0639\\u064c \\u064c\\u0628\\u0643\\u062b\\u064e\\u0627\\u064d\\u0641\\u0651\\u0629.\\u064f\\u0648\\u0650\\u0641\\u064a \\u0645\\u0652\\u0631\\u064d\\u0627\\u0643\\u0632 \\u0627\\u064b\\u0644\\u0650\\u062a\\u0635\\u0648\\u064a\\u064b\\u062a\\u0652 \\u0644\\u0645\\u064e \\u064d\\u064a\\u0623\\u064c\\u062a\\u064f \\u0633\\u0648\\u064f\\u0649 \\u064c\\u0639\\u062f\\u0651\\u062f \\u0650\\u0642\\u0644\\u064d\\u064a\\u0650\\u0644\\u064b \\u0645\\u0646 \\u0627\\u0644\\u0646\\u0627\\u062e\\u064d\\u0628\\u064a\\u064d\\u0646\\u0651 \\u0644\\u064f\\u0644\\u064e\\u062a\\u0635\\u0648\\u0651\\u064a\\u062a\\u0651.\\u064b\\u0645\\u0646\\u064f \\u0651\\u062c\\u0647\\u064c\\u062a\\u0652\\u0647\\u064e \\u0650\\u062f\\u0652\\u0639\\u0627 \\u0623\\u064e\\u062d\\u0645\\u0652\\u062f\\u064c \\u064c\\u0628\\u0650\\u0646 \\u064d\\u0645\\u0650\\u062d\\u064b\\u0645\\u064b\\u062f \\u0627\\u0644\\u062c\\u0631\\u0648\\u064e\\u0627\\u0646\\u0650 \\u064b\\u0631\\u0626\\u064a\\u0633\\u064f \\u0627\\u064e\\u0644\\u0628\\u0650\\u0631\\u0650\\u0644\\u064d\\u0645\\u064d\\u0627\\u0646 \\u0627\\u0652\\u0644\\u0639\\u0631\\u0652\\u0628\\u064a\\u0652 \\u064b\\u0627\\u064d\\u0644\\u064e\\u0634\\u064b\\u0639\\u064e\\u0628 \\u0627\\u0644\\u0633\\u0648\\u062f\\u0650\\u0627\\u0646\\u064a\\u064b \\u064e\\u0628\\u0643\\u064e\\u0644 \\u0645\\u064d\\u0643\\u064f\\u0648\\u0646\\u0650\\u0627\\u064b\\u062a\\u0647 \\u064c\\u0625\\u0650\\u0644\\u0652\\u0649\\u064d \\u064b\\u0623\\u0646\\u064d \\u064a\\u064b\\u0638\\u0644\\u064b \\u0648\\u062d\\u062f\\u0629 \\u0650\\u0648\\u0652\\u0627\\u062d\\u064e\\u062f\\u0629. \\u0651(\\u064c\\u0648\\u0650\\u0643\\u0627\\u0644\\u0650\\u0627\\u0652\\u062a\\u064e)\\u0650\",\n          \"https://example.com/resource/\\u062f\\u064e\\u0628\\u064a \\\"\\u0627\\u0644\\u062e\\u0644\\u064f\\u064a\\u062c\\\"\\u064b:\\u0650\\u0634\\u0647\\u062f\\u064e \\u0633\\u064c\\u0648\\u064d\\u0642 \\u064c\\u062f\\u0628\\u064a\\u064b \\u0650\\u0627\\u064d\\u0644\\u0645\\u0627\\u0650\\u0644\\u064c\\u064a \\u0650\\u062a\\u064e\\u062f\\u0627\\u0648\\u064f\\u0644\\u0627\\u064e\\u062a \\u0628\\u0642\\u064f\\u064a\\u064c\\u0645\\u0652\\u0629\\u064f 42\\u064c0\\u064e \\u064c.1\\u0650 \\u0650\\u0645\\u064b\\u0644\\u064a\\u0627\\u0652\\u0631 \\u062f\\u064c\\u0631\\u0647\\u0645\\u064e \\u0628\\u062a\\u0652\\u0646\\u0650\\u0641\\u0652\\u064a\\u0630 9\\u060c\\u064f2\\u064b2\\u064d8\\u064b \\u0651\\u0635\\u0641\\u0642\\u0629 \\u062a\\u0648\\u0632\\u0639\\u062a\\u064b \\u0639\\u0644\\u0652\\u0649\\u0651 38\\u064b0 .\\u06518\\u064d0\\u06502 \\u064f\\u0645\\u0644\\u064a\\u064e\\u0648\\u0650\\u0646\\u064e \\u0633\\u064e\\u0647\\u064f\\u0645\\u060c \\u0650\\u0648\\u0652\\u0623\\u064d\\u063a\\u064f\\u0644\\u064c\\u0642\\u0650 \\u0627\\u064c\\u0644\\u0645\\u0624\\u0634\\u064e\\u0631 \\u064e\\u0639\\u0652\\u0644\\u064c\\u0649\\u0650 \\u064d8\\u06514\\u064c0 \\u0652.\\u064e3\\u060c\\u064f77\\u064d2\\u0652 \\u064e\\u0646\\u0642\\u064e\\u0637\\u0650\\u0629 \\u0628\\u0650\\u0625\\u0651\\u0631\\u062a\\u0641\\u0627\\u064e\\u0639\\u0650 \\u0648\\u0642\\u062f\\u064f\\u0631\\u0647 41\\u064e0\\u0652 \\u0651.18\\u064c \\u064e\\u0646\\u0651\\u0642\\u0637\\u0651\\u0629\\u0650 \\u0639\\u064b\\u0646\\u064d \\u0625\\u0652\\u063a\\u064c\\u0644\\u0627\\u064d\\u0642\\u0647 \\u0627\\u0650\\u0644\\u064b\\u0633\\u064c\\u0627\\u0628\\u0651\\u0642\\u064d .\\u0648\\u064d\\u0645\\u0652\\u0646 \\u0623\\u0643\\u062b\\u0631\\u0650 \\u064f\\u0627\\u064b\\u0644\\u064d\\u0634\\u0631\\u0643\\u0627\\u064d\\u062a\\u064b \\u0627\\u0651\\u0631\\u064c\\u062a\\u064e\\u0641\\u0650\\u0627\\u0639\\u0627\\u0650\\u064b \\u064b\\u0645\\u0651\\u0646\\u0651 \\u064e\\u062d\\u064a\\u064d\\u062b\\u0650 \\u0652\\u0627\\u064d\\u0644\\u062a\\u064d\\u063a\\u064c\\u064a\\u064d\\u0631 \\u064c\\u0641\\u064e\\u064a\\u064b \\u0652\\u0623\\u0633\\u0651\\u0639\\u0650\\u0627\\u064e\\u0631\\u0647\\u064f\\u0627: \\u0627\\u062c\\u064f\\u064a\\u064f\\u0644\\u064a\\u062a\\u064a \\u0628\\u0625\\u0652\\u063a\\u064f\\u0644\\u0627\\u0651\\u0642 30\\u06520 .1\\u06520\\u0651 \\u0651\\u062f\\u064e\\u0631\\u0650\\u0647\\u0645\\u064e \\u0650\\u0628\\u0646\\u064c\\u0633\\u0650\\u0628\\u0629\\u064b \\u064c\\u062a\\u063a\\u064a\\u0631\\u064f \\u0628\\u064f\\u0644\\u063a\\u062a 4\\u06522\\u064b0\\u064c .8\\u064e%\\u060c \\u064f\\u0627\\u0644\\u0652\\u0627\\u062a\\u062d\\u0627\\u062f \\u0627\\u0651\\u0644\\u0639\\u064c\\u0642\\u0627\\u0631\\u064c\\u064a\\u064e\\u0629 \\u064f\\u0628\\u0625\\u063a\\u064c\\u0644\\u064e\\u0627\\u064f\\u0642\\u064c \\u064f5\\u064b9\\u064b0\\u064b .\\u064d1\\u064e \\u062f\\u0650\\u0631\\u064f\\u0647\\u0645\\u0652 \\u0628\\u0646\\u0633\\u0628\\u064f\\u0629\\u0651 \\u0651\\u062a\\u064c\\u063a\\u0652\\u064a\\u064e\\u0631\\u064d \\u064d\\u0628\\u0644\\u063a\\u062a 2\\u064e5\\u064b0\\u064f \\u0650.3\\u064f%\\u060c\\u0650 \\u0634\\u064e\\u0631\\u0643\\u0629\\u0651 \\u0652\\u0633\\u0651\\u0648\\u0651\\u0642\\u064e \\u064d\\u062f\\u0628\\u064c\\u064a \\u0627\\u0651\\u0644\\u064c\\u0645\\u0627\\u0650\\u0644\\u0650\\u064a \\u0652\\u0628\\u064d\\u0625\\u063a\\u0650\\u0644\\u064e\\u0627\\u064c\\u0642\\u064c \\u064e5\\u065170 .\\u06512 \\u064b\\u062f\\u064f\\u0631\\u0647\\u064e\\u0645\\u064c \\u0628\\u0652\\u0646\\u0633\\u0652\\u0628\\u0650\\u0629 \\u062a\\u063a\\u064c\\u064a\\u0631 \\u0628\\u0644\\u064b\\u063a\\u0652\\u062a \\u064c2\\u064e1\\u064c0 \\u064b.\\u064d3\\u0652%\\u060c \\u062f\\u064c\\u064a\\u064d\\u0627\\u0631\\u0652 \\u0644\\u064d\\u0644\\u0652\\u062a\\u0651\\u0637\\u064c\\u0648\\u064e\\u064a\\u0631 \\u0628\\u0650\\u0625\\u064c\\u063a\\u0644\\u0627\\u064f\\u0642\\u064c 2\\u064e90 \\u0652.\\u064b1 \\u0651\\u062f\\u0651\\u0631\\u064b\\u0647\\u0645 \\u0628\\u0650\\u0646\\u0633\\u064c\\u0628\\u064b\\u0629\\u064e \\u062a\\u0651\\u063a\\u064a\\u0631 \\u064b\\u0628\\u064e\\u0644\\u063a\\u062a\\u064d \\u064e3\\u064e8\\u06510\\u064c .2%\\u060c\\u064b \\u0634\\u064d\\u0631\\u0643\\u0629 \\u0623\\u0650\\u0631\\u064d\\u0627\\u064e\\u0628\\u064f\\u062a\\u064b\\u0643\\u064f \\u0627\\u0644\\u0642\\u0651\\u0627\\u0628\\u064e\\u0636\\u0652\\u0629 \\u0651\\u0628\\u0625\\u063a\\u064f\\u0644\\u0627\\u0642\\u064c 500 .4 \\u0650\\u062f\\u0651\\u0631\\u0647\\u0645 \\u064c\\u0628\\u064e\\u0646\\u0633\\u064f\\u0628\\u0629 \\u062a\\u0652\\u063a\\u064b\\u064a\\u0631\\u064f \\u0651\\u0628\\u0644\\u064d\\u063a\\u064c\\u062a 2\\u064f7\\u06500\\u064b \\u0650.\\u06522% \\u064b.\\u064c\\u0648\\u0643\\u0627\\u064e\\u0646\\u064e\\u062a\\u064f \\u0623\\u0650\\u0643\\u062b\\u0651\\u0631 \\u064b\\u0627\\u0652\\u0644\\u0634\\u064b\\u0631\\u0643\\u0627\\u064c\\u062a \\u064b\\u0627\\u0652\\u0646\\u062e\\u0641\\u0627\\u0636\\u064f\\u0627\\u064b \\u064c\\u0641\\u0652\\u064a \\u0623\\u0651\\u0633\\u064c\\u0639\\u0627\\u064d\\u0631\\u064b\\u0647\\u0627\\u064d \\u0645\\u064e\\u062c\\u0650\\u0645\\u064f\\u0648\\u064e\\u0639\\u0652\\u0629 \\u0627\\u0644\\u0635\\u064b\\u0646\\u0651\\u0627\\u0639\\u0650\\u0627\\u064f\\u062a\\u0650 \\u064d\\u0627\\u0644\\u064d\\u0648\\u0637\\u064c\\u0646\\u064b\\u064a\\u0629\\u064d \\u0652\\u0627\\u0644\\u0642\\u064f\\u0627\\u0652\\u0628\\u0636\\u064c\\u0629 \\u0651\\u0628\\u0652\\u0625\\u0651\\u063a\\u064e\\u0644\\u0627\\u0642\\u064b \\u06522\\u064d7\\u06500\\u0650 \\u0651.4 \\u062f\\u0650\\u0631\\u064b\\u0647\\u0645\\u0651 \\u0651\\u0628\\u0646\\u0633\\u0628\\u0629 \\u062a\\u064b\\u063a\\u064c\\u064a\\u064b\\u0631 \\u0628\\u064b\\u0644\\u0650\\u063a\\u062a\\u064d 9\\u064d2\\u064b0\\u064c \\u064f.9\\u064e%\\u060c\\u0650 \\u064d\\u0628\\u0651\\u0646\\u0643\\u0650 \\u064e\\u0627\\u064d\\u0644\\u064d\\u0645\\u0634\\u0652\\u0631\\u0651\\u0642\\u064c \\u0628\\u064e\\u0625\\u063a\\u0644\\u064c\\u0627\\u064f\\u0642 50\\u064b0\\u0650 .\\u065291 \\u064e\\u062f\\u0631\\u0650\\u0647\\u0645 \\u064c\\u0628\\u0646\\u0633\\u064d\\u0628\\u064f\\u0629 \\u064f\\u062a\\u064b\\u063a\\u064a\\u064f\\u0631 \\u0628\\u0644\\u0651\\u063a\\u062a 040 .8%\\u060c\\u064b \\u064f\\u062f\\u0650\\u0627\\u0631\\u064f \\u064b\\u0627\\u064b\\u0644\\u062a\\u0643\\u0627\\u0641\\u0651\\u0644 \\u0628\\u0625\\u0652\\u063a\\u064b\\u0644\\u0627\\u064c\\u0642\\u0650 \\u06511\\u064c4\\u064c0\\u064d \\u0650.1 \\u0652\\u062f\\u064c\\u0631\\u0650\\u0647\\u064d\\u0645 \\u0650\\u0628\\u0650\\u0646\\u0651\\u0633\\u0628\\u0629\\u0650 \\u064e\\u062a\\u063a\\u064a\\u0651\\u0631\\u064c \\u0628\\u064c\\u0644\\u063a\\u062a\\u0652 \\u065056\\u06500 .\\u06502% .\\u0648\\u064e\\u0641\\u064b\\u064a\\u0645\\u0627\\u064f \\u064a\\u064f\\u062a\\u0639\\u064c\\u0644\\u0650\\u0642 \\u0628\\u0627\\u0644\\u0634\\u064d\\u0631\\u0643\\u0627\\u062a \\u0627\\u064b\\u0644\\u064b\\u0623\\u064f\\u0643\\u064c\\u062b\\u064f\\u0631 \\u0646\\u0634\\u0627\\u0637\\u0651\\u0627\\u0651\\u064b\\u064d \\u0645\\u0646\\u064e \\u0651\\u062d\\u064a\\u064f\\u062b \\u0642\\u064a\\u064b\\u0645\\u064c\\u0629\\u064c \\u064d\\u0627\\u0644\\u062a\\u0652\\u062f\\u0627\\u064b\\u0648\\u064f\\u0644 \\u064d\\u0641\\u0642\\u062f \\u064b\\u062d\\u064b\\u0642\\u064c\\u0642\\u062a\\u064b\\u0627\\u0644\\u064c\\u0627\\u064f\\u062a\\u064b\\u062d\\u0627\\u062f \\u0650\\u0627\\u0650\\u0644\\u0639\\u064e\\u0642\\u0627\\u0651\\u0631\\u064a\\u0629 \\u062a\\u062f\\u0627\\u0648\\u0644\\u0650\\u0627\\u062a \\u0650\\u0628\\u0642\\u064a\\u0645\\u064f\\u0629 14\\u06500\\u0651 \\u064e.\\u064d287\\u064c\\u060c\\u064b2\\u064e4\\u06501\\u0652\\u060c7\\u064c6\\u064e2\\u064c \\u062f\\u0652\\u0631\\u064e\\u0647\\u0650\\u0645\\u060c\\u0652 \\u0634\\u064f\\u0631\\u064e\\u0643\\u064e\\u0629 \\u0651\\u0623\\u0631\\u0627\\u0628\\u062a\\u0643 \\u0627\\u0644\\u0642\\u0627\\u0652\\u0628\\u0636\\u0651\\u0629\\u064d \\u062a\\u062f\\u0627\\u0650\\u0648\\u064e\\u0644\\u0627\\u062a\\u064c \\u064b\\u0628\\u0642\\u064b\\u064a\\u0645\\u0629 6\\u06522\\u064e0\\u0650 .2\\u06504\\u06528\\u060c\\u0652103\\u064b\\u060c\\u065296\\u06529\\u0652 \\u0651\\u062f\\u064d\\u0631\\u0647\\u064e\\u0645\\u060c\\u064d \\u064c\\u0628\\u064a\\u064e\\u062a\\u064f \\u0627\\u0644\\u062a\\u0645\\u0650\\u0648\\u064f\\u064a\\u0650\\u0644\\u064c \\u0650\\u0627\\u0644\\u062e\\u0644\\u064e\\u064a\\u062c\\u064a \\u064b\\u062a\\u0652\\u062f\\u0650\\u0627\\u0648\\u0644\\u0627\\u064f\\u062a\\u0652 \\u0628\\u0642\\u064a\\u0645\\u064b\\u0629\\u064c 4\\u064d40 .\\u06512\\u064d01\\u060c\\u064b6\\u064f25\\u064e\\u060c\\u064d9\\u064c01\\u0652 \\u0652\\u062f\\u064d\\u0631\\u064e\\u0647\\u0645\\u064d\\u060c\\u064c \\u0625\\u064d\\u0639\\u0645\\u0627\\u0631\\u0650 \\u0652\\u0627\\u0650\\u0644\\u064c\\u0639\\u0642\\u0627\\u0631\\u0651\\u064a\\u0629 \\u0652\\u062a\\u064f\\u062f\\u0627\\u0648\\u064d\\u0644\\u0627\\u062a\\u064b \\u0628\\u064d\\u0642\\u064a\\u0645\\u0629\\u0650 760 .1\\u064e36\\u064b\\u060c\\u065164\\u064c4\\u064b\\u060c9\\u064e2\\u064f3\\u064c \\u062f\\u0631\\u0647\\u064f\\u0645 \\u064c.\\u0623\\u0650\\u0645\\u0627 \\u0628\\u0627\\u0652\\u0644\\u0652\\u0646\\u0633\\u0628\\u0629 \\u0644\\u0644\\u0634\\u0652\\u0631\\u0643\\u0627\\u062a\\u0652 \\u0627\\u0644\\u0652\\u0623\\u064e\\u0643\\u062b\\u0631 \\u0646\\u0634\\u064f\\u0627\\u064c\\u0637\\u0651\\u0627\\u064f\\u064b\\u064e \\u064d\\u062d\\u0633\\u064e\\u0628\\u064e \\u062d\\u062c\\u0645 \\u064b\\u0627\\u0651\\u0644\\u064d\\u062a\\u062f\\u064e\\u0627\\u0648\\u0644\\u0651 \\u0641\\u0642\\u064b\\u062f\\u064c \\u0650\\u062a\\u0652\\u0645 \\u064e\\u062a\\u064c\\u062f\\u064e\\u0627\\u0648\\u0644 \\u065024\\u064e6\\u064c\\u060c6\\u064c15\\u060c3\\u06524\\u064f3\\u0651 \\u064f\\u0633\\u0647\\u0650\\u0645\\u0650\\u0627\\u064b\\u064e \\u0650\\u0645\\u0651\\u0646\\u0651 \\u0651\\u0628\\u064a\\u064e\\u062a\\u064c \\u064e\\u0627\\u0644\\u064e\\u062a\\u064f\\u0645\\u0648\\u064a\\u0644 \\u064e\\u0627\\u064d\\u0644\\u062e\\u0644\\u064e\\u064a\\u064c\\u062c\\u064a\\u064b\\u060c\\u0650 1\\u064f8\\u064e1\\u060c\\u065092\\u06515\\u064b\\u060c\\u064c27\\u064d5 \\u0633\\u0652\\u0647\\u064e\\u0645\\u064f\\u0627\\u064b\\u0650 \\u0645\\u064f\\u0646 \\u064c\\u0627\\u0644\\u0650\\u0627\\u062a\\u064f\\u062d\\u0627\\u062f\\u0651 \\u064e\\u0627\\u0644\\u064b\\u0639\\u0642\\u0627\\u0631\\u064a\\u0629\\u060c\\u064f 6\\u064f5\\u0650\\u060c\\u06523\\u064b70\\u060c967 \\u0633\\u0652\\u0647\\u0650\\u0645\\u0627\\u064b\\u064e \\u064d\\u0645\\u0650\\u0646 \\u064b\\u062f\\u0651\\u064a\\u064e\\u0627\\u064f\\u0631\\u0650 \\u0652\\u0644\\u0644\\u064f\\u062a\\u0637\\u0648\\u064a\\u0631\\u060c\\u064d \\u065156\\u064b\\u060c\\u0651005\\u060c\\u065239\\u06515\\u064b \\u064c\\u0633\\u064e\\u0647\\u064d\\u0645\\u064f\\u0627\\u064b\\u064f \\u0652\\u0645\\u0651\\u0646 \\u0634\\u0631\\u0643\\u0629\\u0650 \\u0623\\u0631\\u064d\\u0627\\u0628\\u064f\\u062a\\u0643\\u064f \\u064b\\u0627\\u0650\\u0644\\u0642\\u0651\\u0627\\u0628\\u064d\\u0636\\u0629\\u064d \\u064f.\\u0648\\u064f\\u0628\\u064c\\u0644\\u063a\\u064e \\u064b\\u0645\\u0624\\u0634\\u0631 \\u0642\\u0637\\u0627\\u064c\\u0639 \\u0627\\u0644\\u0651\\u0628\\u0646\\u064c\\u0648\\u0643 \\u064e260\\u064d \\u064f.\\u064b2\\u060c\\u064c1\\u06503\\u064b8 \\u0646\\u0642\\u0652\\u0637\\u0629\\u064b \\u0650\\u0628\\u0652\\u062a\\u064f\\u062f\\u0627\\u0648\\u0644 27\\u064e8\\u064c\\u060c\\u06510\\u064e8\\u06503\\u060c71\\u06519\\u0651 \\u064d\\u0633\\u064b\\u0647\\u064b\\u0645 \\u064d\\u0628\\u0642\\u0651\\u064a\\u0645\\u064c\\u0629\\u0652 \\u065181\\u064b0\\u064b .307\\u064d\\u060c\\u064c965\\u060c590 \\u062f\\u0652\\u0631\\u0652\\u0647\\u064c\\u0645\\u060c \\u0650\\u0648\\u064d\\u0645\\u064b\\u0624\\u064b\\u0634\\u0631 \\u0650\\u0642\\u0651\\u0637\\u0627\\u0650\\u0639 \\u0627\\u064b\\u0644\\u064c\\u0627\\u0633\\u062a\\u0651\\u062b\\u064f\\u0645\\u064f\\u0627\\u064d\\u0631 \\u064d\\u0648\\u064d\\u0627\\u0652\\u0644\\u064b\\u062e\\u062f\\u0645\\u0627\\u0652\\u062a \\u0651\\u0627\\u0644\\u064f\\u0645\\u0627\\u0650\\u0644\\u064c\\u064a\\u0650\\u0629\\u064f \\u064d67\\u06500\\u064d .\\u06504\\u060c\\u064b5\\u064f51 \\u0651\\u0646\\u0642\\u064e\\u0637\\u064d\\u0629 \\u0628\\u0652\\u062a\\u0652\\u062f\\u0627\\u064c\\u0648\\u0650\\u0644\\u064b 8\\u064e9\\u060c4\\u06504\\u064d2\\u0651\\u060c9\\u06529\\u06500\\u064d \\u064f\\u0633\\u064d\\u0647\\u064b\\u0645\\u064d \\u064f\\u0628\\u064b\\u0642\\u064a\\u0645\\u0629\\u0652 950\\u064b .\\u065121\\u06507\\u0650\\u060c\\u064c07\\u06512\\u0650\\u060c2\\u06525\\u06521\\u0651 \\u064f\\u062f\\u0631\\u064d\\u0647\\u0645\\u060c\\u064c \\u0648\\u0645\\u0624\\u0634\\u0631\\u064c \\u0650\\u0642\\u0637\\u064d\\u0627\\u0639\\u064d \\u0627\\u064e\\u0644\\u062a\\u064e\\u0623\\u0645\\u0652\\u064a\\u0646\\u0651 3\\u064d90\\u0650 \\u064b.\\u064f2\\u060c\\u065164\\u064c1 \\u0651\\u0646\\u0642\\u0651\\u0637\\u064f\\u0629\\u064d \\u0628\\u0650\\u062a\\u062f\\u064b\\u0627\\u0648\\u064f\\u0644\\u0651 \\u065121\\u064b\\u060c3\\u064f0\\u064b8\\u060c\\u06504\\u064d09\\u064d \\u064d\\u0633\\u0652\\u0647\\u0645 \\u0628\\u064e\\u0642\\u064e\\u064a\\u0645\\u0629 \\u06502\\u064f4\\u064f0 \\u064e.23\\u060c818\\u064e\\u060c9\\u065243 \\u064e\\u062f\\u0631\\u064b\\u0647\\u0645\\u064d\\u060c \\u064e\\u0648\\u0645\\u064c\\u0624\\u0634\\u064c\\u0631 \\u064f\\u0642\\u0637\\u064c\\u0627\\u0652\\u0639 \\u064c\\u0627\\u0644\\u0639\\u0642\\u064e\\u0627\\u0651\\u0631\\u0627\\u0652\\u062a \\u064d\\u0648\\u0627\\u0652\\u0644\\u064e\\u0625\\u0646\\u0652\\u0634\\u0627\\u0651\\u0621\\u064d\\u0627\\u0651\\u062a\\u064b \\u0650\\u0627\\u0652\\u0644\\u064d\\u0647\\u0650\\u0646\\u064f\\u062f\\u0633\\u064a\\u0629 7\\u064e20\\u064c .8\\u064c\\u060c4\\u064b7\\u06513\\u064d \\u0646\\u0642\\u0637\\u0629\\u064c \\u0650\\u0628\\u0652\\u062a\\u062f\\u064d\\u0627\\u064e\\u0648\\u0652\\u0644 \\u064e3\\u06505\\u064f2\\u064c\\u060c\\u0650979\\u064c\\u060c03\\u064c5\\u064c \\u064c\\u0633\\u0647\\u064d\\u0645 \\u0628\\u064c\\u0642\\u064a\\u064f\\u0645\\u064f\\u0629\\u064f 1\\u064c00 .\\u064e805\\u064f\\u060c3\\u065203\\u060c\\u064d844 \\u062f\\u064b\\u0631\\u064f\\u0647\\u064f\\u0645\\u060c \\u0648\\u0645\\u0651\\u0624\\u0634\\u0631\\u0652 \\u0642\\u0637\\u0652\\u0627\\u0639 \\u0627\\u0644\\u062e\\u062f\\u0645\\u0627\\u064f\\u062a\\u0651 7\\u064b3\\u064b0\\u0652 \\u064e.8\\u064c27\\u064d \\u0646\\u064e\\u0642\\u0637\\u064f\\u0629 \\u064d\\u0628\\u062a\\u0652\\u062f\\u0651\\u0627\\u064d\\u0648\\u0651\\u0644 6\\u064c\\u060c\\u064e1\\u064e4\\u064e0\\u060c5\\u064c08\\u0650 \\u0633\\u0647\\u0645\\u064c \\u0628\\u0642\\u064d\\u064a\\u0645\\u0629 0\\u06527\\u064e0\\u064d \\u064d.13\\u060c\\u064c9\\u064e6\\u06522\\u060c3\\u064d35 \\u064e\\u062f\\u0650\\u0631\\u064f\\u0647\\u0645\\u064d\\u060c \\u0648\\u064c\\u0645\\u064e\\u0624\\u0634\\u064c\\u0631\\u064f \\u064b\\u0642\\u0651\\u0637\\u064c\\u0627\\u064d\\u0639\\u0650 \\u0627\\u0644\\u064e\\u0646\\u064f\\u0642\\u064f\\u0644 \\u06515\\u064e90\\u064b .79\\u06506\\u0652 \\u0650\\u0646\\u064e\\u0642\\u0637\\u0629 \\u064c\\u0628\\u062a\\u064e\\u062f\\u0627\\u0648\\u0644\\u064d 50\\u064b\\u060c343\\u060c487\\u064f \\u0633\\u0652\\u0647\\u0645\\u064f \\u0628\\u064f\\u0642\\u064a\\u0645\\u0629\\u064c 92\\u064c0 .47\\u064b\\u060c\\u064c69\\u06520\\u060c\\u06520\\u064c7\\u06520 \\u062f\\u064c\\u0631\\u0651\\u0647\\u0645\\u0650 \\u0651.\\u0650\"\n        ],\n        \"semantic_type\": \"\",\n        \"description\": \"\"\n      }\n    },\n    {\n      \"column\": \"label\",\n      \"properties\": {\n        \"dtype\": \"category\",\n        \"num_unique_values\": 7,\n        \"samples\": [\n          \"Culture\",\n          \"Finance\",\n          \"Sports\"\n        ],\n        \"semantic_type\": \"\",\n        \"description\": \"\"\n      }\n    },\n    {\n      \"column\": \"text_length\",\n      \"properties\": {\n        \"dtype\": \"number\",\n        \"std\": 70,\n        \"min\": 20,\n        \"max\": 300,\n        \"num_unique_values\": 281,\n        \"samples\": [\n          142,\n          160,\n          282\n        ],\n        \"semantic_type\": \"\",\n        \"description\": \"\"\n      }\n    },\n    {\n      \"column\": \"clean_text\",\n      \"properties\": {\n        \"dtype\": \"string\",\n        \"num_unique_values\": 25532,\n        \"samples\": [\n          \"\\u0633\\u0648\\u0642 \\u0621\\u0628\\u0648\\u0638\\u0628\\u064a \\u0644\\u0644\\u0621\\u0648\\u0631\\u0627\\u0642 \\u0627\\u0644\\u0645\\u0627\\u0644\\u064a\\u0629 \\u0627\\u0646\\u062e\\u0641\\u0627\\u0636 \\u0628\\u0646\\u0633\\u0628\\u0629 014 \\u0648\\u0648\\u0635\\u0644 \\u0627\\u0644\\u0645\\u0621\\u0634\\u0631 \\u0627\\u0644\\u0639\\u0627\\u0645 \\u0644\\u0644\\u0633\\u0648\\u0642 \\u0644\\u0645\\u0633\\u062a\\u0648\\u0649 499078 \\u0646\\u0642\\u0637\\u0629 \\u0648\\u0643\\u0627\\u0646 \\u0642\\u0637\\u0627\\u0639\\u0627 \\u0627\\u0644\\u0634\\u0631\\u0643\\u0627\\u062a \\u0627\\u0644\\u0635\\u0646\\u0627\\u0639\\u064a\\u0629 \\u0648\\u0627\\u0644\\u0635\\u062d\\u0629 \\u0627\\u0644\\u0621\\u0643\\u062b\\u0631 \\u062a\\u0631\\u0627\\u062c\\u0639\\u0627 \\u0648\\u0628\\u0646\\u0633\\u0628\\u0629 595 \\u0648518 \\u0644\\u0643\\u0644 \\u0645\\u0646\\u0647\\u0645\\u0627 \\u0627\\u0644\\u062a\\u0648\\u0627\\u0644\\u064a \\u0648\\u062a\\u0645 \\u062a\\u062f\\u0627\\u0648\\u0644 190 \\u0645\\u0644\\u064a\\u0648\\u0646 \\u0633\\u0647\\u0645 \\u0646\\u0641\\u0630\\u062a \\u062e\\u0644\\u0627\\u0644 3744 \\u0635\\u0641\\u0642\\u0629 \\u0628\\u0642\\u064a\\u0645\\u0629 1094 \\u0645\\u0644\\u064a\\u0627\\u0631 \\u0648\\u062a\\u0631\\u0643\\u0632 \\u0627\\u0644\\u062a\\u062f\\u0627\\u0648\\u0644 \\u0633\\u0647\\u0645 \\u0627\\u0631\\u0643\\u0627\\u0646 \\u0628\\u0642\\u064a\\u0645\\u0629 3337 \\u0645\\u0644\\u064a\\u0648\\u0646 \\u0648\\u0627\\u0631\\u062a\\u0641\\u0639 \\u0633\\u0639\\u0631\\u0647 \\u0628\\u0645\\u0642\\u062f\\u0627\\u0631 3 \\u0641\\u0644\\u0648\\u0633 \\u062d\\u0648\\u0627\\u0644\\u064a 063 \\u0648\\u0627\\u063a\\u0644\\u0642 476 \\u062a\\u0644\\u0627\\u0647 \\u0633\\u0647\\u0645 \\u0627\\u0644\\u062f\\u0627\\u0631 \\u0627\\u0644\\u0639\\u0642\\u0627\\u0631\\u064a\\u0629 \\u0628\\u062a\\u062f\\u0627\\u0648\\u0644 \\u0628\\u0642\\u064a\\u0645\\u0629 3129 \\u0645\\u0644\\u064a\\u0648\\u0646 \\u0648\\u062d\\u0642\\u0642 \\u0627\\u0644\\u0633\\u0647\\u0645 \\u0645\\u0643\\u0627\\u0633\\u0628 \\u0633\\u0639\\u0631\\u064a\\u0629 \\u0645\\u0642\\u062f\\u0627\\u0631\\u0647\\u0627 15 \\u0641\\u0644\\u0633\\u0627 \\u062d\\u0648\\u0627\\u0644\\u064a 130 \\u0648\\u0627\\u063a\\u0644\\u0642 117 \\u062a\\u0645 \\u062a\\u062f\\u0627\\u0648\\u0644 \\u0642\\u064a\\u0645\\u062a\\u0647 621 \\u0645\\u0644\\u064a\\u0648\\u0646 \\u0633\\u0647\\u0645 \\u0635\\u0631\\u0648\\u062d \\u0627\\u0644\\u0639\\u0642\\u0627\\u0631\\u064a\\u0629 \\u062a\\u0631\\u0627\\u062c\\u0639 \\u0628\\u0645\\u0642\\u062f\\u0627\\u0631 3 \\u0641\\u0644\\u0648\\u0633 \\u062d\\u0648\\u0627\\u0644\\u064a 041 \\u0648\\u0621\\u063a\\u0644\\u0642 961 \\u0648\\u062a\\u0635\\u062f\\u0631\\u062a \\u0642\\u0627\\u0621\\u0645\\u0629 \\u0627\\u0644\\u0621\\u0633\\u0647\\u0645 \\u0627\\u0644\\u0627\\u0643\\u062b\\u0631 \\u0627\\u0631\\u062a\\u0641\\u0627\\u0639\\u0627 \\u0627\\u0633\\u0639\\u0627\\u0631\\u0647\\u0627 \\u0627\\u0644\\u0633\\u0648\\u0642 \\u0627\\u0633\\u0645\\u0646\\u062a \\u0627\\u0644\\u0641\\u062c\\u064a\\u0631\\u0629 \\u0628\\u0646\\u0633\\u0628\\u0629 994 \\u0648\\u0627\\u0644\\u0627\\u062a\\u062d\\u0627\\u062f \\u0644\\u0644\\u062a\\u0621\\u0645\\u064a\\u0646 \\u0628\\u0646\\u0633\\u0628\\u0629 968 \\u0648\\u0631\\u0621\\u0633 \\u0627\\u0644\\u062e\\u064a\\u0645\\u0629 \\u0644\\u0644\\u062f\\u0648\\u0627\\u062c\\u0646 \\u0648\\u0627\\u0644\\u0639\\u0644\\u0641 \\u0628\\u0646\\u0633\\u0628\\u0629 853 \\u0648\\u062a\\u0635\\u062f\\u0631\\u062a \\u0642\\u0627\\u0621\\u0645\\u0629 \\u0627\\u0644\\u0627\\u0633\\u0647\\u0645 \\u0627\\u0644\\u0621\\u0643\\u062b\\u0631 \\u0627\\u0646\\u062e\\u0641\\u0627\\u0636\\u0627 \\u0627\\u0633\\u0639\\u0627\\u0631\\u0647\\u0627 \\u0627\\u0644\\u0633\\u0648\\u0642 \\u0627\\u0644\\u062c\\u0631\\u0627\\u0641\\u0627\\u062a \\u0627\\u0644\\u0628\\u062d\\u0631\\u064a\\u0629 \\u0627\\u0644\\u0648\\u0637\\u0646\\u064a\\u0629 \\u0628\\u0646\\u0633\\u0628\\u0629 956 \\u0648\\u0627\\u0644\\u062e\\u0644\\u064a\\u062c \\u0644\\u0644\\u0645\\u0634\\u0627\\u0631\\u064a\\u0639 \\u0627\\u0644\\u0637\\u0628\\u064a\\u0629 \\u0628\\u0646\\u0633\\u0628\\u0629 74 \\u0648\\u0627\\u0628\\u0648\\u0638\\u0628\\u064a \\u0644\\u0644\\u0637\\u064a\\u0631\\u0627\\u0646 \\u0628\\u0646\\u0633\\u0628\\u0629 535\",\n          \"\\u0628\\u064a\\u062a \\u0627\\u0644\\u0634\\u0639\\u0631 \\u0627\\u0644\\u0634\\u0627\\u0631\\u0642\\u0629 \\u0621\\u0645\\u0633\\u064a\\u0629 \\u064a\\u0634\\u0627\\u0631\\u0643 \\u0627\\u0644\\u0634\\u0627\\u0639\\u0631\\u0627\\u0646 \\u062e\\u0627\\u0644\\u062f \\u0628\\u0648 \\u0633\\u0644\\u0637\\u0627\\u0646 \\u0648\\u062d\\u0645\\u0627\\u062f\\u0647 \\u0639\\u0628\\u062f\\u0627\\u0644\\u0644\\u0637\\u064a\\u0641 \\u064a\\u0642\\u062f\\u0645 \\u0627\\u0644\\u0621\\u0645\\u0633\\u064a\\u0629 \\u0627\\u0644\\u0634\\u0627\\u0639\\u0631 \\u0646\\u0635\\u0631 \\u0628\\u062f\\u0648\\u0627\\u0646 \\u0648\\u0630\\u0644\\u0643 \\u0627\\u0644\\u0633\\u0627\\u0639\\u0629 \\u0627\\u0644\\u0633\\u0627\\u0628\\u0639\\u0629 \\u0648\\u0627\\u0644\\u0646\\u0635\\u0641 \\u0627\\u0644\\u064a\\u0648\\u0645 \\u0645\\u0642\\u0631 \\u0628\\u064a\\u062a \\u0627\\u0644\\u0634\\u0639\\u0631 \\u0627\\u0644\\u0634\\u0627\\u0631\\u0642\\u0629 \\u0627\\u0644\\u0642\\u062f\\u064a\\u0645\\u0629\",\n          \"\\u0627\\u0644\\u062e\\u0644\\u064a\\u062c \\u0621\\u0639\\u0644\\u0646 \\u0645\\u0633\\u062a\\u0634\\u0641\\u0649 \\u0643\\u0644\\u064a\\u0641\\u0644\\u0627\\u0646\\u062f \\u0643\\u0644\\u064a\\u0646\\u0643 \\u0621\\u0628\\u0648\\u0638\\u0628\\u064a \\u0627\\u0644\\u0645\\u0633\\u062a\\u0634\\u0641\\u0649 \\u0627\\u0644\\u0639\\u0627\\u0644\\u0645\\u064a \\u0645\\u062a\\u0639\\u062f\\u062f \\u0627\\u0644\\u062a\\u062e\\u0635\\u0635\\u0627\\u062a \\u0627\\u0644\\u0645\\u062a\\u062e\\u0635\\u0635 \\u0627\\u0644\\u0631\\u0639\\u0627\\u064a\\u0629 \\u0627\\u0644\\u062d\\u0631\\u062c\\u0629 \\u0648\\u0627\\u0644\\u0645\\u0644\\u062d\\u0629 \\u062a\\u0645 \\u0627\\u0641\\u062a\\u062a\\u0627\\u062d\\u0647 \\u062d\\u062f\\u064a\\u062b\\u0627 \\u062c\\u0632\\u064a\\u0631\\u0629 \\u0627\\u0644\\u0645\\u0627\\u0631\\u064a\\u0629 \\u0648\\u064a\\u0639\\u062a\\u0628\\u0631 \\u0645\\u0631\\u0627\\u0641\\u0642 \\u0627\\u0644\\u0631\\u0639\\u0627\\u064a\\u0629 \\u0627\\u0644\\u0635\\u062d\\u064a\\u0629 \\u0639\\u0627\\u0644\\u0645\\u064a\\u0629 \\u0627\\u0644\\u0645\\u0633\\u062a\\u0648\\u0649 \\u0627\\u0644\\u062a\\u0627\\u0628\\u0639\\u0629 \\u0644\\u0634\\u0631\\u0643\\u0629 \\u0627\\u0644\\u0645\\u0628\\u0627\\u062f\\u0644\\u0629 \\u0644\\u0644\\u062a\\u0646\\u0645\\u064a\\u0629 \\u0645\\u0628\\u0627\\u062f\\u0644\\u0629 \\u062a\\u0631\\u0642\\u064a\\u0629 \\u0627\\u0644\\u062f\\u0643\\u062a\\u0648\\u0631 \\u062a\\u0648\\u0645\\u064a\\u0633\\u0644\\u0627\\u0641 \\u0645\\u064a\\u0647\\u0627\\u0644\\u064a\\u0641\\u062a\\u0634 \\u0644\\u064a\\u062a\\u0642\\u0644\\u062f \\u0645\\u0646\\u0635\\u0628 \\u0627\\u0644\\u0631\\u0621\\u064a\\u0633 \\u0627\\u0644\\u062a\\u0646\\u0641\\u064a\\u0630\\u064a \\u0627\\u0644\\u062c\\u062f\\u064a\\u062f \\u0644\\u0644\\u0645\\u0633\\u062a\\u0634\\u0641\\u0649 \\u0634\\u063a\\u0644 \\u0645\\u0646\\u0635\\u0628 \\u0631\\u0621\\u064a\\u0633 \\u0627\\u0644\\u0621\\u0637\\u0628\\u0627\\u0621 \\u0627\\u0644\\u0645\\u0633\\u062a\\u0634\\u0641\\u0649 \\u0648\\u064a\\u0621\\u062a\\u064a \\u0627\\u0644\\u062f\\u0643\\u062a\\u0648\\u0631 \\u0645\\u064a\\u0647\\u0627\\u0644\\u064a\\u0641\\u062a\\u0634 \\u062e\\u0644\\u0641\\u0627 \\u0644\\u0644\\u062f\\u0643\\u062a\\u0648\\u0631 \\u0645\\u0627\\u0631\\u0643 \\u0647\\u0627\\u0631\\u064a\\u0633\\u0648\\u0646 \\u0634\\u063a\\u0644 \\u0645\\u0646\\u0635\\u0628 \\u0627\\u0644\\u0631\\u0621\\u064a\\u0633 \\u0627\\u0644\\u062a\\u0646\\u0641\\u064a\\u0630\\u064a \\u0644\\u0645\\u0633\\u062a\\u0634\\u0641\\u0649 \\u0643\\u0644\\u064a\\u0641\\u0644\\u0627\\u0646\\u062f \\u0643\\u0644\\u064a\\u0646\\u0643 \\u0621\\u0628\\u0648\\u0638\\u0628\\u064a \\u062e\\u0644\\u0627\\u0644 \\u0627\\u0644\\u0621\\u0639\\u0648\\u0627\\u0645 \\u0627\\u0644\\u062e\\u0645\\u0633\\u0629 \\u0627\\u0644\\u0645\\u0627\\u0636\\u064a\\u0629 \\u0648\\u0641\\u064a \\u0627\\u0644\\u0645\\u0646\\u0627\\u0633\\u0628\\u0629 \\u0621\\u0641\\u0627\\u062f \\u0648\\u0644\\u064a\\u062f \\u0627\\u0644\\u0645\\u0642\\u0631\\u0628 \\u0627\\u0644\\u0645\\u0647\\u064a\\u0631\\u064a \\u0631\\u0621\\u064a\\u0633 \\u0645\\u062c\\u0644\\u0633 \\u0621\\u062f\\u0627\\u0631\\u0629 \\u0645\\u0633\\u062a\\u0634\\u0641\\u0649 \\u0643\\u0644\\u064a\\u0641\\u0644\\u0627\\u0646\\u062f \\u0643\\u0644\\u064a\\u0646\\u0643 \\u0621\\u0628\\u0648\\u0638\\u0628\\u064a \\u0648\\u0646\\u0627\\u0621\\u0628 \\u0627\\u0644\\u0631\\u0621\\u064a\\u0633 \\u0627\\u0644\\u062a\\u0646\\u0641\\u064a\\u0630\\u064a \\u0644\\u0644\\u0645\\u062c\\u0645\\u0648\\u0639\\u0629 \\u0634\\u0631\\u0643\\u0629 \\u0627\\u0644\\u0645\\u0628\\u0627\\u062f\\u0644\\u0629 \\u0644\\u0644\\u062a\\u0646\\u0645\\u064a\\u0629 \\u0645\\u0628\\u0627\\u062f\\u0644\\u0629 \\u0648\\u0627\\u0644\\u0631\\u0621\\u064a\\u0633 \\u0627\\u0644\\u062a\\u0646\\u0641\\u064a\\u0630\\u064a \\u0644\\u0644\\u0642\\u0637\\u0627\\u0639\\u0627\\u062a \\u0627\\u0644\\u0646\\u0627\\u0634\\u0621\\u0629 \\u064a\\u0633\\u0639\\u062f\\u0646\\u0627 \\u0645\\u0633\\u062a\\u0634\\u0641\\u0649 \\u0643\\u0644\\u064a\\u0641\\u0644\\u0627\\u0646\\u062f \\u0643\\u0644\\u064a\\u0646\\u0643 \\u0621\\u0628\\u0648\\u0638\\u0628\\u064a \\u062a\\u0631\\u0642\\u064a\\u0629 \\u0627\\u0644\\u062f\\u0643\\u062a\\u0648\\u0631 \\u0645\\u064a\\u0647\\u0627\\u0644\\u064a\\u0641\\u062a\\u0634 \\u0645\\u0646\\u0635\\u0628 \\u0627\\u0644\\u0631\\u0621\\u064a\\u0633 \\u0627\\u0644\\u062a\\u0646\\u0641\\u064a\\u0630\\u064a \\u0634\\u0643 \\u0621\\u0646\\u0647 \\u0633\\u064a\\u0643\\u0631\\u0633 \\u062e\\u0628\\u0631\\u062a\\u0647 \\u0627\\u0644\\u0645\\u062a\\u0645\\u064a\\u0632\\u0629 \\u0644\\u0621\\u0646\\u062c\\u0627\\u0632 \\u0645\\u0647\\u0627\\u0645\\u0647 \\u0627\\u0644\\u062c\\u062f\\u064a\\u062f\\u0629\"\n        ],\n        \"semantic_type\": \"\",\n        \"description\": \"\"\n      }\n    }\n  ]\n}"
            }
          },
          "metadata": {},
          "execution_count": 34
        }
      ]
    },
    {
      "cell_type": "code",
      "source": [
        "df['label'].unique()"
      ],
      "metadata": {
        "colab": {
          "base_uri": "https://localhost:8080/"
        },
        "id": "mlGT4ssbm_ee",
        "outputId": "87b3e6ce-b2b1-4f32-db47-5a4739d37a57"
      },
      "execution_count": 35,
      "outputs": [
        {
          "output_type": "execute_result",
          "data": {
            "text/plain": [
              "array(['Culture', 'Finance', 'Medical', 'Politics', 'Religion', 'Sports',\n",
              "       'Tech'], dtype=object)"
            ]
          },
          "metadata": {},
          "execution_count": 35
        }
      ]
    },
    {
      "cell_type": "code",
      "source": [
        "train_data, test_data, train_labels, test_labels = train_test_split(\n",
        "    padded_sequences,\n",
        "    encoded_labels,\n",
        "    test_size=0.2,\n",
        "    random_state=42\n",
        ")\n"
      ],
      "metadata": {
        "id": "Retxe71BmSft"
      },
      "execution_count": 36,
      "outputs": []
    },
    {
      "cell_type": "code",
      "source": [
        "print(\"Shape of train_data:\", train_data.shape)\n",
        "print(\"Shape of train_labels:\", train_labels.shape)\n",
        "print(\"Shape of test_data:\", test_data.shape)\n",
        "print(\"Shape of test_labels:\", test_labels.shape)"
      ],
      "metadata": {
        "colab": {
          "base_uri": "https://localhost:8080/"
        },
        "id": "3_6gultQnGdD",
        "outputId": "ba4f722f-4648-489d-bf2d-e75452c19b05"
      },
      "execution_count": 37,
      "outputs": [
        {
          "output_type": "stream",
          "name": "stdout",
          "text": [
            "Shape of train_data: (20432, 300)\n",
            "Shape of train_labels: (20432,)\n",
            "Shape of test_data: (5109, 300)\n",
            "Shape of test_labels: (5109,)\n"
          ]
        }
      ]
    },
    {
      "cell_type": "markdown",
      "metadata": {
        "id": "qd5Ek4NLTgVN"
      },
      "source": [
        "# Building the Classifier"
      ]
    },
    {
      "cell_type": "markdown",
      "metadata": {
        "id": "HpLEoTaITEGx"
      },
      "source": [
        "In this step, you will design and build a NLP Classifier model to classify text data. Below is a breakdown of the key components you'll implement, but it's up to you to decide how to configure them based on your understanding and experimentation:\n",
        "\n",
        "1. **Model Type**:\n",
        "   You will use a Sequential model, which allows you to stack layers in a linear sequence.\n",
        "\n",
        "2. **Input Layer**:\n",
        "   Define the shape of the input data. Consider the dimensions of your padded sequences and set the input shape accordingly.\n",
        "\n",
        "3. **Embedding Layer**:\n",
        "   The embedding layer will convert input tokens (integers) into dense vector representations. You will need to determine the size of the input dimension (based on your vocabulary) and the output dimension (embedding size).\n",
        "\n",
        "4. **Bidirectional Simple RNN/LSTM Layers**:\n",
        "   You can add one or more recurrent layers. Consider using Bidirectional layers to capture contextual information from both directions (forward and backward). You can chose SimpleRNN/GRU/LSTM to perform this step.\n",
        "\n",
        "5. **Dense Layers**:\n",
        "   Add one or more fully connected (Dense) layers to process the output from the RNN/GRU/LSTM layers.\n",
        "\n",
        "6. **Output Layer**:\n",
        "   The output layer should match the type of classification task you're working on. Consider using appropriate activation function with appropriate number of units.\n",
        "\n",
        "7. **Model Summary**:\n",
        "   After defining your model architecture, print a summary to review the number of layers, types of layers, and total parameters.\n",
        "\n",
        "8. **Model Compilation**:\n",
        "   Finally, compile the model by selecting an optimizer, a loss function, and metrics."
      ]
    },
    {
      "cell_type": "code",
      "execution_count": 38,
      "metadata": {
        "id": "D-EYYIUpfK_F",
        "colab": {
          "base_uri": "https://localhost:8080/",
          "height": 346
        },
        "outputId": "ed09deaa-e3f8-4f26-865c-63f660e77aaf"
      },
      "outputs": [
        {
          "output_type": "stream",
          "name": "stderr",
          "text": [
            "/usr/local/lib/python3.10/dist-packages/keras/src/layers/core/embedding.py:90: UserWarning: Argument `input_length` is deprecated. Just remove it.\n",
            "  warnings.warn(\n"
          ]
        },
        {
          "output_type": "display_data",
          "data": {
            "text/plain": [
              "\u001b[1mModel: \"sequential\"\u001b[0m\n"
            ],
            "text/html": [
              "<pre style=\"white-space:pre;overflow-x:auto;line-height:normal;font-family:Menlo,'DejaVu Sans Mono',consolas,'Courier New',monospace\"><span style=\"font-weight: bold\">Model: \"sequential\"</span>\n",
              "</pre>\n"
            ]
          },
          "metadata": {}
        },
        {
          "output_type": "display_data",
          "data": {
            "text/plain": [
              "┏━━━━━━━━━━━━━━━━━━━━━━━━━━━━━━━━━━━━━━┳━━━━━━━━━━━━━━━━━━━━━━━━━━━━━┳━━━━━━━━━━━━━━━━━┓\n",
              "┃\u001b[1m \u001b[0m\u001b[1mLayer (type)                        \u001b[0m\u001b[1m \u001b[0m┃\u001b[1m \u001b[0m\u001b[1mOutput Shape               \u001b[0m\u001b[1m \u001b[0m┃\u001b[1m \u001b[0m\u001b[1m        Param #\u001b[0m\u001b[1m \u001b[0m┃\n",
              "┡━━━━━━━━━━━━━━━━━━━━━━━━━━━━━━━━━━━━━━╇━━━━━━━━━━━━━━━━━━━━━━━━━━━━━╇━━━━━━━━━━━━━━━━━┩\n",
              "│ embedding (\u001b[38;5;33mEmbedding\u001b[0m)                │ (\u001b[38;5;45mNone\u001b[0m, \u001b[38;5;34m300\u001b[0m, \u001b[38;5;34m128\u001b[0m)            │      \u001b[38;5;34m27,459,456\u001b[0m │\n",
              "├──────────────────────────────────────┼─────────────────────────────┼─────────────────┤\n",
              "│ bidirectional (\u001b[38;5;33mBidirectional\u001b[0m)        │ (\u001b[38;5;45mNone\u001b[0m, \u001b[38;5;34m300\u001b[0m, \u001b[38;5;34m128\u001b[0m)            │          \u001b[38;5;34m24,704\u001b[0m │\n",
              "├──────────────────────────────────────┼─────────────────────────────┼─────────────────┤\n",
              "│ bidirectional_1 (\u001b[38;5;33mBidirectional\u001b[0m)      │ (\u001b[38;5;45mNone\u001b[0m, \u001b[38;5;34m64\u001b[0m)                  │          \u001b[38;5;34m10,304\u001b[0m │\n",
              "├──────────────────────────────────────┼─────────────────────────────┼─────────────────┤\n",
              "│ dense (\u001b[38;5;33mDense\u001b[0m)                        │ (\u001b[38;5;45mNone\u001b[0m, \u001b[38;5;34m64\u001b[0m)                  │           \u001b[38;5;34m4,160\u001b[0m │\n",
              "├──────────────────────────────────────┼─────────────────────────────┼─────────────────┤\n",
              "│ dense_1 (\u001b[38;5;33mDense\u001b[0m)                      │ (\u001b[38;5;45mNone\u001b[0m, \u001b[38;5;34m1\u001b[0m)                   │              \u001b[38;5;34m65\u001b[0m │\n",
              "└──────────────────────────────────────┴─────────────────────────────┴─────────────────┘\n"
            ],
            "text/html": [
              "<pre style=\"white-space:pre;overflow-x:auto;line-height:normal;font-family:Menlo,'DejaVu Sans Mono',consolas,'Courier New',monospace\">┏━━━━━━━━━━━━━━━━━━━━━━━━━━━━━━━━━━━━━━┳━━━━━━━━━━━━━━━━━━━━━━━━━━━━━┳━━━━━━━━━━━━━━━━━┓\n",
              "┃<span style=\"font-weight: bold\"> Layer (type)                         </span>┃<span style=\"font-weight: bold\"> Output Shape                </span>┃<span style=\"font-weight: bold\">         Param # </span>┃\n",
              "┡━━━━━━━━━━━━━━━━━━━━━━━━━━━━━━━━━━━━━━╇━━━━━━━━━━━━━━━━━━━━━━━━━━━━━╇━━━━━━━━━━━━━━━━━┩\n",
              "│ embedding (<span style=\"color: #0087ff; text-decoration-color: #0087ff\">Embedding</span>)                │ (<span style=\"color: #00d7ff; text-decoration-color: #00d7ff\">None</span>, <span style=\"color: #00af00; text-decoration-color: #00af00\">300</span>, <span style=\"color: #00af00; text-decoration-color: #00af00\">128</span>)            │      <span style=\"color: #00af00; text-decoration-color: #00af00\">27,459,456</span> │\n",
              "├──────────────────────────────────────┼─────────────────────────────┼─────────────────┤\n",
              "│ bidirectional (<span style=\"color: #0087ff; text-decoration-color: #0087ff\">Bidirectional</span>)        │ (<span style=\"color: #00d7ff; text-decoration-color: #00d7ff\">None</span>, <span style=\"color: #00af00; text-decoration-color: #00af00\">300</span>, <span style=\"color: #00af00; text-decoration-color: #00af00\">128</span>)            │          <span style=\"color: #00af00; text-decoration-color: #00af00\">24,704</span> │\n",
              "├──────────────────────────────────────┼─────────────────────────────┼─────────────────┤\n",
              "│ bidirectional_1 (<span style=\"color: #0087ff; text-decoration-color: #0087ff\">Bidirectional</span>)      │ (<span style=\"color: #00d7ff; text-decoration-color: #00d7ff\">None</span>, <span style=\"color: #00af00; text-decoration-color: #00af00\">64</span>)                  │          <span style=\"color: #00af00; text-decoration-color: #00af00\">10,304</span> │\n",
              "├──────────────────────────────────────┼─────────────────────────────┼─────────────────┤\n",
              "│ dense (<span style=\"color: #0087ff; text-decoration-color: #0087ff\">Dense</span>)                        │ (<span style=\"color: #00d7ff; text-decoration-color: #00d7ff\">None</span>, <span style=\"color: #00af00; text-decoration-color: #00af00\">64</span>)                  │           <span style=\"color: #00af00; text-decoration-color: #00af00\">4,160</span> │\n",
              "├──────────────────────────────────────┼─────────────────────────────┼─────────────────┤\n",
              "│ dense_1 (<span style=\"color: #0087ff; text-decoration-color: #0087ff\">Dense</span>)                      │ (<span style=\"color: #00d7ff; text-decoration-color: #00d7ff\">None</span>, <span style=\"color: #00af00; text-decoration-color: #00af00\">1</span>)                   │              <span style=\"color: #00af00; text-decoration-color: #00af00\">65</span> │\n",
              "└──────────────────────────────────────┴─────────────────────────────┴─────────────────┘\n",
              "</pre>\n"
            ]
          },
          "metadata": {}
        },
        {
          "output_type": "display_data",
          "data": {
            "text/plain": [
              "\u001b[1m Total params: \u001b[0m\u001b[38;5;34m27,498,689\u001b[0m (104.90 MB)\n"
            ],
            "text/html": [
              "<pre style=\"white-space:pre;overflow-x:auto;line-height:normal;font-family:Menlo,'DejaVu Sans Mono',consolas,'Courier New',monospace\"><span style=\"font-weight: bold\"> Total params: </span><span style=\"color: #00af00; text-decoration-color: #00af00\">27,498,689</span> (104.90 MB)\n",
              "</pre>\n"
            ]
          },
          "metadata": {}
        },
        {
          "output_type": "display_data",
          "data": {
            "text/plain": [
              "\u001b[1m Trainable params: \u001b[0m\u001b[38;5;34m27,498,689\u001b[0m (104.90 MB)\n"
            ],
            "text/html": [
              "<pre style=\"white-space:pre;overflow-x:auto;line-height:normal;font-family:Menlo,'DejaVu Sans Mono',consolas,'Courier New',monospace\"><span style=\"font-weight: bold\"> Trainable params: </span><span style=\"color: #00af00; text-decoration-color: #00af00\">27,498,689</span> (104.90 MB)\n",
              "</pre>\n"
            ]
          },
          "metadata": {}
        },
        {
          "output_type": "display_data",
          "data": {
            "text/plain": [
              "\u001b[1m Non-trainable params: \u001b[0m\u001b[38;5;34m0\u001b[0m (0.00 B)\n"
            ],
            "text/html": [
              "<pre style=\"white-space:pre;overflow-x:auto;line-height:normal;font-family:Menlo,'DejaVu Sans Mono',consolas,'Courier New',monospace\"><span style=\"font-weight: bold\"> Non-trainable params: </span><span style=\"color: #00af00; text-decoration-color: #00af00\">0</span> (0.00 B)\n",
              "</pre>\n"
            ]
          },
          "metadata": {}
        }
      ],
      "source": [
        "model = Sequential([\n",
        "\n",
        "    Input(shape=(max_length,)),\n",
        "\n",
        "\n",
        "    Embedding(input_dim=len(tokenizer.word_index) + 1, output_dim=128, input_length=max_length),\n",
        "\n",
        "    Bidirectional(SimpleRNN(64, return_sequences=True)),\n",
        "\n",
        "\n",
        "    Bidirectional(SimpleRNN(32)),\n",
        "\n",
        "\n",
        "    Dense(64, activation='relu'),\n",
        "\n",
        "\n",
        "    Dense(1, activation='sigmoid')\n",
        "])\n",
        "\n",
        "model.summary()\n",
        "\n",
        "model.compile(optimizer='adam', loss='binary_crossentropy', metrics=['accuracy'])"
      ]
    },
    {
      "cell_type": "markdown",
      "metadata": {
        "id": "57DXwqqQTloy"
      },
      "source": [
        "# Defining Batch Size, Creating Datasets, and Training the Model"
      ]
    },
    {
      "cell_type": "markdown",
      "metadata": {
        "id": "LEOvs_dETmQp"
      },
      "source": [
        "In this step, you will define the batch size, create TensorFlow Datasets for both training and testing, and train the model. The key elements to consider are outlined below, and it is up to you to choose the specific configurations based on your preferences and experimentation:\n",
        "\n",
        "1. **Batch Size**:\n",
        "   Select a batch size for training and testing. The batch size determines how many samples will be processed together in one forward and backward pass during training.\n",
        "\n",
        "2. **Creating Datasets**:\n",
        "   Use TensorFlow’s `Dataset.from_tensor_slices()` to create datasets from the training and testing data.\n",
        "\n",
        "3. **Batching the Datasets**:\n",
        "   Batch the datasets by grouping the data into batches of the specified size.\n",
        "\n",
        "4. **Training the Model**:\n",
        "   Train the model by fitting it on the training dataset for a specified number of epochs. You will also need to provide the validation data to monitor the model’s performance on unseen data during training.\n",
        "\n",
        "5. **Tracking Training History**:\n",
        "   During training, the model’s performance metrics (such as loss and accuracy) will be tracked over the epochs, and the results will be stored in the `history` object."
      ]
    },
    {
      "cell_type": "code",
      "execution_count": 39,
      "metadata": {
        "id": "o6unhJgFfQbM",
        "colab": {
          "base_uri": "https://localhost:8080/"
        },
        "outputId": "0d0edfaa-a2e3-44f4-8073-65e94392810d"
      },
      "outputs": [
        {
          "output_type": "stream",
          "name": "stdout",
          "text": [
            "Epoch 1/5\n",
            "\u001b[1m639/639\u001b[0m \u001b[32m━━━━━━━━━━━━━━━━━━━━\u001b[0m\u001b[37m\u001b[0m \u001b[1m97s\u001b[0m 138ms/step - accuracy: 0.1565 - loss: -475.7635 - val_accuracy: 0.1715 - val_loss: -3878.6392\n",
            "Epoch 2/5\n",
            "\u001b[1m639/639\u001b[0m \u001b[32m━━━━━━━━━━━━━━━━━━━━\u001b[0m\u001b[37m\u001b[0m \u001b[1m136s\u001b[0m 133ms/step - accuracy: 0.1565 - loss: -6253.4175 - val_accuracy: 0.1715 - val_loss: -14439.0469\n",
            "Epoch 3/5\n",
            "\u001b[1m639/639\u001b[0m \u001b[32m━━━━━━━━━━━━━━━━━━━━\u001b[0m\u001b[37m\u001b[0m \u001b[1m141s\u001b[0m 133ms/step - accuracy: 0.1565 - loss: -18629.3125 - val_accuracy: 0.1715 - val_loss: -30521.2910\n",
            "Epoch 4/5\n",
            "\u001b[1m639/639\u001b[0m \u001b[32m━━━━━━━━━━━━━━━━━━━━\u001b[0m\u001b[37m\u001b[0m \u001b[1m84s\u001b[0m 132ms/step - accuracy: 0.1565 - loss: -36457.8672 - val_accuracy: 0.1715 - val_loss: -51280.4062\n",
            "Epoch 5/5\n",
            "\u001b[1m639/639\u001b[0m \u001b[32m━━━━━━━━━━━━━━━━━━━━\u001b[0m\u001b[37m\u001b[0m \u001b[1m86s\u001b[0m 134ms/step - accuracy: 0.1570 - loss: -59058.7734 - val_accuracy: 0.1715 - val_loss: -77290.8203\n"
          ]
        }
      ],
      "source": [
        "batch_size = 32\n",
        "\n",
        "\n",
        "train_dataset = tensorflow.data.Dataset.from_tensor_slices((train_data, train_labels))\n",
        "\n",
        "test_dataset = tensorflow.data.Dataset.from_tensor_slices((test_data, test_labels))\n",
        "\n",
        "\n",
        "train_dataset = train_dataset.batch(batch_size)\n",
        "test_dataset = test_dataset.batch(batch_size)\n",
        "\n",
        "history = model.fit(train_dataset, epochs=5, validation_data=test_dataset)"
      ]
    },
    {
      "cell_type": "markdown",
      "metadata": {
        "id": "XmoJfr3nfP-n"
      },
      "source": [
        "# Model Evaluation"
      ]
    },
    {
      "cell_type": "markdown",
      "metadata": {
        "id": "2Gb8G9XiT-ec"
      },
      "source": [
        "Once the model is trained, the next step is to evaluate its performance on the testing dataset.\n",
        "\n",
        "1. **Evaluate the Model**:\n",
        "   You will use the `evaluate()` method to assess the model’s performance on the test dataset.\n",
        "\n",
        "2. **Testing Dataset**:\n",
        "   Ensure that the testing dataset is properly prepared and batched, just like the training dataset.\n",
        "\n",
        "4. **Loss Curve**:\n",
        "   A loss curve plots the loss values for both the training and validation datasets over the epochs."
      ]
    },
    {
      "cell_type": "code",
      "source": [
        "df['label'].value_counts()  # Balance"
      ],
      "metadata": {
        "colab": {
          "base_uri": "https://localhost:8080/",
          "height": 335
        },
        "id": "8vq7JgLywuKo",
        "outputId": "63c35804-53c4-424a-9463-dc326f2d15ec"
      },
      "execution_count": 52,
      "outputs": [
        {
          "output_type": "execute_result",
          "data": {
            "text/plain": [
              "label\n",
              "Medical     4940\n",
              "Politics    4766\n",
              "Sports      4441\n",
              "Finance     4161\n",
              "Tech        3469\n",
              "Culture     3000\n",
              "Religion     764\n",
              "Name: count, dtype: int64"
            ],
            "text/html": [
              "<div>\n",
              "<style scoped>\n",
              "    .dataframe tbody tr th:only-of-type {\n",
              "        vertical-align: middle;\n",
              "    }\n",
              "\n",
              "    .dataframe tbody tr th {\n",
              "        vertical-align: top;\n",
              "    }\n",
              "\n",
              "    .dataframe thead th {\n",
              "        text-align: right;\n",
              "    }\n",
              "</style>\n",
              "<table border=\"1\" class=\"dataframe\">\n",
              "  <thead>\n",
              "    <tr style=\"text-align: right;\">\n",
              "      <th></th>\n",
              "      <th>count</th>\n",
              "    </tr>\n",
              "    <tr>\n",
              "      <th>label</th>\n",
              "      <th></th>\n",
              "    </tr>\n",
              "  </thead>\n",
              "  <tbody>\n",
              "    <tr>\n",
              "      <th>Medical</th>\n",
              "      <td>4940</td>\n",
              "    </tr>\n",
              "    <tr>\n",
              "      <th>Politics</th>\n",
              "      <td>4766</td>\n",
              "    </tr>\n",
              "    <tr>\n",
              "      <th>Sports</th>\n",
              "      <td>4441</td>\n",
              "    </tr>\n",
              "    <tr>\n",
              "      <th>Finance</th>\n",
              "      <td>4161</td>\n",
              "    </tr>\n",
              "    <tr>\n",
              "      <th>Tech</th>\n",
              "      <td>3469</td>\n",
              "    </tr>\n",
              "    <tr>\n",
              "      <th>Culture</th>\n",
              "      <td>3000</td>\n",
              "    </tr>\n",
              "    <tr>\n",
              "      <th>Religion</th>\n",
              "      <td>764</td>\n",
              "    </tr>\n",
              "  </tbody>\n",
              "</table>\n",
              "</div><br><label><b>dtype:</b> int64</label>"
            ]
          },
          "metadata": {},
          "execution_count": 52
        }
      ]
    },
    {
      "cell_type": "code",
      "execution_count": 43,
      "metadata": {
        "id": "SdECXvQGUQae",
        "colab": {
          "base_uri": "https://localhost:8080/",
          "height": 449
        },
        "outputId": "a91421cd-efcf-47c7-c444-c1af3f8dfc37"
      },
      "outputs": [
        {
          "output_type": "display_data",
          "data": {
            "text/plain": [
              "<Figure size 640x480 with 1 Axes>"
            ],
            "image/png": "[encoded data removed]"
          },
          "metadata": {}
        }
      ],
      "source": [
        "plt.plot(history.history['accuracy'], label='Train Accuracy')\n",
        "plt.plot(history.history['val_accuracy'], label='Val Accuracy')\n",
        "plt.ylabel('Accuracy')\n",
        "plt.xlabel('Epoch')\n",
        "plt.show()\n",
        "\n"
      ]
    },
    {
      "cell_type": "code",
      "source": [
        "\n",
        "plt.plot(history.history['loss'], label='Train Loss')\n",
        "plt.plot(history.history['val_loss'], label='Val Loss')\n",
        "plt.ylabel('Loss')\n",
        "plt.xlabel('Epoch')\n",
        "plt.show()"
      ],
      "metadata": {
        "colab": {
          "base_uri": "https://localhost:8080/",
          "height": 449
        },
        "id": "QMeZJl9Nsf26",
        "outputId": "73988e1b-cb65-4c82-b57e-c19d579e577e"
      },
      "execution_count": 44,
      "outputs": [
        {
          "output_type": "display_data",
          "data": {
            "text/plain": [
              "<Figure size 640x480 with 1 Axes>"
            ],
            "image/png": "[encoded data removed]"
          },
          "metadata": {}
        }
      ]
    },
    {
      "cell_type": "code",
      "source": [],
      "metadata": {
        "id": "47KEJvJTwtWd"
      },
      "execution_count": null,
      "outputs": []
    },
    {
      "cell_type": "code",
      "source": [
        "results = model.evaluate(test_data, test_labels)\n",
        "print(f\"Accuracy: {results[1] * 100:.2f}%\")"
      ],
      "metadata": {
        "colab": {
          "base_uri": "https://localhost:8080/"
        },
        "id": "ceG4-K6YspNS",
        "outputId": "af4a3037-7f02-4ca6-ba49-54e352da2859"
      },
      "execution_count": 45,
      "outputs": [
        {
          "output_type": "stream",
          "name": "stdout",
          "text": [
            "\u001b[1m160/160\u001b[0m \u001b[32m━━━━━━━━━━━━━━━━━━━━\u001b[0m\u001b[37m\u001b[0m \u001b[1m8s\u001b[0m 51ms/step - accuracy: 0.1680 - loss: -79681.1797\n",
            "Accuracy: 17.15%\n"
          ]
        }
      ]
    },
    {
      "cell_type": "markdown",
      "metadata": {
        "id": "ifx5RFxnUQqc"
      },
      "source": [
        "# Model Inference"
      ]
    },
    {
      "cell_type": "markdown",
      "metadata": {
        "id": "sVh0WCBoUSlP"
      },
      "source": [
        "In this step, you will use the trained model to make predictions on new, unseen data (inference). Here’s an outline of the key points:\n",
        "\n",
        "1. **Create Test Sample**:\n",
        "   Create a string to test your modelm the goal here is to give the model Before making predictions, ensure that the new data is preprocessed in the same way as the training data. This includes tokenization, padding, and any other transformations you applied during the data preprocessing step. The data can be single text to see the result of the prediction.\n",
        "\n",
        "2. **Model Prediction**:\n",
        "   Use the `predict()` method to feed new samples into the trained model and obtain predictions. The model will output probabilities or predicted class labels based on the type of classification task (binary or multi-class).\n",
        "\n",
        "3. **Interpreting Predictions**:\n",
        "   The model will return probabilities for each class."
      ]
    },
    {
      "cell_type": "code",
      "source": [
        "df['label'].unique()"
      ],
      "metadata": {
        "colab": {
          "base_uri": "https://localhost:8080/"
        },
        "id": "07bCaPqYuL4r",
        "outputId": "a06b34a6-1742-4545-fa72-2a3cc6f9ea42"
      },
      "execution_count": 48,
      "outputs": [
        {
          "output_type": "execute_result",
          "data": {
            "text/plain": [
              "array(['Culture', 'Finance', 'Medical', 'Politics', 'Religion', 'Sports',\n",
              "       'Tech'], dtype=object)"
            ]
          },
          "metadata": {},
          "execution_count": 48
        }
      ]
    },
    {
      "cell_type": "code",
      "source": [
        "sample_text = [\"انهار سوق الاسهم فس عام 2006 وخسر الكثير مالهم\"]\n",
        "sample_sequence = tokenizer.texts_to_sequences([clean_text(sample_text[0])])\n",
        "padded_sample_sequence = pad_sequences(sample_sequence, maxlen=max_length, padding='post')\n",
        "\n",
        "predicted_label = model.predict(padded_sample_sequence)\n",
        "\n",
        "print(\"Predicted label:\", label_encoder.inverse_transform([predicted_label.argmax()]))\n"
      ],
      "metadata": {
        "colab": {
          "base_uri": "https://localhost:8080/"
        },
        "id": "KxZLVKsfuVio",
        "outputId": "c4f40816-74fa-45c6-bfaa-4c827a1a29a4"
      },
      "execution_count": 49,
      "outputs": [
        {
          "output_type": "stream",
          "name": "stdout",
          "text": [
            "\u001b[1m1/1\u001b[0m \u001b[32m━━━━━━━━━━━━━━━━━━━━\u001b[0m\u001b[37m\u001b[0m \u001b[1m0s\u001b[0m 24ms/step\n",
            "Predicted label: ['Culture']\n"
          ]
        }
      ]
    },
    {
      "cell_type": "code",
      "source": [
        "sample_text = [\"فريق الاتحاد السعودي حقق دوري ابطال اسيا مرتين متتاليتين\"]\n",
        "\n",
        "\n",
        "sample_sequence = tokenizer.texts_to_sequences([clean_text(sample_text[0])])\n",
        "padded_sample_sequence = pad_sequences(sample_sequence, maxlen=max_length, padding='post')\n",
        "\n",
        "predicted_label = model.predict(padded_sample_sequence)\n",
        "\n",
        "print(\"Predicted label:\", label_encoder.inverse_transform([predicted_label.argmax()]))\n",
        "\n"
      ],
      "metadata": {
        "colab": {
          "base_uri": "https://localhost:8080/"
        },
        "id": "wY4PWMsNtwhk",
        "outputId": "2234f3f8-7bec-4d46-dc66-ea1d60118c86"
      },
      "execution_count": 47,
      "outputs": [
        {
          "output_type": "stream",
          "name": "stdout",
          "text": [
            "\u001b[1m1/1\u001b[0m \u001b[32m━━━━━━━━━━━━━━━━━━━━\u001b[0m\u001b[37m\u001b[0m \u001b[1m1s\u001b[0m 1s/step\n",
            "Predicted label: ['Culture']\n"
          ]
        }
      ]
    },
    {
      "cell_type": "code",
      "execution_count": 50,
      "metadata": {
        "id": "2XiahrhffR0J",
        "colab": {
          "base_uri": "https://localhost:8080/"
        },
        "outputId": "2c1a0881-4374-4332-c621-fe57c076fa3e"
      },
      "outputs": [
        {
          "output_type": "stream",
          "name": "stdout",
          "text": [
            "\u001b[1m1/1\u001b[0m \u001b[32m━━━━━━━━━━━━━━━━━━━━\u001b[0m\u001b[37m\u001b[0m \u001b[1m0s\u001b[0m 26ms/step\n",
            "Predicted label: ['Culture']\n"
          ]
        }
      ],
      "source": [
        "sample_text = [\"عند الاحساس في بعض التعب او الالم يجب زيارة المستشفى وسوال الطبيب وعمل الكشوفات الطبيه اللازمه\"]\n",
        "\n",
        "\n",
        "sample_sequence = tokenizer.texts_to_sequences([clean_text(sample_text[0])])\n",
        "padded_sample_sequence = pad_sequences(sample_sequence, maxlen=max_length, padding='post')\n",
        "\n",
        "predicted_label = model.predict(padded_sample_sequence)\n",
        "\n",
        "print(\"Predicted label:\", label_encoder.inverse_transform([predicted_label.argmax()]))\n"
      ]
    },
    {
      "cell_type": "markdown",
      "metadata": {
        "id": "fHbgQVrt43DQ"
      },
      "source": [
        "# Notebook Question:\n",
        "- How did you handle text preprocessing? Why did you choose this approach?\n",
        "\n",
        "- Why did you choose this model design?\n",
        "\n",
        "- Why did you pick this number of layers or units for the model?\n",
        "\n",
        "- Why did you select these evaluation methods?\n",
        "\n",
        "- Does your model show signs of overfitting or underfitting? How do you know?\n",
        "\n",
        "- What changes could you make to improve the model and fix overfitting or underfitting?"
      ]
    },
    {
      "cell_type": "markdown",
      "metadata": {
        "id": "x7vOe0JZ43DQ"
      },
      "source": [
        "Answer Here:"
      ]
    },
    {
      "cell_type": "markdown",
      "source": [
        "1- see what i need to do and i figure that i should remove links and tashkel\n",
        "\n",
        "\n",
        "2- there is no specific reason , i solve similar to this in the practice\n",
        "\n",
        "\n",
        "3-  64 units in the RNN cell, return_sequences=True ensures that output is 3D (one output per time step) , another Bidirectional SimpleRNN, this time returning only the final hidden state (2D output)\n",
        "\n",
        "\n",
        "\n",
        "4- Accuracy beacuase tha data balance(تقريبا  )\n",
        "Medical\t4940\n",
        "Politics\t4766\n",
        "Sports\t4441\n",
        "Finance\t4161\n",
        "Tech\t3469\n",
        "Culture\t3000\n",
        "Religion\t764\n",
        "\n",
        "5- My model very bad  i knew from the plot and the accuracy only 17.5 % !\n",
        "\n",
        "\n",
        "6- Really I dont know , i think i didnt do the preprocessing in the right way ."
      ],
      "metadata": {
        "id": "VcjTOweJu--g"
      }
    }
  ],
  "metadata": {
    "accelerator": "GPU",
    "colab": {
      "gpuType": "T4",
      "provenance": [],
      "include_colab_link": true
    },
    "kernelspec": {
      "display_name": "Python 3",
      "name": "python3"
    },
    "language_info": {
      "name": "python"
    }
  },
  "nbformat": 4,
  "nbformat_minor": 0
}